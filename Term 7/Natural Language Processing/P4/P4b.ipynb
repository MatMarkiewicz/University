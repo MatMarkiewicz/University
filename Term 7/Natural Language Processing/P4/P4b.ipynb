{
 "cells": [
  {
   "cell_type": "markdown",
   "metadata": {},
   "source": [
    "Wszystkie zadania są ważne do końca semestru, wszystkie zadania mają oznaczenie E. Lista nawiązuje do konkursu Zero Speech Challenge 2021 (ale w mocno uproszczonej postaci), w którym dysponując jedynie zbiorem nagrań mamy odpowiadać na różne pytania dotyczące języka. My skoncentrujemy się na jednym pytaniu: widząc dwa wyrazy zdecyduj, który z nich jest poprawnym słowem danego języka. Dodatkowo zrezygnujemy z aspektu związanego z dźwiękiem, czyli danymi będą (zniekształcone) teksty polskie. Plik definiujący zadanie składa się z par wyrazów (dla uproszczenia pierwszy wyraz zawsze jest poprawny, a drugi sztucznie utworzony, oczywiście z tej właściwości korzystamy tylko przy testowaniu). Rozwiązanie każdego z zadań powinno:\n",
    "\n",
    "a) zawierać funkcję, która dla potencjalnego słowa podaje wartość punktową odpowiadającą przekonaniu programu, że jest to prawdziwe słowo (nie ma żadnych warunków na zakres tej wartości)\n",
    "\n",
    "b) wykonać dostarczone testy, przypisując każdemu przypadkowi testowemu wartość 1, jeżeli poprawne słowo dostanie więcej punktów od niepoprawnego, 0.5 – jeżeli dostaną tyle samo, 0 – w\n",
    "pozostałym przypadku.\n",
    "\n",
    "c) Przedstawić uśredniony wynik testów2\n",
    "\n",
    "Można korzystać z faktu, że średnia długość słowa to około 6.2 znaku. Każda dodatkowa wiedza o języku może pochodzić jedynie z danych dostarczonych wraz z zadaniem (oczywiście nie wolno wykorzystywać danych z zadania 1 do zadania 2 i odwrotnie).\n",
    "\n",
    "\n",
    "Zadanie 1. (5p+) W tym zadaniu zniekształcenie polega na usunięciu spacji z każdego zdania (ale przy zachowaniu podziału na zdania, które ciągle są w osobnych linijkach). Zatem dane wyglądają tak:\n",
    "\n",
    "poiiwojnieświatowejniebyłojużtejseriinapkp\n",
    "\n",
    "poparuminutachtocośbyłojużbardzobliskoekranu\n",
    "\n",
    "jestopartynazłymwilkuzczerwonegokapturkaitrzechmałychświnek\n",
    "\n",
    "Pary słów-niesłów do tego zadania charakteryzują się tym, że:\n",
    "\n",
    "a) słowa poprawne występują w oryginalnym tekście (ze spacjami)\n",
    "\n",
    "b) słowa niepoprawne są ciągami liter z tekstu bez spacji (mamy dodatkowo gwarancję, że nie występowały one jako słowa w oryginalnym tekście, choć oczywiście mogą być przypadkowo poprawnymi słowami polskimi)\n",
    "\n",
    "c) słowa niepoprawne dodatkowo zostały zaakceptowane przez prosty n-gramowy literkowy model językowy (przykładowo śbyłojużb zostałoby zapewne odrzucone)\n",
    "\n",
    "Przykładowe testy:\n",
    "\n",
    "zastanawiam taktymiędzy\n",
    "\n",
    "drugorzędnie czegospowodo\n",
    "\n",
    "przechowywania stanieprzekaza\n",
    "\n",
    "doprowadził jarozwiązan\n",
    "\n",
    "parkowanie zdzierasza\n",
    "\n",
    "panowie wypełni\n",
    "\n",
    "publicznych icznościami\n",
    "\n",
    "ograniczyć ropejskiej\n",
    "\n",
    "\n",
    "Do zaliczenia zadania trzeba osiągnąć poprawność 0.7 (aczkolwiek możliwe są częściowe punkty za mniejsze wyniki, uwzględniające nakład pracy studenta, wg uznania prowadzącego pracownię). Każde kolejne 0.04 to 1 punkt. W przypadku wyraźnego przekroczenia wartości 0.9 możliwe są dalsze premie egzaminacyjne, przydzielane podczas konsultacji z wykładowc"
   ]
  },
  {
   "cell_type": "code",
   "execution_count": 26,
   "metadata": {
    "ExecuteTime": {
     "end_time": "2021-01-17T15:24:15.564641Z",
     "start_time": "2021-01-17T15:24:15.479642Z"
    }
   },
   "outputs": [],
   "source": [
    "SENTENCES = []\n",
    "with open('sentences_for_task1.txt', 'r', encoding='utf-8') as f:\n",
    "    for i,line in enumerate(f):\n",
    "        SENTENCES.append(line[:-1])"
   ]
  },
  {
   "cell_type": "code",
   "execution_count": 76,
   "metadata": {
    "ExecuteTime": {
     "end_time": "2021-01-17T15:51:21.333793Z",
     "start_time": "2021-01-17T15:51:21.321790Z"
    }
   },
   "outputs": [],
   "source": [
    "MAX_K = 5"
   ]
  },
  {
   "cell_type": "code",
   "execution_count": 77,
   "metadata": {
    "ExecuteTime": {
     "end_time": "2021-01-17T15:51:22.229793Z",
     "start_time": "2021-01-17T15:51:22.214794Z"
    }
   },
   "outputs": [],
   "source": [
    "PREFIXES = set()\n",
    "SUFFIXES = set()"
   ]
  },
  {
   "cell_type": "code",
   "execution_count": 78,
   "metadata": {
    "ExecuteTime": {
     "end_time": "2021-01-17T15:51:23.155791Z",
     "start_time": "2021-01-17T15:51:22.887804Z"
    }
   },
   "outputs": [],
   "source": [
    "for sent in SENTENCES:\n",
    "    for K in range(1, MAX_K):\n",
    "        PREFIXES.add(sent[:K])\n",
    "        SUFFIXES.add(sent[-K:])"
   ]
  },
  {
   "cell_type": "code",
   "execution_count": 79,
   "metadata": {
    "ExecuteTime": {
     "end_time": "2021-01-17T15:54:03.088342Z",
     "start_time": "2021-01-17T15:51:24.137794Z"
    }
   },
   "outputs": [],
   "source": [
    "WORDS = {}\n",
    "\n",
    "def add_word(w):\n",
    "    WORDS[w] = WORDS.get(w, 0) + 1\n",
    "\n",
    "for sent in SENTENCES:\n",
    "    for K in range(1, MAX_K):\n",
    "        for i in range(len(sent)):\n",
    "            pref = sent[i:i+K]\n",
    "            if pref not in SUFFIXES:\n",
    "                continue\n",
    "            for j in range(i,i+8):\n",
    "                suf = sent[j:j+K]\n",
    "                if suf in SUFFIXES:\n",
    "                    add_word(sent[i:j+K])"
   ]
  },
  {
   "cell_type": "code",
   "execution_count": 80,
   "metadata": {
    "ExecuteTime": {
     "end_time": "2021-01-17T15:54:06.226336Z",
     "start_time": "2021-01-17T15:54:05.866345Z"
    }
   },
   "outputs": [],
   "source": [
    "max_words_score = max(WORDS.values())"
   ]
  },
  {
   "cell_type": "code",
   "execution_count": 81,
   "metadata": {
    "ExecuteTime": {
     "end_time": "2021-01-17T15:54:06.760337Z",
     "start_time": "2021-01-17T15:54:06.749344Z"
    }
   },
   "outputs": [],
   "source": [
    "def score(w):\n",
    "    words_score = WORDS.get(w, 0)/max_words_score\n",
    "    prefix_score = 0\n",
    "    suffix_score = 0\n",
    "    for K in range(1, MAX_K):\n",
    "        if w[:K] in PREFIXES:\n",
    "            prefix_score += 1\n",
    "        if w[-K:] in SUFFIXES:\n",
    "            suffix_score += 1\n",
    "    prefix_score /= MAX_K\n",
    "    suffix_score /= MAX_K\n",
    "    return words_score*0.2 + prefix_score*0.4 + suffix_score*0.4"
   ]
  },
  {
   "cell_type": "code",
   "execution_count": 82,
   "metadata": {
    "ExecuteTime": {
     "end_time": "2021-01-17T15:54:10.514343Z",
     "start_time": "2021-01-17T15:54:08.496340Z"
    }
   },
   "outputs": [
    {
     "data": {
      "text/plain": [
       "0.71056"
      ]
     },
     "execution_count": 82,
     "metadata": {},
     "output_type": "execute_result"
    }
   ],
   "source": [
    "final_score = 0\n",
    "test_count = 0\n",
    "with open('test_for_task1.txt', 'r', encoding='utf-8') as f:\n",
    "    for i,line in enumerate(f):\n",
    "        w1, w2 = line.split()\n",
    "        s1, s2 = score(w1), score(w2)\n",
    "        if s1>s2:\n",
    "            final_score+=1\n",
    "        elif s1==s2:\n",
    "            final_score+=0.5\n",
    "        test_count+=1\n",
    "\n",
    "final_score/=test_count\n",
    "final_score"
   ]
  }
 ],
 "metadata": {
  "kernelspec": {
   "display_name": "Python 3",
   "language": "python",
   "name": "python3"
  },
  "language_info": {
   "codemirror_mode": {
    "name": "ipython",
    "version": 3
   },
   "file_extension": ".py",
   "mimetype": "text/x-python",
   "name": "python",
   "nbconvert_exporter": "python",
   "pygments_lexer": "ipython3",
   "version": "3.7.6"
  },
  "toc": {
   "base_numbering": 1,
   "nav_menu": {},
   "number_sections": true,
   "sideBar": true,
   "skip_h1_title": false,
   "title_cell": "Table of Contents",
   "title_sidebar": "Contents",
   "toc_cell": false,
   "toc_position": {},
   "toc_section_display": true,
   "toc_window_display": false
  }
 },
 "nbformat": 4,
 "nbformat_minor": 4
}
