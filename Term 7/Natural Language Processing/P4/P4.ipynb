{
 "cells": [
  {
   "cell_type": "code",
   "execution_count": 13,
   "metadata": {
    "ExecuteTime": {
     "end_time": "2020-12-29T16:34:26.947932Z",
     "start_time": "2020-12-29T16:34:26.501339Z"
    }
   },
   "outputs": [],
   "source": [
    "import numpy as np\n",
    "import random\n",
    "import itertools\n",
    "from collections import defaultdict\n",
    "import math\n",
    "import os\n",
    "from itertools import permutations\n",
    "import time\n",
    "from scipy.stats import mode\n",
    "import re\n",
    "import string\n",
    "from unidecode import unidecode\n",
    "import matplotlib.pyplot as plt\n",
    "from copy import deepcopy\n",
    "from tqdm import tqdm"
   ]
  },
  {
   "cell_type": "markdown",
   "metadata": {},
   "source": [
    "# P4"
   ]
  },
  {
   "cell_type": "markdown",
   "metadata": {},
   "source": [
    "## Z1"
   ]
  },
  {
   "cell_type": "markdown",
   "metadata": {},
   "source": [
    "```pl\n",
    "np(L,P,R) ==> adj(L,P,R), np(L,P,R).\n",
    "np(L,P,R) ==> np(L,P,R), adj(L,P,R).\n",
    "```"
   ]
  },
  {
   "cell_type": "markdown",
   "metadata": {},
   "source": [
    "## Z3"
   ]
  },
  {
   "cell_type": "markdown",
   "metadata": {},
   "source": [
    "```pl\n",
    "%%%%%%%%%%%%%%%%%%%%%%%%%%%%%%%%%%%%%%%%%%%%%%%%%%%%%%%%%%%%%%%%%%%%%%%%%%%%%%%%%\n",
    "% Dictionary\n",
    "%%%%%%%%%%%%%%%%%%%%%%%%%%%%%%%%%%%%%%%%%%%%%%%%%%%%%%%%%%%%%%%%%%%%%%%%%%%%%%%%%\n",
    "\n",
    "\n",
    ":- [skladnicaTagsBases].\n",
    "\n",
    "hasTag(Word, Tag) :- tagAndBase(Word,_Base,Tag).\n",
    "\n",
    "hasTag(w, prep:loc).\n",
    " \n",
    ":- op(1050, xfx, ==>).\n",
    "\n",
    "%%%%%%%%%%%%%%%%%%%%%%%%%%%%%%%%%%%%%%%%%%%%%%%%%%%%%%%%%%%%%%%%%%%%%%%%%%%%%%%%%\n",
    "% GRAMMAR\n",
    "%%%%%%%%%%%%%%%%%%%%%%%%%%%%%%%%%%%%%%%%%%%%%%%%%%%%%%%%%%%%%%%%%%%%%%%%%%%%%%%%%\n",
    "\n",
    "\n",
    "likeAdj(adj:L:P:R:_, L, P, R).\n",
    "likeAdj(ppas:L:P:R:_, L, P, R).\n",
    "likeAdj(pact:L:P:R:_, L, P, R).\n",
    "likeAdj(padj:L:P:R:_, L, P, R).\n",
    "\n",
    "np(L,P,R) ==> adj(L,P,R), np(L,P,R).\n",
    "np(L,P,R) ==> np(L,P,R), adj(L,P,R).\n",
    "np(L,P,R) ==> num(L,P,_), np(L,P,R).\n",
    "np(L,P,R) ==> np(L,P,R), np(_,gen,_).\n",
    "np(pl,P,R1) ==> np(_,P,R1), [i], np(_,P,_R2).\n",
    "np(L,P,R) ==> subst(L,P,R).\n",
    "np(L,P,R) ==> psupst(L,P,R), np(L,P,R).\n",
    "np(L,P,R) ==> np(L,P,R), [,], np(L,P,R).\n",
    "np(L,P,R) ==> np(L,P,R), [z], np(L,P,R).\n",
    "np(L,P,R) ==> np(L,P,R), [do], np(_,_,_).\n",
    "np(L,P,R) ==> np(L,P,R), [w], np(_,loc,_).\n",
    "np(L,P,R) ==> np(L,P,R), [we], np(_,loc,_).\n",
    "np(L,P,R) ==> np(L,P,R), [na], np(_,_,_).\n",
    "np(L,P,R) ==> np(L,P,R), [z], np(_,_,_).\n",
    "np(L,P,R) ==> np(_,_,_), [z], np(L,P,R).\n",
    "np(L,P,R) ==> ger(_,P,R), np(L,P,R).\n",
    "\n",
    "subst(L,P,R) ==> [X], {hasTag(X,subst:L:P:R)}.\n",
    "subst(sg,nom,m2) ==> subst(sg,nom,m2), subst(sg,nom,m2).\n",
    "subst(sg,nom,m1) ==> subst(sg,nom,m1), subst(sg,nom,m1).\n",
    "subst(L,nom,R) ==> subst(L,nom,R), [w], subst(L,loc,_).\n",
    "\n",
    "adja() ==> [X], {hasTag(X,adja)}.\n",
    "adj(L,P,R) ==> [X], {hasTag(X, Tag), likeAdj(Tag,L,P,R)}.\n",
    "adj(L,P,R) ==> adja(), [-], adj(L,P,R).\n",
    "adj(L,P,R) ==> adj(L,P,R), [i], adj(L,P,R).\n",
    "\n",
    "num(L,P,R) ==> [X], {hasTag(X, num:L:P:R:_)}.\n",
    "num(L,P,R) ==> num(L,P,R), [tys], [.].\n",
    "num(L,P,R) ==> num(L,P,R), [proc], [.].\n",
    "num(L,P,R) ==> num(L,P,R), [mln].\n",
    "num(L,P,R) ==> [ok], [.], num(L,P,R).\n",
    "\n",
    "psupst(L,P,R) ==> [X], {hasTag(X, psubst:L:P:R)}.\n",
    "\n",
    "ppron3(L,P,R) ==> [X], {hasTag(X, ppron3:L:P:R:_)}.\n",
    "\n",
    "ger(L,P,R) ==> [X], {hasTag(X, ger:L:P:R:_:_)}.\n",
    "\n",
    "%%%%%%%%%%%%%%%%%%%%%%%%%%%%%%%%%%%%%%%%%%%%%%%%%%%%%%%%%%%%%%%%%%%%%%%%%%%%%%%%%\n",
    "% Parse\n",
    "%%%%%%%%%%%%%%%%%%%%%%%%%%%%%%%%%%%%%%%%%%%%%%%%%%%%%%%%%%%%%%%%%%%%%%%%%%%%%%%%%\n",
    "commasToList((X,Y), [X|Rest]) :- \n",
    "   !, commasToList(Y,Rest).\n",
    "commasToList(X,[X]).   \n",
    "\n",
    "\n",
    "allign( [[W]| Rest], [W|T], Alligment) :-\n",
    "   !,allign(Rest, T, Alligment). \n",
    "allign( [At|Rest], Ts, [ (At,Pref) | ARest]):-\n",
    "   Pref = [_|_],\n",
    "   append(Pref, RestT, Ts),\n",
    "   allign(Rest, RestT, ARest).\n",
    "allign( [{C}], [], []) :- C.\n",
    "allign( [], [], []).\n",
    "\n",
    "\n",
    "   \n",
    "parse(A,TokensToParse) :-\n",
    "   (A ==> Right),\n",
    "   commasToList(Right, ListRight),\n",
    "   allign(ListRight, TokensToParse, Alligment),\n",
    "   parsePairs(Alligment).\n",
    "   \n",
    "parsePairs([]).\n",
    "parsePairs([(A,L)| Rest]):-\n",
    "   parse(A,L),\n",
    "   parsePairs(Rest).\n",
    "\n",
    "writeList([A]) :- write(A),!.\n",
    "writeList([A|As]):- write(A), write(' '),writeList(As).\n",
    "   \n",
    "parse0 :-\n",
    "   see('phrases.pl'),\n",
    "   %see('bad_phrases3.pl'),\n",
    "   parsing,\n",
    "   seen.\n",
    "\n",
    "parsing :-\n",
    "   repeat,\n",
    "   read(L),\n",
    "   analyze(L),\n",
    "   L = end_of_file,!.\n",
    "\n",
    "analyze(end_of_file) :-\n",
    "   write('DONE!'), nl, !.\n",
    "analyze(L) :-   \n",
    "   length(L,N),\n",
    "   N < 9,\n",
    "   parse(np(_,_,_), L),\n",
    "   write('GOOD:'),\n",
    "   writeList(L),nl,!.\n",
    "analyze(L) :-\n",
    "   write('BAD:'), writeList(L),nl,!.\n",
    "\n",
    "\n",
    ":- parse0.\n",
    "```"
   ]
  },
  {
   "cell_type": "markdown",
   "metadata": {},
   "source": [
    "```\n",
    "C:\\Studia\\7 semestr\\NLP\\P4\\P4a>swipl -c np_original.pl | find /C \"GOOD\"                                  % Disabled autoloading (loaded 27 files)                                                                % Disabled autoloading (loaded 2 files)                                                                 % Disabled autoloading (loaded 0 files)                                                                  10213       \n",
    "```"
   ]
  },
  {
   "cell_type": "markdown",
   "metadata": {},
   "source": [
    "```\n",
    "C:\\Studia\\7 semestr\\NLP\\P4\\P4a>swipl -c np_original.pl | find \"GOOD\"                                    GOOD:posterunkowy józef pieróg                                                                       GOOD:pan porucznik barański pana                                                                        % Disabled autoloading (loaded 27 files)                                                                % Disabled autoloading (loaded 2 files)                                                                  % Disabled autoloading (loaded 0 files) \n",
    "```"
   ]
  },
  {
   "cell_type": "markdown",
   "metadata": {},
   "source": [
    "## Z4  (7p, E) \n",
    "W zadaniu będziemy ponownie losować wersy Pana Tadeusza, ale tym razem nie korzystając z oryginału, lecz tylko z korpusu PolEvala oraz z zanurzeń wektorowych. Dla ułatwienia przygotowany został zbiór poprawnych rytmicznie (Mają one 26 sylab z przerwami po 7, 13 i 20 sylabie, na końcu każdego wersu i przed średniówkami nie ma słów) zdań z PolEvala (zawierających tylko jednosylabowych słowa z pliku supertags). Większość z nich się nie rymuje (ale dla ułatwienie w pliku z tymi zdaniami\n",
    "zawarte są tylko takie, które da się zrymować, z zachowaniem liczby sylab i tagów gramatycznych\n",
    "ostatnich słów).\n",
    "\n",
    "a) Napisz program losujący dwuwers i modyfikujący ostatnie wyrazy (być może nie oba) w wersach\n",
    "w ten sposób, by się rymowały (z zachowaniem tagu i liczby sylab). W wyborze powinieneś premiować sytuację, w których wyrazy po zrymowaniu są podobne do wyrazów oryginalnych (czyli\n",
    "wektory ich form bazowych mają możliwie duży iloczyn skalarny). Nie dla każdego dwuwersu to\n",
    "da się zrobić, powinieneś to uwzględniać przy wyborze dwuwersu. Przykładowy wynik działaniu\n",
    "programu (potencjalnie użyteczny do testów):\n",
    "\n",
    "ORYGINAŁ: po zjednoczeniu niemiec dotychczas strzeżony; obszar został otwarty\n",
    "i przebudowany.\n",
    "\n",
    "POEZJA: po zjednoczeniu niemiec dotychczas strzeżony; obszar został otwarty i\n",
    "podpiwniczony.\n",
    "\n",
    "\n",
    "b) Dodaj do powyższego programu możliwość zamiany wybranych słów na inne. Zamieniać powinieneś tylko czasowniki, rzeczowniki, przysłówki, imiesłowy i przymiotniki. Oczywiście w zamianie zachowujemy tag i staramy się zachować podobieństwo do oryginału. Nie wolno nam też zepsuć rymu. Przykładowe działanie:\n",
    "\n",
    "ORYGINAŁ: seria dziecięcych skarpet antypoślizgowych; z motywami mieszkańców\n",
    "obszarów polarnych.\n",
    "\n",
    "POEZJA: seria dziecięcych skarpet antypoślizgowych; z motywami mieszkańców obszarów szelfowych.\n",
    "\n",
    "ZMODYFIKOWANA: seria przedszkolnych skarpet antypoślizgowych; z pejzażami parafian terenów magmowych."
   ]
  },
  {
   "cell_type": "code",
   "execution_count": 2,
   "metadata": {
    "ExecuteTime": {
     "end_time": "2020-12-29T16:28:17.536388Z",
     "start_time": "2020-12-29T16:28:17.497258Z"
    }
   },
   "outputs": [],
   "source": [
    "vowels = {'a', 'ą', 'e', 'ę', 'i', 'o', 'u', 'y', 'ó'}\n",
    "\n",
    "def vowels_split(w):\n",
    "    res = []\n",
    "    i,j = -1,0\n",
    "    while j < len(w):\n",
    "        if w[j] in vowels:\n",
    "            if i!= -1:   \n",
    "                res.append(w[i:j])\n",
    "            i = j\n",
    "            if j+1<len(w) and w[j] == 'i' and w[j+1] in vowels:\n",
    "                j+=1\n",
    "        j+=1\n",
    "        \n",
    "    if i!= -1:\n",
    "        res.append(w[i:])\n",
    "        \n",
    "    return res"
   ]
  },
  {
   "cell_type": "code",
   "execution_count": 3,
   "metadata": {
    "ExecuteTime": {
     "end_time": "2020-12-29T16:28:17.631201Z",
     "start_time": "2020-12-29T16:28:17.540248Z"
    }
   },
   "outputs": [],
   "source": [
    "def is_rhymes(w1, w2):\n",
    "    return ''.join(vowels_split(w1)[-2:]) == ''.join(vowels_split(w2)[-2:])"
   ]
  },
  {
   "cell_type": "code",
   "execution_count": 4,
   "metadata": {
    "ExecuteTime": {
     "end_time": "2020-12-29T16:28:17.804227Z",
     "start_time": "2020-12-29T16:28:17.633062Z"
    }
   },
   "outputs": [],
   "source": [
    "POTENTIAL_RHYMES = []\n",
    "RHYMES = []\n",
    "\n",
    "with open('rytmiczne_zdania_z_korpusu.txt', 'r', encoding='utf-8') as f:\n",
    "    for line in f:\n",
    "        line = line.split()\n",
    "        i = line.index('[*]')\n",
    "        if line[0] == 'POTENCJALNY_RYM:':\n",
    "            POTENTIAL_RHYMES.append([line[1:i], line[i+1:-1]])\n",
    "        else:\n",
    "            RHYMES.append([line[1:i], line[i+1:-1]])"
   ]
  },
  {
   "cell_type": "code",
   "execution_count": 5,
   "metadata": {
    "ExecuteTime": {
     "end_time": "2020-12-29T16:28:21.004467Z",
     "start_time": "2020-12-29T16:28:17.808226Z"
    }
   },
   "outputs": [],
   "source": [
    "TAGS = {}\n",
    "TAGS_TO_WORDS = {}\n",
    "with open('./supertags.txt','r',encoding='utf-8') as f:\n",
    "    for line in f:\n",
    "        w,t = line[:-1].split(' ')\n",
    "        TAGS[w] = t\n",
    "        \n",
    "        if t in TAGS_TO_WORDS:\n",
    "            TAGS_TO_WORDS[t].append(w)\n",
    "        else:\n",
    "            TAGS_TO_WORDS[t] = [w]"
   ]
  },
  {
   "cell_type": "code",
   "execution_count": 6,
   "metadata": {
    "ExecuteTime": {
     "end_time": "2020-12-29T16:29:38.726809Z",
     "start_time": "2020-12-29T16:28:21.006469Z"
    }
   },
   "outputs": [],
   "source": [
    "EMBEDDINGS = {}\n",
    "\n",
    "with open('poleval_base_vectors.txt', 'r', encoding='utf-8') as f:\n",
    "    c = -1\n",
    "    for line in f:\n",
    "        c+=1\n",
    "        if not c:\n",
    "            continue\n",
    "\n",
    "        line = line.split()\n",
    "        EMBEDDINGS[line[0]] = np.array(list(map(float, line[1:])))"
   ]
  },
  {
   "cell_type": "code",
   "execution_count": 7,
   "metadata": {
    "ExecuteTime": {
     "end_time": "2020-12-29T16:29:40.755144Z",
     "start_time": "2020-12-29T16:29:38.735703Z"
    }
   },
   "outputs": [],
   "source": [
    "BASE = {}\n",
    "with open('superbazy.txt', 'r', encoding='utf-8') as f:\n",
    "    for line in f:\n",
    "        w1,w2 = line.split()\n",
    "        BASE[w1]=w2"
   ]
  },
  {
   "cell_type": "code",
   "execution_count": 8,
   "metadata": {
    "ExecuteTime": {
     "end_time": "2020-12-29T16:29:40.771079Z",
     "start_time": "2020-12-29T16:29:40.758052Z"
    }
   },
   "outputs": [],
   "source": [
    "def get_embedding(w):\n",
    "    if w in EMBEDDINGS:\n",
    "        return EMBEDDINGS[w]\n",
    "    base_w = BASE[w.lower()]\n",
    "    if base_w in EMBEDDINGS:\n",
    "        return EMBEDDINGS[base_w]\n",
    "    return np.zeros(200)"
   ]
  },
  {
   "cell_type": "markdown",
   "metadata": {},
   "source": [
    "### a)\n",
    "Napisz program losujący dwuwers i modyfikujący ostatnie wyrazy (być może nie oba) w wersach w ten sposób, by się rymowały (z zachowaniem tagu i liczby sylab). W wyborze powinieneś premiować sytuację, w których wyrazy po zrymowaniu są podobne do wyrazów oryginalnych (czyli wektory ich form bazowych mają możliwie duży iloczyn skalarny). Nie dla każdego dwuwersu to da się zrobić, powinieneś to uwzględniać przy wyborze dwuwersu. Przykładowy wynik działaniu programu (potencjalnie użyteczny do testów):\n",
    "\n",
    "ORYGINAŁ: po zjednoczeniu niemiec dotychczas strzeżony; obszar został otwarty i przebudowany.\n",
    "\n",
    "POEZJA: po zjednoczeniu niemiec dotychczas strzeżony; obszar został otwarty i podpiwniczony."
   ]
  },
  {
   "cell_type": "code",
   "execution_count": 47,
   "metadata": {
    "ExecuteTime": {
     "end_time": "2020-12-29T17:35:15.249519Z",
     "start_time": "2020-12-29T17:35:15.224518Z"
    }
   },
   "outputs": [],
   "source": [
    "def gen_verses(print_result=False, K=10000, verses=None):\n",
    "    succeed = False\n",
    "    c = 0\n",
    "    while not succeed:\n",
    "        c+=1\n",
    "        if verses is None:\n",
    "            verses_index = np.random.randint(0,len(POTENTIAL_RHYMES))\n",
    "            verses = POTENTIAL_RHYMES[verses_index]\n",
    "        \n",
    "        verses = deepcopy(verses)\n",
    "        verses_ = deepcopy(verses)\n",
    "        w1, w2 = verses[0][-1], verses[1][-1]\n",
    "        t1, t2 = TAGS[w1], TAGS[w2]\n",
    "        wl1, wl2 = TAGS_TO_WORDS[t1], TAGS_TO_WORDS[t2]\n",
    "        e1, e2 = get_embedding(w1), get_embedding(w2)\n",
    "        r1, r2 = ''.join(vowels_split(w1)[-2:]), ''.join(vowels_split(w2)[-2:])\n",
    "        vc1, vc2 = len(vowels_split(w1)), len(vowels_split(w2))\n",
    "        wl1 = [(''.join(vowels_split(w)[-2:]), get_embedding(w), w) for w in wl1 if len(vowels_split(w))==vc1]\n",
    "        wl2 = [(''.join(vowels_split(w)[-2:]), get_embedding(w), w) for w in wl2 if len(vowels_split(w))==vc2]\n",
    "        \n",
    "        filtered_options = []\n",
    "        for o1 in wl1:\n",
    "            if o1[0] == r2:\n",
    "                score = o1[1] @ e1 + e2 @ e2\n",
    "                filtered_options.append((score,o1[2],w2))\n",
    "        for o2 in wl2:\n",
    "            if r1 == o2[0]:\n",
    "                score = e1 @ e1 + o2[1] @ e2\n",
    "                filtered_options.append((score,w1,o2[2]))\n",
    "        \n",
    "        #print(filtered_options)\n",
    "        if filtered_options:\n",
    "            succeed = True\n",
    "            s, cw1, cw2 = max(filtered_options, key=lambda e: e[0])\n",
    "            verses[0][-1], verses[1][-1] = cw1, cw2\n",
    "            break\n",
    "            \n",
    "        if len(wl1) > K:\n",
    "            np.random.shuffle(wl1)\n",
    "            wl1 = wl1[:K]\n",
    "            wl1.append(w1)\n",
    "        if len(wl2) > K:\n",
    "            np.random.shuffle(wl2)\n",
    "            wl2 = wl2[:K]\n",
    "            wl2.append(w2)\n",
    "\n",
    "        \n",
    "        options = itertools.product(wl1, wl2)\n",
    "        for w1,w2 in options:\n",
    "            if w1[0] == w2[0]:\n",
    "                score = w1[1] @ e1 + w1[1] @ e2\n",
    "                filtered_options.append((score,w1[2],w2[2]))\n",
    "        \n",
    "        if filtered_options:\n",
    "            succeed = True\n",
    "            s, cw1, cw2 = max(filtered_options, key=lambda e: e[0])\n",
    "            verses[0][-1], verses[1][-1] = cw1, cw2\n",
    "    \n",
    "    if verses[1][0] == ',':\n",
    "        verses[0].append(',')\n",
    "        verses[1] = verses[1][1:]\n",
    "    \n",
    "    if print_result:\n",
    "        print('ORYGINAŁ:')\n",
    "        print(' '.join(verses_[0]), end='')\n",
    "        if verses[1][0] == ',':\n",
    "            print(',')\n",
    "            print(' '.join(verses_[1][1:]))\n",
    "        else:\n",
    "            print('')\n",
    "            print(' '.join(verses_[1]))\n",
    "                \n",
    "        print('\\nPOEZJA:')\n",
    "        print(' '.join(verses[0]), end='')\n",
    "        if verses[1][0] == ',':\n",
    "            print(',')\n",
    "            print(' '.join(verses[1][1:]))\n",
    "        else:\n",
    "            print('')\n",
    "            print(' '.join(verses[1]))\n",
    "    \n",
    "    return verses"
   ]
  },
  {
   "cell_type": "code",
   "execution_count": 96,
   "metadata": {
    "ExecuteTime": {
     "end_time": "2020-12-29T11:23:45.163977Z",
     "start_time": "2020-12-29T11:23:29.609562Z"
    }
   },
   "outputs": [
    {
     "name": "stdout",
     "output_type": "stream",
     "text": [
      "bo mile przyjąć raczył swej sługi pokorę ,\n",
      "łaskawym okiem wejrzał na dawida eleonorę\n"
     ]
    }
   ],
   "source": [
    "v = gen_verses()"
   ]
  },
  {
   "cell_type": "code",
   "execution_count": 26,
   "metadata": {
    "ExecuteTime": {
     "end_time": "2020-12-29T09:38:34.148871Z",
     "start_time": "2020-12-29T09:38:34.049242Z"
    }
   },
   "outputs": [
    {
     "name": "stdout",
     "output_type": "stream",
     "text": [
      "nie ma takiego trybu , panie pośle , aniżeli\n",
      "projekt w trzecim czytaniu zwracać do brukseli\n"
     ]
    }
   ],
   "source": [
    "v = gen_verses()"
   ]
  },
  {
   "cell_type": "code",
   "execution_count": 52,
   "metadata": {
    "ExecuteTime": {
     "end_time": "2020-12-29T17:35:58.682211Z",
     "start_time": "2020-12-29T17:35:56.752121Z"
    }
   },
   "outputs": [
    {
     "name": "stdout",
     "output_type": "stream",
     "text": [
      "ORYGINAŁ:\n",
      "po zakończeniu wojny wrócił do londynu\n",
      "i rozpoczął karierę aktorską w teatrze\n",
      "\n",
      "POEZJA:\n",
      "po zakończeniu wojny wrócił do folkloru\n",
      "i rozpoczął karierę aktorską w minoru\n"
     ]
    }
   ],
   "source": [
    "v = gen_verses(print_result=True)"
   ]
  },
  {
   "cell_type": "code",
   "execution_count": 53,
   "metadata": {
    "ExecuteTime": {
     "end_time": "2020-12-29T17:36:14.690383Z",
     "start_time": "2020-12-29T17:36:14.686407Z"
    }
   },
   "outputs": [],
   "source": [
    "t = [['po', 'zjednoczeniu', 'niemiec', 'dotychczas', 'strzeżony'],\n",
    " ['obszar', 'został', 'otwarty', 'i', 'przebudowany']]"
   ]
  },
  {
   "cell_type": "code",
   "execution_count": 54,
   "metadata": {
    "ExecuteTime": {
     "end_time": "2020-12-29T17:36:14.989472Z",
     "start_time": "2020-12-29T17:36:14.845432Z"
    }
   },
   "outputs": [
    {
     "name": "stdout",
     "output_type": "stream",
     "text": [
      "ORYGINAŁ:\n",
      "po zjednoczeniu niemiec dotychczas strzeżony\n",
      "obszar został otwarty i przebudowany\n",
      "\n",
      "POEZJA:\n",
      "po zjednoczeniu niemiec dotychczas strzeżony\n",
      "obszar został otwarty i podpiwniczony\n"
     ]
    }
   ],
   "source": [
    "v = gen_verses(verses=t, print_result=True)"
   ]
  },
  {
   "cell_type": "markdown",
   "metadata": {},
   "source": [
    "### b)\n",
    "Dodaj do powyższego programu możliwość zamiany wybranych słów na inne. Zamieniać powinieneś tylko czasowniki, rzeczowniki, przysłówki, imiesłowy i przymiotniki. Oczywiście w zamianie zachowujemy tag i staramy się zachować podobieństwo do oryginału. Nie wolno nam też zepsuć rymu. Przykładowe działanie:\n",
    "\n",
    "ORYGINAŁ: seria dziecięcych skarpet antypoślizgowych; z motywami mieszkańców obszarów polarnych.\n",
    "\n",
    "POEZJA: seria dziecięcych skarpet antypoślizgowych; z motywami mieszkańców obszarów szelfowych.\n",
    "\n",
    "ZMODYFIKOWANA: seria przedszkolnych skarpet antypoślizgowych; z pejzażami parafian terenów magmowych."
   ]
  },
  {
   "cell_type": "code",
   "execution_count": 10,
   "metadata": {
    "ExecuteTime": {
     "end_time": "2020-12-29T16:29:52.807615Z",
     "start_time": "2020-12-29T16:29:40.885062Z"
    }
   },
   "outputs": [],
   "source": [
    "WORDS = set(BASE.keys())\n",
    "POLIMORF = {}\n",
    "\n",
    "with open('polimorfologik-2.1.txt', 'r', encoding='utf-8') as f:\n",
    "    for i, line in enumerate(f):        \n",
    "        base,word,infos = line[:-1].split(';')\n",
    "        if word in WORDS:\n",
    "            POLIMORF[word] = infos"
   ]
  },
  {
   "cell_type": "code",
   "execution_count": 20,
   "metadata": {
    "ExecuteTime": {
     "end_time": "2020-12-29T16:42:24.627201Z",
     "start_time": "2020-12-29T16:42:23.440127Z"
    }
   },
   "outputs": [],
   "source": [
    "TO_EXCHANGE = set()\n",
    "acceptable = set(['verb', 'subs', 'adv:', 'adj:', 'pact', 'pant', 'pcon', 'ppas'])\n",
    "for k,v in POLIMORF.items():\n",
    "    for info in v.split('+'):\n",
    "        if info[:4] in acceptable:\n",
    "            TO_EXCHANGE.add(k)\n",
    "            break"
   ]
  },
  {
   "cell_type": "code",
   "execution_count": 39,
   "metadata": {
    "ExecuteTime": {
     "end_time": "2020-12-29T17:31:33.992119Z",
     "start_time": "2020-12-29T17:31:33.966085Z"
    }
   },
   "outputs": [],
   "source": [
    "def gen_modified_verses(p=0.5, print_result=False, K=10000, verses=None):\n",
    "    verses = gen_verses(print_result=print_result, K=K, verses=verses)\n",
    "    \n",
    "    lens = [len(verses[0]), len(verses[1])]\n",
    "    for k in range(2):\n",
    "        for i in range(lens[k]):\n",
    "            w = verses[k][i]\n",
    "            if np.random.random() < p and w in TO_EXCHANGE:\n",
    "                t = TAGS[w]\n",
    "                e = get_embedding(w)\n",
    "                vc = len(vowels_split(w))\n",
    "                options = TAGS_TO_WORDS[t]\n",
    "                options = [o for o in options if len(vowels_split(o))==vc]\n",
    "                if i == lens[k]-1:\n",
    "                    r = ''.join(vowels_split(w)[-2:])\n",
    "                    options = [o for o in options if ''.join(vowels_split(o)[-2:])==r]\n",
    "            \n",
    "                scored_options = []\n",
    "                for option in options:\n",
    "                    if option == w:\n",
    "                        continue\n",
    "                    e2 = get_embedding(option)\n",
    "                    scored_options.append((e2@e, option))\n",
    "                \n",
    "                if scored_options:\n",
    "                    w2 = max(scored_options, key=lambda e:e[0])[1]\n",
    "                    verses[k][i] = w2\n",
    "    \n",
    "    if print_result:            \n",
    "        print('\\nZMODYFIKOWANA POEZJA:')\n",
    "        print(' '.join(verses[0]), end='')\n",
    "        if verses[1][0] == ',':\n",
    "            print(',')\n",
    "            print(' '.join(verses[1][1:]))\n",
    "        else:\n",
    "            print('')\n",
    "            print(' '.join(verses[1]))\n",
    "    \n",
    "    return verses"
   ]
  },
  {
   "cell_type": "code",
   "execution_count": 30,
   "metadata": {
    "ExecuteTime": {
     "end_time": "2020-12-29T17:12:16.757716Z",
     "start_time": "2020-12-29T17:12:16.489722Z"
    }
   },
   "outputs": [
    {
     "name": "stdout",
     "output_type": "stream",
     "text": [
      "POEZJA:\n",
      "jako mówca i pisarz , podziwiany nawet\n",
      "przez wrogów , już za życia odniósł wielki bawet\n",
      "\n",
      "ZMODYFIKOWANA POEZJA:\n",
      "jako poseł i pisarz , podziwiany nawet\n",
      "przez zdrajców , już za życia odniósł duży bawet\n"
     ]
    }
   ],
   "source": [
    "v = gen_modified_verses(print_result=True)"
   ]
  },
  {
   "cell_type": "code",
   "execution_count": 57,
   "metadata": {
    "ExecuteTime": {
     "end_time": "2020-12-29T17:37:39.411192Z",
     "start_time": "2020-12-29T17:37:39.327196Z"
    }
   },
   "outputs": [
    {
     "name": "stdout",
     "output_type": "stream",
     "text": [
      "ORYGINAŁ:\n",
      "co roku była ona oceniana bardzo\n",
      "pozytywnie i myślę , że nadal tak będzie\n",
      "\n",
      "POEZJA:\n",
      "co roku była ona oceniana wszędzie\n",
      "pozytywnie i myślę , że nadal tak będzie\n",
      "\n",
      "ZMODYFIKOWANA POEZJA:\n",
      "co roku była ona oceniana wszędzie\n",
      "negatywnie i zadam , że nadal skądś będzie\n"
     ]
    }
   ],
   "source": [
    "v = gen_modified_verses(print_result=True)"
   ]
  },
  {
   "cell_type": "code",
   "execution_count": 58,
   "metadata": {
    "ExecuteTime": {
     "end_time": "2020-12-29T17:42:57.709423Z",
     "start_time": "2020-12-29T17:42:57.410425Z"
    }
   },
   "outputs": [
    {
     "name": "stdout",
     "output_type": "stream",
     "text": [
      "ORYGINAŁ:\n",
      "po zjednoczeniu niemiec dotychczas strzeżony\n",
      "obszar został otwarty i przebudowany\n",
      "\n",
      "POEZJA:\n",
      "po zjednoczeniu niemiec dotychczas strzeżony\n",
      "obszar został otwarty i podpiwniczony\n",
      "\n",
      "ZMODYFIKOWANA POEZJA:\n",
      "po zjednoczeniu niemiec dotychczas strzeżony\n",
      "obszar został zamknięty i zaokrąglony\n"
     ]
    }
   ],
   "source": [
    "v = gen_modified_verses(verses=t, print_result=True)"
   ]
  },
  {
   "cell_type": "code",
   "execution_count": 60,
   "metadata": {
    "ExecuteTime": {
     "end_time": "2020-12-29T17:44:16.204579Z",
     "start_time": "2020-12-29T17:44:16.188545Z"
    }
   },
   "outputs": [],
   "source": [
    "t2 = [['seria', 'dziecięcych', 'skarpet', 'antypoślizgowych'], \n",
    "      ['z', 'motywami', 'mieszkańców', 'obszarów', 'polarnych']]"
   ]
  },
  {
   "cell_type": "code",
   "execution_count": 61,
   "metadata": {
    "ExecuteTime": {
     "end_time": "2020-12-29T17:44:33.089236Z",
     "start_time": "2020-12-29T17:44:32.287185Z"
    }
   },
   "outputs": [
    {
     "name": "stdout",
     "output_type": "stream",
     "text": [
      "ORYGINAŁ:\n",
      "seria dziecięcych skarpet antypoślizgowych\n",
      "z motywami mieszkańców obszarów polarnych\n",
      "\n",
      "POEZJA:\n",
      "seria dziecięcych skarpet antypoślizgowych\n",
      "z motywami mieszkańców obszarów szelfowych\n",
      "\n",
      "ZMODYFIKOWANA POEZJA:\n",
      "plansza przedszkolnych bluzek poliuretanowych\n",
      "z pejzażami parafian terenów magmowych\n"
     ]
    }
   ],
   "source": [
    "v = gen_modified_verses(verses=t2, print_result=True, p=1.0)"
   ]
  },
  {
   "cell_type": "code",
   "execution_count": null,
   "metadata": {},
   "outputs": [],
   "source": []
  }
 ],
 "metadata": {
  "kernelspec": {
   "display_name": "Python 3",
   "language": "python",
   "name": "python3"
  },
  "language_info": {
   "codemirror_mode": {
    "name": "ipython",
    "version": 3
   },
   "file_extension": ".py",
   "mimetype": "text/x-python",
   "name": "python",
   "nbconvert_exporter": "python",
   "pygments_lexer": "ipython3",
   "version": "3.7.6"
  },
  "toc": {
   "base_numbering": 1,
   "nav_menu": {},
   "number_sections": true,
   "sideBar": true,
   "skip_h1_title": false,
   "title_cell": "Table of Contents",
   "title_sidebar": "Contents",
   "toc_cell": false,
   "toc_position": {},
   "toc_section_display": true,
   "toc_window_display": false
  }
 },
 "nbformat": 4,
 "nbformat_minor": 4
}
