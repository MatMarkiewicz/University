{
 "cells": [
  {
   "cell_type": "code",
   "execution_count": 1,
   "metadata": {
    "ExecuteTime": {
     "end_time": "2020-12-09T16:43:07.244053Z",
     "start_time": "2020-12-09T16:42:29.357631Z"
    }
   },
   "outputs": [],
   "source": [
    "import numpy as np\n",
    "import random\n",
    "import itertools\n",
    "from collections import defaultdict\n",
    "import math\n",
    "import os\n",
    "from itertools import permutations\n",
    "import time\n",
    "from scipy.stats import mode\n",
    "import re\n",
    "import string\n",
    "from unidecode import unidecode\n",
    "import matplotlib.pyplot as plt"
   ]
  },
  {
   "cell_type": "markdown",
   "metadata": {},
   "source": [
    "# L3"
   ]
  },
  {
   "cell_type": "markdown",
   "metadata": {},
   "source": [
    "## Zadanie 1. (5p) \n",
    "W zadaniu tym masz napisać system, który bierze na wejściu (ztokenizowany) tekst w języku polskim, pozbawiony wielkich liter oraz polskich znaków diakrytycznych i wypisuje na wyjściu poprawny tekst w języku polskim. Zakładamy, że literka „ź” na wejściu jest reprezentowana przez „z” (a nie „x”). Liczymy dwie miary dokładności:\n",
    "* Dokładność polskawa, czyli liczba słów poprawnie zrekonstruowanych (modulo wielkość liter, której nie uwzględniamy w tej mierze) podzielona przez liczbę słów w ogóle\n",
    "* Dokładność pełna, czyli liczba słów poprawnie zrekonstruowanych podzielona przez liczbę słów (tu uwzględniamy zarówno ogonki jak i wielkość liter).\n",
    "\n",
    "Ostatecznym wynikiem będzie średnia geometryczna tych liczb. W tym zadaniu sprawdzany jest\n",
    "poziom basic, to znaczy że prezentowane rozwiązanie powinno:\n",
    "* rekonstruować stokenizowany tekst,\n",
    "* wykorzystywać dane dotyczące unigramów z części uczącej korpusu,\n",
    "* w jakiś sposób (dowolny sensowny) uwzględniać informacje o dłuższych ciągach słów."
   ]
  },
  {
   "cell_type": "markdown",
   "metadata": {},
   "source": [
    "## Zadanie 2. (3 + Xp) \n",
    "W tym zadaniu rozwiązać należy dokładnie ten sam problem, co w poprzednim zadaniu. Żeby zadanie było uznane za zrobione poprawnie, wynik Twojego programu (na zbiorze ewaluacyjnym), musi być wyższy niż K = 0.955. Dodatkowo, jeżeli wynik R Twojego programu będzie większy niż Y = 0.96, to za zadanie dostaniesz $4*\\frac{R-Y}{1-Y}$. Dodatkowa premia to 4 punkty za najlepszy program, 3 punkty za drugie miejsce, 2 punkty za trzecie i 1 punkt za czwarte (liczone we wszystkich grupach). Dozwolone jest korzystanie z korpusu PolEval (pierwszy milion wierszy), N-gramów NKJP oraz Morfologika. Zbiór testowy to kolejne 200 tysięcy wierszy korpusu PolEvala."
   ]
  },
  {
   "cell_type": "code",
   "execution_count": 2,
   "metadata": {
    "ExecuteTime": {
     "end_time": "2020-12-09T16:43:09.305867Z",
     "start_time": "2020-12-09T16:43:09.271885Z"
    }
   },
   "outputs": [],
   "source": [
    "def get_acc(ans, org):\n",
    "    l_org, l_ans = org.lower().split(), ans.lower().split()\n",
    "    org, ans = org.split(), ans.split()\n",
    "    polskawa_cnt, full_cnt, = 0,0\n",
    "    for i, org_w in enumerate(org):\n",
    "        polskawa_cnt += l_org[i] == l_ans[i]\n",
    "        full_cnt += ans[i] == org_w\n",
    "    #print(polskawa_cnt, full_cnt)\n",
    "    #return polskawa_cnt/len(org)\n",
    "    return ((polskawa_cnt*full_cnt)**0.5)/len(org)"
   ]
  },
  {
   "cell_type": "code",
   "execution_count": 4,
   "metadata": {
    "ExecuteTime": {
     "end_time": "2020-12-09T16:43:20.374989Z",
     "start_time": "2020-12-09T16:43:18.026167Z"
    }
   },
   "outputs": [],
   "source": [
    "train_data = []\n",
    "test_data = []\n",
    "with open('polish_corpora.txt', 'r', encoding='utf-8') as f:\n",
    "    i = 0\n",
    "    for line in f:\n",
    "        i+=1\n",
    "        if i <= 1000000:\n",
    "            train_data.append(line[:-1])\n",
    "        elif i <= 1200000:\n",
    "            test_data.append(line[:-1])\n",
    "        else:\n",
    "            break"
   ]
  },
  {
   "cell_type": "code",
   "execution_count": 10,
   "metadata": {
    "ExecuteTime": {
     "end_time": "2020-12-09T16:49:41.674012Z",
     "start_time": "2020-12-09T16:45:01.740101Z"
    }
   },
   "outputs": [],
   "source": [
    "POLISH_FORMS = defaultdict(lambda: defaultdict(int))\n",
    "BIGRAMS = defaultdict(lambda: defaultdict(int))\n",
    "K = 1\n",
    "with open('2grams', 'r', encoding='utf-8') as f:\n",
    "    for line in f:\n",
    "        c, w1, w2 = line[:-1].split()\n",
    "        c, l_w1, l_w2 = int(c), w1.lower(), w2.lower()\n",
    "        if c > K:\n",
    "            POLISH_FORMS[unidecode(l_w1)][l_w1] += c//2\n",
    "            POLISH_FORMS[unidecode(l_w2)][l_w2] += c//2\n",
    "            BIGRAMS[l_w1][l_w2] += c"
   ]
  },
  {
   "cell_type": "code",
   "execution_count": 12,
   "metadata": {
    "ExecuteTime": {
     "end_time": "2020-12-09T16:51:34.219314Z",
     "start_time": "2020-12-09T16:50:07.182443Z"
    }
   },
   "outputs": [],
   "source": [
    "for sent in train_data:\n",
    "    sent = sent.split()\n",
    "    for i in range(len(sent)-1):\n",
    "        w1, w2 = sent[i], sent[i+1]\n",
    "        l_w1, l_w2 = w1.lower(), w2.lower()\n",
    "        POLISH_FORMS[unidecode(l_w1)][l_w1] += 1\n",
    "        BIGRAMS[l_w1][l_w2] += 1"
   ]
  },
  {
   "cell_type": "code",
   "execution_count": 13,
   "metadata": {
    "ExecuteTime": {
     "end_time": "2020-12-09T16:52:12.902384Z",
     "start_time": "2020-12-09T16:51:36.580384Z"
    }
   },
   "outputs": [],
   "source": [
    "CAPITAL_AFTER = defaultdict(lambda: 0)\n",
    "CAPITAL_LETTERS = defaultdict(lambda: 0)\n",
    "for sent in train_data:\n",
    "    sent = sent.split()\n",
    "    n = len(sent)\n",
    "    for i in range(n-1):\n",
    "        w = sent[i]\n",
    "        if w[0].isalpha and w[0].isupper():\n",
    "            CAPITAL_LETTERS[w.lower()] += 1\n",
    "        else:\n",
    "            CAPITAL_LETTERS[w.lower()] -= 1\n",
    "        if sent[i+1][0].isalpha and sent[i+1][0].isupper():\n",
    "            CAPITAL_AFTER[w.lower()] += 1\n",
    "        else:\n",
    "            CAPITAL_AFTER[w.lower()] -= 1"
   ]
  },
  {
   "cell_type": "code",
   "execution_count": 16,
   "metadata": {
    "ExecuteTime": {
     "end_time": "2020-12-09T16:53:38.456217Z",
     "start_time": "2020-12-09T16:53:38.396026Z"
    }
   },
   "outputs": [],
   "source": [
    "def reproduce(sent, K=1000, K2=10):\n",
    "    sent = sent.split()\n",
    "    all_options = [[[math.log(c/200000000),[org_w]] for org_w,c in POLISH_FORMS[w].items()] for w in sent]\n",
    "    for i,l in enumerate(all_options):\n",
    "        l.append([-20,[sent[i]]])\n",
    "        l.sort(key = lambda e: e[0], reverse=True)\n",
    "        l = l[:K2]\n",
    "    \n",
    "    curren_res = all_options[0]\n",
    "    for i in range(1,len(sent)):\n",
    "        next_res = []\n",
    "        for c,l in curren_res:\n",
    "            for c2,w in all_options[i]:\n",
    "                w = w[0]\n",
    "                l2 = l[:]\n",
    "                l2.append(w)\n",
    "                next_res.append([c+math.log((1+BIGRAMS[l[-1]][w])/200000000)+c2, l2])\n",
    "        next_res.sort(key = lambda e: e[0], reverse=True)\n",
    "        curren_res = next_res[:K]\n",
    "    \n",
    "    res = curren_res[0][1]\n",
    "    for i,w in enumerate(res):\n",
    "        if i==0 or CAPITAL_LETTERS[w]>0 or (i>0 and CAPITAL_AFTER[res[i-1].lower()]>0):\n",
    "            res[i] = w.capitalize()\n",
    "    return ' '.join(res)"
   ]
  },
  {
   "cell_type": "code",
   "execution_count": 171,
   "metadata": {
    "ExecuteTime": {
     "end_time": "2020-12-06T19:28:40.987793Z",
     "start_time": "2020-12-06T19:08:44.840017Z"
    }
   },
   "outputs": [
    {
     "name": "stdout",
     "output_type": "stream",
     "text": [
      "10.0%\n",
      "20.0%\n",
      "30.0%\n",
      "40.0%\n",
      "50.0%\n",
      "60.0%\n",
      "70.0%\n",
      "80.0%\n",
      "90.0%\n"
     ]
    },
    {
     "data": {
      "text/plain": [
       "0.9639742377312832"
      ]
     },
     "execution_count": 171,
     "metadata": {},
     "output_type": "execute_result"
    }
   ],
   "source": [
    "# Poleval bigrams\n",
    "tot_acc = 0.0\n",
    "for i,test_s in enumerate(test_data):\n",
    "    if i and not i%20000:\n",
    "        print(f'{10*i/20000}%')\n",
    "    decoded = unidecode(test_s).lower()\n",
    "    reprocuded = reproduce(decoded,K=50)\n",
    "    tot_acc += get_acc(reprocuded, test_s)\n",
    "tot_acc/200000"
   ]
  },
  {
   "cell_type": "code",
   "execution_count": 17,
   "metadata": {
    "ExecuteTime": {
     "end_time": "2020-12-09T17:53:43.474252Z",
     "start_time": "2020-12-09T17:30:15.508814Z"
    }
   },
   "outputs": [
    {
     "name": "stdout",
     "output_type": "stream",
     "text": [
      "10.0%\n",
      "20.0%\n",
      "30.0%\n",
      "40.0%\n",
      "50.0%\n",
      "60.0%\n",
      "70.0%\n",
      "80.0%\n",
      "90.0%\n"
     ]
    },
    {
     "data": {
      "text/plain": [
       "0.96073718952095"
      ]
     },
     "execution_count": 17,
     "metadata": {},
     "output_type": "execute_result"
    }
   ],
   "source": [
    "# NKJP bigrams\n",
    "tot_acc = 0.0\n",
    "for i,test_s in enumerate(test_data):\n",
    "    if i and not i%20000:\n",
    "        print(f'{10*i/20000}%')\n",
    "    decoded = unidecode(test_s).lower()\n",
    "    reprocuded = reproduce(decoded,K=50)\n",
    "    tot_acc += get_acc(reprocuded, test_s)\n",
    "tot_acc/200000"
   ]
  },
  {
   "cell_type": "markdown",
   "metadata": {},
   "source": [
    "## Zadanie 3. (4p) \n",
    "W zadaniu tym zajmiemy się omawianym na wykładzie ukrytym łańcuchem Markowa, na przykładzie nieuczciwego krupiera rzucającego kością. Przypominam zasady:\n",
    "1. Krupier ma dwie kości, uczciwą i oszukaną.\n",
    "2. Kość oszukana daje 6 oczek z $p = \\frac{1}{2}$, a pozostałe wyniki z $p = \\frac{1}{10}$\n",
    "3. Krupier zmienia kość uczciwą na nieuczciwą z $p1 = 0.04$, a nieuczciwą na uczciwą z $p2 = 0.05$\n",
    "4. Zaczynamy od uczciwej kości.\n",
    "\n",
    "Napisz program, który dla danego ciągu rzutów (który musisz sam wygenerować) wypisuje ciąg stanów (u – kość uczciwa, n – kość nieuczciwa, długość rzędu 10000), w sposób maksymalizujący liczbę prawidłowo zgadniętych stanów. Rozwiąż to zadanie na dwa sposoby:\n",
    "* Proponując heurystyczny algorytm decydujący na podstawie badania skupisk szóstek\n",
    "* Implementując poprawny algorytm, bazujący na zmiennych α oraz β (zobacz wykład o HMM).\n",
    "\n",
    "Wykonując eksperymenty, oszacuj poprawność działania obu algorytmów, mierzoną liczbą poprawnie zgadniętych stanów (podzieloną przez długość ciągu)."
   ]
  },
  {
   "cell_type": "code",
   "execution_count": 20,
   "metadata": {
    "ExecuteTime": {
     "end_time": "2020-12-07T09:10:51.906979Z",
     "start_time": "2020-12-07T09:10:51.887991Z"
    }
   },
   "outputs": [],
   "source": [
    "def generate_data(N):\n",
    "    D1 = [1/6, 1/6, 1/6, 1/6, 1/6, 1/6]\n",
    "    D2 = [1/10, 1/10, 1/10, 1/10, 1/10, 1/2]\n",
    "    Ds = [D1,D2]\n",
    "    active_D = 0\n",
    "    p1 = 0.04\n",
    "    p2 = 0.05\n",
    "    \n",
    "    data = []\n",
    "    D_history = []\n",
    "    for i in range(N):\n",
    "        data.append(np.random.choice(range(1,7), p=Ds[active_D]))\n",
    "        D_history.append(active_D)\n",
    "        if active_D==0:\n",
    "            if random.random() < p1:\n",
    "                active_D = 1\n",
    "        else:\n",
    "            if random.random() < p2:\n",
    "                active_D = 0\n",
    "    return data, D_history"
   ]
  },
  {
   "cell_type": "code",
   "execution_count": 35,
   "metadata": {
    "ExecuteTime": {
     "end_time": "2020-12-07T09:18:23.221435Z",
     "start_time": "2020-12-07T09:18:23.204442Z"
    }
   },
   "outputs": [],
   "source": [
    "def plot_data(data, hist):\n",
    "    N = len(data)\n",
    "    colors = ['Green' if not v else 'Red' for v in hist]\n",
    "    f,axs = plt.subplots(2,1, figsize=(15,10))\n",
    "    axs[0].bar(range(N),data)\n",
    "    axs[1].bar(range(N),data,color=colors)\n",
    "    plt.show()"
   ]
  },
  {
   "cell_type": "code",
   "execution_count": 36,
   "metadata": {
    "ExecuteTime": {
     "end_time": "2020-12-07T09:18:43.217800Z",
     "start_time": "2020-12-07T09:18:40.342790Z"
    }
   },
   "outputs": [
    {
     "data": {
      "image/png": "[encoded data removed]",
      "text/plain": [
       "<Figure size 1080x720 with 2 Axes>"
      ]
     },
     "metadata": {
      "needs_background": "light"
     },
     "output_type": "display_data"
    }
   ],
   "source": [
    "N = 500\n",
    "data, hist = generate_data(N)\n",
    "plot_data(data, hist)"
   ]
  },
  {
   "cell_type": "code",
   "execution_count": 64,
   "metadata": {
    "ExecuteTime": {
     "end_time": "2020-12-07T11:03:46.735568Z",
     "start_time": "2020-12-07T11:03:46.721572Z"
    }
   },
   "outputs": [],
   "source": [
    "def moving_average_classifier(data, d=10):\n",
    "    ma = []\n",
    "    data = np.array(data)\n",
    "    for i in range(len(data)):\n",
    "        ma.append(np.mean(data[max(0,i-d):i+d+1]))\n",
    "    ma = np.array(ma)\n",
    "    labels = ma>=4\n",
    "    return labels"
   ]
  },
  {
   "cell_type": "code",
   "execution_count": 52,
   "metadata": {
    "ExecuteTime": {
     "end_time": "2020-12-07T10:38:03.058098Z",
     "start_time": "2020-12-07T10:37:19.169511Z"
    }
   },
   "outputs": [
    {
     "data": {
      "image/png": "[encoded data removed]",
      "text/plain": [
       "<Figure size 1080x720 with 2 Axes>"
      ]
     },
     "metadata": {
      "needs_background": "light"
     },
     "output_type": "display_data"
    }
   ],
   "source": [
    "N = 10000\n",
    "data, hist = generate_data(N)\n",
    "plot_data(data, hist)"
   ]
  },
  {
   "cell_type": "code",
   "execution_count": 78,
   "metadata": {
    "ExecuteTime": {
     "end_time": "2020-12-07T11:06:03.270729Z",
     "start_time": "2020-12-07T11:05:16.545591Z"
    }
   },
   "outputs": [
    {
     "name": "stdout",
     "output_type": "stream",
     "text": [
      "Heuristic method acc:  0.777\n"
     ]
    },
    {
     "data": {
      "image/png": "[encoded data removed]",
      "text/plain": [
       "<Figure size 1080x720 with 2 Axes>"
      ]
     },
     "metadata": {
      "needs_background": "light"
     },
     "output_type": "display_data"
    }
   ],
   "source": [
    "hist=np.array(hist)\n",
    "mv_labels = moving_average_classifier(data, d=11)\n",
    "print('Heuristic method acc: ',np.mean(mv_labels==hist))\n",
    "pred_colors = ['Green' if not v else 'Red' for v in mv_labels]\n",
    "N = len(data)\n",
    "colors = ['Green' if not v else 'Red' for v in hist]\n",
    "f,axs = plt.subplots(2,1, figsize=(15,10))\n",
    "axs[0].bar(range(N),data,color=pred_colors)\n",
    "axs[0].set_title('Predicted labels')\n",
    "axs[1].bar(range(N),data,color=colors)\n",
    "axs[1].set_title('Original labels')\n",
    "plt.show()"
   ]
  },
  {
   "cell_type": "code",
   "execution_count": 214,
   "metadata": {
    "ExecuteTime": {
     "end_time": "2020-12-07T12:18:07.839205Z",
     "start_time": "2020-12-07T12:18:07.823197Z"
    }
   },
   "outputs": [],
   "source": [
    "def alpha_beta_classifier(data):\n",
    "    N = len(data)\n",
    "    alphas = np.zeros((2,N))\n",
    "    betas = np.zeros((2,N))\n",
    "    D1 = [1/6, 1/6, 1/6, 1/6, 1/6, 1/6]\n",
    "    D2 = [1/10, 1/10, 1/10, 1/10, 1/10, 1/2]\n",
    "    Ds = np.array([D1,D2])\n",
    "    replacment_p = np.array([[0.96, 0.04], [0.05, 0.95]])\n",
    "    \n",
    "    for i in range(N):\n",
    "        for j in range(2):\n",
    "            if i==0:\n",
    "                alphas[j,i] = j\n",
    "            else:\n",
    "                for k in range(2):\n",
    "                    alphas[j,i] += alphas[k,i-1]*replacment_p[k,j]*Ds[k,data[i]-1]\n",
    "                alphas[j,i] *= 6\n",
    "    \n",
    "    for i in range(N-1,-1,-1):\n",
    "        for j in range(2):\n",
    "            if i==N-1:\n",
    "                betas[j,i] = 1\n",
    "            else:\n",
    "                for k in range(2):\n",
    "                    betas[j,i] += betas[k,i+1]*replacment_p[j,k]*Ds[k,data[i]-1]\n",
    "                betas[j,i] *= 6\n",
    "    \n",
    "    gammas = alphas * betas / np.sum(alphas * betas, axis=0)\n",
    "    preds = np.argmax(gammas, axis=0)\n",
    "    return preds "
   ]
  },
  {
   "cell_type": "code",
   "execution_count": 218,
   "metadata": {
    "ExecuteTime": {
     "end_time": "2020-12-07T12:20:03.910347Z",
     "start_time": "2020-12-07T12:19:16.338523Z"
    }
   },
   "outputs": [
    {
     "name": "stdout",
     "output_type": "stream",
     "text": [
      "Alpha-beta method acc:  0.8386\n"
     ]
    },
    {
     "data": {
      "image/png": "[encoded data removed]",
      "text/plain": [
       "<Figure size 1080x720 with 2 Axes>"
      ]
     },
     "metadata": {
      "needs_background": "light"
     },
     "output_type": "display_data"
    }
   ],
   "source": [
    "ab_preds = alpha_beta_classifier(data)\n",
    "print('Alpha-beta method acc: ',np.mean(ab_preds==hist))\n",
    "pred_colors = ['Green' if not v else 'Red' for v in ab_preds]\n",
    "N = len(data)\n",
    "colors = ['Green' if not v else 'Red' for v in hist]\n",
    "f,axs = plt.subplots(2,1, figsize=(15,10))\n",
    "axs[0].bar(range(N),data,color=pred_colors)\n",
    "axs[0].set_title('Predicted labels')\n",
    "axs[1].bar(range(N),data,color=colors)\n",
    "axs[1].set_title('Original labels')\n",
    "plt.show()"
   ]
  },
  {
   "cell_type": "code",
   "execution_count": null,
   "metadata": {},
   "outputs": [],
   "source": []
  }
 ],
 "metadata": {
  "kernelspec": {
   "display_name": "Python 3",
   "language": "python",
   "name": "python3"
  },
  "language_info": {
   "codemirror_mode": {
    "name": "ipython",
    "version": 3
   },
   "file_extension": ".py",
   "mimetype": "text/x-python",
   "name": "python",
   "nbconvert_exporter": "python",
   "pygments_lexer": "ipython3",
   "version": "3.7.6"
  },
  "toc": {
   "base_numbering": 1,
   "nav_menu": {},
   "number_sections": true,
   "sideBar": true,
   "skip_h1_title": false,
   "title_cell": "Table of Contents",
   "title_sidebar": "Contents",
   "toc_cell": false,
   "toc_position": {},
   "toc_section_display": true,
   "toc_window_display": false
  }
 },
 "nbformat": 4,
 "nbformat_minor": 4
}
