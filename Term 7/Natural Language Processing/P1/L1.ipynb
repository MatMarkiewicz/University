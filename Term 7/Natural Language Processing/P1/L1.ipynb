{
 "cells": [
  {
   "cell_type": "code",
   "execution_count": 1,
   "metadata": {
    "ExecuteTime": {
     "end_time": "2020-10-16T10:06:01.919722Z",
     "start_time": "2020-10-16T10:06:01.349209Z"
    }
   },
   "outputs": [],
   "source": [
    "import random\n",
    "from itertools import permutations\n",
    "from stempel import StempelStemmer"
   ]
  },
  {
   "cell_type": "markdown",
   "metadata": {},
   "source": [
    "# L1"
   ]
  },
  {
   "cell_type": "markdown",
   "metadata": {
    "ExecuteTime": {
     "end_time": "2020-10-14T12:15:24.800706Z",
     "start_time": "2020-10-14T12:15:24.791703Z"
    }
   },
   "source": [
    "## Z1\n",
    "(3+1p) W zadaniu tym powinieneś sprawdzić, jak skuteczny jest algorytm MaxMatch1\n",
    "do tokenizacji tekstu polskiego, w którym usunęliśmy spacje i zamieniliśmy wszystkie litery na małe.\n",
    "W tym celu:"
   ]
  },
  {
   "cell_type": "markdown",
   "metadata": {},
   "source": [
    "a) zaproponuj miarę podobieństwa otrzymanej tokenizacji z tokenizacją początkową (daną w tekście, bowiem tokeny oddzielone są spacjami)\n"
   ]
  },
  {
   "cell_type": "code",
   "execution_count": 2,
   "metadata": {
    "ExecuteTime": {
     "end_time": "2020-10-16T09:29:13.502661Z",
     "start_time": "2020-10-16T09:29:13.492702Z"
    }
   },
   "outputs": [],
   "source": [
    "def acc(org,res):\n",
    "    sum_ = 0\n",
    "    n = 0\n",
    "    act_res_token_index = 0\n",
    "    act_res_c = 0\n",
    "    for org_token in org:\n",
    "        for c in org_token:\n",
    "            if len(res[act_res_token_index]) == act_res_c:\n",
    "                act_res_token_index += 1\n",
    "                act_res_c = 0\n",
    "            sum_ += res[act_res_token_index] == org_token\n",
    "            act_res_c += 1\n",
    "            n += 1\n",
    "    return sum_/n"
   ]
  },
  {
   "cell_type": "markdown",
   "metadata": {},
   "source": [
    "b) sprawdź, jaką efektywność w tej mierze osiąga algorytm MaxMatch (korpus jest duży, wydaje\n",
    "się że wzięcie nawet niewielkiej, reprezentatywnej jego części, pozwoli wiarygodnie oszacować\n",
    "skuteczność algorytmu)"
   ]
  },
  {
   "cell_type": "code",
   "execution_count": 3,
   "metadata": {
    "ExecuteTime": {
     "end_time": "2020-10-16T09:28:46.116069Z",
     "start_time": "2020-10-16T09:28:46.096125Z"
    }
   },
   "outputs": [],
   "source": [
    "CORPUS = set()"
   ]
  },
  {
   "cell_type": "code",
   "execution_count": 4,
   "metadata": {
    "ExecuteTime": {
     "end_time": "2020-10-16T09:29:00.551973Z",
     "start_time": "2020-10-16T09:28:46.607121Z"
    }
   },
   "outputs": [],
   "source": [
    "N = 1000000\n",
    "with open('polish_corpora.txt','r',encoding='UTF-8') as f:\n",
    "    for _ in range(N):\n",
    "        for token in f.readline().split(' '):\n",
    "            CORPUS.add(token.lower())"
   ]
  },
  {
   "cell_type": "code",
   "execution_count": 5,
   "metadata": {
    "ExecuteTime": {
     "end_time": "2020-10-16T09:29:00.567901Z",
     "start_time": "2020-10-16T09:29:00.554938Z"
    }
   },
   "outputs": [],
   "source": [
    "def MaxMatch(S,t):\n",
    "    t = t.lower()\n",
    "    res = []\n",
    "    last_match = ''\n",
    "    i = 0\n",
    "    while i<len(t):\n",
    "        max_match = t[i]\n",
    "        for j in range(i+1,min(i+100,len(t))):\n",
    "            act = t[i:j+1]\n",
    "            if act in S:\n",
    "                max_match = act\n",
    "        res.append(max_match)\n",
    "        i += len(max_match)\n",
    "    return res"
   ]
  },
  {
   "cell_type": "code",
   "execution_count": 78,
   "metadata": {
    "ExecuteTime": {
     "end_time": "2020-10-14T11:42:25.196593Z",
     "start_time": "2020-10-14T11:42:25.191605Z"
    }
   },
   "outputs": [
    {
     "name": "stdout",
     "output_type": "stream",
     "text": [
      "lit woo jc zy zno moja tyś jesteś jak zdrowie\n"
     ]
    }
   ],
   "source": [
    "tokens = MaxMatch(CORPUS, 'litwoojczyznomojatyśjesteśjakzdrowie')\n",
    "print(' '.join(tokens))"
   ]
  },
  {
   "cell_type": "code",
   "execution_count": 79,
   "metadata": {
    "ExecuteTime": {
     "end_time": "2020-10-14T11:42:25.724820Z",
     "start_time": "2020-10-14T11:42:25.662626Z"
    }
   },
   "outputs": [],
   "source": [
    "examples = []\n"
   ]
  },
  {
   "cell_type": "code",
   "execution_count": 107,
   "metadata": {
    "ExecuteTime": {
     "end_time": "2020-10-14T12:12:46.692784Z",
     "start_time": "2020-10-14T12:12:46.665858Z"
    }
   },
   "outputs": [
    {
     "name": "stdout",
     "output_type": "stream",
     "text": [
      "Orginalny teskst:\n",
      "system euroraty chcesz kupować więcej niż gdzie indziej\n",
      "\n",
      "Wynik MaxMatch:\n",
      "systeme uro raty chcesz kupować więcej niż gdzieindziej\n",
      "\n",
      "Acc: 0.4583333333333333\n",
      "\n",
      "----------------------------------------------------------------------\n",
      "\n",
      "Orginalny teskst:\n",
      "parlament zdecydował jednak inaczej i przyjął w ustawie z dnia 28.06.1996 r. jednoinstancyjne postępowanie orzeczniczo-lekarskie\n",
      "\n",
      "Wynik MaxMatch:\n",
      "parlament zdecydował jednaki nacz eji przyjął wust aw ie zd nia 28.06.1996 r. jednoinstancyjne postępowanie orzeczniczo-lekarskie\n",
      "\n",
      "Acc: 0.7631578947368421\n",
      "\n",
      "----------------------------------------------------------------------\n",
      "\n",
      "Orginalny teskst:\n",
      "po kampanii wrześniowej 1.dlek raportowała 77 czołgów l.t.m.35 utraconych ( wraz z wozami dowodzenia ) i 52 uszkodzone lub zepsute , lecz ostatecznie po naprawach straty bezpowrotne ograniczyły się do 7 czołgów i w lutym 1940 roku posiadano 195 czołgów na stanie\n",
      "\n",
      "Wynik MaxMatch:\n",
      "poka mpa nii wrześniowej 1.dlek raportowała 77 czołgów l.t.m.35 utraconych ( wraz zwo zami dowodzenia ) i5 2 uszkodzone lub zepsute , lecz ostatecznie pona prawach straty bezpowrotne ograniczyły się do 7c zo ł gów iw lutym 1940r okup osiada no 195 czołgów nastanie\n",
      "\n",
      "Acc: 0.7013574660633484\n",
      "\n",
      "----------------------------------------------------------------------\n",
      "\n",
      "Orginalny teskst:\n",
      "w rolach głównych wystąpili jake gyllenhaal , forest whitaker oraz rachel mcadams\n",
      "\n",
      "Wynik MaxMatch:\n",
      "wrol ach głównych wystąpili jake gyllenhaal , forest whitaker oraz rachel mcadams\n",
      "\n",
      "Acc: 0.9\n",
      "\n",
      "----------------------------------------------------------------------\n",
      "\n",
      "Orginalny teskst:\n",
      "zapieczone z pomidorami , bazylią i serem\n",
      "\n",
      "Wynik MaxMatch:\n",
      "zapieczone zpo mido rami , bazylią isere m\n",
      "\n",
      "Acc: 0.5142857142857142\n",
      "\n",
      "----------------------------------------------------------------------\n",
      "\n",
      "Orginalny teskst:\n",
      "może ten przypadek odstraszy innych kłusowników od tego procederu\n",
      "\n",
      "Wynik MaxMatch:\n",
      "może ten przypadek odstraszy innych kłusowników odt ego procederu\n",
      "\n",
      "Acc: 0.8947368421052632\n",
      "\n",
      "----------------------------------------------------------------------\n",
      "\n",
      "Orginalny teskst:\n",
      "ulgi i przywileje są w stosunkach między państwami zwykle wzajemne , ambasador ma tu niewielkie pole działania\n",
      "\n",
      "Wynik MaxMatch:\n",
      "ulgi ipr zywi leje są wst osu nka chm ię dzy państwami zwykle wzajemne , ambasador mat unie wielkie pole działania\n",
      "\n",
      "Acc: 0.5531914893617021\n",
      "\n",
      "----------------------------------------------------------------------\n",
      "\n",
      "Orginalny teskst:\n",
      "pośród wzgórz do strony południowej do państwa wpływał wierzbiak , który znany był już ze złotonośnych piasków\n",
      "\n",
      "Wynik MaxMatch:\n",
      "pośród wzgórz dost ron y południowej dop a ńs twa wpływał wierzbiak , który znany był już zez łot ono ś nych piasków\n",
      "\n",
      "Acc: 0.6702127659574468\n",
      "\n",
      "----------------------------------------------------------------------\n",
      "\n",
      "Orginalny teskst:\n",
      "tutaj możecie zobaczyć , jak wygląda to w praktyce , na mapie są wyszczególnione miejsca objęte programem\n",
      "\n",
      "Wynik MaxMatch:\n",
      "tutaj możecie zobaczyć ,jak wygląda tow praktyce ,na mapie są wyszczególnione miejsca objęte programem\n",
      "\n",
      "Acc: 0.8876404494382022\n",
      "\n",
      "----------------------------------------------------------------------\n",
      "\n",
      "Orginalny teskst:\n",
      "art. 39 ust . 1 ustawy z dnia 29 sierpnia 1997r\n",
      "\n",
      "Wynik MaxMatch:\n",
      "art.3 9u st. 1ustawy zd nia 29 sierpnia 1997r\n",
      "\n",
      "Acc: 0.40540540540540543\n",
      "\n",
      "----------------------------------------------------------------------\n",
      "\n",
      "Orginalny teskst:\n",
      "przykładowo : w sferze oświaty działania placówek dyplomatyczno-konsularnych obejmują m.in. pomoc w zakładaniu punktów nauczania języka polskiego , fundowanie nagród dla najlepszych uczniów i nauczycieli czy współdziałanie w realizacji przedsięwzięć oświatowych inicjowanych przez podmioty krajowe , jak na przykład udział w prowadzeniu rekrutacji studentów polskiego pochodzenia , organizowanie przyjazdów nauczycieli polonijnych na kursy do kraju , przeprowadzanie eliminacji do konkursów i olimpiad języka polskiego\n",
      "\n",
      "Wynik MaxMatch:\n",
      "przykładowo : ws fer zeo światy działania placówek dyplomatyczno-konsularnych obejmują m.in. pomoc wza kład aniu punktów nauczania języka polskiego , fundowanie nagród dla najlepszych uczniów ina uczycie liczy współdziałanie wre ali zac ji przedsięwzięć oświatowych inicjowanych przez podmioty krajowe ,jak naprzykład udział wprowadzeniu rekrutacji studentów polskiego pochodzenia , organizowanie przyjazdów nauczycieli polonijnych nak urs y dok raju , przeprowadzanie eliminacji dok on kursów io limp iad języka polskiego\n",
      "\n",
      "Acc: 0.756043956043956\n",
      "\n",
      "----------------------------------------------------------------------\n",
      "\n",
      "Orginalny teskst:\n",
      "zmienia się również klimat całej planety , ponieważ lasy tropikalne są ważnym ogniwem obiegu wielu pierwiastków\n",
      "\n",
      "Wynik MaxMatch:\n",
      "zmienia się również klimat całej planety , ponieważ lasy tropikalne są ważnym ogniwem obiegu wielu pierwiastków\n",
      "\n",
      "Acc: 1.0\n",
      "\n",
      "----------------------------------------------------------------------\n",
      "\n",
      "Orginalny teskst:\n",
      "w ośmiu z szesnastu opisanych dotąd chorób spowodowanych mutacjami dynamicznymi przyczyną choroby jest ekspansja kodonu cag ( oznaczającego aminokwas glutaminę ) w sekwencji kodującej genu\n",
      "\n",
      "Wynik MaxMatch:\n",
      "woś miu zsz esn ast uop isany ch dotąd chorób spowodowanych mutacjami dynamicznymi przyczyną choroby jeste ksp ans jako donu cag ( oznaczającego aminokwas glutaminę ) wse kwen cji kodującej genu\n",
      "\n",
      "Acc: 0.6707317073170732\n",
      "\n",
      "----------------------------------------------------------------------\n",
      "\n",
      "Orginalny teskst:\n",
      "pozwól więc sobie oszczędzić trochę czasu i pieniędzy dzięki wykonaniu lustracji\n",
      "\n",
      "Wynik MaxMatch:\n",
      "pozwól więc sobie oszczędzić trochę czasu ipi eni ęd zydzi ę kiw yk onani ulu stra cji\n",
      "\n",
      "Acc: 0.5142857142857142\n",
      "\n",
      "----------------------------------------------------------------------\n",
      "\n",
      "Orginalny teskst:\n",
      "przez wiele magazynów ( m.in. metal hammer , heavy metal pages ) został uznany największą nadzieją polskiego melodyjnego heavy metalu\n",
      "\n",
      "Wynik MaxMatch:\n",
      "przez wielem aga zy nów ( m.in. metal hammer , heavy metal pages ) zostału znany największą nadzieją polskiego melodyjnego heavy metalu\n",
      "\n",
      "Acc: 0.7719298245614035\n",
      "\n",
      "----------------------------------------------------------------------\n",
      "\n",
      "Orginalny teskst:\n",
      "panie pośle , czy w sprawie formalnej\n",
      "\n",
      "Wynik MaxMatch:\n",
      "panie pośle , czy wspr aw ie formalnej\n",
      "\n",
      "Acc: 0.7419354838709677\n",
      "\n",
      "----------------------------------------------------------------------\n",
      "\n",
      "Orginalny teskst:\n",
      "jeśli interesują nas takie usługi jak szkolenia kierowców pojazdów uprzywilejowanych , to warto także wziąć pod uwagę to , z jakimi kosztami i ofertami mamy do czynienia , a na pewno będziemy mogli cieszyć się najlepszymi efektami , a to jest przecież najważniejsze\n",
      "\n",
      "Wynik MaxMatch:\n",
      "jeśli interesują nast akie usługi jak szkolenia kierowców pojazdów uprzywilejowanych , towar tota kże wziąć pod uwagę to , zja kimiko szt amii ofertami mamy doczynienia , ana pewno będziemy mogli cieszyćsię najlepszymi efektami , ato jest przecież najważniejsze\n",
      "\n",
      "Acc: 0.7174887892376681\n",
      "\n",
      "----------------------------------------------------------------------\n",
      "\n",
      "Orginalny teskst:\n",
      "firmę tę pozbawiono również gazu , który był magazynowany w ukraińskich pmg i zbywany m.in. do polski\n",
      "\n",
      "Wynik MaxMatch:\n",
      "firmę tępo zbawi ono również gazu , który był magazynowany wu kraińskich pmg izby wany m.in. dop ols ki\n",
      "\n",
      "Acc: 0.5294117647058824\n",
      "\n",
      "----------------------------------------------------------------------\n",
      "\n",
      "Orginalny teskst:\n",
      "porównanie kogoś w polsce do hitlera jest najbardziej haniebną kalumnią , jaką można rzucić\n",
      "\n",
      "Wynik MaxMatch:\n",
      "porównanie kogoś wpolsce do hitlera jest najbardziej haniebną kalumnią ,jak ą można rzucić\n",
      "\n",
      "Acc: 0.8461538461538461\n",
      "\n",
      "----------------------------------------------------------------------\n",
      "\n",
      "Orginalny teskst:\n",
      "zobowiązania stanowiły 42,5 % sumy aktywów trwałych i obrotowych\n",
      "\n",
      "Wynik MaxMatch:\n",
      "zobowiązania stanowiły 42,5 % sumy aktywów trwałych iob roto wych\n",
      "\n",
      "Acc: 0.8035714285714286\n",
      "\n",
      "----------------------------------------------------------------------\n",
      "\n"
     ]
    }
   ],
   "source": [
    "with open('polish_corpora.txt','r',encoding='UTF-8') as f:\n",
    "    for _ in range(20):\n",
    "        e = f.readline().lower().split(' ')[:-1]\n",
    "        t = ''.join(e)\n",
    "        tokens = MaxMatch(CORPUS,t)\n",
    "        print(f'Orginalny teskst:\\n{\" \".join(e)}')\n",
    "        print()\n",
    "        print(f'Wynik MaxMatch:\\n{\" \".join(tokens)}')\n",
    "        print()\n",
    "        print(f'Acc: {acc(e,tokens)}')\n",
    "        print()\n",
    "        print('----------------------------------------------------------------------')\n",
    "        print()"
   ]
  },
  {
   "cell_type": "code",
   "execution_count": 112,
   "metadata": {
    "ExecuteTime": {
     "end_time": "2020-10-14T12:14:33.242160Z",
     "start_time": "2020-10-14T12:14:27.625252Z"
    }
   },
   "outputs": [
    {
     "name": "stdout",
     "output_type": "stream",
     "text": [
      "Mean acc: 0.6651353015049798\n"
     ]
    }
   ],
   "source": [
    "accs = []\n",
    "with open('polish_corpora.txt','r',encoding='UTF-8') as f:\n",
    "    for _ in range(10000):\n",
    "        e = f.readline().lower().split(' ')[:-1]\n",
    "        t = ''.join(e)\n",
    "        tokens = MaxMatch(CORPUS,t)\n",
    "        accs.append(acc(e,tokens))\n",
    "print(f'Mean acc: {sum(accs)/len(accs)}')"
   ]
  },
  {
   "cell_type": "markdown",
   "metadata": {},
   "source": [
    "## Z2\n",
    "(3p) W zadaniu tym powinieneś skorzystać z bigramów (oraz trigramów) z korpusu\n",
    "NKJP (czyli pliku, który zawiera informacje, ile razy w korpusie znajduje się dana para lub trójka\n",
    "wyrazów). Powinieneś napisać program, który generuje ciągi niby-zdań, korzystając z ngramów.\n",
    "Algorytm opiszemy w wersji bigramowej:\n",
    "Należy utworzyć strukturę, która dla każdego słowa pamięta listę jego możliwych następników; generacja przebiega tak, że zaczynamy od wybranego losowo słowa (albo od słowa\n",
    "<BOS>, losujemy dla niego następnik, dla niego kolejny następnik etc. Gdy dojdziemy\n",
    "do słowa bez następnika, to rozpoczynamy losowanie od początku. Oczywiście kolejne\n",
    "słowa należy wypisywać.\n",
    "Napisz program generujący teksty dla bigramówi i trigramów (jeżeli będziesz miał kłopoty ze\n",
    "zmieszczeniem się w pamięci operacyjnej, wówczas ogranicz się do N-gramów występujących co\n",
    "najmniej K razy, dla odpowiednio dobranego K > 1 . Przeanalizuj otrzymane teksty."
   ]
  },
  {
   "cell_type": "code",
   "execution_count": 16,
   "metadata": {
    "ExecuteTime": {
     "end_time": "2020-10-16T10:22:59.236623Z",
     "start_time": "2020-10-16T10:21:16.710594Z"
    }
   },
   "outputs": [],
   "source": [
    "BIGRAMS_DICT = {}\n",
    "with open('poleval_2grams.txt','r',encoding='UTF-8') as f:\n",
    "    for line in f:\n",
    "        n,s1,s2 = line.lower()[:-1].split(' ')\n",
    "        n = int(n)\n",
    "        if n >= 10:\n",
    "            if s1 not in BIGRAMS_DICT:\n",
    "                BIGRAMS_DICT[s1] = [[s2],[n]]\n",
    "            else:\n",
    "                BIGRAMS_DICT[s1][0].append(s2)\n",
    "                BIGRAMS_DICT[s1][1].append(n)"
   ]
  },
  {
   "cell_type": "code",
   "execution_count": 17,
   "metadata": {
    "ExecuteTime": {
     "end_time": "2020-10-16T10:23:02.681149Z",
     "start_time": "2020-10-16T10:23:02.666158Z"
    }
   },
   "outputs": [],
   "source": [
    "def gen_from_bigrams(start=None,maxN=100,enable_weights=False):\n",
    "    if start is None:\n",
    "        start = random.choice(list(BIGRAMS_DICT.keys()))\n",
    "    for _ in range(maxN):\n",
    "        if start not in BIGRAMS_DICT:\n",
    "            start = random.choice(list(BIGRAMS_DICT.keys()))\n",
    "        l,w = BIGRAMS_DICT[start]\n",
    "        if not enable_weights:\n",
    "            start = random.choice(l)\n",
    "        else:\n",
    "            start = random.choices(l,weights=w,k=1)[0]\n",
    "        print(start,end=' ')"
   ]
  },
  {
   "cell_type": "code",
   "execution_count": 18,
   "metadata": {
    "ExecuteTime": {
     "end_time": "2020-10-16T10:23:03.774656Z",
     "start_time": "2020-10-16T10:23:03.680409Z"
    }
   },
   "outputs": [
    {
     "name": "stdout",
     "output_type": "stream",
     "text": [
      "z przywództwem , syn poprzedniego raportu dla okolicznych domach w burkina faso odpadło od duchów ( sofia - race . filip po pomniku ewakuacji mieszkańców azji kadetów im. witkacego i stworzyli podstawy materialne rodzin - dokumenty nie domagamy , draperie , sebastien ogier . 1-6 ( madryt i przeglądanie w grobowcu rodzinnym stole obok stanowiska państw wymienionych poprzednio obowiązującego rozkładu termicznego przekształcenia struktury samorządowej jako prosektor jednocześnie zwiększenie swojej niewielkiej doliny jest wydany 26 xi międzynarodowy transport substancji może grozić utratą zdolności administracyjnej będzie dość długotrwałe prace swoich gniazd - latek natomiast swojego jadłospisu . zapraszamy panie wnioskodawco , lubania "
     ]
    }
   ],
   "source": [
    "gen_from_bigrams()"
   ]
  },
  {
   "cell_type": "code",
   "execution_count": 25,
   "metadata": {
    "ExecuteTime": {
     "end_time": "2020-10-16T10:51:58.709473Z",
     "start_time": "2020-10-16T10:45:19.481430Z"
    }
   },
   "outputs": [],
   "source": [
    "TRIGRAMS_DICT = {}\n",
    "with open('poleval_3grams.txt','r',encoding='UTF-8') as f:\n",
    "    for line in f:\n",
    "        line = line.lower()[:-1].split(' ')\n",
    "        if len(line) != 4:\n",
    "            continue\n",
    "        n,s1,s2,s3 = line\n",
    "        n = int(n)\n",
    "        if n >= 10:\n",
    "            if (s1,s2) not in TRIGRAMS_DICT:\n",
    "                TRIGRAMS_DICT[(s1,s2)] = [[s3],[n]]\n",
    "            else:\n",
    "                TRIGRAMS_DICT[(s1,s2)][0].append(s3)\n",
    "                TRIGRAMS_DICT[(s1,s2)][1].append(n)"
   ]
  },
  {
   "cell_type": "code",
   "execution_count": 26,
   "metadata": {
    "ExecuteTime": {
     "end_time": "2020-10-16T10:52:02.322257Z",
     "start_time": "2020-10-16T10:52:02.299321Z"
    }
   },
   "outputs": [],
   "source": [
    "def gen_from_trigrams(start=None,maxN=100,enable_weights=False):\n",
    "    if start is None:\n",
    "        start = random.choice(list(TRIGRAMS_DICT.keys()))\n",
    "    print(start[0],start[1],end=' ')\n",
    "    for _ in range(maxN):\n",
    "        if start not in TRIGRAMS_DICT:\n",
    "            start = random.choice(list(TRIGRAMS_DICT.keys()))\n",
    "            print(start[0],start[1],end=' ')\n",
    "        l,w = TRIGRAMS_DICT[start]\n",
    "        if not enable_weights:\n",
    "            next_w = random.choice(l)\n",
    "        else:\n",
    "            next_w = random.choices(l,weights=w,k=1)[0]\n",
    "        print(next_w, end=' ')\n",
    "        start = (start[1],next_w)"
   ]
  },
  {
   "cell_type": "code",
   "execution_count": 27,
   "metadata": {
    "ExecuteTime": {
     "end_time": "2020-10-16T10:52:04.698972Z",
     "start_time": "2020-10-16T10:52:03.032301Z"
    }
   },
   "outputs": [
    {
     "name": "stdout",
     "output_type": "stream",
     "text": [
      "realizujący obiekty sportowe to basen atoms . <eos> twarzy przez uczestników konferencji , której przyczyną jest m.in. ograniczenie liczby kadencji , tak potrzebnych w tym największe lokatorami . <eos> 189 głosów , zajmując piątą pozycję , dzięki dużym <bos> fabryka produkowała bułgarii gwarantuje równe traktowanie przez prawo unijne i krajowe sieci transportowe , w 1979 ukończył szkołę pilotów w engelsie , kolejnych igrzysk olimpijskich 1956 , 1961 ( i koordynuje prace związane z posiadaniem statusu położona bezpośrednio przy plaży . <eos> budynek składający się na cyprze i w okręgu i w 1978 klub kryzysem . <eos> praw pkp sa wydzielane są z koniecznością zatrudnienia dodatkowych osób wyłącznie do prowadzenia danego rodzaju , która wynajmuje nie oddalać się od mszy świętej ( aberdare . <eos> mojego dzisiejszego oświadczenia rolnictwa unii europejskiej nad projektem narodowego programu "
     ]
    }
   ],
   "source": [
    "gen_from_trigrams()"
   ]
  },
  {
   "cell_type": "markdown",
   "metadata": {},
   "source": [
    "## Zad 3\n",
    "(4p) Powtórz poprzednie zadanie, ale tym razem powinieneś losować kolejne słowa nie\n",
    "z jednorodnym rozkładem, ale w ten sposób, by prawdopodobieństwo wylosowania następnika było\n",
    "proporcjonalne do liczby wystąpień odpowiedniego N-gramu w korpusie. Czy otrzymujesz w ten\n",
    "sposób bardziej naturalne teksty?"
   ]
  },
  {
   "cell_type": "code",
   "execution_count": 28,
   "metadata": {
    "ExecuteTime": {
     "end_time": "2020-10-16T10:52:08.927739Z",
     "start_time": "2020-10-16T10:52:08.670473Z"
    }
   },
   "outputs": [
    {
     "name": "stdout",
     "output_type": "stream",
     "text": [
      ", że zgodnie z nauczycielami , które podnosili również środki odurzające lub układ to trudna , ktory mozna na policjantów w kraju i realnych kosztów przedsięwzięcia gospodarczego - jest uzyskanie świadectwa charakterystyki energetycznej i ostatecznie zakończył 26 i działaczy politycznych . <eos> and try ny wy so i po wydaniu , że nasze związki , oszczędności może być tutaj nie tylko zwiększa się tylko ten ( sopot . <eos> recepty i bytowych , należy odróżnić dobro . <eos> m.in. w ogóle , którzy rozpoczęli oni są beneficjentami będą dotychczasowe ustalenia sprawców , to jesteśmy w krajach unii europejskiej oraz współpracy "
     ]
    }
   ],
   "source": [
    "gen_from_bigrams(enable_weights=True)"
   ]
  },
  {
   "cell_type": "code",
   "execution_count": 30,
   "metadata": {
    "ExecuteTime": {
     "end_time": "2020-10-16T10:52:19.285514Z",
     "start_time": "2020-10-16T10:52:17.717690Z"
    }
   },
   "outputs": [
    {
     "name": "stdout",
     "output_type": "stream",
     "text": [
      "z przeznaczeniem na : w jakim stopniu w oparciu o język , jakim jest rozwój turystyki , a w każdym razie , proszę bardzo , sprawozdawca komisji . <eos> klasy ( 19 % . <eos> że odpowiedzialności karnej posła andrzeja jagiełły . <eos> dwuletniej walce z kryzysem , w przyszłym roku na terenie całego kraju . <eos> argumenty legły u podstaw tego , iż aktywność z olimpiją lublana listy oricon weekly więc 100 % . <eos> innych przykładów , jeśli jest inaczej , natomiast jest on powoływany przez sejm rp , a w razie opóźnienia w płatnościach dla gazu wysokometanowego , którego autorstwo przypisuje się w twarz i ciało . <eos> przykrością trzeba stwierdzić , że znaleźliście channels . <eos> r. redaktorem naczelnym tygodnika 17,5 . <eos> start na igrzyskach "
     ]
    }
   ],
   "source": [
    "gen_from_trigrams(enable_weights=True)"
   ]
  },
  {
   "cell_type": "markdown",
   "metadata": {},
   "source": [
    "## Zad 4"
   ]
  },
  {
   "cell_type": "markdown",
   "metadata": {},
   "source": [
    "(3p) Rozważmy trzy zdania:\n",
    "* Judyta dała wczoraj Stefanowi czekoladki.\n",
    "* Babuleńka miała dwa rogate koziołki.\n",
    "* Wczoraj wieczorem spotkałem pewną piękną kobietę\n",
    "\n",
    "Zwróć uwagę, że w języku polskim, dla każdego z tych zdań bardzo wiele z wszystkich możliwych permutacji wyrazów to zdania mniej lub bardziej poprawne, choć czasem mocno nacechowane\n",
    "stylistycznie, jak przykładowo:\n",
    "* Dwa miała rogate koziołki babuleńka\n",
    "\n",
    "Dodaj kilka zdań do powyższej trójki. Twoim zadaniem jest napisanie programu, który dla\n",
    "danego (multi)zbioru wyrazów (na tyle małego, że można przejrzeć szybko wszystkie permutacje)\n",
    "wypisuje kilka przykładowych uszeregowań tych wyrazów, w kolejności od najbardziej naturalnego.\n",
    "Naturalność powinieneś oceniać patrząc na statystyki występowania N-gramów. W tym zadaniu\n",
    "Twój program może założyć, że ma działać na predefiniowanych zestawach – co oznacza, że możesz\n",
    "wczytać z N-gramów tylko informacje o niewielkiej liczbie wyrazów (i na pewno nie będziesz miał\n",
    "kłopotów ze zmieszczeniem się w pamięci)."
   ]
  },
  {
   "cell_type": "code",
   "execution_count": 47,
   "metadata": {
    "ExecuteTime": {
     "end_time": "2020-10-16T11:26:28.930289Z",
     "start_time": "2020-10-16T11:26:28.907351Z"
    }
   },
   "outputs": [],
   "source": [
    "def P(w,w1=None,w2=None):\n",
    "    N = 4000000\n",
    "    l1, l2, l3 = 0.05, 0.11, 0.84\n",
    "    pw,pww,pwww = 0,0,0\n",
    "    \n",
    "    if w in BIGRAMS_DICT:\n",
    "        l,c = BIGRAMS_DICT[w]\n",
    "        s = sum(c)\n",
    "        pw = (s+1)/N\n",
    "    else:\n",
    "        pw = 1/N\n",
    "        \n",
    "    if w1 is not None and w1 in BIGRAMS_DICT:\n",
    "        l,c = BIGRAMS_DICT[w1]\n",
    "        s = sum(c)\n",
    "        for i,w_ in enumerate(l):\n",
    "            if w_ == w:\n",
    "                pww = c[i]/s\n",
    "                \n",
    "    if w2 is not None and w1 is not None and (w2,w1) in TRIGRAMS_DICT:\n",
    "        l,c = TRIGRAMS_DICT[(w2,w1)]\n",
    "        s = sum(c)\n",
    "        for i,w_ in enumerate(l):\n",
    "            if w_ == w:\n",
    "                pww = c[i]/s\n",
    "    \n",
    "    return l1*pw + l2*pww + l3*pwww"
   ]
  },
  {
   "cell_type": "code",
   "execution_count": 51,
   "metadata": {
    "ExecuteTime": {
     "end_time": "2020-10-16T11:31:57.780256Z",
     "start_time": "2020-10-16T11:31:57.774299Z"
    }
   },
   "outputs": [],
   "source": [
    "def compare_perms(p1,p2):\n",
    "    for i,w in enumerate(p1):\n",
    "        if w != p2[i]:\n",
    "            return False\n",
    "    return True        "
   ]
  },
  {
   "cell_type": "code",
   "execution_count": 54,
   "metadata": {
    "ExecuteTime": {
     "end_time": "2020-10-16T11:34:04.211237Z",
     "start_time": "2020-10-16T11:34:04.189282Z"
    }
   },
   "outputs": [],
   "source": [
    "def order_words(tokens):\n",
    "    results = []\n",
    "    tokens = [t.lower() for t in tokens]\n",
    "    for perm in permutations(tokens):\n",
    "        p = 1.0\n",
    "        p *= P(perm[0])\n",
    "        p *= P(perm[1], perm[0])\n",
    "        for i in range(2,len(tokens)):\n",
    "            p *= P(perm[i], perm[i-1], perm[i-2])\n",
    "        results.append((p,perm))\n",
    "    sorted_result = sorted(results,key=lambda e:e[0],reverse=True)\n",
    "    for i,(s,perm) in enumerate(sorted_result):\n",
    "        if compare_perms(tokens,perm):\n",
    "            return 1/(i+1)\n",
    "    return 0"
   ]
  },
  {
   "cell_type": "code",
   "execution_count": 49,
   "metadata": {
    "ExecuteTime": {
     "end_time": "2020-10-16T11:28:23.572195Z",
     "start_time": "2020-10-16T11:26:47.201512Z"
    }
   },
   "outputs": [
    {
     "name": "stdout",
     "output_type": "stream",
     "text": [
      "zgubiła książkę , którą miała oddać ala score:  1.7409647203552106e-26\n",
      "ala książkę , którą miała oddać zgubiła score:  1.7409647203552103e-26\n",
      "książkę , którą miała oddać ala zgubiła score:  1.7409647203552103e-26\n",
      "książkę , którą miała oddać zgubiła ala score:  1.7409647203552103e-26\n",
      "ala zgubiła książkę , którą miała oddać score:  1.74096472035521e-26\n",
      "zgubiła ala książkę , którą miała oddać score:  1.74096472035521e-26\n",
      "ala zgubiła miała oddać książkę , którą score:  1.559269988133791e-26\n",
      "ala książkę , którą zgubiła miała oddać score:  1.559269988133791e-26\n",
      "ala miała oddać zgubiła książkę , którą score:  1.559269988133791e-26\n",
      "zgubiła ala miała oddać książkę , którą score:  1.559269988133791e-26\n"
     ]
    }
   ],
   "source": [
    "tokens = ['ala', 'zgubiła', 'książkę', ',', 'którą', 'miała','oddać']\n",
    "res = order_words(tokens)\n",
    "for s,r in res[:10]:\n",
    "    print(' '.join(r), 'score: ',s)"
   ]
  },
  {
   "cell_type": "code",
   "execution_count": 48,
   "metadata": {
    "ExecuteTime": {
     "end_time": "2020-10-16T11:26:37.024332Z",
     "start_time": "2020-10-16T11:26:31.512749Z"
    }
   },
   "outputs": [
    {
     "name": "stdout",
     "output_type": "stream",
     "text": [
      "kto wystąpi w seniorskiej reprezentacji dzisiaj score:  9.022123358651e-17\n",
      "dzisiaj kto wystąpi w seniorskiej reprezentacji score:  9.022123358650998e-17\n",
      "dzisiaj w seniorskiej reprezentacji kto wystąpi score:  8.029027985824351e-17\n",
      "kto wystąpi dzisiaj w seniorskiej reprezentacji score:  8.02902798582435e-17\n",
      "w seniorskiej reprezentacji kto wystąpi dzisiaj score:  7.778394923226559e-17\n",
      "w seniorskiej reprezentacji dzisiaj kto wystąpi score:  7.778394923226557e-17\n",
      "kto dzisiaj wystąpi w seniorskiej reprezentacji score:  6.367207734538275e-17\n",
      "wystąpi w seniorskiej reprezentacji kto dzisiaj score:  6.367207734538275e-17\n",
      "dzisiaj wystąpi w seniorskiej reprezentacji kto score:  5.885730725223591e-17\n",
      "wystąpi w seniorskiej reprezentacji dzisiaj kto score:  5.885730725223591e-17\n",
      "kto dzisiaj w seniorskiej reprezentacji wystąpi score:  5.666347827437485e-17\n",
      "wystąpi kto dzisiaj w seniorskiej reprezentacji score:  5.666347827437484e-17\n",
      "w seniorskiej reprezentacji kto dzisiaj wystąpi score:  5.489467872324314e-17\n",
      "w seniorskiej reprezentacji wystąpi kto dzisiaj score:  5.489467872324313e-17\n",
      "dzisiaj w seniorskiej reprezentacji wystąpi kto score:  5.237868607120481e-17\n",
      "wystąpi dzisiaj w seniorskiej reprezentacji kto score:  5.237868607120481e-17\n",
      "kto w seniorskiej reprezentacji wystąpi dzisiaj score:  5.1194851642885155e-17\n",
      "kto w seniorskiej reprezentacji dzisiaj wystąpi score:  5.119485164288515e-17\n",
      "dzisiaj kto w seniorskiej reprezentacji wystąpi score:  5.1194851642885143e-17\n",
      "dzisiaj wystąpi kto w seniorskiej reprezentacji score:  5.1194851642885143e-17\n"
     ]
    }
   ],
   "source": [
    "tokens = ['kto', 'w', 'seniorskiej', 'reprezentacji', 'dzisiaj', 'wystąpi']\n",
    "res = order_words(tokens)\n",
    "for s,r in res[:20]:\n",
    "    print(' '.join(r), 'score: ',s)"
   ]
  },
  {
   "cell_type": "code",
   "execution_count": 53,
   "metadata": {
    "ExecuteTime": {
     "end_time": "2020-10-16T11:33:36.691551Z",
     "start_time": "2020-10-16T11:33:31.151698Z"
    }
   },
   "outputs": [
    {
     "data": {
      "text/plain": [
       "0.058823529411764705"
      ]
     },
     "execution_count": 53,
     "metadata": {},
     "output_type": "execute_result"
    }
   ],
   "source": [
    "tokens = ['kto', 'w', 'seniorskiej', 'reprezentacji', 'dzisiaj', 'wystąpi']\n",
    "order_words(tokens)"
   ]
  },
  {
   "cell_type": "markdown",
   "metadata": {},
   "source": [
    "## Zad 4\n",
    "(4p) W tym zadaniu rozwiązujemy analogiczny problem jak w powyższym (czyli porządkujemy wyrazy), ale tym razem:\n",
    "* a) nie zakładamy niczego o słowach do uporządkowania\n",
    "* b) chcemy poradzić sobie z „dziurawością” danych, czyli tym, że o pewnych „dobrych” połączeniach\n",
    "w korpusie nie ma żadnych informacji (na przykład nie ma nic o „rogatych koziołkach”, ale są\n",
    "za to „ jajowate dołki”, czy „garbate aniołki”).\n"
   ]
  },
  {
   "cell_type": "code",
   "execution_count": 61,
   "metadata": {
    "ExecuteTime": {
     "end_time": "2020-10-16T11:47:00.399897Z",
     "start_time": "2020-10-16T11:47:00.366984Z"
    }
   },
   "outputs": [],
   "source": [
    "ZDANIA = [['nasz', 'przedmiot', 'to', 'przetwarzanie', 'języka', 'naturalnego'],\n",
    " ['jedną', 'grupę', 'prowadzi', 'jakub', 'michaliszyn'],\n",
    " ['wykładowcą', 'jest', 'paweł', 'rychlikowski'],\n",
    " ['pan', 'paweł', 'prowadzi', 'również', 'dwie', 'pozostałe', 'grupy'],\n",
    " ['na', 'stronie', 'wykładu', 'będą', 'pojawiać', 'się', 'listy', 'zadań'],\n",
    " ['będą', 'to', 'listy', 'ćwiczeniowe', 'i', 'pracowniowe'],\n",
    " ['będą', 'to', 'listy', 'pracowniowe', 'i', 'ćwiczeniowe'],\n",
    " ['mogą', 'się', 'pojawiać', 'również', 'dodatkowe', 'aktywności', ''],\n",
    " ['te', 'aktywności', 'będą', 'premiowane', ''],\n",
    " ['na', 'przykłąd', 'quizy', 'na', 'platformie', 'zdalnej'],\n",
    " ['rozważamy', 'też', 'miniprojekty', 'na', 'temat', 'wykładu'],\n",
    " ['zapowiadamy', 'je', 'z', 'co', 'najmniej', 'tygodniowym', 'wyprzedzeniem'],\n",
    " ['zadania', 'są', 'przeznaczone', 'na', 'konkretne', 'zajęcia'],\n",
    " ['ćwiczenia', 'zaczynają', 'się', 'w', 'sali', 'seminaryjnej'],\n",
    " ['jest', 'tak', 'tylko', 'w', 'trybie', 'stacjonarnym', ''],\n",
    " ['pozostałe', 'zajęcia', 'domyślnie', 'zaczynają', 'się', 'w', 'pracowni'],\n",
    " ['pracownia', 'polega', 'na', 'indywidualnych', 'konsutlacjach'],\n",
    " ['rozmawiamy', 'tam', 'na', 'temat', 'rozwiązań', ''],\n",
    " ['podczas',\n",
    "  'ćwiczeń',\n",
    "  'studenci',\n",
    "  'przedstawiają',\n",
    "  'pisemne',\n",
    "  'rozwiązania',\n",
    "  'zadań'],\n",
    " ['tryb', 'zajęć', 'zależy', 'od', 'sytuacji', 'epidemiologicznej'],\n",
    " ['zależy', 'też', 'od', 'wymogów', 'formalnych', ''],\n",
    " ['zależy', 'również', 'od', 'decyzji', 'władz'],\n",
    " ['uwzględnia', 'się', 'możliwości', 'studentów', 'i', 'prowadzących'],\n",
    " ['może', 'się', 'on', 'zmieniać', 'w', 'trakcie', 'semestru'],\n",
    " ['przed',\n",
    "  'ćwiczeniami',\n",
    "  'studenci',\n",
    "  'dostarczają',\n",
    "  'prowadzącemu',\n",
    "  'deklaracje'],\n",
    " ['zawiera', 'ona', 'numery', 'zadań'],\n",
    " ['studenci', 'pokazują', 'rozwiązania', 'przy', 'tablicy'],\n",
    " ['jest', 'źle', ',', 'jeżeli', 'student', 'nie', 'umie'],\n",
    " ['dodatkowo', 'coś', 'mu', 'się', 'odejmuje'],\n",
    " ['zadania', 'można', 'oddawać', 'podczas', 'zajęć', 'na', 'pracowni'],\n",
    " ['zadania', 'należy', 'rozwiązywać', 'samodzielnie'],\n",
    " ['prowadzący', 'ocenia', 'poprawność', 'rozwiązania'],\n",
    " ['czasem', 'mogą', 'pojawić', 'się', 'informacje', 'o', 'regułach'],\n",
    " ['na', 'każdej', 'liście', 'podany', 'jest', 'termin'],\n",
    " ['za', 'poprawne', 'rozwiązanie', 'dostajemy', 'dużo', 'punktów'],\n",
    " ['spóźnione', 'zadania', 'nie', 'będą', 'sprawdzane'],\n",
    " ['pierwsza', 'lista', 'ma', 'dłuższy', 'termin'],\n",
    " ['zasada', 'musi', 'być', 'zmodyfikowana', 'pod', 'koniec', 'semestru'],\n",
    " ['w', 'przypadku', 'choroby', 'studenta', 'obowiązują', 'inne', 'zasady'],\n",
    " ['w', 'przypadku', 'kwarantanny', 'studenta', 'obowiązują', 'inne', 'zasady'],\n",
    " ['w', 'przypadku', 'izolacji', 'studenta', 'obowiązują', 'inne', 'zasady'],\n",
    " ['możliwe',\n",
    "  'jest',\n",
    "  'oddawanie',\n",
    "  'zaległych',\n",
    "  'zadań',\n",
    "  'bez',\n",
    "  'straty',\n",
    "  'punktowej'],\n",
    " ['ocenę', 'wystawia', 'się', 'zgodnie', 'z', 'tabelką'],\n",
    " ['50', 'punktów', 'daje', 'ocenę', 'dostateczną'],\n",
    " ['120', 'punktów', 'daje', 'ocenę', 'bardzo', 'dobrą'],\n",
    " ['powyższa', 'tabelka', 'zostanie', 'przeskalowana'],\n",
    " ['może', 'też', 'zostać', 'przeskalowana', 'z', 'innych', 'powodów'],\n",
    " ['w', 'pierwszym', 'tygodniu', 'zajęć', 'coś', 'podamy'],\n",
    " ['dodatkowe', 'zasady', 'umożliwiające', 'zwolnienie', 'z', 'egzaminu'],\n",
    " ['dotyczą', 'osób', 'z', 'dużą', 'liczbą', 'punktów'],\n",
    " ['można', 'rozwiązać', 'też', 'zadanie', 'specjalne'],\n",
    " ['forma', 'egzaminu', 'zależy', 'od', 'wielu', 'czynników'],\n",
    " ['należy', 'się', 'spodziewać', 'różnych', 'wariantów'],\n",
    " ['nie', 'wykluczamy', 'indywidualnego', 'egzaminu', 'ustnego'],\n",
    " ['jaś', 'i', 'małgosia', 'też', 'są', 'tutaj'],\n",
    " ['puchatek', 'z', 'prosiaczkiem', 'nie', 'przybędą'],\n",
    " ['raz', 'kotek', 'był', 'chory', 'i', 'odpoczywał'],\n",
    " ['raz', 'kotek', 'był', 'chory', 'i', 'leżał', 'w', 'łóżeczku'],\n",
    " ['definicja', 'relacji', 'równoważności', 'nie', 'jest', 'trudna'],\n",
    " ['hipoteza', 'continuum', 'jest', 'niezależna', 'od', 'aksjomatów'],\n",
    " ['teoria', 'mnogości', 'daje', 'wiele', 'radości'],\n",
    " ['programowanie', 'nie', 'jest', 'szczególnie', 'trudne'],\n",
    " ['rachunek', 'prawdopodobieństwa', 'przydaje', 'się', 'w', 'życiu'],\n",
    " ['rycerze', 'osaczyli', 'smoka', 'zanim', 'strawił', 'księżniczkę'],\n",
    " ['chyba', 'należy', 'już', 'przestać', 'wymyślać', 'zdania']]"
   ]
  },
  {
   "cell_type": "code",
   "execution_count": 65,
   "metadata": {
    "ExecuteTime": {
     "end_time": "2020-10-16T12:36:21.031246Z",
     "start_time": "2020-10-16T12:36:21.017284Z"
    }
   },
   "outputs": [],
   "source": [
    "def test():\n",
    "    sum_ = 0.0\n",
    "    N = len(ZDANIA)\n",
    "    ones = 0\n",
    "    for i,s in enumerate(ZDANIA):\n",
    "        score = order_words(s)\n",
    "        sum_ += score\n",
    "        if int(score) == 1:\n",
    "            ones+=1\n",
    "        print(f'Zdanie {i+1}/{N}, wynik: {score}')\n",
    "    print()\n",
    "    print(f'Wynik całkowity: {sum_/N}, ilość poprawnych wyników: {ones}/{N}')"
   ]
  },
  {
   "cell_type": "code",
   "execution_count": 63,
   "metadata": {
    "ExecuteTime": {
     "end_time": "2020-10-16T12:22:39.797331Z",
     "start_time": "2020-10-16T11:49:23.902566Z"
    }
   },
   "outputs": [
    {
     "name": "stdout",
     "output_type": "stream",
     "text": [
      "Zdanie 1/65, wynik: 0.017241379310344827\n",
      "Zdanie 2/65, wynik: 0.14285714285714285\n",
      "Zdanie 3/65, wynik: 0.125\n",
      "Zdanie 4/65, wynik: 0.006802721088435374\n",
      "Zdanie 5/65, wynik: 0.0011737089201877935\n",
      "Zdanie 6/65, wynik: 0.005076142131979695\n",
      "Zdanie 7/65, wynik: 0.0053475935828877\n",
      "Zdanie 8/65, wynik: 0.2\n",
      "Zdanie 9/65, wynik: 0.029411764705882353\n",
      "Zdanie 10/65, wynik: 0.058823529411764705\n",
      "Zdanie 11/65, wynik: 0.010752688172043012\n",
      "Zdanie 12/65, wynik: 0.03225806451612903\n",
      "Zdanie 13/65, wynik: 0.005988023952095809\n",
      "Zdanie 14/65, wynik: 0.3333333333333333\n",
      "Zdanie 15/65, wynik: 1.0\n",
      "Zdanie 16/65, wynik: 0.008\n",
      "Zdanie 17/65, wynik: 1.0\n",
      "Zdanie 18/65, wynik: 0.04\n",
      "Zdanie 19/65, wynik: 0.005434782608695652\n",
      "Zdanie 20/65, wynik: 0.5\n",
      "Zdanie 21/65, wynik: 0.5\n",
      "Zdanie 22/65, wynik: 1.0\n",
      "Zdanie 23/65, wynik: 0.1111111111111111\n",
      "Zdanie 24/65, wynik: 0.06666666666666667\n",
      "Zdanie 25/65, wynik: 1.0\n",
      "Zdanie 26/65, wynik: 1.0\n",
      "Zdanie 27/65, wynik: 1.0\n",
      "Zdanie 28/65, wynik: 1.0\n",
      "Zdanie 29/65, wynik: 0.08333333333333333\n",
      "Zdanie 30/65, wynik: 0.027777777777777776\n",
      "Zdanie 31/65, wynik: 0.125\n",
      "Zdanie 32/65, wynik: 0.058823529411764705\n",
      "Zdanie 33/65, wynik: 0.010101010101010102\n",
      "Zdanie 34/65, wynik: 0.0035460992907801418\n",
      "Zdanie 35/65, wynik: 0.05\n",
      "Zdanie 36/65, wynik: 1.0\n",
      "Zdanie 37/65, wynik: 1.0\n",
      "Zdanie 38/65, wynik: 1.0\n",
      "Zdanie 39/65, wynik: 0.007407407407407408\n",
      "Zdanie 40/65, wynik: 0.006711409395973154\n",
      "Zdanie 41/65, wynik: 0.006756756756756757\n",
      "Zdanie 42/65, wynik: 0.007194244604316547\n",
      "Zdanie 43/65, wynik: 0.5\n",
      "Zdanie 44/65, wynik: 0.25\n",
      "Zdanie 45/65, wynik: 0.3333333333333333\n",
      "Zdanie 46/65, wynik: 1.0\n",
      "Zdanie 47/65, wynik: 0.09090909090909091\n",
      "Zdanie 48/65, wynik: 0.05263157894736842\n",
      "Zdanie 49/65, wynik: 1.0\n",
      "Zdanie 50/65, wynik: 1.0\n",
      "Zdanie 51/65, wynik: 0.07692307692307693\n",
      "Zdanie 52/65, wynik: 0.5\n",
      "Zdanie 53/65, wynik: 1.0\n",
      "Zdanie 54/65, wynik: 0.3333333333333333\n",
      "Zdanie 55/65, wynik: 0.09090909090909091\n",
      "Zdanie 56/65, wynik: 0.012987012987012988\n",
      "Zdanie 57/65, wynik: 0.09090909090909091\n",
      "Zdanie 58/65, wynik: 0.030303030303030304\n",
      "Zdanie 59/65, wynik: 0.058823529411764705\n",
      "Zdanie 60/65, wynik: 1.0\n",
      "Zdanie 61/65, wynik: 1.0\n",
      "Zdanie 62/65, wynik: 1.0\n",
      "Zdanie 63/65, wynik: 1.0\n",
      "Zdanie 64/65, wynik: 0.0044444444444444444\n",
      "Zdanie 65/65, wynik: 0.006711409395973154\n",
      "\n",
      "Wynik całkowity: 0.35421766526545273\n"
     ]
    }
   ],
   "source": [
    "test()"
   ]
  },
  {
   "cell_type": "code",
   "execution_count": 66,
   "metadata": {
    "ExecuteTime": {
     "end_time": "2020-10-16T12:45:46.891828Z",
     "start_time": "2020-10-16T12:42:43.346341Z"
    }
   },
   "outputs": [],
   "source": [
    "BIGRAMS_DICT_2SUFIX = {}\n",
    "BIGRAMS_DICT_3SUFIX = {}\n",
    "with open('poleval_2grams.txt','r',encoding='UTF-8') as f:\n",
    "    for line in f:\n",
    "        n,s1,s2 = line.lower()[:-1].split(' ')\n",
    "        s1_2,s2_2 = s1[-2:], s2[-2:]\n",
    "        s1_3,s2_3 = s1[-3:], s2[-3:]\n",
    "        n = int(n)\n",
    "        if n >= 10:\n",
    "            if s1_2 not in BIGRAMS_DICT_2SUFIX:\n",
    "                BIGRAMS_DICT_2SUFIX[s1_2] = [[s2_2],[n]]\n",
    "            else:\n",
    "                BIGRAMS_DICT_2SUFIX[s1_2][0].append(s2_2)\n",
    "                BIGRAMS_DICT_2SUFIX[s1_2][1].append(n)\n",
    "            if s1_3 not in BIGRAMS_DICT_3SUFIX:\n",
    "                BIGRAMS_DICT_3SUFIX[s1_3] = [[s2_3],[n]]\n",
    "            else:\n",
    "                BIGRAMS_DICT_3SUFIX[s1_3][0].append(s2_3)\n",
    "                BIGRAMS_DICT_3SUFIX[s1_3][1].append(n)"
   ]
  },
  {
   "cell_type": "code",
   "execution_count": 67,
   "metadata": {
    "ExecuteTime": {
     "end_time": "2020-10-16T12:56:11.865821Z",
     "start_time": "2020-10-16T12:45:54.875426Z"
    }
   },
   "outputs": [],
   "source": [
    "TRIGRAMS_DICT_2SUFIX = {}\n",
    "TRIGRAMS_DICT_3SUFIX = {}\n",
    "with open('poleval_3grams.txt','r',encoding='UTF-8') as f:\n",
    "    for line in f:\n",
    "        line = line.lower()[:-1].split(' ')\n",
    "        if len(line) != 4:\n",
    "            continue\n",
    "        n,s1,s2,s3 = line\n",
    "        s1_2,s2_2,s3_2 = s1[-2:], s2[-2:], s3[-2:]\n",
    "        s1_3,s2_3,s3_3 = s1[-3:], s2[-3:], s3[-3:]\n",
    "        n = int(n)\n",
    "        if n >= 10:\n",
    "            if (s1_2,s2_2) not in TRIGRAMS_DICT_2SUFIX:\n",
    "                TRIGRAMS_DICT_2SUFIX[(s1_2,s2_2)] = [[s3_2],[n]]\n",
    "            else:\n",
    "                TRIGRAMS_DICT_2SUFIX[(s1_2,s2_2)][0].append(s3_2)\n",
    "                TRIGRAMS_DICT_2SUFIX[(s1_2,s2_2)][1].append(n)\n",
    "            if (s1_3,s2_3) not in TRIGRAMS_DICT_3SUFIX:\n",
    "                TRIGRAMS_DICT_3SUFIX[(s1_3,s2_3)] = [[s3_3],[n]]\n",
    "            else:\n",
    "                TRIGRAMS_DICT_3SUFIX[(s1_3,s2_3)][0].append(s3_3)\n",
    "                TRIGRAMS_DICT_3SUFIX[(s1_3,s2_3)][1].append(n)"
   ]
  },
  {
   "cell_type": "code",
   "execution_count": 68,
   "metadata": {
    "ExecuteTime": {
     "end_time": "2020-10-16T12:56:11.928531Z",
     "start_time": "2020-10-16T12:56:11.867698Z"
    }
   },
   "outputs": [],
   "source": [
    "def P_sfx(w,w1=None,w2=None):\n",
    "    N = 4000000\n",
    "    l1, l2, l3, l4, l5, l6, l7 = 0.05, 0.10, 0.60, 0.03, 0.05, 0.07, 0.10\n",
    "    pw,pww,pwww = 0,0,0\n",
    "    pwws2,pwws3,pwwws2,pwwws3= 0,0,0,0\n",
    "    \n",
    "    if w in BIGRAMS_DICT:\n",
    "        l,c = BIGRAMS_DICT[w]\n",
    "        s = sum(c)\n",
    "        pw = (s+1)/N\n",
    "    else:\n",
    "        pw = 1/N\n",
    "        \n",
    "    if w1 is not None:\n",
    "        ws2,w1s2 = w[-2:], w1[-2:]\n",
    "        ws3,w1s3 = w[-3:], w1[-3:]\n",
    "        \n",
    "        if w1 in BIGRAMS_DICT:\n",
    "            l,c = BIGRAMS_DICT[w1]\n",
    "            s = sum(c)\n",
    "            for i,w_ in enumerate(l):\n",
    "                if w_ == w:\n",
    "                    pww = c[i]/s\n",
    "                    \n",
    "        if w1s2 in BIGRAMS_DICT_2SUFIX:\n",
    "            l,c = BIGRAMS_DICT_2SUFIX[w1s2]\n",
    "            s = sum(c)\n",
    "            for i,w_ in enumerate(l):\n",
    "                if w_ == ws2:\n",
    "                    pww = c[i]/s\n",
    "                    \n",
    "        if w1s3 in BIGRAMS_DICT_3SUFIX:\n",
    "            l,c = BIGRAMS_DICT_3SUFIX[w1s3]\n",
    "            s = sum(c)\n",
    "            for i,w_ in enumerate(l):\n",
    "                if w_ == ws3:\n",
    "                    pww = c[i]/s\n",
    "                \n",
    "    if w2 is not None and w1 is not None:\n",
    "        ws2,w1s2,w2s2 = w[-2:], w1[-2:], w2[-2:]\n",
    "        ws3,w1s3,w2s3 = w[-3:], w1[-3:], w2[-3:]\n",
    "        if (w2,w1) in TRIGRAMS_DICT:\n",
    "            l,c = TRIGRAMS_DICT[(w2,w1)]\n",
    "            s = sum(c)\n",
    "            for i,w_ in enumerate(l):\n",
    "                if w_ == w:\n",
    "                    pww = c[i]/s\n",
    "        \n",
    "        if (w2s2,w1s2) in TRIGRAMS_DICT_2SUFIX:\n",
    "            l,c = TRIGRAMS_DICT_2SUFIX[(w2s2,w1s2)]\n",
    "            s = sum(c)\n",
    "            for i,w_ in enumerate(l):\n",
    "                if w_ == ws2:\n",
    "                    pww = c[i]/s\n",
    "                    \n",
    "        if (w2s3,w1s3) in TRIGRAMS_DICT_3SUFIX:\n",
    "            l,c = TRIGRAMS_DICT_3SUFIX[(w2s3,w1s3)]\n",
    "            s = sum(c)\n",
    "            for i,w_ in enumerate(l):\n",
    "                if w_ == ws3:\n",
    "                    pww = c[i]/s\n",
    "                    \n",
    "    \n",
    "    return l1*pw + l2*pww + l3*pwww + l4*pwws2 + l5*pwws3 + l6*pwwws2 + l7*pwwws3"
   ]
  },
  {
   "cell_type": "code",
   "execution_count": 69,
   "metadata": {
    "ExecuteTime": {
     "end_time": "2020-10-16T12:56:52.242528Z",
     "start_time": "2020-10-16T12:56:52.201628Z"
    }
   },
   "outputs": [],
   "source": [
    "def order_words_using_sfx(tokens):\n",
    "    results = []\n",
    "    tokens = [t.lower() for t in tokens]\n",
    "    for perm in permutations(tokens):\n",
    "        p = 1.0\n",
    "        p *= P_sfx(perm[0])\n",
    "        p *= P_sfx(perm[1], perm[0])\n",
    "        for i in range(2,len(tokens)):\n",
    "            p *= P_sfx(perm[i], perm[i-1], perm[i-2])\n",
    "        results.append((p,perm))\n",
    "    sorted_result = sorted(results,key=lambda e:e[0],reverse=True)\n",
    "    for i,(s,perm) in enumerate(sorted_result):\n",
    "        if compare_perms(tokens,perm):\n",
    "            return 1/(i+1)\n",
    "    return 0"
   ]
  },
  {
   "cell_type": "code",
   "execution_count": 70,
   "metadata": {
    "ExecuteTime": {
     "end_time": "2020-10-16T12:57:18.364610Z",
     "start_time": "2020-10-16T12:57:18.346661Z"
    }
   },
   "outputs": [],
   "source": [
    "def test_sfx():\n",
    "    sum_ = 0.0\n",
    "    N = len(ZDANIA)\n",
    "    ones = 0\n",
    "    for i,s in enumerate(ZDANIA):\n",
    "        score = order_words_using_sfx(s)\n",
    "        sum_ += score\n",
    "        if int(score) == 1:\n",
    "            ones+=1\n",
    "        print(f'Zdanie {i+1}/{N}, wynik: {score}')\n",
    "    print()\n",
    "    print(f'Wynik całkowity: {sum(res)/N}, ilość poprawnych wyników: {ones}/{N}')"
   ]
  },
  {
   "cell_type": "code",
   "execution_count": 71,
   "metadata": {
    "ExecuteTime": {
     "end_time": "2020-10-16T17:53:29.026386Z",
     "start_time": "2020-10-16T12:57:28.302372Z"
    }
   },
   "outputs": [
    {
     "name": "stdout",
     "output_type": "stream",
     "text": [
      "Zdanie 1/65, wynik: 0.003289473684210526\n",
      "Zdanie 2/65, wynik: 1.0\n",
      "Zdanie 3/65, wynik: 1.0\n",
      "Zdanie 4/65, wynik: 0.0007936507936507937\n",
      "Zdanie 5/65, wynik: 6.658676255160474e-05\n",
      "Zdanie 6/65, wynik: 0.0625\n",
      "Zdanie 7/65, wynik: 0.06666666666666667\n",
      "Zdanie 8/65, wynik: 0.0015037593984962407\n",
      "Zdanie 9/65, wynik: 1.0\n",
      "Zdanie 10/65, wynik: 0.03225806451612903\n",
      "Zdanie 11/65, wynik: 0.007692307692307693\n",
      "Zdanie 12/65, wynik: 0.02040816326530612\n",
      "Zdanie 13/65, wynik: 0.037037037037037035\n",
      "Zdanie 14/65, wynik: 0.003115264797507788\n",
      "Zdanie 15/65, wynik: 0.000998003992015968\n",
      "Zdanie 16/65, wynik: 0.007407407407407408\n",
      "Zdanie 17/65, wynik: 0.02127659574468085\n",
      "Zdanie 18/65, wynik: 0.004219409282700422\n",
      "Zdanie 19/65, wynik: 0.0010570824524312897\n",
      "Zdanie 20/65, wynik: 0.008695652173913044\n",
      "Zdanie 21/65, wynik: 0.006493506493506494\n",
      "Zdanie 22/65, wynik: 1.0\n",
      "Zdanie 23/65, wynik: 0.0026595744680851063\n",
      "Zdanie 24/65, wynik: 0.0031545741324921135\n",
      "Zdanie 25/65, wynik: 0.004201680672268907\n",
      "Zdanie 26/65, wynik: 0.09090909090909091\n",
      "Zdanie 27/65, wynik: 0.02\n",
      "Zdanie 28/65, wynik: 0.0072992700729927005\n",
      "Zdanie 29/65, wynik: 0.034482758620689655\n",
      "Zdanie 30/65, wynik: 0.03225806451612903\n",
      "Zdanie 31/65, wynik: 1.0\n",
      "Zdanie 32/65, wynik: 0.2\n",
      "Zdanie 33/65, wynik: 0.0030864197530864196\n",
      "Zdanie 34/65, wynik: 0.003401360544217687\n",
      "Zdanie 35/65, wynik: 0.002398081534772182\n",
      "Zdanie 36/65, wynik: 0.011235955056179775\n",
      "Zdanie 37/65, wynik: 0.012345679012345678\n",
      "Zdanie 38/65, wynik: 0.0026041666666666665\n",
      "Zdanie 39/65, wynik: 0.0015174506828528073\n",
      "Zdanie 40/65, wynik: 0.0004166666666666667\n",
      "Zdanie 41/65, wynik: 0.0028653295128939827\n",
      "Zdanie 42/65, wynik: 0.00010277492291880781\n",
      "Zdanie 43/65, wynik: 0.0029239766081871343\n",
      "Zdanie 44/65, wynik: 1.0\n",
      "Zdanie 45/65, wynik: 1.0\n",
      "Zdanie 46/65, wynik: 0.16666666666666666\n",
      "Zdanie 47/65, wynik: 0.00510204081632653\n",
      "Zdanie 48/65, wynik: 0.015151515151515152\n",
      "Zdanie 49/65, wynik: 0.3333333333333333\n",
      "Zdanie 50/65, wynik: 0.5\n",
      "Zdanie 51/65, wynik: 0.029411764705882353\n",
      "Zdanie 52/65, wynik: 0.012987012987012988\n",
      "Zdanie 53/65, wynik: 1.0\n",
      "Zdanie 54/65, wynik: 0.02564102564102564\n",
      "Zdanie 55/65, wynik: 0.047619047619047616\n",
      "Zdanie 56/65, wynik: 0.5\n",
      "Zdanie 57/65, wynik: 0.0034482758620689655\n",
      "Zdanie 58/65, wynik: 5.506607929515419e-05\n",
      "Zdanie 59/65, wynik: 0.0016891891891891893\n",
      "Zdanie 60/65, wynik: 0.2\n",
      "Zdanie 61/65, wynik: 0.06666666666666667\n",
      "Zdanie 62/65, wynik: 0.010752688172043012\n",
      "Zdanie 63/65, wynik: 0.008695652173913044\n",
      "Zdanie 64/65, wynik: 0.00423728813559322\n",
      "Zdanie 65/65, wynik: 0.0030864197530864196\n",
      "\n"
     ]
    },
    {
     "ename": "TypeError",
     "evalue": "unsupported operand type(s) for +: 'int' and 'tuple'",
     "output_type": "error",
     "traceback": [
      "\u001b[1;31m---------------------------------------------------------------------------\u001b[0m",
      "\u001b[1;31mTypeError\u001b[0m                                 Traceback (most recent call last)",
      "\u001b[1;32m<ipython-input-71-7f8acb254020>\u001b[0m in \u001b[0;36m<module>\u001b[1;34m\u001b[0m\n\u001b[1;32m----> 1\u001b[1;33m \u001b[0mtest_sfx\u001b[0m\u001b[1;33m(\u001b[0m\u001b[1;33m)\u001b[0m\u001b[1;33m\u001b[0m\u001b[1;33m\u001b[0m\u001b[0m\n\u001b[0m",
      "\u001b[1;32m<ipython-input-70-c891ac9ae8c8>\u001b[0m in \u001b[0;36mtest_sfx\u001b[1;34m()\u001b[0m\n\u001b[0;32m     10\u001b[0m         \u001b[0mprint\u001b[0m\u001b[1;33m(\u001b[0m\u001b[1;34mf'Zdanie {i+1}/{N}, wynik: {score}'\u001b[0m\u001b[1;33m)\u001b[0m\u001b[1;33m\u001b[0m\u001b[1;33m\u001b[0m\u001b[0m\n\u001b[0;32m     11\u001b[0m     \u001b[0mprint\u001b[0m\u001b[1;33m(\u001b[0m\u001b[1;33m)\u001b[0m\u001b[1;33m\u001b[0m\u001b[1;33m\u001b[0m\u001b[0m\n\u001b[1;32m---> 12\u001b[1;33m     \u001b[0mprint\u001b[0m\u001b[1;33m(\u001b[0m\u001b[1;34mf'Wynik całkowity: {sum(res)/N}, ilość poprawnych wyników: {ones}/{N}'\u001b[0m\u001b[1;33m)\u001b[0m\u001b[1;33m\u001b[0m\u001b[1;33m\u001b[0m\u001b[0m\n\u001b[0m",
      "\u001b[1;31mTypeError\u001b[0m: unsupported operand type(s) for +: 'int' and 'tuple'"
     ]
    }
   ],
   "source": [
    "test_sfx()"
   ]
  },
  {
   "cell_type": "markdown",
   "metadata": {},
   "source": [
    "----"
   ]
  },
  {
   "cell_type": "code",
   "execution_count": 2,
   "metadata": {
    "ExecuteTime": {
     "end_time": "2020-10-14T15:24:01.824487Z",
     "start_time": "2020-10-14T15:23:58.649950Z"
    }
   },
   "outputs": [
    {
     "name": "stderr",
     "output_type": "stream",
     "text": [
      "Loading: 100%|████████████████████████████████████████████████████████| 2225192/2225192 [00:02<00:00, 823056.66bytes/s]\n"
     ]
    }
   ],
   "source": [
    "stemmer = StempelStemmer.default()"
   ]
  },
  {
   "cell_type": "code",
   "execution_count": 5,
   "metadata": {
    "ExecuteTime": {
     "end_time": "2020-10-14T15:24:15.041384Z",
     "start_time": "2020-10-14T15:24:15.018439Z"
    }
   },
   "outputs": [],
   "source": [
    "BIGRAMS_DICT_STEMMER = {}"
   ]
  },
  {
   "cell_type": "code",
   "execution_count": 6,
   "metadata": {
    "ExecuteTime": {
     "end_time": "2020-10-14T15:25:05.200009Z",
     "start_time": "2020-10-14T15:24:15.764755Z"
    }
   },
   "outputs": [],
   "source": [
    "with open('poleval_2grams.txt','r',encoding='UTF-8') as f:\n",
    "    for _ in range(1000000):\n",
    "        n,s1,s2 = f.readline().lower()[:-1].split(' ')\n",
    "        n = int(n)\n",
    "        s1,s2 = stemmer.stem(s1), stemmer.stem(s2)\n",
    "        if s1 not in BIGRAMS_DICT_STEMMER:\n",
    "            BIGRAMS_DICT_STEMMER[s1] = [[s2],[n]]\n",
    "        else:\n",
    "            BIGRAMS_DICT_STEMMER[s1][0].append(s2)\n",
    "            BIGRAMS_DICT_STEMMER[s1][1].append(n)"
   ]
  },
  {
   "cell_type": "code",
   "execution_count": 7,
   "metadata": {
    "ExecuteTime": {
     "end_time": "2020-10-14T15:25:07.790720Z",
     "start_time": "2020-10-14T15:25:07.772803Z"
    }
   },
   "outputs": [],
   "source": [
    "TRIGRAMS_DICT_STEMMER = {}"
   ]
  },
  {
   "cell_type": "code",
   "execution_count": 8,
   "metadata": {
    "ExecuteTime": {
     "end_time": "2020-10-14T15:26:18.200556Z",
     "start_time": "2020-10-14T15:25:12.182422Z"
    }
   },
   "outputs": [],
   "source": [
    "with open('poleval_3grams.txt','r',encoding='UTF-8') as f:\n",
    "    for _ in range(1000000):\n",
    "        try: \n",
    "            n,s1,s2,s3 = f.readline().lower()[:-1].split(' ')\n",
    "            s1, s2, s3 = stemmer.stem(s1), stemmer.stem(s2), stemmer.stem(s3)\n",
    "            n = int(n)\n",
    "            if (s1,s2) not in TRIGRAMS_DICT_STEMMER:\n",
    "                TRIGRAMS_DICT_STEMMER[(s1,s2)] = [[s3],[n]]\n",
    "            else:\n",
    "                TRIGRAMS_DICT_STEMMER[(s1,s2)][0].append(s3)\n",
    "                TRIGRAMS_DICT_STEMMER[(s1,s2)][1].append(n)\n",
    "        except:\n",
    "            pass"
   ]
  },
  {
   "cell_type": "code",
   "execution_count": 20,
   "metadata": {
    "ExecuteTime": {
     "end_time": "2020-10-14T15:36:38.970496Z",
     "start_time": "2020-10-14T15:36:38.616992Z"
    }
   },
   "outputs": [],
   "source": [
    "BIGRAMS_DICT_2_SUFIX = {}\n",
    "BIGRAMS_DICT_3_SUFIX = {}"
   ]
  },
  {
   "cell_type": "code",
   "execution_count": 21,
   "metadata": {
    "ExecuteTime": {
     "end_time": "2020-10-14T15:36:43.562620Z",
     "start_time": "2020-10-14T15:36:39.534487Z"
    }
   },
   "outputs": [],
   "source": [
    "with open('poleval_2grams.txt','r',encoding='UTF-8') as f:\n",
    "    for _ in range(1000000):\n",
    "        n,o_s1,o_s2 = f.readline().lower()[:-1].split(' ')\n",
    "        n = int(n)\n",
    "        s1,s2 = o_s1[-3:],o_s2[-3:]\n",
    "        if s1 not in BIGRAMS_DICT_3_SUFIX:\n",
    "            BIGRAMS_DICT_3_SUFIX[s1] = [[s2],[n]]\n",
    "        else:\n",
    "            BIGRAMS_DICT_3_SUFIX[s1][0].append(s2)\n",
    "            BIGRAMS_DICT_3_SUFIX[s1][1].append(n)\n",
    "        s1,s2 = o_s1[-2:],o_s2[-2:]\n",
    "        if s1 not in BIGRAMS_DICT_2_SUFIX:\n",
    "            BIGRAMS_DICT_2_SUFIX[s1] = [[s2],[n]]\n",
    "        else:\n",
    "            BIGRAMS_DICT_2_SUFIX[s1][0].append(s2)\n",
    "            BIGRAMS_DICT_2_SUFIX[s1][1].append(n)"
   ]
  },
  {
   "cell_type": "code",
   "execution_count": 27,
   "metadata": {
    "ExecuteTime": {
     "end_time": "2020-10-14T15:39:56.298698Z",
     "start_time": "2020-10-14T15:39:56.279749Z"
    }
   },
   "outputs": [],
   "source": [
    "TRIGRAMS_DICT_2_SUFIX = {}\n",
    "TRIGRAMS_DICT_3_SUFIX = {}"
   ]
  },
  {
   "cell_type": "code",
   "execution_count": 28,
   "metadata": {
    "ExecuteTime": {
     "end_time": "2020-10-14T15:40:06.685087Z",
     "start_time": "2020-10-14T15:39:56.482256Z"
    }
   },
   "outputs": [],
   "source": [
    "with open('poleval_3grams.txt','r',encoding='UTF-8') as f:\n",
    "    for _ in range(1000000):\n",
    "        try: \n",
    "            n,o_s1,o_s2,o_s3 = f.readline().lower()[:-1].split(' ')\n",
    "            n = int(n)\n",
    "            s1, s2, s3 = o_s1[-2:], o_s2[-2:], o_s3[-2:]\n",
    "            if (s1,s2) not in TRIGRAMS_DICT_2_SUFIX:\n",
    "                TRIGRAMS_DICT_2_SUFIX[(s1,s2)] = [[s3],[n]]\n",
    "            else:\n",
    "                TRIGRAMS_DICT_2_SUFIX[(s1,s2)][0].append(s3)\n",
    "                TRIGRAMS_DICT_2_SUFIX[(s1,s2)][1].append(n)\n",
    "            s1, s2, s3 = o_s1[-3:], o_s2[-3:], o_s3[-3:]\n",
    "            if (s1,s2) not in TRIGRAMS_DICT_3_SUFIX:\n",
    "                TRIGRAMS_DICT_3_SUFIX[(s1,s2)] = [[s3],[n]]\n",
    "            else:\n",
    "                TRIGRAMS_DICT_3_SUFIX[(s1,s2)][0].append(s3)\n",
    "                TRIGRAMS_DICT_3_SUFIX[(s1,s2)][1].append(n)\n",
    "        except:\n",
    "            pass"
   ]
  },
  {
   "cell_type": "code",
   "execution_count": 43,
   "metadata": {
    "ExecuteTime": {
     "end_time": "2020-10-14T15:58:38.034283Z",
     "start_time": "2020-10-14T15:58:37.984400Z"
    }
   },
   "outputs": [],
   "source": [
    "def order_words_but_better(tokens):\n",
    "    results = []\n",
    "    tokens = [t.lower() for t in tokens]\n",
    "    for perm in permutations(tokens):\n",
    "        s = 0.0\n",
    "        for i in range(1,len(tokens)):\n",
    "            if perm[i-1] in BIGRAMS_DICT:\n",
    "                l,w = BIGRAMS_DICT[perm[i-1]]\n",
    "                if perm[i] in l:\n",
    "                    s += w[l.index(perm[i])]/sum(w)\n",
    "            if stemmer.stem(perm[i-1]) in BIGRAMS_DICT_STEMMER:\n",
    "                l,w = BIGRAMS_DICT_STEMMER[stemmer.stem(perm[i-1])]\n",
    "                if stemmer.stem(perm[i]) in l:\n",
    "                    s += (w[l.index(stemmer.stem(perm[i]))]/sum(w))/2\n",
    "            if perm[i-1][-2:] in BIGRAMS_DICT_2_SUFIX:\n",
    "                l,w = BIGRAMS_DICT_2_SUFIX[perm[i-1][-2:]]\n",
    "                if perm[i][-2:] in l:\n",
    "                    s += (w[l.index(perm[i][-2:])]/sum(w))/2\n",
    "            if perm[i-1][-3:] in BIGRAMS_DICT_3_SUFIX:\n",
    "                l,w = BIGRAMS_DICT_3_SUFIX[perm[i-1][-3:]]\n",
    "                if perm[i][-3:] in l:\n",
    "                    s += (w[l.index(perm[i][-3:])]/sum(w))/2\n",
    "            if i>1:\n",
    "                if (perm[i-2],perm[i-1]) in TRIGRAMS_DICT:\n",
    "                    l,w = TRIGRAMS_DICT[(perm[i-2],perm[i-1])]\n",
    "                    if perm[i] in l:\n",
    "                        s += w[l.index(perm[i])]/sum(w)\n",
    "                if (stemmer.stem(perm[i-2]),stemmer.stem(perm[i-1])) in TRIGRAMS_DICT_STEMMER:\n",
    "                    l,w = TRIGRAMS_DICT_STEMMER[(stemmer.stem(perm[i-2]),stemmer.stem(perm[i-1]))]\n",
    "                    if stemmer.stem(perm[i]) in l:\n",
    "                        s += (w[l.index(stemmer.stem(perm[i]))]/sum(w))/2\n",
    "                if (perm[i-2][-2:],perm[i-1][-2:]) in TRIGRAMS_DICT_2_SUFIX:\n",
    "                    l,w = TRIGRAMS_DICT_2_SUFIX[(perm[i-2][-2:],perm[i-1][-2:])]\n",
    "                    if perm[i][-2:] in l:\n",
    "                        s += (w[l.index(perm[i][-2:])]/sum(w))/2\n",
    "                if (perm[i-2][-3:],perm[i-1][-3:]) in TRIGRAMS_DICT_3_SUFIX:\n",
    "                    l,w = TRIGRAMS_DICT_3_SUFIX[(perm[i-2][-3:],perm[i-1][-3:])]\n",
    "                    if perm[i][-3:] in l:\n",
    "                        s += (w[l.index(perm[i][-3:])]/sum(w))/2\n",
    "        results.append((s,perm))\n",
    "    return sorted(results,key=lambda e:e[0],reverse=True)"
   ]
  },
  {
   "cell_type": "code",
   "execution_count": 44,
   "metadata": {
    "ExecuteTime": {
     "end_time": "2020-10-14T15:59:41.586365Z",
     "start_time": "2020-10-14T15:58:44.364434Z"
    }
   },
   "outputs": [
    {
     "name": "stdout",
     "output_type": "stream",
     "text": [
      "książkę ala oddać zgubiła , którą miała score:  0.33497132014208153\n",
      "książkę zgubiła oddać ala , którą miała score:  0.322834137808634\n",
      "ala zgubiła książkę oddać , którą miała score:  0.321020113508275\n",
      "książkę oddać , którą miała zgubiła ala score:  0.3188597137202247\n",
      "zgubiła , którą miała książkę ala oddać score:  0.3164483244317874\n",
      "oddać książkę ala zgubiła , którą miała score:  0.31564225804834806\n",
      "ala oddać książkę zgubiła , którą miała score:  0.3152339917163484\n",
      "książkę oddać , którą miała ala zgubiła score:  0.31387725636541786\n",
      "zgubiła ala książkę oddać , którą miała score:  0.31253120191506023\n",
      "ala książkę oddać , którą miała zgubiła score:  0.3124376787334385\n"
     ]
    }
   ],
   "source": [
    "tokens = ['ala', 'zgubiła', 'książkę', ',', 'którą', 'miała','oddać']\n",
    "res = order_words_but_better(tokens)\n",
    "for s,r in res[:10]:\n",
    "    print(' '.join(r), 'score: ',s)"
   ]
  },
  {
   "cell_type": "code",
   "execution_count": 45,
   "metadata": {
    "ExecuteTime": {
     "end_time": "2020-10-14T15:59:45.568487Z",
     "start_time": "2020-10-14T15:59:41.588358Z"
    }
   },
   "outputs": [
    {
     "name": "stdout",
     "output_type": "stream",
     "text": [
      "kto dzisiaj w seniorskiej reprezentacji wystąpi score:  2.0641580647563726\n",
      "wystąpi kto dzisiaj w seniorskiej reprezentacji score:  2.0641425003749823\n",
      "wystąpi w seniorskiej reprezentacji kto dzisiaj score:  1.7443293409122453\n",
      "kto dzisiaj wystąpi w seniorskiej reprezentacji score:  1.7438482669444697\n",
      "w seniorskiej reprezentacji kto dzisiaj wystąpi score:  1.741568492863071\n",
      "w seniorskiej reprezentacji wystąpi kto dzisiaj score:  1.7411029832766858\n",
      "dzisiaj w seniorskiej reprezentacji kto wystąpi score:  1.734526040702029\n",
      "wystąpi dzisiaj w seniorskiej reprezentacji kto score:  1.7345177262148666\n",
      "dzisiaj w seniorskiej reprezentacji wystąpi kto score:  1.7340522166284813\n",
      "kto wystąpi dzisiaj w seniorskiej reprezentacji score:  1.7340449667342535\n",
      "dzisiaj wystąpi w seniorskiej reprezentacji kto score:  1.7302612286334107\n",
      "wystąpi w seniorskiej reprezentacji dzisiaj kto score:  1.729932742889174\n",
      "dzisiaj kto wystąpi w seniorskiej reprezentacji score:  1.729925492994946\n",
      "kto wystąpi w seniorskiej reprezentacji dzisiaj score:  1.7298040335341878\n",
      "dzisiaj kto w seniorskiej reprezentacji wystąpi score:  1.729412352184305\n",
      "wystąpi dzisiaj kto w seniorskiej reprezentacji score:  1.7293967878029146\n",
      "kto w seniorskiej reprezentacji dzisiaj wystąpi score:  1.7292753283421565\n",
      "kto w seniorskiej reprezentacji wystąpi dzisiaj score:  1.7292753283421565\n",
      "wystąpi kto w seniorskiej reprezentacji dzisiaj score:  1.7292753283421565\n",
      "dzisiaj wystąpi kto w seniorskiej reprezentacji score:  1.729259763960766\n"
     ]
    }
   ],
   "source": [
    "tokens = ['kto', 'w', 'seniorskiej', 'reprezentacji', 'dzisiaj', 'wystąpi']\n",
    "res = order_words_but_better(tokens)\n",
    "for s,r in res[:20]:\n",
    "    print(' '.join(r), 'score: ',s)"
   ]
  },
  {
   "cell_type": "code",
   "execution_count": null,
   "metadata": {},
   "outputs": [],
   "source": []
  }
 ],
 "metadata": {
  "kernelspec": {
   "display_name": "Python 3",
   "language": "python",
   "name": "python3"
  },
  "language_info": {
   "codemirror_mode": {
    "name": "ipython",
    "version": 3
   },
   "file_extension": ".py",
   "mimetype": "text/x-python",
   "name": "python",
   "nbconvert_exporter": "python",
   "pygments_lexer": "ipython3",
   "version": "3.7.6"
  },
  "toc": {
   "base_numbering": 1,
   "nav_menu": {},
   "number_sections": true,
   "sideBar": true,
   "skip_h1_title": false,
   "title_cell": "Table of Contents",
   "title_sidebar": "Contents",
   "toc_cell": false,
   "toc_position": {},
   "toc_section_display": true,
   "toc_window_display": false
  }
 },
 "nbformat": 4,
 "nbformat_minor": 4
}
