{
 "cells": [
  {
   "cell_type": "markdown",
   "metadata": {},
   "source": [
    "Rafał Nowak\n",
    "# Numerical Optimization\n",
    "## Problem set 1 (20 points)\n",
    "\n",
    "**Submission deadline**: Tuesday, 29.10.2020\n",
    "\n",
    "* All submissions should contain single file.<br/>This can be single Jupyter notebook file (with extension `ipynb`) or ZIP archive in case the are some additional files needed.\n",
    "* It is recommended to write the reports using LaTeX. \n",
    "* One can report the answers, comments and results in PDF or notebook file.\n",
    "* All the source code should be written in Python or Julia."
   ]
  },
  {
   "cell_type": "markdown",
   "metadata": {},
   "source": [
    "Mateusz Markiewicz, 298653"
   ]
  },
  {
   "cell_type": "code",
   "execution_count": 1,
   "metadata": {
    "ExecuteTime": {
     "end_time": "2020-11-02T19:38:16.953032Z",
     "start_time": "2020-11-02T19:38:16.316287Z"
    }
   },
   "outputs": [],
   "source": [
    "import numpy as np\n",
    "import numpy.linalg as npl\n",
    "from numpy.linalg import inv\n",
    "import matplotlib.pyplot as plt\n",
    "from mpl_toolkits.mplot3d import Axes3D\n",
    "import time\n",
    "from scipy.linalg import hilbert"
   ]
  },
  {
   "cell_type": "markdown",
   "metadata": {},
   "source": [
    "### **Problem 1.1 (5 pts)**\n",
    "\n",
    "In this problem you are going to solve the system of linear equations $Ax=b$, where $A\\in \\mathbb R^{n\\times n}$, $b\\in\\mathbb R^n$ are given.\n",
    "\n",
    "1. Implement the [Gauss elimination algorithm](https://www.wikiwand.com/en/Gaussian_elimination) that solves the system $Ax=b$. \n",
    "> `x = solve(A,b)`\n",
    "2. Test your algorithm with built-in solver (see [`\\`](https://docs.julialang.org/en/v1/stdlib/LinearAlgebra/#Base.:\\-Tuple{AbstractArray{T,2}%20where%20T,Union{AbstractArray{T,1},%20AbstractArray{T,2}}%20where%20T}) in Julia for example).<br/>\n",
    "One can perform the tests by taking $b := Ax$ for somehow generated vector (solution) $x\\in\\mathbb R^n$.\n",
    "3. Experiment with different kind of matrices $A$: symmetric, (2,3-)diagonal, Hilbert, positive definite, ..., "
   ]
  },
  {
   "cell_type": "markdown",
   "metadata": {},
   "source": [
    "#### Gauss elimination algorithm\n",
    "A simple implementation of the Gauss elimination algorithm. \n",
    "Given:\n",
    "$$\\\\A = \n",
    "\\begin{bmatrix}\n",
    "    A_{1,1} & A_{1,2} & A_{1,3} & \\dots  & A_{1,n} \\\\\n",
    "    A_{2,1} & A_{2,2} & A_{2,3} & \\dots  & A_{2,n} \\\\\n",
    "    \\vdots & \\vdots & \\vdots & \\ddots & \\vdots \\\\\n",
    "    A_{n,1} & A_{n,2} & A_{n,3} & \\dots  & A_{n,n} \\\\\n",
    "\\end{bmatrix}\n",
    "\\\\\n",
    "$$\n",
    "\n",
    "$$b = \n",
    "\\begin{bmatrix}\n",
    "    b_{1}\\\\\n",
    "    b_{2}\\\\\n",
    "    \\vdots \\\\\n",
    "    b_{n}\\\\\n",
    "\\end{bmatrix}\n",
    "$$\n",
    "\n",
    "the algorithm goes as follow:\n",
    "* create [A,b] matrix\n",
    "* from i-th row subtract $\\frac{A_{i,1}}{A_{1,1}}$ times first row\n",
    "* as a results we get:\n",
    "\n",
    "$$\\\\\n",
    "\\begin{bmatrix}\n",
    "    A_{1,1} & A_{1,2} & A_{1,3} & \\dots  & A_{1,n} & b_{1} \\\\\n",
    "    0 & A'_{2,2} & A'_{2,3} & \\dots  & A'_{2,n} & b'_{2} \\\\\n",
    "    \\vdots & \\vdots & \\vdots & \\ddots & \\vdots & \\vdots \\\\\n",
    "    0 & A'_{n,2} & A'_{n,3} & \\dots  & A'_{n,n} & b'_{n} \\\\\n",
    "\\end{bmatrix}\n",
    "\\\\\n",
    "$$\n",
    "* now we can repeat this process for matrix A without the first column and row, and finally we get:\n",
    "\n",
    "$$\\\\\n",
    "\\begin{bmatrix}\n",
    "    A_{1,1} & A_{1,2} & A_{1,3} & \\dots  & A_{1,n} & b_{1} \\\\\n",
    "    0 & A''_{2,2} & A''_{2,3} & \\dots  & A''_{2,n} & b''_{2} \\\\\n",
    "    0 & 0 & A''_{3,3} & \\dots  & A''_{2,n} & b''_{2} \\\\\n",
    "    \\vdots & \\vdots & \\vdots & \\ddots & \\vdots & \\vdots \\\\\n",
    "    0 & 0 & 0 & \\dots  & A''_{n,n} & b''_{n} \\\\\n",
    "\\end{bmatrix}\n",
    "\\\\\n",
    "$$\n",
    "\n",
    "Now we have to solve the system of linear equations with upper-triangular matrix A.\n",
    "* $x_n$ is equal to $\\frac{b''_n}{A''_{n,n}}$\n",
    "* from i-th row we subtract $\\frac{A_{i,n}}{A_{n,n}}$ times n-th row\n",
    "* repeat this process starting from n - i-th row\n",
    "* as a result we get\n",
    "\n",
    "$$\\\\\n",
    "\\begin{bmatrix}\n",
    "    1 & 0 & 0 & \\dots  & 0 & b'''_{1} \\\\\n",
    "    0 & 1 & 0 & \\dots  & 0 & b'''_{2} \\\\\n",
    "    0 & 0 & 1 & \\dots  & 0 & b'''_{2} \\\\\n",
    "    \\vdots & \\vdots & \\vdots & \\ddots & \\vdots & \\vdots \\\\\n",
    "    0 & 0 & 0 & \\dots  & 1 & b'''_{n} \\\\\n",
    "\\end{bmatrix}\n",
    "\\\\\n",
    "$$\n",
    "\n",
    "and as we can see our last column is equal to x vector."
   ]
  },
  {
   "cell_type": "code",
   "execution_count": 22,
   "metadata": {
    "ExecuteTime": {
     "end_time": "2020-10-21T13:34:18.491124Z",
     "start_time": "2020-10-21T13:34:18.468154Z"
    }
   },
   "outputs": [],
   "source": [
    "def solve(A,b):\n",
    "    n = A.shape[0]\n",
    "    A = np.hstack((A,b.reshape(n,1))).astype(np.float64)\n",
    "    for i in range(n-1):\n",
    "        if A[i][i] == 0:\n",
    "            k = np.argmax(A[i:,i])\n",
    "            assert A[k][i] != 0\n",
    "            A[i],A[k] = np.copy(A[k]), np.copy(A[i])\n",
    "        for j in range(i+1,n):\n",
    "            a = A[j][i]/A[i][i]\n",
    "            A[j] -= a*A[i]\n",
    "    for i in range(n-1,-1,-1):\n",
    "        assert A[i][i] != 0\n",
    "        A[i] /= A[i][i]\n",
    "        for j in range(i):\n",
    "            A[j] -= A[j][i]*A[i]\n",
    "    return A[:,-1]"
   ]
  },
  {
   "cell_type": "markdown",
   "metadata": {},
   "source": [
    "### Tests\n",
    "I'll compare my implementation with numpy.linalg.solve"
   ]
  },
  {
   "cell_type": "markdown",
   "metadata": {},
   "source": [
    "##### Simple tests:\n",
    "\n",
    "(from https://www.matesfacil.com/english/high/solving-systems-by-Gaussian-Elimination.html website)"
   ]
  },
  {
   "cell_type": "code",
   "execution_count": 23,
   "metadata": {
    "ExecuteTime": {
     "end_time": "2020-10-21T13:34:19.410579Z",
     "start_time": "2020-10-21T13:34:19.394601Z"
    }
   },
   "outputs": [
    {
     "name": "stdout",
     "output_type": "stream",
     "text": [
      "A matrix:\n",
      "[[ 5  2]\n",
      " [-3  3]]\n",
      "b vector:\n",
      "[ 3 15]\n",
      "My solution: [-1.  4.], numpy solution: [-1.  4.]\n"
     ]
    }
   ],
   "source": [
    "A = np.array([[5,2],[-3,3]])\n",
    "b = np.array([3,15])\n",
    "x1 = solve(A,b)\n",
    "x2 = npl.solve(A,b)\n",
    "print(f'A matrix:\\n{A}\\nb vector:\\n{b}\\nMy solution: {x1}, numpy solution: {x2}')"
   ]
  },
  {
   "cell_type": "code",
   "execution_count": 24,
   "metadata": {
    "ExecuteTime": {
     "end_time": "2020-10-21T13:34:19.828948Z",
     "start_time": "2020-10-21T13:34:19.813989Z"
    }
   },
   "outputs": [
    {
     "name": "stdout",
     "output_type": "stream",
     "text": [
      "A matrix:\n",
      "[[ 5  2  0]\n",
      " [ 2  1 -1]\n",
      " [ 2  3 -1]]\n",
      "b vector:\n",
      "[2 0 3]\n",
      "My solution: [-0.2  1.5  1.1], numpy solution: [-0.2  1.5  1.1]\n"
     ]
    }
   ],
   "source": [
    "A = np.array([[5,2,0],[2,1,-1],[2,3,-1]])\n",
    "b = np.array([2,0,3])\n",
    "x1 = solve(A,b)\n",
    "x2 = npl.solve(A,b)\n",
    "print(f'A matrix:\\n{A}\\nb vector:\\n{b}\\nMy solution: {x1}, numpy solution: {x2}')"
   ]
  },
  {
   "cell_type": "code",
   "execution_count": 25,
   "metadata": {
    "ExecuteTime": {
     "end_time": "2020-10-21T13:34:20.310359Z",
     "start_time": "2020-10-21T13:34:20.296398Z"
    }
   },
   "outputs": [
    {
     "name": "stdout",
     "output_type": "stream",
     "text": [
      "A matrix:\n",
      "[[ 1  2 -3 -1]\n",
      " [ 0 -3  2  6]\n",
      " [-3 -1  3  1]\n",
      " [ 2  3  2 -1]]\n",
      "b vector:\n",
      "[ 0 -8  0 -8]\n",
      "My solution: [-1. -2. -1. -2.], numpy solution: [-1. -2. -1. -2.]\n"
     ]
    }
   ],
   "source": [
    "A = np.array([[1,2,-3,-1],[0,-3,2,6],[-3,-1,3,1],[2,3,2,-1]])\n",
    "b = np.array([0,-8,0,-8])\n",
    "x1 = solve(A,b)\n",
    "x2 = npl.solve(A,b)\n",
    "print(f'A matrix:\\n{A}\\nb vector:\\n{b}\\nMy solution: {x1}, numpy solution: {x2}')"
   ]
  },
  {
   "cell_type": "code",
   "execution_count": 26,
   "metadata": {
    "ExecuteTime": {
     "end_time": "2020-10-21T13:34:20.790913Z",
     "start_time": "2020-10-21T13:34:20.778945Z"
    }
   },
   "outputs": [
    {
     "name": "stdout",
     "output_type": "stream",
     "text": [
      "A matrix:\n",
      "[[0 1 0 0]\n",
      " [1 0 0 0]\n",
      " [0 0 1 0]\n",
      " [0 0 0 1]]\n",
      "b vector:\n",
      "[1 2 3 4]\n",
      "My solution: [2. 1. 3. 4.], numpy solution: [2. 1. 3. 4.]\n"
     ]
    }
   ],
   "source": [
    "A = np.array([[0,1,0,0],[1,0,0,0],[0,0,1,0],[0,0,0,1]])\n",
    "b = np.array([1,2,3,4])\n",
    "x1 = solve(A,b)\n",
    "x2 = npl.solve(A,b)\n",
    "print(f'A matrix:\\n{A}\\nb vector:\\n{b}\\nMy solution: {x1}, numpy solution: {x2}')"
   ]
  },
  {
   "cell_type": "markdown",
   "metadata": {},
   "source": [
    "##### Random matrix"
   ]
  },
  {
   "cell_type": "code",
   "execution_count": 27,
   "metadata": {
    "ExecuteTime": {
     "end_time": "2020-10-21T13:34:24.445664Z",
     "start_time": "2020-10-21T13:34:23.314742Z"
    }
   },
   "outputs": [
    {
     "name": "stdout",
     "output_type": "stream",
     "text": [
      "N: 100, time of my computations: 0.05286, time of numpy computations: 0.98006,\n",
      "solve(A,b) == numpy.linalg.solve(A,b): True\n",
      "MSE: 1.6423659950195984e-24\n"
     ]
    }
   ],
   "source": [
    "A = np.random.randint(-1000,1000,(100,100))\n",
    "b = np.random.randint(-1000,1000,(100,1))\n",
    "t0 = time.time()\n",
    "x1 = solve(A,b)\n",
    "t0 = np.round(time.time()-t0,5)\n",
    "t1 = time.time()\n",
    "x2 = npl.solve(A,b).reshape(100,)\n",
    "t1 = np.round(time.time()-t1,5)\n",
    "MSE = np.mean((x1-x2)**2)\n",
    "print(f'N: {A.shape[0]}, time of my computations: {t0}, time of numpy computations: {t1},\\\n",
    "\\nsolve(A,b) == numpy.linalg.solve(A,b): {np.allclose(x1,x2)}\\nMSE: {MSE}')\n"
   ]
  },
  {
   "cell_type": "code",
   "execution_count": 28,
   "metadata": {
    "ExecuteTime": {
     "end_time": "2020-10-21T13:34:34.917338Z",
     "start_time": "2020-10-21T13:34:26.275987Z"
    }
   },
   "outputs": [
    {
     "name": "stdout",
     "output_type": "stream",
     "text": [
      "N: 1000, time of my computations: 8.36699, time of numpy computations: 0.23347,\n",
      "solve(A,b) == numpy.linalg.solve(A,b): True\n",
      "MSE: 2.767129709549145e-20\n"
     ]
    }
   ],
   "source": [
    "A = np.random.randint(-10000,10000,(1000,1000))\n",
    "b = np.random.randint(-10000,10000,(1000,1))\n",
    "t0 = time.time()\n",
    "x1 = solve(A,b)\n",
    "t0 = np.round(time.time()-t0,5)\n",
    "t1 = time.time()\n",
    "x2 = npl.solve(A,b).reshape(-1,)\n",
    "t1 = np.round(time.time()-t1,5)\n",
    "MSE = np.mean((x1-x2)**2)\n",
    "print(f'N: {A.shape[0]}, time of my computations: {t0}, time of numpy computations: {t1},\\\n",
    "\\nsolve(A,b) == numpy.linalg.solve(A,b): {np.allclose(x1,x2)}\\nMSE: {MSE}')"
   ]
  },
  {
   "cell_type": "markdown",
   "metadata": {},
   "source": [
    "##### Symmetric matrix"
   ]
  },
  {
   "cell_type": "code",
   "execution_count": 29,
   "metadata": {
    "ExecuteTime": {
     "end_time": "2020-10-21T13:34:34.932299Z",
     "start_time": "2020-10-21T13:34:34.921330Z"
    }
   },
   "outputs": [],
   "source": [
    "def make_sym(A):\n",
    "    At = np.tril(A)\n",
    "    return At+At.T-np.diag(At.diagonal())"
   ]
  },
  {
   "cell_type": "code",
   "execution_count": 30,
   "metadata": {
    "ExecuteTime": {
     "end_time": "2020-10-21T13:34:35.041007Z",
     "start_time": "2020-10-21T13:34:34.938284Z"
    }
   },
   "outputs": [
    {
     "name": "stdout",
     "output_type": "stream",
     "text": [
      "A matrix:\n",
      "[[ 1  0 -3  2]\n",
      " [ 0 -3 -1  3]\n",
      " [-3 -1  3  2]\n",
      " [ 2  3  2 -1]]\n",
      "b vector:\n",
      "[ 0 -8  0 -8]\n",
      "My solution: [-4.67256637  1.69911504 -2.83185841 -1.91150442], numpy solution: [-4.67256637  1.69911504 -2.83185841 -1.91150442]\n"
     ]
    }
   ],
   "source": [
    "A = make_sym(np.array([[1,2,-3,-1],[0,-3,2,6],[-3,-1,3,1],[2,3,2,-1]]))\n",
    "b = np.array([0,-8,0,-8])\n",
    "x1 = solve(A,b)\n",
    "x2 = npl.solve(A,b)\n",
    "print(f'A matrix:\\n{A}\\nb vector:\\n{b}\\nMy solution: {x1}, numpy solution: {x2}')"
   ]
  },
  {
   "cell_type": "code",
   "execution_count": 31,
   "metadata": {
    "ExecuteTime": {
     "end_time": "2020-10-21T13:34:35.179153Z",
     "start_time": "2020-10-21T13:34:35.044000Z"
    }
   },
   "outputs": [
    {
     "name": "stdout",
     "output_type": "stream",
     "text": [
      "N: 100, time of my computations: 0.06035, time of numpy computations: 0.00099,\n",
      "solve(A,b) == numpy.linalg.solve(A,b): True\n",
      "MSE: 5.81874215949422e-23\n"
     ]
    }
   ],
   "source": [
    "A = make_sym(np.random.randint(-1000,1000,(100,100)))\n",
    "b = np.random.randint(-1000,1000,(100,1))\n",
    "t0 = time.time()\n",
    "x1 = solve(A,b)\n",
    "t0 = np.round(time.time()-t0,5)\n",
    "t1 = time.time()\n",
    "x2 = npl.solve(A,b).reshape(100,)\n",
    "t1 = np.round(time.time()-t1,5)\n",
    "MSE = np.mean((x1-x2)**2)\n",
    "print(f'N: {A.shape[0]}, time of my computations: {t0}, time of numpy computations: {t1},\\\n",
    "\\nsolve(A,b) == numpy.linalg.solve(A,b): {np.allclose(x1,x2)}\\nMSE: {MSE}')"
   ]
  },
  {
   "cell_type": "code",
   "execution_count": 32,
   "metadata": {
    "ExecuteTime": {
     "end_time": "2020-10-21T13:34:44.657886Z",
     "start_time": "2020-10-21T13:34:35.181149Z"
    }
   },
   "outputs": [
    {
     "name": "stdout",
     "output_type": "stream",
     "text": [
      "N: 1000, time of my computations: 9.35307, time of numpy computations: 0.02593,\n",
      "solve(A,b) == numpy.linalg.solve(A,b): True\n",
      "MSE: 1.6762445264437814e-21\n"
     ]
    }
   ],
   "source": [
    "A = make_sym(np.random.randint(-10000,10000,(1000,1000)))\n",
    "b = np.random.randint(-10000,10000,(1000,1))\n",
    "t0 = time.time()\n",
    "x1 = solve(A,b)\n",
    "t0 = np.round(time.time()-t0,5)\n",
    "t1 = time.time()\n",
    "x2 = npl.solve(A,b).reshape(-1,)\n",
    "t1 = np.round(time.time()-t1,5)\n",
    "MSE = np.mean((x1-x2)**2)\n",
    "print(f'N: {A.shape[0]}, time of my computations: {t0}, time of numpy computations: {t1},\\\n",
    "\\nsolve(A,b) == numpy.linalg.solve(A,b): {np.allclose(x1,x2)}\\nMSE: {MSE}')"
   ]
  },
  {
   "cell_type": "code",
   "execution_count": 33,
   "metadata": {
    "ExecuteTime": {
     "end_time": "2020-10-21T13:34:52.914958Z",
     "start_time": "2020-10-21T13:34:44.659902Z"
    }
   },
   "outputs": [
    {
     "name": "stdout",
     "output_type": "stream",
     "text": [
      "N: 1000, time of my computations: 8.18629, time of numpy computations: 0.0249,\n",
      "solve(A,b) == numpy.linalg.solve(A,b): True\n",
      "MSE: 1.7291129675749449e-22\n"
     ]
    }
   ],
   "source": [
    "A = make_sym(np.random.randint(-100,100,(1000,1000)))\n",
    "b = np.random.randint(-100,100,(1000,1))\n",
    "t0 = time.time()\n",
    "x1 = solve(A,b)\n",
    "t0 = np.round(time.time()-t0,5)\n",
    "t1 = time.time()\n",
    "x2 = npl.solve(A,b).reshape(-1,)\n",
    "t1 = np.round(time.time()-t1,5)\n",
    "MSE = np.mean((x1-x2)**2)\n",
    "print(f'N: {A.shape[0]}, time of my computations: {t0}, time of numpy computations: {t1},\\\n",
    "\\nsolve(A,b) == numpy.linalg.solve(A,b): {np.allclose(x1,x2)}\\nMSE: {MSE}')"
   ]
  },
  {
   "cell_type": "markdown",
   "metadata": {},
   "source": [
    "##### (2,3-)diagonal"
   ]
  },
  {
   "cell_type": "code",
   "execution_count": 34,
   "metadata": {
    "ExecuteTime": {
     "end_time": "2020-10-21T13:34:52.929920Z",
     "start_time": "2020-10-21T13:34:52.917954Z"
    }
   },
   "outputs": [
    {
     "name": "stdout",
     "output_type": "stream",
     "text": [
      "A matrix:\n",
      "[[ 1  0  0  0]\n",
      " [ 0 -3  0  0]\n",
      " [ 0  0  3  0]\n",
      " [ 0  0  0 -1]]\n",
      "b vector:\n",
      "[ 0 -8  0 -8]\n",
      "My solution: [0.         2.66666667 0.         8.        ], numpy solution: [0.         2.66666667 0.         8.        ]\n"
     ]
    }
   ],
   "source": [
    "A = make_sym(np.array([[1,0,0,0],[0,-3,0,0],[0,0,3,0],[0,0,0,-1]]))\n",
    "b = np.array([0,-8,0,-8])\n",
    "x1 = solve(A,b)\n",
    "x2 = npl.solve(A,b)\n",
    "print(f'A matrix:\\n{A}\\nb vector:\\n{b}\\nMy solution: {x1}, numpy solution: {x2}')"
   ]
  },
  {
   "cell_type": "code",
   "execution_count": 35,
   "metadata": {
    "ExecuteTime": {
     "end_time": "2020-10-21T13:34:53.731664Z",
     "start_time": "2020-10-21T13:34:52.932912Z"
    }
   },
   "outputs": [
    {
     "name": "stdout",
     "output_type": "stream",
     "text": [
      "A matrix:\n",
      "[[ 1  5  0  0]\n",
      " [ 5 -3 -1  0]\n",
      " [ 0 -1  3  2]\n",
      " [ 0  0  2 -1]]\n",
      "b vector:\n",
      "[ 0 -8  0 -8]\n",
      "My solution: [-1.82741117  0.36548223 -2.23350254  3.53299492], numpy solution: [-1.82741117  0.36548223 -2.23350254  3.53299492]\n"
     ]
    }
   ],
   "source": [
    "A = make_sym(np.array([[1,2,0,0],[5,-3,2,0],[0,-1,3,1],[0,0,2,-1]]))\n",
    "b = np.array([0,-8,0,-8])\n",
    "x1 = solve(A,b)\n",
    "x2 = npl.solve(A,b)\n",
    "print(f'A matrix:\\n{A}\\nb vector:\\n{b}\\nMy solution: {x1}, numpy solution: {x2}')"
   ]
  },
  {
   "cell_type": "code",
   "execution_count": 36,
   "metadata": {
    "ExecuteTime": {
     "end_time": "2020-10-21T13:35:02.272704Z",
     "start_time": "2020-10-21T13:34:53.739600Z"
    }
   },
   "outputs": [
    {
     "name": "stdout",
     "output_type": "stream",
     "text": [
      "N: 1000, time of my computations: 8.36744, time of numpy computations: 0.03691,\n",
      "solve(A,b) == numpy.linalg.solve(A,b): True\n",
      "MSE: 4.368526658471175e-23\n"
     ]
    }
   ],
   "source": [
    "A = np.diag(np.random.randint(-10000,10000,(1000,)),0) +\\\n",
    "np.diag(np.random.randint(-10000,10000,(999,)),-1) +\\\n",
    "np.diag(np.random.randint(-10000,10000,(999,)),1)\n",
    "b = np.random.randint(-10000,10000,(1000,1))\n",
    "t0 = time.time()\n",
    "x1 = solve(A,b)\n",
    "t0 = np.round(time.time()-t0,5)\n",
    "t1 = time.time()\n",
    "x2 = npl.solve(A,b).reshape(-1,)\n",
    "t1 = np.round(time.time()-t1,5)\n",
    "MSE = np.mean((x1-x2)**2)\n",
    "print(f'N: {A.shape[0]}, time of my computations: {t0}, time of numpy computations: {t1},\\\n",
    "\\nsolve(A,b) == numpy.linalg.solve(A,b): {np.allclose(x1,x2)}\\nMSE: {MSE}')"
   ]
  },
  {
   "cell_type": "code",
   "execution_count": 37,
   "metadata": {
    "ExecuteTime": {
     "end_time": "2020-10-21T13:35:11.304053Z",
     "start_time": "2020-10-21T13:35:02.276695Z"
    }
   },
   "outputs": [
    {
     "name": "stdout",
     "output_type": "stream",
     "text": [
      "N: 1000, time of my computations: 8.94757, time of numpy computations: 0.02493,\n",
      "solve(A,b) == numpy.linalg.solve(A,b): True\n",
      "MSE: 3.8963139225253836e-23\n"
     ]
    }
   ],
   "source": [
    "A = np.diag(np.random.randint(-10000,10000,(1000,)),0) +\\\n",
    "np.diag(np.random.randint(-10000,10000,(999,)),-1) +\\\n",
    "np.diag(np.random.randint(-10000,10000,(999,)),1) +\\\n",
    "np.diag(np.random.randint(-10000,10000,(998,)),-2) +\\\n",
    "np.diag(np.random.randint(-10000,10000,(998,)),2)\n",
    "b = np.random.randint(-10000,10000,(1000,1))\n",
    "t0 = time.time()\n",
    "x1 = solve(A,b)\n",
    "t0 = np.round(time.time()-t0,5)\n",
    "t1 = time.time()\n",
    "x2 = npl.solve(A,b).reshape(-1,)\n",
    "t1 = np.round(time.time()-t1,5)\n",
    "MSE = np.mean((x1-x2)**2)\n",
    "print(f'N: {A.shape[0]}, time of my computations: {t0}, time of numpy computations: {t1},\\\n",
    "\\nsolve(A,b) == numpy.linalg.solve(A,b): {np.allclose(x1,x2)}\\nMSE: {MSE}')"
   ]
  },
  {
   "cell_type": "markdown",
   "metadata": {},
   "source": [
    "##### Hilbert"
   ]
  },
  {
   "cell_type": "code",
   "execution_count": 38,
   "metadata": {
    "ExecuteTime": {
     "end_time": "2020-10-21T13:35:11.349929Z",
     "start_time": "2020-10-21T13:35:11.308041Z"
    }
   },
   "outputs": [
    {
     "name": "stdout",
     "output_type": "stream",
     "text": [
      "N: 10, time of my computations: 0.00297, time of numpy computations: 0.0,\n",
      "solve(A,b) == numpy.linalg.solve(A,b): False\n",
      "MSE: 2.0785010775602652e+16\n",
      "My solution:\n",
      "[-6.28631777e+07  5.38355635e+09 -1.13800235e+11  1.02786737e+12\n",
      " -4.87542093e+12  1.33376629e+13 -2.17903104e+13  2.09790735e+13\n",
      " -1.09772434e+13  2.40689034e+12]\n",
      "numpy solution:\n",
      "[-6.28638259e+07  5.38361554e+09 -1.13801547e+11  1.02787966e+12\n",
      " -4.87548093e+12  1.33378310e+13 -2.17905905e+13  2.09793477e+13\n",
      " -1.09773890e+13  2.40692265e+12]\n"
     ]
    }
   ],
   "source": [
    "A = hilbert(10)\n",
    "b = np.random.randint(-10,10,(10,1))\n",
    "t0 = time.time()\n",
    "x1 = solve(A,b)\n",
    "t0 = np.round(time.time()-t0,5)\n",
    "t1 = time.time()\n",
    "x2 = npl.solve(A,b).reshape(-1,)\n",
    "t1 = np.round(time.time()-t1,5)\n",
    "MSE = np.mean((x1-x2)**2)\n",
    "print(f'N: {A.shape[0]}, time of my computations: {t0}, time of numpy computations: {t1},\\\n",
    "\\nsolve(A,b) == numpy.linalg.solve(A,b): {np.allclose(x1,x2)}\\nMSE: {MSE}')\n",
    "print(f'My solution:\\n{x1}\\nnumpy solution:\\n{x2}')"
   ]
  },
  {
   "cell_type": "code",
   "execution_count": 39,
   "metadata": {
    "ExecuteTime": {
     "end_time": "2020-10-21T13:35:18.659140Z",
     "start_time": "2020-10-21T13:35:11.353921Z"
    }
   },
   "outputs": [
    {
     "name": "stdout",
     "output_type": "stream",
     "text": [
      "N: 1000, time of my computations: 7.2015, time of numpy computations: 0.01995,\n",
      "solve(A,b) == numpy.linalg.solve(A,b): False\n",
      "MSE: 3.415187843862602e+46\n"
     ]
    }
   ],
   "source": [
    "A = hilbert(1000)\n",
    "b = np.random.randint(-10000,10000,(1000,1))\n",
    "t0 = time.time()\n",
    "x1 = solve(A,b)\n",
    "t0 = np.round(time.time()-t0,5)\n",
    "t1 = time.time()\n",
    "x2 = npl.solve(A,b).reshape(-1,)\n",
    "t1 = np.round(time.time()-t1,5)\n",
    "MSE = np.mean((x1-x2)**2)\n",
    "print(f'N: {A.shape[0]}, time of my computations: {t0}, time of numpy computations: {t1},\\\n",
    "\\nsolve(A,b) == numpy.linalg.solve(A,b): {np.allclose(x1,x2)}\\nMSE: {MSE}')"
   ]
  },
  {
   "cell_type": "markdown",
   "metadata": {},
   "source": [
    "##### Positive definite"
   ]
  },
  {
   "cell_type": "code",
   "execution_count": 40,
   "metadata": {
    "ExecuteTime": {
     "end_time": "2020-10-21T13:35:18.674100Z",
     "start_time": "2020-10-21T13:35:18.661135Z"
    }
   },
   "outputs": [],
   "source": [
    "def positive_matrix(n):\n",
    "    A = np.random.randn(n,n)\n",
    "    A = 0.5*(A+A.T)\n",
    "    A += n*np.eye(n)\n",
    "    return A"
   ]
  },
  {
   "cell_type": "code",
   "execution_count": 41,
   "metadata": {
    "ExecuteTime": {
     "end_time": "2020-10-21T13:35:18.812728Z",
     "start_time": "2020-10-21T13:35:18.678088Z"
    }
   },
   "outputs": [
    {
     "name": "stdout",
     "output_type": "stream",
     "text": [
      "A matrix:\n",
      "[[ 5.36024582 -0.43877073  0.14188374  0.42623983  0.1172776 ]\n",
      " [-0.43877073  5.94107032  0.88257549 -0.20732    -1.05225438]\n",
      " [ 0.14188374  0.88257549  5.39170072 -0.16146489  0.22775953]\n",
      " [ 0.42623983 -0.20732    -0.16146489  5.43932128 -0.75126323]\n",
      " [ 0.1172776  -1.05225438  0.22775953 -0.75126323  6.31049436]]\n",
      "b vector:\n",
      "[ 3 -5 -9  7  5]\n",
      "My solution: [ 0.44805814 -0.35472409 -1.62315978  1.3200219   0.94058667],\n",
      "numpy solution: [ 0.44805814 -0.35472409 -1.62315978  1.3200219   0.94058667]\n"
     ]
    }
   ],
   "source": [
    "A = positive_matrix(5)\n",
    "b = np.random.randint(-10,10,(5,))\n",
    "x1 = solve(A,b)\n",
    "x2 = npl.solve(A,b)\n",
    "print(f'A matrix:\\n{A}\\nb vector:\\n{b}\\nMy solution: {x1},\\nnumpy solution: {x2}')"
   ]
  },
  {
   "cell_type": "code",
   "execution_count": 42,
   "metadata": {
    "ExecuteTime": {
     "end_time": "2020-10-21T13:35:18.951472Z",
     "start_time": "2020-10-21T13:35:18.814907Z"
    }
   },
   "outputs": [
    {
     "name": "stdout",
     "output_type": "stream",
     "text": [
      "N: 100, time of my computations: 0.05135, time of numpy computations: 0.0,\n",
      "solve(A,b) == numpy.linalg.solve(A,b): True\n",
      "MSE: 3.508119912300238e-30\n"
     ]
    }
   ],
   "source": [
    "A = positive_matrix(100)\n",
    "b = np.random.randint(-1000,1000,(100,1))\n",
    "t0 = time.time()\n",
    "x1 = solve(A,b)\n",
    "t0 = np.round(time.time()-t0,5)\n",
    "t1 = time.time()\n",
    "x2 = npl.solve(A,b).reshape(-1,)\n",
    "t1 = np.round(time.time()-t1,5)\n",
    "MSE = np.mean((x1-x2)**2)\n",
    "print(f'N: {A.shape[0]}, time of my computations: {t0}, time of numpy computations: {t1},\\\n",
    "\\nsolve(A,b) == numpy.linalg.solve(A,b): {np.allclose(x1,x2)}\\nMSE: {MSE}')"
   ]
  },
  {
   "cell_type": "code",
   "execution_count": 43,
   "metadata": {
    "ExecuteTime": {
     "end_time": "2020-10-21T13:35:26.478560Z",
     "start_time": "2020-10-21T13:35:18.953464Z"
    }
   },
   "outputs": [
    {
     "name": "stdout",
     "output_type": "stream",
     "text": [
      "N: 1000, time of my computations: 7.40325, time of numpy computations: 0.01994,\n",
      "solve(A,b) == numpy.linalg.solve(A,b): True\n",
      "MSE: 2.0503289914463954e-29\n"
     ]
    }
   ],
   "source": [
    "A = positive_matrix(1000)\n",
    "b = np.random.randint(-10000,10000,(1000,1))\n",
    "t0 = time.time()\n",
    "x1 = solve(A,b)\n",
    "t0 = np.round(time.time()-t0,5)\n",
    "t1 = time.time()\n",
    "x2 = npl.solve(A,b).reshape(-1,)\n",
    "t1 = np.round(time.time()-t1,5)\n",
    "MSE = np.mean((x1-x2)**2)\n",
    "print(f'N: {A.shape[0]}, time of my computations: {t0}, time of numpy computations: {t1},\\\n",
    "\\nsolve(A,b) == numpy.linalg.solve(A,b): {np.allclose(x1,x2)}\\nMSE: {MSE}')"
   ]
  },
  {
   "cell_type": "markdown",
   "metadata": {},
   "source": [
    "#### Tests summary\n",
    "As we can see from the test my method gets good results for all types of the matrix except the Hilbert matrix. The solutions for the Hilbert matrix are big, and my method losing precise, so as a result the MSE is big.\n",
    "My method is also way too slower than solver from numpy.linalg."
   ]
  },
  {
   "cell_type": "markdown",
   "metadata": {},
   "source": [
    "### **Problem 1.2 (5 pts)**\n",
    "\n",
    "Consider the following linear problem:\n",
    "```\n",
    "    maximize     2x+2y+z\n",
    "    \n",
    "                 | 1 1 1 |   | x |     | 5 |\n",
    "    subject to   | 1 1 0 | * | y |  <= | 4 |\n",
    "                 | 0 0 1 |   | z |     | 4 |\n",
    "                 \n",
    "                 x, y, z >= 0\n",
    "```\n",
    "* Plot the 3D polytope defined be the constraints. What is the number of vertices?\n",
    "* Solve the LP."
   ]
  },
  {
   "cell_type": "code",
   "execution_count": 78,
   "metadata": {
    "ExecuteTime": {
     "end_time": "2020-10-21T14:34:35.125634Z",
     "start_time": "2020-10-21T14:34:34.927074Z"
    }
   },
   "outputs": [
    {
     "data": {
      "image/png": "[encoded data removed]",
      "text/plain": [
       "<Figure size 432x288 with 1 Axes>"
      ]
     },
     "metadata": {
      "needs_background": "light"
     },
     "output_type": "display_data"
    }
   ],
   "source": [
    "fig = plt.figure()\n",
    "ax = plt.axes(projection='3d')\n",
    "\n",
    "# We can define all the edges and use plot wireframe\n",
    "X = np.array([0,4,0,0,0,1,0,0,1,4,4,4,0,0,0,0])\n",
    "Y = np.array([0,0,4,0,0,0,1,0,0,0,0,0,4,4,4,1])\n",
    "Z0 =         [0,0,0,0,4,4,4,4,4,1,0,1,1,0,1,4]\n",
    "Z = np.array([Z0,Z0])\n",
    "ax.plot_wireframe(X,Y,Z)\n",
    "plt.show()"
   ]
  },
  {
   "cell_type": "code",
   "execution_count": 77,
   "metadata": {
    "ExecuteTime": {
     "end_time": "2020-10-21T14:32:14.265188Z",
     "start_time": "2020-10-21T14:32:14.253275Z"
    }
   },
   "outputs": [
    {
     "name": "stdout",
     "output_type": "stream",
     "text": [
      "(0,0,0) -> 0\n",
      "(4,0,0) -> 8\n",
      "(0,4,0) -> 8\n",
      "(0,4,1) -> 9\n",
      "(4,0,1) -> 9\n",
      "(0,1,4) -> 6\n",
      "(1,0,4) -> 6\n",
      "(0,0,4) -> 4\n"
     ]
    }
   ],
   "source": [
    "#Now we can check the value in every vertex.\n",
    "vertices = np.array([\n",
    "    [0,4,0,0,4,0,1,0],\n",
    "    [0,0,4,4,0,1,0,0],\n",
    "    [0,0,0,1,1,4,4,4]])\n",
    "for i in range(len(vertices[0])):\n",
    "    x,y,z = vertices[:,i]\n",
    "    print(f'({x},{y},{z}) -> {2*x+2*y+z}')"
   ]
  },
  {
   "cell_type": "markdown",
   "metadata": {
    "ExecuteTime": {
     "end_time": "2020-10-21T13:54:12.665107Z",
     "start_time": "2020-10-21T13:54:12.652108Z"
    }
   },
   "source": [
    "As we can see, the maximum value is equal to 9, and optimal solutions are (0,4,1) and (4,0,1)"
   ]
  },
  {
   "cell_type": "markdown",
   "metadata": {},
   "source": [
    "### **Problem 1.3 (10 pts)**\n",
    "\n",
    "Implement the simplex algorithm solving the problem\n",
    "```\n",
    "   minimize c^T x\n",
    "   subject to Ax = b and x >= 0\n",
    "```\n",
    "You can assume that the initial *feasible base* (see [BFS](https://www.wikiwand.com/en/Basic_feasible_solution)) $I$ is given.<br/>\n",
    "Your function should output the optimal value and the minimizer $x$."
   ]
  },
  {
   "cell_type": "markdown",
   "metadata": {},
   "source": [
    "We want to find x such that:\n",
    "```\n",
    "    minimize c^T x\n",
    "    subject to Ax = b and x >= 0\n",
    "```\n",
    "Given $A$,$b$,$c$, and $I$ - initial feasible base the algorithm goes as follow:\n",
    "1. $B$ - square submatrix of $A$, consisting columns with index $i \\in I$ and $N$ - submatrix of $A$, consisting columns with index $j \\notin I$\n",
    "2. $B^{-1}$ - inverse of $B$ matrix\n",
    "3. $x_{B} = B^{-1}b$\n",
    "4. Calculate the current relative cost coefficients: $r_{N}^{T} = c_{N}^{T} - c_{B}^{T} B^{-1} N$\n",
    "5. If $r_{N} \\geq 0$ then stop\n",
    "6. Select $k$ such that $r_{N}[k]$ is most negative element of $r_{N}$, $a_{k} is k-th column from A$\n",
    "7. $y_{k} = B^{-1} a_{k}$\n",
    "8. If no $y_{k} > 0$ then the problem is unbounded, stop\n",
    "9. Calculate $\\alpha = \\frac{x_{B}}{y_{k}}$ and select $t$ such that $\\alpha[t]$ is smallest positive value\n",
    "10. $I$ = $(I \\setminus \\{t\\}) \\bigcup \\{k\\}$\n",
    "11. Goto 1.\n",
    "\n",
    "If problem is bounded then $c^T x_{B}$ is optimal value, and $x_{B}$ is the minimizer.\n",
    "\n",
    "Source: Linear and Nonlinear Programming, David G. LuenbergerYinyu Ye"
   ]
  },
  {
   "cell_type": "code",
   "execution_count": 2,
   "metadata": {
    "ExecuteTime": {
     "end_time": "2020-11-02T19:38:21.314128Z",
     "start_time": "2020-11-02T19:38:21.291166Z"
    }
   },
   "outputs": [],
   "source": [
    "def simplex_method(I, c, A, b):\n",
    "    m, n = A.shape\n",
    "    N = np.array([i for i in range(n) if i not in I])\n",
    "    I = np.array(I)\n",
    "    b = b.reshape(-1,1)\n",
    "    c = c.reshape(-1,1)\n",
    "    \n",
    "    while True:\n",
    "        B = A[:,I]\n",
    "        B_inv = inv(B)\n",
    "        xb = B_inv @ b\n",
    "        assert np.all(xb>=0)\n",
    "        rn = (c[N].T - c[I].T @ B_inv @ A[:,N])[0]\n",
    "        if np.all(rn>=0):\n",
    "            break\n",
    "        ii = np.argmin(rn)\n",
    "        i = N[ii]\n",
    "        y = B_inv @ A[:,i].reshape(-1,1)\n",
    "        if np.all(y<0):\n",
    "            return -np.inf, np.zeros(n)\n",
    "        y += (y==0) * 1e-20\n",
    "        alphas = xb/y\n",
    "        ji = np.where(alphas > 0, alphas, np.inf).argmin()\n",
    "        j = I[ji]\n",
    "        I[ji],N[ii] = i,j\n",
    "    \n",
    "    x = np.zeros(n).reshape(-1,1)\n",
    "    x[I] = xb\n",
    "    v = (c.reshape(1,-1) @ x)[0][0]\n",
    "    return v, x.reshape(-1,)"
   ]
  },
  {
   "cell_type": "code",
   "execution_count": 3,
   "metadata": {
    "ExecuteTime": {
     "end_time": "2020-11-02T19:38:21.976991Z",
     "start_time": "2020-11-02T19:38:21.960009Z"
    }
   },
   "outputs": [
    {
     "data": {
      "text/plain": [
       "(-5.4, array([0.2, 0. , 1.6, 0. , 0. , 4. ]))"
      ]
     },
     "execution_count": 3,
     "metadata": {},
     "output_type": "execute_result"
    }
   ],
   "source": [
    "I = np.array([3,4,5])\n",
    "A = np.array([[2,1,1,1,0,0],[1,2,3,0,1,0],[2,2,1,0,0,1]])\n",
    "b = np.array([2,5,6]).reshape(-1,1)\n",
    "c = np.array([-3,-1,-3,0,0,0])\n",
    "simplex_method(I, c, A, b)"
   ]
  },
  {
   "cell_type": "code",
   "execution_count": 4,
   "metadata": {
    "ExecuteTime": {
     "end_time": "2020-11-02T19:38:22.548207Z",
     "start_time": "2020-11-02T19:38:22.526267Z"
    }
   },
   "outputs": [
    {
     "data": {
      "text/plain": [
       "(0.0, array([0., 0., 0., 0., 4., 3., 3.]))"
      ]
     },
     "execution_count": 4,
     "metadata": {},
     "output_type": "execute_result"
    }
   ],
   "source": [
    "A = np.array([[1,3,0,1,1,0,0],[2,1,0,0,0,1,0],[0,1,4,1,0,0,1]])\n",
    "b = np.array([4,3,3])\n",
    "c = np.array([2,4,1,1,0,0,0])\n",
    "I = np.array([4,5,6])\n",
    "simplex_method(I, c, A, b)"
   ]
  },
  {
   "cell_type": "code",
   "execution_count": 5,
   "metadata": {
    "ExecuteTime": {
     "end_time": "2020-11-02T19:38:23.059951Z",
     "start_time": "2020-11-02T19:38:23.046965Z"
    }
   },
   "outputs": [
    {
     "data": {
      "text/plain": [
       "(0.0, array([0., 0., 0., 0., 4., 3., 3.]))"
      ]
     },
     "execution_count": 5,
     "metadata": {},
     "output_type": "execute_result"
    }
   ],
   "source": [
    "A = np.array([[1,3,0,1,1,0,0],[2,1,0,0,0,1,0],[0,1,4,1,0,0,1]])\n",
    "b = np.array([4,3,3])\n",
    "c = np.array([2,4,1,1,0,0,0])\n",
    "I = np.array([0,1,2])\n",
    "simplex_method(I, c, A, b)"
   ]
  },
  {
   "cell_type": "code",
   "execution_count": 6,
   "metadata": {
    "ExecuteTime": {
     "end_time": "2020-11-02T19:38:23.597005Z",
     "start_time": "2020-11-02T19:38:23.579061Z"
    }
   },
   "outputs": [
    {
     "data": {
      "text/plain": [
       "(-9.0, array([4., 0., 1., 0., 0., 3.]))"
      ]
     },
     "execution_count": 6,
     "metadata": {},
     "output_type": "execute_result"
    }
   ],
   "source": [
    "A = np.array([[1,1,1,1,0,0,],[1,1,0,0,1,0],[0,0,1,0,0,1]])\n",
    "b = np.array([5,4,4])\n",
    "c = np.array([-2,-2,-1,0,0,0])\n",
    "I = np.array([3,4,5])\n",
    "simplex_method(I, c, A, b)"
   ]
  },
  {
   "cell_type": "code",
   "execution_count": 7,
   "metadata": {
    "ExecuteTime": {
     "end_time": "2020-11-02T19:38:26.030239Z",
     "start_time": "2020-11-02T19:38:25.899381Z"
    }
   },
   "outputs": [],
   "source": [
    "tests = np.load('simplex_test_data.npz',allow_pickle=True)['data'].item()"
   ]
  },
  {
   "cell_type": "code",
   "execution_count": 8,
   "metadata": {
    "ExecuteTime": {
     "end_time": "2020-11-02T19:38:27.078666Z",
     "start_time": "2020-11-02T19:38:26.594332Z"
    }
   },
   "outputs": [
    {
     "name": "stdout",
     "output_type": "stream",
     "text": [
      "Test #1\n",
      "Correct!\n",
      "\n",
      "Test #2\n",
      "Correct!\n",
      "\n",
      "Test #3\n",
      "Correct!\n",
      "\n",
      "Test #4\n",
      "Correct!\n",
      "\n",
      "Test #5\n",
      "Correct!\n",
      "\n",
      "Test #6\n",
      "Correct!\n",
      "\n",
      "Test #7\n",
      "Correct!\n",
      "\n",
      "Test #8\n",
      "Correct!\n",
      "\n",
      "Test #9\n",
      "Correct!\n",
      "\n",
      "Test #10\n",
      "Correct!\n",
      "\n",
      "Test #11\n",
      "Correct!\n",
      "\n",
      "Test #12\n",
      "Correct!\n",
      "\n",
      "Test #13\n",
      "Correct!\n",
      "\n",
      "Test #14\n",
      "Correct!\n",
      "\n",
      "Test #15\n",
      "Correct!\n",
      "\n",
      "Test #16\n",
      "Correct!\n",
      "\n",
      "Test #17\n",
      "Correct!\n",
      "\n",
      "Test #18\n",
      "Correct!\n",
      "\n",
      "Test #19\n",
      "Correct!\n",
      "\n",
      "Test #20\n",
      "Correct!\n",
      "\n",
      "Test #21\n",
      "Correct!\n",
      "\n",
      "Test #22\n",
      "Correct!\n",
      "\n",
      "Test #23\n",
      "Correct!\n",
      "\n",
      "Test #24\n",
      "Correct!\n",
      "\n",
      "Test #25\n",
      "Correct!\n",
      "\n",
      "Test #26\n",
      "Correct!\n",
      "\n",
      "Test #27\n",
      "Correct!\n",
      "\n",
      "Test #28\n",
      "Correct!\n",
      "\n",
      "Test #29\n",
      "Correct!\n",
      "\n",
      "Test #30\n",
      "Correct!\n",
      "\n",
      "Test #31\n",
      "Correct!\n",
      "\n",
      "Test #32\n",
      "Correct!\n",
      "\n",
      "Test #33\n",
      "F absolute difference: 0.00785, relative error: 0.038%, x vectors distance: 0.21616, dist(x-my_x)/||x||: 0.14315\n",
      "\n",
      "Test #34\n",
      "F absolute difference: 0.55971, relative error: 4.388%, x vectors distance: 1.90837, dist(x-my_x)/||x||: 0.30879\n",
      "\n",
      "Test #35\n",
      "F absolute difference: 0.01092, relative error: 0.196%, x vectors distance: 0.19547, dist(x-my_x)/||x||: 0.09132\n",
      "\n",
      "Test #36\n",
      "F absolute difference: 0.0215, relative error: 0.503%, x vectors distance: 0.18646, dist(x-my_x)/||x||: 0.09681\n",
      "\n",
      "Test #37\n",
      "F absolute difference: 0.03867, relative error: 0.123%, x vectors distance: 0.09306, dist(x-my_x)/||x||: 0.10125\n",
      "\n",
      "Test #38\n",
      "Correct!\n",
      "\n",
      "Test #39\n",
      "F absolute difference: 0.45773, relative error: 2.371%, x vectors distance: 5.17958, dist(x-my_x)/||x||: 0.50998\n",
      "\n",
      "Test #40\n",
      "F absolute difference: 0.00097, relative error: 0.003%, x vectors distance: 0.00405, dist(x-my_x)/||x||: 0.0179\n",
      "\n"
     ]
    }
   ],
   "source": [
    "for i,test in tests.items():\n",
    "    A,b,c,f,x,I = test['A'], test['b'], test['c'], test['f'], test['x'], test['I']\n",
    "    if i>=31:\n",
    "        # In tests 31-40 x size is 51, where A shape is (20,50)\n",
    "        x = x[:-1]\n",
    "    sf,sx = simplex_method(I,c,A,b)\n",
    "    print(f'Test #{i}')\n",
    "    if np.isclose(f,sf) and np.allclose(x,sx):\n",
    "        print('Correct!')\n",
    "    else:\n",
    "        #print(f'correct solution: {f}, for x: {x}\\nmy solution: {sf}, for x: {sx}')\n",
    "        print(f'F absolute difference: {np.round(np.abs(f-sf),5)}, relative error: {np.round((np.abs(f-sf)/np.abs(f))*100,3)}%, x vectors distance: {np.round(np.sum((x-sx)**2),5)}, dist(x-my_x)/||x||: {np.round(np.sqrt(np.sum((x-sx)**2))/np.sqrt(np.sum(x**2)),5)}')\n",
    "    print()"
   ]
  },
  {
   "cell_type": "markdown",
   "metadata": {},
   "source": [
    "As we can see, my solution works correctly for most of the cases. For some bigger tests, I have a bit different solutions, probably because of numerical errors."
   ]
  }
 ],
 "metadata": {
  "@webio": {
   "lastCommId": null,
   "lastKernelId": null
  },
  "kernelspec": {
   "display_name": "Python 3",
   "language": "python",
   "name": "python3"
  },
  "language_info": {
   "codemirror_mode": {
    "name": "ipython",
    "version": 3
   },
   "file_extension": ".py",
   "mimetype": "text/x-python",
   "name": "python",
   "nbconvert_exporter": "python",
   "pygments_lexer": "ipython3",
   "version": "3.7.6"
  },
  "toc": {
   "base_numbering": 1,
   "nav_menu": {},
   "number_sections": true,
   "sideBar": true,
   "skip_h1_title": false,
   "title_cell": "Table of Contents",
   "title_sidebar": "Contents",
   "toc_cell": false,
   "toc_position": {},
   "toc_section_display": true,
   "toc_window_display": false
  }
 },
 "nbformat": 4,
 "nbformat_minor": 4
}
