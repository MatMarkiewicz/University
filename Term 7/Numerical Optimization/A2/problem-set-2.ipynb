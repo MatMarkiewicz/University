{
 "cells": [
  {
   "cell_type": "markdown",
   "metadata": {},
   "source": [
    "Rafał Nowak\n",
    "# Numerical Optimization\n",
    "## Problem set 2 (14 points)\n",
    "\n",
    "**Submission deadline**: Thursday, 12.11.2020\n",
    "\n",
    "* All submissions should contain single file.<br/>This can be single Jupyter notebook file (with extension `ipynb`) or ZIP archive in case the are some additional files needed.\n",
    "* It is recommended to write the reports using LaTeX. \n",
    "* One can report the answers, comments and results in PDF or notebook file.\n",
    "* All the source code should be written in Python or Julia."
   ]
  },
  {
   "cell_type": "markdown",
   "metadata": {},
   "source": [
    "Mateusz Markiewicz 298653"
   ]
  },
  {
   "cell_type": "code",
   "execution_count": 1,
   "metadata": {
    "ExecuteTime": {
     "end_time": "2020-11-04T13:04:06.842680Z",
     "start_time": "2020-11-04T13:03:57.733377Z"
    }
   },
   "outputs": [],
   "source": [
    "import numpy as np\n",
    "import numpy.linalg as npl\n",
    "from numpy.linalg import inv\n",
    "import matplotlib.pyplot as plt\n",
    "from mpl_toolkits.mplot3d import Axes3D\n",
    "import time\n",
    "from scipy.linalg import hilbert\n",
    "from scipy.optimize import linprog"
   ]
  },
  {
   "cell_type": "markdown",
   "metadata": {},
   "source": [
    "## Problem 2.1 (5 pts)"
   ]
  },
  {
   "cell_type": "markdown",
   "metadata": {},
   "source": [
    "In the problem 1.3, your implementation may have done a lot of inverse operations.\n",
    "\n",
    "This task is to implement *revised simplex algorithm* with incremental A inverse computation \n",
    "by using the **[Sherman-Morrison](https://www.wikiwand.com/en/Sherman%E2%80%93Morrison_formula)** formula for keeping track of the inverse matrix.\n",
    "\n",
    "Your program will be graded based on how fast it is.\n",
    "You should expect to see a factor 10-20 speedup depending on the problem instance."
   ]
  },
  {
   "cell_type": "markdown",
   "metadata": {},
   "source": [
    "```julia\n",
    "function revised_simplex_method(I, c, A, b)\n",
    "    # write your code here\n",
    "    # ...\n",
    "    return # v, x\n",
    "end\n",
    "```"
   ]
  },
  {
   "cell_type": "markdown",
   "metadata": {},
   "source": [
    "*Hint*. Please test your code with attached `npz` file (see problem 1.3).<br/>\n",
    "Repeat the tests with `method = revised_simplex_method` and compare the time elapsed for both methods."
   ]
  },
  {
   "cell_type": "markdown",
   "metadata": {
    "ExecuteTime": {
     "end_time": "2020-11-04T14:06:13.233716Z",
     "start_time": "2020-11-04T14:06:13.216730Z"
    }
   },
   "source": [
    "Instead of calculating the inverse of the B matrix every turn, we can update the previous inverse of the B matrix.\n",
    "\n",
    "We can use Sherman-Morrison formula:\n",
    "$(A+uv^T)^{-1}=A^{-1}-\\frac{A^{-1}uv^TA^{-1}}{1+v^TA^{-1}u}$\n",
    "\n",
    "In our case, u is the vector that will enter the basis minus the vector that is leaving the basis, and v is a vector of zeros, with \"1\" on k-th position, where k is the position of the vector leaving the basis."
   ]
  },
  {
   "cell_type": "code",
   "execution_count": 2,
   "metadata": {
    "ExecuteTime": {
     "end_time": "2020-11-04T13:04:06.873592Z",
     "start_time": "2020-11-04T13:04:06.845640Z"
    }
   },
   "outputs": [],
   "source": [
    "def simplex_method(I, c, A, b):\n",
    "    m, n = A.shape\n",
    "    N = np.array([i for i in range(n) if i not in I])\n",
    "    I = np.array(I)\n",
    "    b = b.reshape(-1,1)\n",
    "    c = c.reshape(-1,1)\n",
    "    \n",
    "    while True:\n",
    "        B = A[:,I]\n",
    "        B_inv = inv(B)\n",
    "        xb = B_inv @ b\n",
    "        assert np.all(xb>=0), xb\n",
    "        rn = (c[N].T - c[I].T @ B_inv @ A[:,N])[0]\n",
    "        if np.all(rn>=0):\n",
    "            break\n",
    "        ii = np.argmin(rn)\n",
    "        i = N[ii]\n",
    "        y = B_inv @ A[:,i].reshape(-1,1)\n",
    "        if np.all(y<0):\n",
    "            return -np.inf, np.zeros(n)\n",
    "        y += (y==0) * 1e-20\n",
    "        alphas = xb/np.max((y,np.ones_like(y)*1e-15),axis=0)\n",
    "        ji = alphas.argmin()\n",
    "        j = I[ji]\n",
    "        I[ji],N[ii] = i,j\n",
    "    \n",
    "    x = np.zeros(n).reshape(-1,1)\n",
    "    x[I] = xb\n",
    "    v = (c.reshape(1,-1) @ x)[0][0]\n",
    "    return v, x.reshape(-1,)"
   ]
  },
  {
   "cell_type": "code",
   "execution_count": 144,
   "metadata": {
    "ExecuteTime": {
     "end_time": "2020-11-04T13:40:11.542351Z",
     "start_time": "2020-11-04T13:40:11.522430Z"
    }
   },
   "outputs": [],
   "source": [
    "def revised_simplex_method(I, c, A, b):\n",
    "    m, n = A.shape\n",
    "    N = np.array([i for i in range(n) if i not in I])\n",
    "    I = np.array(I)\n",
    "    b = b.reshape(-1,1)\n",
    "    c = c.reshape(-1,1)\n",
    "    \n",
    "    B = A[:,I]\n",
    "    B_inv = inv(B)\n",
    "    \n",
    "    while True:\n",
    "        xb = B_inv @ b\n",
    "        assert np.all(xb>=0), xb\n",
    "        rn = (c[N].T - c[I].T @ B_inv @ A[:,N])[0]\n",
    "        if np.all(rn>=0):\n",
    "            break\n",
    "        ii = np.argmin(rn)\n",
    "        i = N[ii]\n",
    "        u = A[:,i].copy().reshape(-1,1)\n",
    "        y = B_inv @ u\n",
    "        if np.all(y<0):\n",
    "            return -np.inf, np.zeros(n)\n",
    "        alphas = xb/np.max((y,np.ones_like(y)*1e-15),axis=0)\n",
    "        ji = alphas.argmin()\n",
    "        j = I[ji]\n",
    "        I[ji],N[ii] = i,j\n",
    "        u -= A[:,j].reshape(-1,1)\n",
    "        \n",
    "        B_inv_u = B_inv @ u\n",
    "        \n",
    "        denominator = 1+B_inv_u[ji]\n",
    "        nominator = B_inv_u @ B_inv[ji,:].reshape(1,m)\n",
    "        B_inv -= nominator/denominator\n",
    "\n",
    "        \n",
    "    x = np.zeros(n).reshape(-1,1)\n",
    "    x[I] = xb\n",
    "    v = (c.reshape(1,-1) @ x)[0][0]\n",
    "    return v, x.reshape(-1,)"
   ]
  },
  {
   "cell_type": "code",
   "execution_count": 4,
   "metadata": {
    "ExecuteTime": {
     "end_time": "2020-11-04T13:04:07.294147Z",
     "start_time": "2020-11-04T13:04:07.006256Z"
    }
   },
   "outputs": [],
   "source": [
    "tests = np.load('simplex_test_data.npz',allow_pickle=True)['data'].item()"
   ]
  },
  {
   "cell_type": "code",
   "execution_count": 5,
   "metadata": {
    "ExecuteTime": {
     "end_time": "2020-11-04T13:04:09.230714Z",
     "start_time": "2020-11-04T13:04:08.716126Z"
    }
   },
   "outputs": [
    {
     "name": "stdout",
     "output_type": "stream",
     "text": [
      "Test #1\n",
      "Simplex time: 0.05754, revised simplex time: 0.0\n",
      "Correct!\n",
      "\n",
      "Test #2\n",
      "Simplex time: 0.104, revised simplex time: 0.002\n",
      "Correct!\n",
      "\n",
      "Test #3\n",
      "Simplex time: 0.00099, revised simplex time: 0.0\n",
      "Correct!\n",
      "\n",
      "Test #4\n",
      "Simplex time: 0.0, revised simplex time: 0.00099\n",
      "Correct!\n",
      "\n",
      "Test #5\n",
      "Simplex time: 0.001, revised simplex time: 0.0\n",
      "Correct!\n",
      "\n",
      "Test #6\n",
      "Simplex time: 0.0, revised simplex time: 0.0\n",
      "Correct!\n",
      "\n",
      "Test #7\n",
      "Simplex time: 0.001, revised simplex time: 0.0\n",
      "Correct!\n",
      "\n",
      "Test #8\n",
      "Simplex time: 0.0, revised simplex time: 0.0\n",
      "Correct!\n",
      "\n",
      "Test #9\n",
      "Simplex time: 0.001, revised simplex time: 0.001\n",
      "Correct!\n",
      "\n",
      "Test #10\n",
      "Simplex time: 0.0, revised simplex time: 0.00101\n",
      "Correct!\n",
      "\n",
      "Test #11\n",
      "Simplex time: 0.07781, revised simplex time: 0.0\n",
      "Correct!\n",
      "\n",
      "Test #12\n",
      "Simplex time: 0.0, revised simplex time: 0.00499\n",
      "Correct!\n",
      "\n",
      "Test #13\n",
      "Simplex time: 0.00101, revised simplex time: 0.0\n",
      "Correct!\n",
      "\n",
      "Test #14\n",
      "Simplex time: 0.00096, revised simplex time: 0.001\n",
      "Correct!\n",
      "\n",
      "Test #15\n",
      "Simplex time: 0.00202, revised simplex time: 0.001\n",
      "Correct!\n",
      "\n",
      "Test #16\n",
      "Simplex time: 0.001, revised simplex time: 0.0\n",
      "Correct!\n",
      "\n",
      "Test #17\n",
      "Simplex time: 0.00099, revised simplex time: 0.00098\n",
      "Correct!\n",
      "\n",
      "Test #18\n",
      "Simplex time: 0.0, revised simplex time: 0.001\n",
      "Correct!\n",
      "\n",
      "Test #19\n",
      "Simplex time: 0.001, revised simplex time: 0.0\n",
      "Correct!\n",
      "\n",
      "Test #20\n",
      "Simplex time: 0.001, revised simplex time: 0.001\n",
      "Correct!\n",
      "\n",
      "Test #21\n",
      "Simplex time: 0.00997, revised simplex time: 0.00498\n",
      "Correct!\n",
      "\n",
      "Test #22\n",
      "Simplex time: 0.01296, revised simplex time: 0.00499\n",
      "Correct!\n",
      "\n",
      "Test #23\n",
      "Simplex time: 0.00994, revised simplex time: 0.00499\n",
      "Correct!\n",
      "\n",
      "Test #24\n",
      "Simplex time: 0.01695, revised simplex time: 0.01097\n",
      "Correct!\n",
      "\n",
      "Test #25\n",
      "Simplex time: 0.01396, revised simplex time: 0.00601\n",
      "Correct!\n",
      "\n",
      "Test #26\n",
      "Simplex time: 0.00995, revised simplex time: 0.00499\n",
      "Correct!\n",
      "\n",
      "Test #27\n",
      "Simplex time: 0.00898, revised simplex time: 0.00698\n",
      "Correct!\n",
      "\n",
      "Test #28\n",
      "Simplex time: 0.01496, revised simplex time: 0.00701\n",
      "Correct!\n",
      "\n",
      "Test #29\n",
      "Simplex time: 0.01194, revised simplex time: 0.00599\n",
      "Correct!\n",
      "\n",
      "Test #30\n",
      "Simplex time: 0.00897, revised simplex time: 0.00399\n",
      "Correct!\n",
      "\n",
      "Test #31\n",
      "Simplex time: 0.0, revised simplex time: 0.001\n",
      "Correct!\n",
      "\n",
      "Test #32\n",
      "Simplex time: 0.0, revised simplex time: 0.0\n",
      "Correct!\n",
      "\n",
      "Test #33\n",
      "Simplex time: 0.0, revised simplex time: 0.00098\n",
      "F absolute difference: 0.00785, relative error: 0.038%, x vectors distance: 0.21616, dist(x-my_x)/||x||: 0.14315\n",
      "\n",
      "Test #34\n",
      "Simplex time: 0.001, revised simplex time: 0.0\n",
      "F absolute difference: 0.55971, relative error: 4.388%, x vectors distance: 1.90837, dist(x-my_x)/||x||: 0.30879\n",
      "\n",
      "Test #35\n",
      "Simplex time: 0.00103, revised simplex time: 0.0\n",
      "F absolute difference: 0.01092, relative error: 0.196%, x vectors distance: 0.19547, dist(x-my_x)/||x||: 0.09132\n",
      "\n",
      "Test #36\n",
      "Simplex time: 0.0, revised simplex time: 0.001\n",
      "F absolute difference: 0.0215, relative error: 0.503%, x vectors distance: 0.18646, dist(x-my_x)/||x||: 0.09681\n",
      "\n",
      "Test #37\n",
      "Simplex time: 0.0, revised simplex time: 0.001\n",
      "F absolute difference: 0.03867, relative error: 0.123%, x vectors distance: 0.09306, dist(x-my_x)/||x||: 0.10125\n",
      "\n",
      "Test #38\n",
      "Simplex time: 0.001, revised simplex time: 0.0\n",
      "Correct!\n",
      "\n",
      "Test #39\n",
      "Simplex time: 0.0, revised simplex time: 0.001\n",
      "F absolute difference: 0.45773, relative error: 2.371%, x vectors distance: 5.17958, dist(x-my_x)/||x||: 0.50998\n",
      "\n",
      "Test #40\n",
      "Simplex time: 0.001, revised simplex time: 0.001\n",
      "F absolute difference: 0.00097, relative error: 0.003%, x vectors distance: 0.00405, dist(x-my_x)/||x||: 0.0179\n",
      "\n"
     ]
    }
   ],
   "source": [
    "for i,test in tests.items():\n",
    "    A,b,c,f,x,I = test['A'], test['b'], test['c'], test['f'], test['x'], test['I']\n",
    "    if i>=31:\n",
    "        # In tests 31-40 x size is 51, where A shape is (20,50)\n",
    "        x = x[:-1]\n",
    "    t0 = time.time()\n",
    "    sf,sx = simplex_method(I,c,A,b)\n",
    "    t_simplex = time.time()-t0\n",
    "    t0 = time.time()\n",
    "    sf,sx = revised_simplex_method(I,c,A,b)\n",
    "    t_revised_simplex = time.time()-t0\n",
    "    print(f'Test #{i}')\n",
    "    print(f'Simplex time: {np.round(t_simplex,5)}, revised simplex time: {np.round(t_revised_simplex,5)}')\n",
    "    if np.isclose(f,sf) and np.allclose(x,sx):\n",
    "        print('Correct!')\n",
    "    else:\n",
    "        #print(f'correct solution: {f}, for x: {x}\\nmy solution: {sf}, for x: {sx}')\n",
    "        print(f'F absolute difference: {np.round(np.abs(f-sf),5)}, relative error: {np.round((np.abs(f-sf)/np.abs(f))*100,3)}%, x vectors distance: {np.round(np.sum((x-sx)**2),5)}, dist(x-my_x)/||x||: {np.round(np.sqrt(np.sum((x-sx)**2))/np.sqrt(np.sum(x**2)),5)}')\n",
    "    print()"
   ]
  },
  {
   "cell_type": "markdown",
   "metadata": {},
   "source": [
    "### Larger tests"
   ]
  },
  {
   "cell_type": "code",
   "execution_count": 145,
   "metadata": {
    "ExecuteTime": {
     "end_time": "2020-11-04T13:40:17.468865Z",
     "start_time": "2020-11-04T13:40:17.149771Z"
    }
   },
   "outputs": [],
   "source": [
    "m,n = 1000,25000\n",
    "A = np.random.randint(0,100000,(m,n))\n",
    "A[:,:m] = np.eye(m)"
   ]
  },
  {
   "cell_type": "code",
   "execution_count": 146,
   "metadata": {
    "ExecuteTime": {
     "end_time": "2020-11-04T13:40:17.964717Z",
     "start_time": "2020-11-04T13:40:17.945768Z"
    }
   },
   "outputs": [],
   "source": [
    "b = np.random.randint(0,100000,(m,1))"
   ]
  },
  {
   "cell_type": "code",
   "execution_count": 147,
   "metadata": {
    "ExecuteTime": {
     "end_time": "2020-11-04T13:40:18.196720Z",
     "start_time": "2020-11-04T13:40:18.184703Z"
    }
   },
   "outputs": [],
   "source": [
    "c = np.random.randint(-100,100,(n,1))\n",
    "c[:m,:] = np.zeros((m,1))"
   ]
  },
  {
   "cell_type": "code",
   "execution_count": 148,
   "metadata": {
    "ExecuteTime": {
     "end_time": "2020-11-04T13:40:18.457464Z",
     "start_time": "2020-11-04T13:40:18.451510Z"
    }
   },
   "outputs": [],
   "source": [
    "I = np.arange(m)"
   ]
  },
  {
   "cell_type": "code",
   "execution_count": 149,
   "metadata": {
    "ExecuteTime": {
     "end_time": "2020-11-04T13:40:39.960071Z",
     "start_time": "2020-11-04T13:40:18.919163Z"
    }
   },
   "outputs": [],
   "source": [
    "t0 = time.time()\n",
    "f,_ = simplex_method(I, c, A, b)\n",
    "t1 = time.time()-t0\n",
    "t0 = time.time()\n",
    "f2,_ = revised_simplex_method(I, c, A, b)\n",
    "t2 = time.time() - t0"
   ]
  },
  {
   "cell_type": "code",
   "execution_count": 150,
   "metadata": {
    "ExecuteTime": {
     "end_time": "2020-11-04T13:40:41.920093Z",
     "start_time": "2020-11-04T13:40:41.902109Z"
    }
   },
   "outputs": [
    {
     "name": "stdout",
     "output_type": "stream",
     "text": [
      "Simplex answare: -2.68259, revised simplex answare: -2.68259\n",
      "Simplex time: 10.64748, revised simplex time: 10.38245\n"
     ]
    }
   ],
   "source": [
    "print(f'Simplex answare: {np.round(f,5)}, revised simplex answare: {np.round(f2,5)}')\n",
    "print(f'Simplex time: {np.round(t1,5)}, revised simplex time: {np.round(t2,5)}')"
   ]
  },
  {
   "cell_type": "markdown",
   "metadata": {},
   "source": [
    "As we can see the accuracy of the new solution stays the same. The time performance is a bit better, but the difference is insignificant. I think this is because I used the inversing function from the NumPy module, which is well-optimized. Comparing own implementation of matrix inversion with the incremental update would probably lead to much bigger differences in time performance."
   ]
  },
  {
   "cell_type": "markdown",
   "metadata": {},
   "source": [
    "---"
   ]
  },
  {
   "cell_type": "markdown",
   "metadata": {},
   "source": [
    "## Problem 2.2 (6 pts)\n",
    "\n",
    "Assume have a~set of $N$ noisy measurements $(x_i, \\tilde y_i)\\in\\mathbb R^2$ onto which we would like to to fit a line $y=ax+b$. This task can be expressed by the following optimization problem in $L_2$ norm:\n",
    "$$ \\min_{a,b} \\sum_{i=1}^N \\left(a x_i + b - \\tilde y_i\\right)^2 = \\min_{a,b} \\left\\| J \\begin{pmatrix}a\\\\b\\end{pmatrix} - \\tilde y \\right\\|_2^2,$$\n",
    "where $\\|\\cdot\\|_2$ means the $L_2$ norm.\n",
    "\n",
    "One can check that the optimal solution can be obtained by solving the linear system\n",
    "$$ J^T J \\begin{pmatrix}a\\\\b\\end{pmatrix} = J^T \\tilde y. $$\n",
    "\n",
    "* (1 pt) Generate the problem data. Take $N=30, 50, 100$ points in the interval $[0,5]$ and generate the true outputs $y_i = a x_i + b$ for some $a,b \\in R$; for example take $a=3, b=4$. Add Gaussian noise $~N(0,1)$ to get the noisy measurements $\\tilde y_i$ and plot the results.\n",
    "* (3 pts) Compute the matrix $J$ and solve the problem using your implementation of Gaussian elimination (see problem 1.1). Plot the obtained line in the same graph as the measurements. \n",
    "* (2 pts) Next use any implementation (like `np.linalg.solve`) instead of your Gaussian elimination. Compare the resulting const function values.\n",
    "* (1 pt) Finally, add some outliers to the data and plot the results (single graph with measurements and solution line)."
   ]
  },
  {
   "cell_type": "markdown",
   "metadata": {},
   "source": [
    "### Data"
   ]
  },
  {
   "cell_type": "code",
   "execution_count": 188,
   "metadata": {
    "ExecuteTime": {
     "end_time": "2020-11-04T14:42:10.708734Z",
     "start_time": "2020-11-04T14:42:10.704742Z"
    }
   },
   "outputs": [],
   "source": [
    "N = 50\n",
    "a = 3\n",
    "b = 4"
   ]
  },
  {
   "cell_type": "code",
   "execution_count": 189,
   "metadata": {
    "ExecuteTime": {
     "end_time": "2020-11-04T14:42:10.879417Z",
     "start_time": "2020-11-04T14:42:10.869442Z"
    }
   },
   "outputs": [],
   "source": [
    "X = np.random.rand(N)*5\n",
    "Y = a*X + b\n",
    "Y_tilde = Y + np.random.randn(N)"
   ]
  },
  {
   "cell_type": "code",
   "execution_count": 190,
   "metadata": {
    "ExecuteTime": {
     "end_time": "2020-11-04T14:42:11.235466Z",
     "start_time": "2020-11-04T14:42:11.017047Z"
    }
   },
   "outputs": [
    {
     "data": {
      "image/png": "[encoded data removed]",
      "text/plain": [
       "<Figure size 432x288 with 1 Axes>"
      ]
     },
     "metadata": {
      "needs_background": "light"
     },
     "output_type": "display_data"
    }
   ],
   "source": [
    "plt.plot(X,Y, c='green')\n",
    "plt.scatter(X,Y_tilde, c='yellow', edgecolors='black')\n",
    "plt.show()"
   ]
  },
  {
   "cell_type": "markdown",
   "metadata": {},
   "source": [
    "### My Gaussian elimination"
   ]
  },
  {
   "cell_type": "code",
   "execution_count": 191,
   "metadata": {
    "ExecuteTime": {
     "end_time": "2020-11-04T14:42:11.360895Z",
     "start_time": "2020-11-04T14:42:11.340948Z"
    }
   },
   "outputs": [],
   "source": [
    "def solve(A,b):\n",
    "    n = A.shape[0]\n",
    "    A = np.hstack((A,b.reshape(n,1))).astype(np.float64)\n",
    "    for i in range(n-1):\n",
    "        if A[i][i] == 0:\n",
    "            k = np.argmax(A[i:,i])\n",
    "            assert A[k][i] != 0\n",
    "            A[i],A[k] = np.copy(A[k]), np.copy(A[i])\n",
    "        for j in range(i+1,n):\n",
    "            a = A[j][i]/A[i][i]\n",
    "            A[j] -= a*A[i]\n",
    "    for i in range(n-1,-1,-1):\n",
    "        assert A[i][i] != 0\n",
    "        A[i] /= A[i][i]\n",
    "        for j in range(i):\n",
    "            A[j] -= A[j][i]*A[i]\n",
    "    return A[:,-1]"
   ]
  },
  {
   "cell_type": "code",
   "execution_count": 192,
   "metadata": {
    "ExecuteTime": {
     "end_time": "2020-11-04T14:42:11.515761Z",
     "start_time": "2020-11-04T14:42:11.507783Z"
    }
   },
   "outputs": [],
   "source": [
    "J = np.hstack((X.reshape(N,1),np.ones((N,1))))"
   ]
  },
  {
   "cell_type": "code",
   "execution_count": 193,
   "metadata": {
    "ExecuteTime": {
     "end_time": "2020-11-04T14:42:11.682290Z",
     "start_time": "2020-11-04T14:42:11.669331Z"
    }
   },
   "outputs": [
    {
     "data": {
      "text/plain": [
       "(2.9382404915115825, 3.890558783748058)"
      ]
     },
     "execution_count": 193,
     "metadata": {},
     "output_type": "execute_result"
    }
   ],
   "source": [
    "a_my_gaussian, b_my_gaussian = solve(J.T@J, J.T@Y_tilde)\n",
    "a_my_gaussian, b_my_gaussian"
   ]
  },
  {
   "cell_type": "code",
   "execution_count": 194,
   "metadata": {
    "ExecuteTime": {
     "end_time": "2020-11-04T14:42:12.128065Z",
     "start_time": "2020-11-04T14:42:11.811945Z"
    }
   },
   "outputs": [
    {
     "data": {
      "image/png": "[encoded data removed]",
      "text/plain": [
       "<Figure size 432x288 with 1 Axes>"
      ]
     },
     "metadata": {
      "needs_background": "light"
     },
     "output_type": "display_data"
    }
   ],
   "source": [
    "plt.plot(X, Y, c='green', label = 'Orginal')\n",
    "plt.plot(X, X*a_my_gaussian+b_my_gaussian, c='red', label = 'My Gaussian method')\n",
    "plt.scatter(X, Y_tilde, c='yellow', edgecolors='black')\n",
    "plt.legend()\n",
    "plt.show()"
   ]
  },
  {
   "cell_type": "markdown",
   "metadata": {},
   "source": [
    "### Numpy's Gaussian elimination"
   ]
  },
  {
   "cell_type": "code",
   "execution_count": 195,
   "metadata": {
    "ExecuteTime": {
     "end_time": "2020-11-04T14:42:12.143033Z",
     "start_time": "2020-11-04T14:42:12.132054Z"
    }
   },
   "outputs": [
    {
     "data": {
      "text/plain": [
       "(2.9382404915115825, 3.8905587837480615)"
      ]
     },
     "execution_count": 195,
     "metadata": {},
     "output_type": "execute_result"
    }
   ],
   "source": [
    "a_npl_gaussian, b_npl_gaussian = npl.solve(J.T@J, J.T@Y_tilde)\n",
    "a_npl_gaussian, b_npl_gaussian"
   ]
  },
  {
   "cell_type": "code",
   "execution_count": 196,
   "metadata": {
    "ExecuteTime": {
     "end_time": "2020-11-04T14:42:12.511553Z",
     "start_time": "2020-11-04T14:42:12.227314Z"
    }
   },
   "outputs": [
    {
     "data": {
      "image/png": "[encoded data removed]",
      "text/plain": [
       "<Figure size 432x288 with 1 Axes>"
      ]
     },
     "metadata": {
      "needs_background": "light"
     },
     "output_type": "display_data"
    }
   ],
   "source": [
    "plt.plot(X, Y, c='green', label = 'Orginal')\n",
    "plt.plot(X, X*a_my_gaussian+b_my_gaussian, c='red', label = 'My Gaussian method')\n",
    "plt.plot(X, X*a_npl_gaussian+b_npl_gaussian, c='blue', label = \"Numpy's Gaussian method\")\n",
    "plt.scatter(X, Y_tilde, c='yellow', edgecolors='black')\n",
    "plt.legend()\n",
    "plt.show()"
   ]
  },
  {
   "cell_type": "code",
   "execution_count": 197,
   "metadata": {
    "ExecuteTime": {
     "end_time": "2020-11-04T14:42:12.526551Z",
     "start_time": "2020-11-04T14:42:12.515549Z"
    }
   },
   "outputs": [
    {
     "name": "stdout",
     "output_type": "stream",
     "text": [
      "Orginal a,b: ((3, 4))\n",
      "my Gaussian result: ((2.9382404915115825, 3.890558783748058))\n",
      "numpys Gaussian result: ((2.9382404915115825, 3.8905587837480615))\n"
     ]
    }
   ],
   "source": [
    "print(f'Orginal a,b: ({a, b})\\nmy Gaussian result: ({a_my_gaussian, b_my_gaussian})\\nnumpys Gaussian result: ({a_npl_gaussian, b_npl_gaussian})')"
   ]
  },
  {
   "cell_type": "code",
   "execution_count": 198,
   "metadata": {
    "ExecuteTime": {
     "end_time": "2020-11-04T14:42:12.664143Z",
     "start_time": "2020-11-04T14:42:12.588346Z"
    }
   },
   "outputs": [
    {
     "name": "stdout",
     "output_type": "stream",
     "text": [
      "Orginal cost: 44.49248688564277\n",
      "my cost: 40.68058237500955\n",
      "numpys cost: 40.68058237500955\n"
     ]
    }
   ],
   "source": [
    "my_cost = np.sum((X*a_my_gaussian+b_my_gaussian - Y_tilde)**2)\n",
    "numpy_cost = np.sum((X*a_npl_gaussian+b_npl_gaussian - Y_tilde)**2)\n",
    "org_cost = np.sum((Y-Y_tilde)**2)\n",
    "print(f'Orginal cost: {org_cost}\\nmy cost: {my_cost}\\nnumpys cost: {numpy_cost}')"
   ]
  },
  {
   "cell_type": "markdown",
   "metadata": {},
   "source": [
    "### Data with outliers"
   ]
  },
  {
   "cell_type": "code",
   "execution_count": 199,
   "metadata": {
    "ExecuteTime": {
     "end_time": "2020-11-04T14:42:12.881131Z",
     "start_time": "2020-11-04T14:42:12.872159Z"
    }
   },
   "outputs": [],
   "source": [
    "Y_with_outliers = Y_tilde.copy() + (np.random.randn(N)*5)*(np.random.rand(N) > 0.90)"
   ]
  },
  {
   "cell_type": "code",
   "execution_count": 200,
   "metadata": {
    "ExecuteTime": {
     "end_time": "2020-11-04T14:42:13.036904Z",
     "start_time": "2020-11-04T14:42:13.020945Z"
    }
   },
   "outputs": [
    {
     "data": {
      "text/plain": [
       "(2.6567910828675236, 4.815420801049331)"
      ]
     },
     "execution_count": 200,
     "metadata": {},
     "output_type": "execute_result"
    }
   ],
   "source": [
    "a_my_gaussian, b_my_gaussian = solve(J.T@J, J.T@Y_with_outliers)\n",
    "a_my_gaussian, b_my_gaussian"
   ]
  },
  {
   "cell_type": "code",
   "execution_count": 201,
   "metadata": {
    "ExecuteTime": {
     "end_time": "2020-11-04T14:42:13.656312Z",
     "start_time": "2020-11-04T14:42:13.641374Z"
    }
   },
   "outputs": [
    {
     "data": {
      "text/plain": [
       "(2.6567910828675254, 4.8154208010493305)"
      ]
     },
     "execution_count": 201,
     "metadata": {},
     "output_type": "execute_result"
    }
   ],
   "source": [
    "a_npl_gaussian, b_npl_gaussian = npl.solve(J.T@J, J.T@Y_with_outliers)\n",
    "a_npl_gaussian, b_npl_gaussian"
   ]
  },
  {
   "cell_type": "code",
   "execution_count": 202,
   "metadata": {
    "ExecuteTime": {
     "end_time": "2020-11-04T14:42:14.105520Z",
     "start_time": "2020-11-04T14:42:13.840258Z"
    }
   },
   "outputs": [
    {
     "data": {
      "image/png": "[encoded data removed]",
      "text/plain": [
       "<Figure size 432x288 with 1 Axes>"
      ]
     },
     "metadata": {
      "needs_background": "light"
     },
     "output_type": "display_data"
    }
   ],
   "source": [
    "plt.plot(X, Y, c='green', label = 'Orginal')\n",
    "plt.plot(X, X*a_my_gaussian+b_my_gaussian, c='red', label = 'My Gaussian method')\n",
    "plt.plot(X, X*a_npl_gaussian+b_npl_gaussian, c='blue', label = \"Numpy's Gaussian method\")\n",
    "plt.scatter(X, Y_with_outliers, c='yellow', edgecolors='black')\n",
    "plt.legend()\n",
    "plt.show()"
   ]
  },
  {
   "cell_type": "markdown",
   "metadata": {},
   "source": [
    "Accuracy of my and numpy's implementation of Gaussian method are the same (for those examples). They works quite well for this problem, even having some outliers in the data."
   ]
  },
  {
   "cell_type": "markdown",
   "metadata": {},
   "source": [
    "---"
   ]
  },
  {
   "cell_type": "markdown",
   "metadata": {},
   "source": [
    "## Problem 2.3 (3 pts)\n",
    "\n",
    "In this problem you are going to fit a line to the set of measurements, but this time with $L_1$ norm, i.e.\n",
    "$$ \\min_{a,b} \\sum_{i=1}^{N} |a x_i + b - y_i|. $$\n",
    "which is not diffentiable. Use some slack variables $s_1, s_2, \\ldots, s_N$ and reformulate the problem\n",
    "into the form\n",
    "$$\n",
    "\\begin{alignat}{2}\n",
    "                   & \\min_{a,b,s} \\sum_i s_i,\\\\\n",
    "\\text{s.t.} \\qquad & -s_i \\leq ax_i+b-y_i \\leq s_i, \\qquad & i=1,2,\\ldots, N,\\\\\n",
    "                   & s_i \\geq 0,                           & i=1,2,\\ldots, N.\n",
    "\\end{alignat}\n",
    "$$\n",
    "\n",
    "* Solve the problem using the measurements generated in the previous exercise (both with and without outliers)\n",
    "* You can use any LP solver (recommended Gurobi).\n",
    "\n",
    "Remark. You can get 3 extra points if you use your implementation of Simplex method and obtain similar results. Test your method not only with $a=3, b=4$."
   ]
  },
  {
   "cell_type": "markdown",
   "metadata": {},
   "source": [
    "We can transform this problem into standard form by adding some artificial variables:\n",
    "\n",
    "$$\n",
    "\\begin{alignat}{2}\n",
    "                   & \\min_{a,b,s,t,z} \\sum_i s_i,\\\\\n",
    "\\text{s.t.} \\qquad & (a_1-a_2)x_i+(b_1-b_2)-y_i-s_i+t_i=y_i, \\qquad & i=1,2,\\ldots, N,\\\\\n",
    "            \\qquad &  (a_1-a_2)x_i+(b_1-b_2)-y_i+s_i-z_i=y_i, \\qquad & i=1,2,\\ldots, N,\\\\\n",
    "                   & a_i,b_i,s_i,t_i,z_i \\geq 0,                           & i=1,2,\\ldots, N.\n",
    "\\end{alignat}\n",
    "$$\n",
    "\n",
    "Or simply by:\n",
    "\n",
    "$$\n",
    "\\begin{alignat}{2}\n",
    "                   & \\min c^T x\\\\\n",
    "\\text{s.t.} \\qquad & Ax=b \\\\\n",
    "                   & x \\geq 0, \n",
    "\\end{alignat}\n",
    "$$\n",
    "\n",
    "for:\n",
    "\n",
    "$$\\\\A = \n",
    "\\begin{bmatrix}\n",
    "    X_0 & \\ -X_0 & \\ 1 &  -1 &  -1 & 0 & \\ldots & 0 &  1 & 0 & \\ldots & 0 &  0 & 0 & \\ldots & 0 & \\\\\n",
    "    X_1 & \\ -X_0 & \\ 1 &  -1 &  0 & -1 & \\ldots & 0 &  0 & 1 & \\ldots & 0 &  0 & 0 & \\ldots & 0 & \\\\\n",
    "    \\vdots & \\ \\vdots & \\ \\vdots &  \\vdots &  \\vdots & \\vdots & \\ddots & \\vdots &  \\vdots & \\vdots & \\ddots & \\vdots &  \\vdots & \\vdots & \\ddots & \\vdots &  \\\\\n",
    "    X_N & \\ -X_N & \\ 1 &  -1 &  0 & 0 & \\ldots & -1 &  0 & 0 & \\ldots & 1 &  0 & 0 & \\ldots & 0 &  \\\\\n",
    "    \\\\\n",
    "    X_0 & \\ -X_0 & \\ 1 &  -1 &  1 & 0 & \\ldots & 0 &  0 & 0 & \\ldots & 0 &  -1 & 0 & \\ldots & 0 & \\\\\n",
    "    X_1 & \\ -X_1 & \\ 1 &  -1 &  0 & 1 & \\ldots & 0 &  0 & 0 & \\ldots & 0 &  0 & -1 & \\ldots & 0 &  \\\\\n",
    "    \\vdots & \\ \\vdots & \\ \\vdots & \\vdots & \\vdots & \\vdots & \\ddots & \\vdots &  \\vdots & \\vdots & \\ddots & \\vdots &  \\vdots & \\vdots & \\ddots & \\vdots & \\\\\n",
    "    X_N & \\ -X_N & \\ 1 &  -1 &  0 & 0 & \\ldots & 1 &  0 & 0 & \\ldots & 0 &  0 & 0 & \\ldots & -1 & \\\\\n",
    "\\end{bmatrix}\n",
    "\\\\\n",
    "$$\n",
    "\n",
    "$$\\\\b = \n",
    "\\begin{bmatrix}\n",
    "    Y \\\\\n",
    "    Y \\\\\n",
    "\\end{bmatrix}\n",
    "\\\\\n",
    "$$\n",
    "\n",
    "$$\\\\c = \n",
    "\\begin{bmatrix}\n",
    "    0 \\\\\n",
    "    0 \\\\\n",
    "    0 \\\\\n",
    "    0 \\\\\n",
    "    1 \\\\\n",
    "    1 \\\\\n",
    "    \\vdots \\\\\n",
    "    1 \\\\\n",
    "    0 \\\\\n",
    "    0 \\\\\n",
    "    \\vdots \\\\\n",
    "    0 \\\\\n",
    "\\end{bmatrix}\n",
    "\\\\\n",
    "$$\n"
   ]
  },
  {
   "cell_type": "code",
   "execution_count": 203,
   "metadata": {
    "ExecuteTime": {
     "end_time": "2020-11-04T14:42:15.531279Z",
     "start_time": "2020-11-04T14:42:15.520284Z"
    }
   },
   "outputs": [],
   "source": [
    "A = np.vstack((\n",
    "    np.hstack((X.reshape(N,1), X.reshape(N,1)*-1, np.ones((N,1)), np.ones((N,1))*-1, np.eye(N)*-1, np.eye(N), np.zeros((N,N)))),\n",
    "    np.hstack((X.reshape(N,1), X.reshape(N,1)*-1, np.ones((N,1)), np.ones((N,1))*-1, np.eye(N), np.zeros((N,N)), np.eye(N)*-1))\n",
    "))\n",
    "\n",
    "b = np.vstack((Y_tilde.reshape(N,1), Y_tilde.reshape(N,1)))\n",
    "\n",
    "c = np.vstack((np.zeros((4,1)), np.ones((N,1)), np.zeros((2*N,1))))"
   ]
  },
  {
   "cell_type": "code",
   "execution_count": 204,
   "metadata": {
    "ExecuteTime": {
     "end_time": "2020-11-04T14:42:15.746488Z",
     "start_time": "2020-11-04T14:42:15.717572Z"
    }
   },
   "outputs": [
    {
     "data": {
      "text/plain": [
       "(2.924581284785567, 3.9861794286335925)"
      ]
     },
     "execution_count": 204,
     "metadata": {},
     "output_type": "execute_result"
    }
   ],
   "source": [
    "a1_scipy_lp,a2_scipy_lp,b1_scipy_lp,b2_scipy_lp = linprog(c, A_eq=A, b_eq=b, bounds=(0,None))['x'][:4]\n",
    "a_scipy_lp,b_scipy_lp=a1_scipy_lp-a2_scipy_lp,b1_scipy_lp-b2_scipy_lp\n",
    "a_scipy_lp,b_scipy_lp"
   ]
  },
  {
   "cell_type": "code",
   "execution_count": 205,
   "metadata": {
    "ExecuteTime": {
     "end_time": "2020-11-04T14:42:16.146415Z",
     "start_time": "2020-11-04T14:42:15.881124Z"
    }
   },
   "outputs": [
    {
     "data": {
      "image/png": "[encoded data removed]",
      "text/plain": [
       "<Figure size 432x288 with 1 Axes>"
      ]
     },
     "metadata": {
      "needs_background": "light"
     },
     "output_type": "display_data"
    }
   ],
   "source": [
    "plt.plot(X, Y, c='green', label = 'Orginal')\n",
    "plt.plot(X, X*a_scipy_lp+b_scipy_lp, c='red', label = 'Scipy LP solver result')\n",
    "plt.scatter(X, Y_tilde, c='yellow', edgecolors='black')\n",
    "plt.legend()\n",
    "plt.show()"
   ]
  },
  {
   "cell_type": "code",
   "execution_count": 206,
   "metadata": {
    "ExecuteTime": {
     "end_time": "2020-11-04T14:42:16.194291Z",
     "start_time": "2020-11-04T14:42:16.149408Z"
    }
   },
   "outputs": [
    {
     "data": {
      "text/plain": [
       "(2.9248891761820763, 3.9860732102938345)"
      ]
     },
     "execution_count": 206,
     "metadata": {},
     "output_type": "execute_result"
    }
   ],
   "source": [
    "b = np.vstack((Y_with_outliers.reshape(N,1), Y_with_outliers.reshape(N,1)))\n",
    "a1_scipy_lp,a2_scipy_lp,b1_scipy_lp,b2_scipy_lp = linprog(c, A_eq=A, b_eq=b, bounds=(0,None))['x'][:4]\n",
    "a_scipy_lp,b_scipy_lp=a1_scipy_lp-a2_scipy_lp,b1_scipy_lp-b2_scipy_lp\n",
    "a_scipy_lp,b_scipy_lp"
   ]
  },
  {
   "cell_type": "code",
   "execution_count": 207,
   "metadata": {
    "ExecuteTime": {
     "end_time": "2020-11-04T14:42:16.653137Z",
     "start_time": "2020-11-04T14:42:16.213237Z"
    }
   },
   "outputs": [
    {
     "data": {
      "image/png": "[encoded data removed]",
      "text/plain": [
       "<Figure size 432x288 with 1 Axes>"
      ]
     },
     "metadata": {
      "needs_background": "light"
     },
     "output_type": "display_data"
    }
   ],
   "source": [
    "plt.plot(X, Y, c='green', label = 'Orginal')\n",
    "plt.plot(X, X*a_scipy_lp_ol+b_scipy_lp_ol, c='red', label = 'Scipy LP solver result')\n",
    "plt.scatter(X, Y_with_outliers, c='yellow', edgecolors='black')\n",
    "plt.legend()\n",
    "plt.show()"
   ]
  },
  {
   "cell_type": "markdown",
   "metadata": {},
   "source": [
    "### Testing different a and b"
   ]
  },
  {
   "cell_type": "code",
   "execution_count": 208,
   "metadata": {
    "ExecuteTime": {
     "end_time": "2020-11-04T14:42:17.768716Z",
     "start_time": "2020-11-04T14:42:16.657128Z"
    }
   },
   "outputs": [
    {
     "data": {
      "image/png": "[encoded data removed]",
      "text/plain": [
       "<Figure size 432x288 with 1 Axes>"
      ]
     },
     "metadata": {
      "needs_background": "light"
     },
     "output_type": "display_data"
    },
    {
     "data": {
      "image/png": "[encoded data removed]",
      "text/plain": [
       "<Figure size 432x288 with 1 Axes>"
      ]
     },
     "metadata": {
      "needs_background": "light"
     },
     "output_type": "display_data"
    },
    {
     "data": {
      "image/png": "[encoded data removed]",
      "text/plain": [
       "<Figure size 432x288 with 1 Axes>"
      ]
     },
     "metadata": {
      "needs_background": "light"
     },
     "output_type": "display_data"
    },
    {
     "data": {
      "image/png": "[encoded data removed]",
      "text/plain": [
       "<Figure size 432x288 with 1 Axes>"
      ]
     },
     "metadata": {
      "needs_background": "light"
     },
     "output_type": "display_data"
    }
   ],
   "source": [
    "N = 100\n",
    "for a,b in zip([1,-5,2,6],[0,1,-10,12]):\n",
    "    X = np.random.rand(N)*5\n",
    "    Y = a*X + b\n",
    "    Y_tilde = Y + np.random.randn(N)\n",
    "    A = np.vstack((\n",
    "        np.hstack((X.reshape(N,1), X.reshape(N,1)*-1, np.ones((N,1)), np.ones((N,1))*-1, np.eye(N)*-1, np.eye(N), np.zeros((N,N)))),\n",
    "        np.hstack((X.reshape(N,1), X.reshape(N,1)*-1, np.ones((N,1)), np.ones((N,1))*-1, np.eye(N), np.zeros((N,N)), np.eye(N)*-1))\n",
    "    ))\n",
    "    b = np.vstack((Y_tilde.reshape(N,1), Y_tilde.reshape(N,1)))\n",
    "    c = np.vstack((np.zeros((4,1)), np.ones((N,1)), np.zeros((2*N,1))))\n",
    "    a1_scipy_lp,a2_scipy_lp,b1_scipy_lp,b2_scipy_lp = linprog(c, A_eq=A, b_eq=b, bounds=(0,None))['x'][:4]\n",
    "    a_scipy_lp,b_scipy_lp=a1_scipy_lp-a2_scipy_lp,b1_scipy_lp-b2_scipy_lp\n",
    "    plt.plot(X, Y, c='green', label = 'Orginal')\n",
    "    plt.plot(X, X*a_scipy_lp+b_scipy_lp, c='red', label = 'Scipy LP solver result')\n",
    "    plt.scatter(X, Y_tilde, c='yellow', edgecolors='black')\n",
    "    plt.legend()\n",
    "    plt.show()\n",
    "    "
   ]
  },
  {
   "cell_type": "markdown",
   "metadata": {},
   "source": [
    "Linear Programming works quite well for this problem, but from my observations, outliers have a stronger impact on the result."
   ]
  }
 ],
 "metadata": {
  "@webio": {
   "lastCommId": null,
   "lastKernelId": null
  },
  "kernelspec": {
   "display_name": "Python 3",
   "language": "python",
   "name": "python3"
  },
  "language_info": {
   "codemirror_mode": {
    "name": "ipython",
    "version": 3
   },
   "file_extension": ".py",
   "mimetype": "text/x-python",
   "name": "python",
   "nbconvert_exporter": "python",
   "pygments_lexer": "ipython3",
   "version": "3.7.6"
  },
  "toc": {
   "base_numbering": 1,
   "nav_menu": {},
   "number_sections": true,
   "sideBar": true,
   "skip_h1_title": false,
   "title_cell": "Table of Contents",
   "title_sidebar": "Contents",
   "toc_cell": false,
   "toc_position": {},
   "toc_section_display": true,
   "toc_window_display": false
  }
 },
 "nbformat": 4,
 "nbformat_minor": 4
}
