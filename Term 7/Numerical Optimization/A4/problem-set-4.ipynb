{
 "cells": [
  {
   "cell_type": "markdown",
   "metadata": {},
   "source": [
    "Rafał Nowak\n",
    "# Numerical Optimization\n",
    "## Problem set 4 (15 points)\n",
    "\n",
    "**Submission deadline**: Thursday, 31.12.2020\n",
    "\n",
    "* All submissions should contain single file.<br/>This can be single Jupyter notebook file (with extension `ipynb`) or ZIP archive in case the are some additional files needed.\n",
    "* It is recommended to write the reports using LaTeX. \n",
    "* One can report the answers, comments and results in PDF or notebook file.\n",
    "* All the source code should be written in Python or Julia."
   ]
  },
  {
   "cell_type": "code",
   "execution_count": 1,
   "metadata": {
    "ExecuteTime": {
     "end_time": "2020-12-19T20:30:03.098774Z",
     "start_time": "2020-12-19T20:29:55.871286Z"
    }
   },
   "outputs": [],
   "source": [
    "import numpy as np\n",
    "import matplotlib.pyplot as plt\n",
    "from scipy.optimize import minimize\n",
    "import time"
   ]
  },
  {
   "cell_type": "markdown",
   "metadata": {},
   "source": [
    "### Test function #1"
   ]
  },
  {
   "cell_type": "markdown",
   "metadata": {},
   "source": [
    "Observe that the methods in previous problem sets require only to evaluate the value of the objective function $f$.\n",
    "\n",
    "From now we assume we know also its derivative.<br/>\n",
    "For example, consider the function\n",
    "$$ f(x) = x^4 + 16x^2 + 18(x-4) e^x\\qquad (x\\in\\mathbb R). $$\n",
    "First implement the function\n",
    "```julia\n",
    "# function gets scalar x as input and returns f(x) and f'(x)\n",
    "function my_func(x, order=0)\n",
    "    value = ____\n",
    "    if order == 0\n",
    "        return value\n",
    "    elseif order == 1\n",
    "        gradient = ____\n",
    "        return (value, gradient)\n",
    "    end\n",
    "end\n",
    "```\n",
    "\n",
    "Below, all the problems are about to implement the method.\n",
    "In each problem, please provide some experiments and tests.\n",
    "You can use the function $f$ above, but do not forget to experiment \n",
    "with other functions."
   ]
  },
  {
   "cell_type": "markdown",
   "metadata": {},
   "source": [
    "$f'(x) = 4x^3 + 32x + 18( e^x + (x-4)e^x ) = 4x^3 + 32x + 18(x-3)e^x$"
   ]
  },
  {
   "cell_type": "code",
   "execution_count": 2,
   "metadata": {
    "ExecuteTime": {
     "end_time": "2020-12-19T20:30:03.113910Z",
     "start_time": "2020-12-19T20:30:03.100882Z"
    }
   },
   "outputs": [],
   "source": [
    "def f(x, order=0):\n",
    "    value = x**4 + 16*x**2 + 18*(x-4)*np.exp(x)\n",
    "    if order==1:\n",
    "        gradient = 4*x**3 + 32*x + 18*(x-3)*np.exp(x)\n",
    "        return value, gradient\n",
    "    return value"
   ]
  },
  {
   "cell_type": "code",
   "execution_count": 3,
   "metadata": {
    "ExecuteTime": {
     "end_time": "2020-12-19T20:30:04.054267Z",
     "start_time": "2020-12-19T20:30:03.116882Z"
    }
   },
   "outputs": [
    {
     "data": {
      "image/png": "[encoded data removed]",
      "text/plain": [
       "<Figure size 1080x360 with 2 Axes>"
      ]
     },
     "metadata": {
      "needs_background": "light"
     },
     "output_type": "display_data"
    }
   ],
   "source": [
    "X = np.arange(-5,5,.05)\n",
    "Y = f(X)\n",
    "fig, ax = plt.subplots(1,2, figsize=(15,5))\n",
    "ax[0].plot(X,Y)\n",
    "ax[1].plot(X,Y)\n",
    "ax[1].set_xlim(1,3)\n",
    "ax[1].set_ylim(-200,-100)\n",
    "plt.show()"
   ]
  },
  {
   "cell_type": "markdown",
   "metadata": {},
   "source": [
    "### Test function #2"
   ]
  },
  {
   "cell_type": "markdown",
   "metadata": {},
   "source": [
    "$f_2(x_1, x_2) := 2x_1^2 + 3x_2^2 + 4x_2$\n",
    "\n",
    "$f'_2(x_1, x_2) := [4x_1, 6x_2 + 4]$"
   ]
  },
  {
   "cell_type": "code",
   "execution_count": 4,
   "metadata": {
    "ExecuteTime": {
     "end_time": "2020-12-19T20:30:04.070265Z",
     "start_time": "2020-12-19T20:30:04.057230Z"
    }
   },
   "outputs": [],
   "source": [
    "def f2(x, order=0):\n",
    "    val = 2*x[0]**2 + 3*x[1]**2 + 4*x[1]\n",
    "    if order==0:\n",
    "        return val\n",
    "    grad = np.array([4*x[0], 6*x[1] + 4])\n",
    "    return val, grad"
   ]
  },
  {
   "cell_type": "markdown",
   "metadata": {},
   "source": [
    "### Problem 4.1 (Bisection 3 pts) \n",
    "\n",
    "* Implement bisection method to find the minimum of $f$\n",
    "* Initialize the method with $x_{\\text{left}}=-10$ and $x_{\\text{right}}=10$.\n",
    "\n",
    "```julia\n",
    "# bisection gets function f, performs bisection search\n",
    "# on interval [a, b] and returns an eps-suboptimal\n",
    "# solution x; i.e. f(x)-f(x^*) <= eps .\n",
    "function bisection(fun, MIN, MAX; epsilon=1e-5, max_iter=65536)\n",
    "    # counting the number of iterations\n",
    "    counter = 0\n",
    "    while true\n",
    "        counter +=1\n",
    "        MID = ( MAX + MIN ) / 2\n",
    "\n",
    "        # Oracle access to the function value and gradient\n",
    "        value, gradient = fun( MID, order=1 )\n",
    "\n",
    "        # provide an upper bound for the suboptimality of MID in terms of\n",
    "        # the magnitude of the gradient and distance from the optimum\n",
    "        ###############################\n",
    "        # TODO: suboptimality = ???\n",
    "        ###############################\n",
    "\n",
    "        if suboptimality <= eps\n",
    "            break\n",
    "        end\n",
    "\n",
    "        if gradient > 0\n",
    "          ###############################\n",
    "          # TODO: Updating the interval #\n",
    "          ###############################\n",
    "        else\n",
    "          ###############################\n",
    "          # TODO: Updating the interval #\n",
    "          ###############################\n",
    "        end\n",
    "    end\n",
    "    @printf( \"Number of Iterations: %d\", counter )\n",
    "    @printf( \"Suboptimal point: %1.15\"', MID )\n",
    "    @printf( \"Suboptimal value: %1.15\"', value )\n",
    "    return MID    \n",
    "end\n",
    "```"
   ]
  },
  {
   "cell_type": "markdown",
   "metadata": {},
   "source": [
    "I implemented the standard bisection algorithm for one dimension optimization. In every iteration if the gradient in midpoint is positive then the optimal point is on the left side of the brackets, else the optimal point is on the right side of the brackets. If the absolute value of the gradient is smaller than the given epsilon or the size of the bracket is smaller than epsilon then I stop the algorithm. I tested the version where both of those conditions had to be true, but it was slower and didn't guarantee better accuracy."
   ]
  },
  {
   "cell_type": "code",
   "execution_count": 5,
   "metadata": {
    "ExecuteTime": {
     "end_time": "2020-12-19T20:30:04.244267Z",
     "start_time": "2020-12-19T20:30:04.072267Z"
    }
   },
   "outputs": [],
   "source": [
    "def bisection(f, min_, max_, eps=1e-5, max_iter=50000, debug=False):\n",
    "    count = 0\n",
    "    while True:\n",
    "        count+=1\n",
    "        \n",
    "        mid_ = (min_+max_)/2\n",
    "        val, grad = f(mid_, order=1)\n",
    "        \n",
    "        suboptimality = max(np.abs(grad), np.abs((max_-min_)/2))\n",
    "        if suboptimality <= eps or count >= max_iter:\n",
    "            break\n",
    "\n",
    "        if grad > 0:\n",
    "            max_ = mid_\n",
    "        else:\n",
    "            min_ = mid_\n",
    "    if debug:\n",
    "        print(\"Number of Iterations: \", count)\n",
    "        print(\"Suboptimal point: \", np.round(mid_, 15))\n",
    "        print(\"Suboptimal value: \", np.round(val, 15))\n",
    "    return mid_"
   ]
  },
  {
   "cell_type": "code",
   "execution_count": 6,
   "metadata": {
    "ExecuteTime": {
     "end_time": "2020-12-19T20:30:04.322235Z",
     "start_time": "2020-12-19T20:30:04.247265Z"
    }
   },
   "outputs": [
    {
     "name": "stdout",
     "output_type": "stream",
     "text": [
      "Number of Iterations:  28\n",
      "Suboptimal point:  2.322324588894844\n",
      "Suboptimal value:  -192.62418183070687\n"
     ]
    },
    {
     "data": {
      "text/plain": [
       "2.322324588894844"
      ]
     },
     "execution_count": 6,
     "metadata": {},
     "output_type": "execute_result"
    }
   ],
   "source": [
    "bisection(f, -10, 10, debug=True)"
   ]
  },
  {
   "cell_type": "markdown",
   "metadata": {},
   "source": [
    "---"
   ]
  },
  {
   "cell_type": "markdown",
   "metadata": {},
   "source": [
    "### Problem 4.2 (Exact line search, 3 pts)\n",
    "\n",
    "Implement the *line_search* algorithm, which general idea is as follow :\n",
    "```julia\n",
    "function line_search(f, x, d)\n",
    "    objective = α -> f(x + α*d)\n",
    "    a, b = bracket_minimum(objective)\n",
    "    α = minimize(objective, a, b)\n",
    "    return x + α*d\n",
    "end\n",
    "```\n",
    "Some notes from Boyd's book are given below.\n",
    "<img src=\"https://i.ibb.co/YRqd9Q2/Boyd-line-search.png\" alt=\"Boyd-line-search\" border=\"0\">\n",
    "\n",
    "\n",
    "In this problem you should implement the function\n",
    "```julia\n",
    "function exact_line_search( f, x, direction, eps=1e-9, maximum_iterations=65536 )\n",
    "    # TODO\n",
    "    \n",
    "end\n",
    "```\n",
    "\n",
    "where the *bisection* method is used for optimizing in `line_search` and\n",
    "* `f` is the function to optimize; assume one can call it like `value, gradient = f( x, order=1 )`\n",
    "* `x` is the the current iterate\n",
    "* `direction` is the direction along which to perform the linesearch\n",
    "* `eps` is the maximum allowed error in the resulting stepsize $t$\n",
    "* `maximum_iterations` is the maximum allowed number of iterations"
   ]
  },
  {
   "cell_type": "code",
   "execution_count": 7,
   "metadata": {
    "ExecuteTime": {
     "end_time": "2020-12-19T20:30:04.400267Z",
     "start_time": "2020-12-19T20:30:04.326236Z"
    }
   },
   "outputs": [],
   "source": [
    "def find_initial_bracket(f, x=0, s=1e-5, k=2.0):\n",
    "    a,fa = x,f(x)\n",
    "    b,fb = a+s,f(a+s)\n",
    "    if fb>fa:\n",
    "        a,fa,b,fb,s = b,fb,a,fa,-s\n",
    "    while True:\n",
    "        c,fc = b+s,f(b+s)\n",
    "        if fc>fb:\n",
    "            return min(a,c),max(a,c)\n",
    "        a,fa,b,fb,s = b,fb,c,fc,k*s"
   ]
  },
  {
   "cell_type": "markdown",
   "metadata": {},
   "source": [
    "Exact line search algorithm.\n",
    "\n",
    "Given the function $f$, actual point $x$, and the direction $\\Delta x$ (typically $\\Delta x = - \\nabla f(x)$) we can define function $t \\rightarrow f(x+t* \\Delta x)$ with derrivative $\\frac {\\partial f}{\\partial t} = {\\Delta x}^T \\nabla f(x+t* \\Delta x)$.\n",
    "\n",
    "We want to find $argmin_{t \\geq 0} \\, f(x+t* \\Delta x)$ and we can done it using bisection algorithm. \n",
    "\n",
    "Remark: we have to find initial brackets before starting the bisection algorithm."
   ]
  },
  {
   "cell_type": "code",
   "execution_count": 8,
   "metadata": {
    "ExecuteTime": {
     "end_time": "2020-12-19T20:30:04.494236Z",
     "start_time": "2020-12-19T20:30:04.403232Z"
    }
   },
   "outputs": [],
   "source": [
    "def exact_line_search(f, x, direction, eps=1e-9, maximum_iterations=65536, debug=False):\n",
    "    \n",
    "    def fun_(t, x, direction, order=0):\n",
    "        val, grad = f(x+t*direction, order=1)\n",
    "        if order==0:\n",
    "            return val\n",
    "        \n",
    "        if not isinstance(grad, np.ndarray):\n",
    "            return val, direction*grad\n",
    "        \n",
    "        direction = direction.reshape(-1,1)\n",
    "        grad = grad.reshape(1,-1)\n",
    "        return val, grad@direction\n",
    "    \n",
    "    fun = lambda t, order=0: fun_(t, x, direction, order)\n",
    "    \n",
    "    a,b = find_initial_bracket(fun)\n",
    "    if debug:\n",
    "        print(f'Initial brackets: ({a}, {b})')\n",
    "    t = bisection(fun, a, b, eps, maximum_iterations, debug)\n",
    "    \n",
    "    return x+t*direction"
   ]
  },
  {
   "cell_type": "markdown",
   "metadata": {},
   "source": [
    "#### function #1"
   ]
  },
  {
   "cell_type": "code",
   "execution_count": 9,
   "metadata": {
    "ExecuteTime": {
     "end_time": "2020-12-19T20:30:04.731262Z",
     "start_time": "2020-12-19T20:30:04.497234Z"
    }
   },
   "outputs": [
    {
     "data": {
      "image/png": "[encoded data removed]",
      "text/plain": [
       "<Figure size 432x288 with 1 Axes>"
      ]
     },
     "metadata": {
      "needs_background": "light"
     },
     "output_type": "display_data"
    }
   ],
   "source": [
    "x = 1\n",
    "val, grad = f(x, order=1)\n",
    "direction = -grad\n",
    "T = np.arange(-0.05,0.05,.001)\n",
    "fun = lambda t: f(x+t*direction)\n",
    "Y = fun(T)\n",
    "plt.plot(T,Y)\n",
    "plt.xlabel('t')\n",
    "plt.ylabel('f(x+t*dir)')\n",
    "plt.show()"
   ]
  },
  {
   "cell_type": "code",
   "execution_count": 10,
   "metadata": {
    "ExecuteTime": {
     "end_time": "2020-12-19T20:30:04.747263Z",
     "start_time": "2020-12-19T20:30:04.733232Z"
    }
   },
   "outputs": [
    {
     "name": "stdout",
     "output_type": "stream",
     "text": [
      "Initial brackets: (0.01024, 0.04096)\n",
      "Number of Iterations:  41\n",
      "Suboptimal point:  0.021376725175041\n",
      "Suboptimal value:  -192.6241818307068\n"
     ]
    },
    {
     "data": {
      "text/plain": [
       "2.32232458312848"
      ]
     },
     "execution_count": 10,
     "metadata": {},
     "output_type": "execute_result"
    }
   ],
   "source": [
    "exact_line_search(f, x, direction, debug=True)"
   ]
  },
  {
   "cell_type": "markdown",
   "metadata": {},
   "source": [
    "In this example global minimum is in our direction, so we can find it using one exact line search."
   ]
  },
  {
   "cell_type": "markdown",
   "metadata": {},
   "source": [
    "#### function #2"
   ]
  },
  {
   "cell_type": "code",
   "execution_count": 11,
   "metadata": {
    "ExecuteTime": {
     "end_time": "2020-12-19T20:30:05.012277Z",
     "start_time": "2020-12-19T20:30:04.749238Z"
    }
   },
   "outputs": [
    {
     "data": {
      "image/png": "[encoded data removed]",
      "text/plain": [
       "<Figure size 432x288 with 1 Axes>"
      ]
     },
     "metadata": {
      "needs_background": "light"
     },
     "output_type": "display_data"
    }
   ],
   "source": [
    "x = np.array([1,1])\n",
    "val, grad = f2(x, order=1)\n",
    "direction = -grad\n",
    "T = np.arange(0,0.4,.005)\n",
    "fun = lambda t: f2(x+t*direction)\n",
    "Y = [fun(t) for t in T]\n",
    "plt.plot(T,Y)\n",
    "plt.xlabel('t')\n",
    "plt.ylabel('f(x+t*dir)')\n",
    "plt.show()"
   ]
  },
  {
   "cell_type": "code",
   "execution_count": 12,
   "metadata": {
    "ExecuteTime": {
     "end_time": "2020-12-19T20:30:05.028238Z",
     "start_time": "2020-12-19T20:30:05.014234Z"
    }
   },
   "outputs": [
    {
     "name": "stdout",
     "output_type": "stream",
     "text": [
      "Initial brackets: (0.08192, 0.32768)\n",
      "Number of Iterations:  37\n",
      "Suboptimal point:  0.174698795180917\n",
      "Suboptimal value:  -1.132530120481928\n"
     ]
    },
    {
     "data": {
      "text/plain": [
       "array([ 0.30120482, -0.74698795])"
      ]
     },
     "execution_count": 12,
     "metadata": {},
     "output_type": "execute_result"
    }
   ],
   "source": [
    "exact_line_search(f2, x, direction, debug=True)"
   ]
  },
  {
   "cell_type": "markdown",
   "metadata": {},
   "source": [
    "---"
   ]
  },
  {
   "cell_type": "markdown",
   "metadata": {},
   "source": [
    "### Problem 4.3. (Backtracking line search 3 pts)"
   ]
  },
  {
   "cell_type": "markdown",
   "metadata": {},
   "source": [
    "In this problem you should implement backtracking linesearch algorithm\n",
    "```julia\n",
    "function backtracking_line_search( f, x, direction, α=0.4, β=0.9, maximum_iterations=65536 )\n",
    "    # TODO\n",
    "    \n",
    "end\n",
    "```"
   ]
  },
  {
   "cell_type": "markdown",
   "metadata": {
    "ExecuteTime": {
     "end_time": "2019-11-05T20:03:35.314000+01:00",
     "start_time": "2019-11-05T19:03:35.312Z"
    }
   },
   "source": [
    "where the *bisection* method is used for optimizing in `line_search` and\n",
    "* `f` is the function to optimize; assume one can call it like `value, gradient = f( x, order=1 )`\n",
    "* `x` is the the current iterate\n",
    "* `direction` is the direction along which to perform the linesearch\n",
    "* `eps` is the maximum allowed error in the resulting stepsize $t$\n",
    "* `α` is the alpha parameter to backtracking linesearch\n",
    "* `β` is the beta parameter to backtracking linesearch\n",
    "* `maximum_iterations` is the maximum allowed number of iterations"
   ]
  },
  {
   "cell_type": "markdown",
   "metadata": {},
   "source": [
    "Another way for optimization the $t \\rightarrow f(x+t* \\Delta x)$ function is the backtracking line search algorithm. It doesn't guarantee to find the optimal solution, but it tends to find a good enough solution in a shorter time than an exact line search algorithm."
   ]
  },
  {
   "cell_type": "code",
   "execution_count": 21,
   "metadata": {
    "ExecuteTime": {
     "end_time": "2020-12-19T20:32:31.212500Z",
     "start_time": "2020-12-19T20:32:31.196502Z"
    }
   },
   "outputs": [],
   "source": [
    "def backtracking_line_search(f, x, direction, alpha=0.4, beta=0.9, maximum_iterations=65536, debug=False):\n",
    "    t = 1\n",
    "    count = 0\n",
    "    act_val = f(x+t*direction)\n",
    "    f_x, grad_x = f(x, order=1)\n",
    "    if isinstance(grad_x, np.ndarray):\n",
    "        grad_x = grad_x.reshape(-1,1)\n",
    "        d = direction.reshape(1,-1)\n",
    "        grad_dir = (d@grad_x)[0][0]\n",
    "    else:\n",
    "        grad_dir = grad_x * direction\n",
    "    \n",
    "    while count < maximum_iterations and act_val > f_x + t*alpha*grad_dir:\n",
    "        count += 1\n",
    "        t*=beta\n",
    "        act_val = f(x+t*direction)\n",
    "    \n",
    "    if debug:\n",
    "        print(\"Number of Iterations: \", count)\n",
    "        print(\"t value: \", np.round(t, 15))\n",
    "        print(\"Suboptimal point: \", np.round(x+t*direction, 15))\n",
    "        print(\"Suboptimal value: \", np.round(act_val, 15))\n",
    "        \n",
    "    return x+t*direction"
   ]
  },
  {
   "cell_type": "markdown",
   "metadata": {},
   "source": [
    "#### function #1"
   ]
  },
  {
   "cell_type": "code",
   "execution_count": 22,
   "metadata": {
    "ExecuteTime": {
     "end_time": "2020-12-19T20:32:32.194463Z",
     "start_time": "2020-12-19T20:32:32.185467Z"
    }
   },
   "outputs": [
    {
     "name": "stdout",
     "output_type": "stream",
     "text": [
      "Number of Iterations:  34\n",
      "t value:  0.027812838944369\n",
      "Suboptimal point:  2.720450647214846\n",
      "Suboptimal value:  -176.60284920557785\n"
     ]
    },
    {
     "data": {
      "text/plain": [
       "2.7204506472148466"
      ]
     },
     "execution_count": 22,
     "metadata": {},
     "output_type": "execute_result"
    }
   ],
   "source": [
    "x = 1\n",
    "val, grad = f(x, order=1)\n",
    "direction = -grad\n",
    "backtracking_line_search(f, x, direction, debug=True)"
   ]
  },
  {
   "cell_type": "markdown",
   "metadata": {},
   "source": [
    "This time the solution is not optimal. "
   ]
  },
  {
   "cell_type": "markdown",
   "metadata": {},
   "source": [
    "#### function #2"
   ]
  },
  {
   "cell_type": "code",
   "execution_count": 23,
   "metadata": {
    "ExecuteTime": {
     "end_time": "2020-12-19T20:32:44.831592Z",
     "start_time": "2020-12-19T20:32:44.822566Z"
    }
   },
   "outputs": [
    {
     "name": "stdout",
     "output_type": "stream",
     "text": [
      "Number of Iterations:  15\n",
      "t value:  0.205891132094649\n",
      "Suboptimal point:  [ 0.17643547 -1.05891132]\n",
      "Suboptimal value:  -0.809506775607502\n"
     ]
    },
    {
     "data": {
      "text/plain": [
       "array([ 0.17643547, -1.05891132])"
      ]
     },
     "execution_count": 23,
     "metadata": {},
     "output_type": "execute_result"
    }
   ],
   "source": [
    "x = np.array([1,1])\n",
    "val, grad = f2(x, order=1)\n",
    "direction = -grad\n",
    "backtracking_line_search(f2, x, direction, debug=True)"
   ]
  },
  {
   "cell_type": "markdown",
   "metadata": {},
   "source": [
    "---"
   ]
  },
  {
   "cell_type": "markdown",
   "metadata": {},
   "source": [
    "### Problem 3.6 (Gradient descent 6 pts)"
   ]
  },
  {
   "cell_type": "markdown",
   "metadata": {},
   "source": [
    "(3 pts) Implement the *gradient descent* algorithm using the given linesearch method\n",
    "```julia\n",
    "function gradient_descent( f, x0, eps=1e-5, maximum_iterations=65536, linesearch_algorithm=exact_line_search )\n",
    "    \"\"\"\n",
    "    f:                    the function to optimize It is called as \"value, gradient = func( x, 1 )\n",
    "    x0:                   the starting point\n",
    "    eps:                  the maximum allowed error in the resulting stepsize t\n",
    "    maximum_iterations:   the maximum allowed number of iterations\n",
    "    linesearch_algorithm: the linesearch routine\n",
    "    \"\"\"\n",
    "end\n",
    "```"
   ]
  },
  {
   "cell_type": "markdown",
   "metadata": {},
   "source": [
    "Finally, we can implement the gradient descent algorithm. In every iteration, we're trying to find optimal (or good enough) t to optimize $f(x+t* \\Delta x)$. Then we can update our $x$: \n",
    "\n",
    "$x_{k+1} = x_{k} + t*direction$, with $direction = - \\nabla f(x)$\n",
    "\n",
    "I'm stopping the algorithm when the absolute value of a gradient is small enough in every direction, or the number of performed iterations exceeds the maximum number of iterations."
   ]
  },
  {
   "cell_type": "code",
   "execution_count": 24,
   "metadata": {
    "ExecuteTime": {
     "end_time": "2020-12-19T20:32:57.136963Z",
     "start_time": "2020-12-19T20:32:57.121935Z"
    }
   },
   "outputs": [],
   "source": [
    "def gradient_descent(f, x0, eps=1e-5, maximum_iterations=65536, linesearch_algorithm=exact_line_search, debug=False):\n",
    "    \"\"\"\n",
    "    f:                    the function to optimize It is called as \"value, gradient = func( x, 1 )\n",
    "    x0:                   the starting point\n",
    "    eps:                  the maximum allowed error in the resulting stepsize t\n",
    "    maximum_iterations:   the maximum allowed number of iterations\n",
    "    linesearch_algorithm: the linesearch routime\n",
    "    \"\"\"\n",
    "    \n",
    "    count = 0\n",
    "    val, grad = f(x0, order=1)\n",
    "    x = x0\n",
    "    while count < maximum_iterations and np.any(np.abs(grad) > 1e-5):\n",
    "        count += 1\n",
    "        x = linesearch_algorithm(f, x, -grad)\n",
    "        val, grad = f(x, order=1)\n",
    "    \n",
    "    if debug:\n",
    "        print(\"Number of Iterations: \", count)\n",
    "        print(\"Final point: \", np.round(x, 15))\n",
    "        print(\"Final value: \", np.round(val, 15))\n",
    "    \n",
    "    return x"
   ]
  },
  {
   "cell_type": "markdown",
   "metadata": {},
   "source": [
    "### Tests (3 pts) \n",
    "Test your method with above function `f`, and the following functions (written in `Python`) `boyd` and `quadratic` (with different types of matrix $H$)\n",
    "Other test functions are welcome.\n",
    "\n",
    "```python\n",
    "\n",
    "###############################################################################\n",
    "def boyd_example_func(x, order=0):\n",
    "  a=np.matrix('1  3')\n",
    "  b=np.matrix('1  -3')\n",
    "  c=np.matrix('-1  0')\n",
    "  x=np.asmatrix(x)\n",
    "  \n",
    "  value = exp(a*x-0.1)+exp(b*x-0.1)+exp(c*x-0.1)\n",
    "  if order==0:\n",
    "      return value\n",
    "  elif order==1:\n",
    "      gradient = a.T*exp(a*x-0.1)+b.T*exp(b*x-0.1)+c.T*exp(c*x-0.1)\n",
    "      return (value, gradient)\n",
    "  elif order==2:\n",
    "      gradient = a.T*exp(a*x-0.1)+b.T*exp(b*x-0.1)+c.T*exp(c*x-0.1)\n",
    "      hessian = a.T*a*exp(a*x-0.1)+b.T*b*exp(b*x-0.1)+c.T*c*exp(c*x-0.1)\n",
    "      return (value, gradient, hessian)\n",
    "  else:\n",
    "        raise ValueError(\"The argument \\\"order\\\" should be 0, 1 or 2\")\n",
    "\n",
    "\n",
    "###############################################################################\n",
    "def quadratic( H, b, x, order=0 ):\n",
    "    \"\"\" \n",
    "    Quadratic Objective\n",
    "    H:          the Hessian matrix\n",
    "    b:          the vector of linear coefficients\n",
    "    x:          the current iterate\n",
    "    order:      the order of the oracle. For example, order=1 returns the value of the function and its gradient while order=2 will also return the hessian\n",
    "    \"\"\"\n",
    "    H = np.asmatrix(H)\n",
    "    b = np.asmatrix(b)\n",
    "    x = np.asmatrix(x)\n",
    "    \n",
    "    value = 0.5 * x.T * H * x + b.T * x\n",
    "\n",
    "    if order == 0:\n",
    "        return value\n",
    "    elif order == 1:\n",
    "        gradient = H * x + b\n",
    "        return (value, gradient)\n",
    "    elif order == 2:\n",
    "        gradient = H * x + b\n",
    "        hessian = H\n",
    "        return (value, gradient, hessian)\n",
    "    else:\n",
    "        raise ValueError(\"The argument \\\"order\\\" should be 0, 1 or 2\")\n",
    "```\n",
    "\n",
    "\n"
   ]
  },
  {
   "cell_type": "markdown",
   "metadata": {},
   "source": [
    "I tested implemented methods on different functions, both those given in the problem and my own ones.\n",
    "\n",
    "It seems to work quite well, the accuracy when using both exact line search and backtracking line search algorithms are similar, but the version with the backtracking line search algorithm is much faster, which is especially important with problems of higher dimensionality."
   ]
  },
  {
   "cell_type": "markdown",
   "metadata": {},
   "source": [
    "#### function #1"
   ]
  },
  {
   "cell_type": "markdown",
   "metadata": {},
   "source": [
    "SciPy minimization function (with BFGS) - https://docs.scipy.org/doc/scipy/reference/optimize.minimize-bfgs.html#optimize-minimize-bfgs"
   ]
  },
  {
   "cell_type": "code",
   "execution_count": 25,
   "metadata": {
    "ExecuteTime": {
     "end_time": "2020-12-19T20:32:59.641974Z",
     "start_time": "2020-12-19T20:32:59.621941Z"
    }
   },
   "outputs": [
    {
     "name": "stdout",
     "output_type": "stream",
     "text": [
      "      fun: -192.62418183070685\n",
      " hess_inv: array([[0.00641733]])\n",
      "      jac: array([2.79710434e-07])\n",
      "  message: 'Optimization terminated successfully.'\n",
      "     nfev: 11\n",
      "      nit: 6\n",
      "     njev: 11\n",
      "   status: 0\n",
      "  success: True\n",
      "        x: array([2.32232458])\n",
      "Value in optimal point:  -192.62418183070685\n"
     ]
    }
   ],
   "source": [
    "res = minimize(f, np.array([0]), method='BFGS', jac=lambda x: f(x, order=1)[1])\n",
    "print(res)\n",
    "print('Value in optimal point: ', f(res['x'])[0])"
   ]
  },
  {
   "cell_type": "code",
   "execution_count": 26,
   "metadata": {
    "ExecuteTime": {
     "end_time": "2020-12-19T20:33:00.360100Z",
     "start_time": "2020-12-19T20:33:00.341101Z"
    }
   },
   "outputs": [
    {
     "name": "stdout",
     "output_type": "stream",
     "text": [
      "Linesearch algorithm: exact line search\n",
      "Number of Iterations:  1\n",
      "Final point:  2.322324583128488\n",
      "Final value:  -192.62418183070685\n",
      "Absolute error:  1.794173e-09\n",
      "Relative error:  7.72576e-10\n",
      "MSE:  0.0\n"
     ]
    }
   ],
   "source": [
    "print('Linesearch algorithm: exact line search')\n",
    "x_els = gradient_descent(f, 0, debug=True)\n",
    "print('Absolute error: ', np.round(np.abs(res['x'][0] - x_els), 15))\n",
    "print('Relative error: ', np.round(np.abs((res['x'][0] - x_els)/res['x'][0]), 15))\n",
    "print('MSE: ', np.round((res['x'][0] - x_els)**2, 15))"
   ]
  },
  {
   "cell_type": "code",
   "execution_count": 27,
   "metadata": {
    "ExecuteTime": {
     "end_time": "2020-12-19T20:33:00.842939Z",
     "start_time": "2020-12-19T20:33:00.820940Z"
    }
   },
   "outputs": [
    {
     "name": "stdout",
     "output_type": "stream",
     "text": [
      "Linesearch algorithm: backtracking line search\n",
      "Number of Iterations:  9\n",
      "Final point:  2.322324598117229\n",
      "Final value:  -192.62418183070685\n",
      "Absolute error:  1.3194567e-08\n",
      "Relative error:  5.681621e-09\n",
      "MSE:  0.0\n"
     ]
    }
   ],
   "source": [
    "print('Linesearch algorithm: backtracking line search')\n",
    "x_bls = gradient_descent(f, 0, linesearch_algorithm=backtracking_line_search, debug=True)\n",
    "print('Absolute error: ', np.round(np.abs(res['x'][0] - x_bls), 15))\n",
    "print('Relative error: ', np.round(np.abs((res['x'][0] - x_bls)/res['x'][0]), 15))\n",
    "print('MSE: ', np.round((res['x'][0] - x_bls)**2, 15))"
   ]
  },
  {
   "cell_type": "markdown",
   "metadata": {
    "ExecuteTime": {
     "end_time": "2020-12-19T17:56:12.746867Z",
     "start_time": "2020-12-19T17:56:12.730840Z"
    }
   },
   "source": [
    "#### function #2"
   ]
  },
  {
   "cell_type": "code",
   "execution_count": 28,
   "metadata": {
    "ExecuteTime": {
     "end_time": "2020-12-19T20:33:02.029835Z",
     "start_time": "2020-12-19T20:33:02.005814Z"
    }
   },
   "outputs": [
    {
     "name": "stdout",
     "output_type": "stream",
     "text": [
      "      fun: -1.3333333333333295\n",
      " hess_inv: array([[ 0.25161869, -0.00049938],\n",
      "       [-0.00049938,  0.16682073]])\n",
      "      jac: array([ 1.63618155e-07, -7.57168497e-08])\n",
      "  message: 'Optimization terminated successfully.'\n",
      "     nfev: 9\n",
      "      nit: 8\n",
      "     njev: 9\n",
      "   status: 0\n",
      "  success: True\n",
      "        x: array([ 4.09045387e-08, -6.66666679e-01])\n",
      "Value in optimal point:  -1.3333333333333295\n"
     ]
    }
   ],
   "source": [
    "res2 = minimize(f2, np.array([1,1]), method='BFGS', jac=lambda x: f2(x, order=1)[1])\n",
    "print(res2)\n",
    "print('Value in optimal point: ', f2(res2['x']))"
   ]
  },
  {
   "cell_type": "code",
   "execution_count": 29,
   "metadata": {
    "ExecuteTime": {
     "end_time": "2020-12-19T20:33:02.761362Z",
     "start_time": "2020-12-19T20:33:02.744365Z"
    }
   },
   "outputs": [
    {
     "name": "stdout",
     "output_type": "stream",
     "text": [
      "Linesearch algorithm: exact line search\n",
      "Number of Iterations:  7\n",
      "Final point:  [ 2.21030605e-06 -6.66667256e-01]\n",
      "Final value:  -1.33333333332252\n",
      "MSE:  2.519e-12\n"
     ]
    }
   ],
   "source": [
    "print('Linesearch algorithm: exact line search')\n",
    "x_els = gradient_descent(f2, np.array([1,1]) , debug=True)\n",
    "print('MSE: ', np.round(np.mean((res2['x'] - x_els)**2), 15))"
   ]
  },
  {
   "cell_type": "code",
   "execution_count": 30,
   "metadata": {
    "ExecuteTime": {
     "end_time": "2020-12-19T20:33:03.699408Z",
     "start_time": "2020-12-19T20:33:03.683382Z"
    }
   },
   "outputs": [
    {
     "name": "stdout",
     "output_type": "stream",
     "text": [
      "Linesearch algorithm: backtracking line search\n",
      "Number of Iterations:  9\n",
      "Final point:  [ 3.56453398e-07 -6.66667500e-01]\n",
      "Final value:  -1.333333333330996\n",
      "MSE:  3.87e-13\n"
     ]
    }
   ],
   "source": [
    "print('Linesearch algorithm: backtracking line search')\n",
    "x_bls = gradient_descent(f2, np.array([1,1]), linesearch_algorithm=backtracking_line_search, debug=True)\n",
    "print('MSE: ', np.round(np.mean((res2['x'] - x_bls)**2), 15))"
   ]
  },
  {
   "cell_type": "markdown",
   "metadata": {},
   "source": [
    "#### boyd example function"
   ]
  },
  {
   "cell_type": "code",
   "execution_count": 31,
   "metadata": {
    "ExecuteTime": {
     "end_time": "2020-12-19T20:33:05.146144Z",
     "start_time": "2020-12-19T20:33:05.133091Z"
    }
   },
   "outputs": [],
   "source": [
    "def boyd_example_func(x, order=0):\n",
    "    a = np.array([1,3])\n",
    "    b = np.array([1,-3])\n",
    "    c = np.array([-1,0])\n",
    "\n",
    "    value = np.exp(a@x-0.1)+np.exp(b@x-0.1)+np.exp(c@x-0.1)\n",
    "    if order==0:\n",
    "        return value\n",
    "    elif order==1:\n",
    "        gradient = a*np.exp(a@x-0.1)+b*np.exp(b@x-0.1)+c*np.exp(c@x-0.1)\n",
    "        return (value, gradient)\n",
    "    elif order==2:\n",
    "        gradient = a*np.exp(a@x-0.1)+b*np.exp(b@x-0.1)+c*np.exp(c@x-0.1)\n",
    "        a = a.reshape(1,-1)\n",
    "        b = b.reshape(1,-1)\n",
    "        c = c.reshape(1,-1)\n",
    "        x_ = x.reshape(-1,1)\n",
    "        hessian = a.T*a*np.exp(a@x-0.1)+b.T*b*np.exp(b@x-0.1)+c.T*c*np.exp(c@x-0.1)\n",
    "        return (value, gradient, hessian)\n",
    "    else:\n",
    "        raise ValueError(\"The argument \\\"order\\\" should be 0, 1 or 2\")"
   ]
  },
  {
   "cell_type": "code",
   "execution_count": 32,
   "metadata": {
    "ExecuteTime": {
     "end_time": "2020-12-19T20:33:05.940401Z",
     "start_time": "2020-12-19T20:33:05.916370Z"
    }
   },
   "outputs": [
    {
     "name": "stdout",
     "output_type": "stream",
     "text": [
      "      fun: 2.559266696658241\n",
      " hess_inv: array([[ 0.38438359, -0.00349181],\n",
      "       [-0.00349181,  0.08492073]])\n",
      "      jac: array([-2.33999667e-07, -5.78452418e-07])\n",
      "  message: 'Optimization terminated successfully.'\n",
      "     nfev: 13\n",
      "      nit: 11\n",
      "     njev: 13\n",
      "   status: 0\n",
      "  success: True\n",
      "        x: array([-3.46573682e-01, -5.02272755e-08])\n",
      "Value in optimal point:  2.559266696658241\n"
     ]
    }
   ],
   "source": [
    "res = minimize(boyd_example_func, np.array([1,1]), method='BFGS', jac=lambda x: boyd_example_func(x, order=1)[1])\n",
    "print(res)\n",
    "print('Value in optimal point: ', boyd_example_func(res['x']))"
   ]
  },
  {
   "cell_type": "code",
   "execution_count": 33,
   "metadata": {
    "ExecuteTime": {
     "end_time": "2020-12-19T20:33:06.901130Z",
     "start_time": "2020-12-19T20:33:06.842096Z"
    }
   },
   "outputs": [
    {
     "name": "stdout",
     "output_type": "stream",
     "text": [
      "Linesearch algorithm: exact line search\n",
      "Number of Iterations:  17\n",
      "Final point:  [-3.46570816e-01 -2.05147762e-07]\n",
      "Final value:  2.559266696668308\n",
      "MSE:  4.119e-12\n"
     ]
    }
   ],
   "source": [
    "print('Linesearch algorithm: exact line search')\n",
    "x_els = gradient_descent(boyd_example_func, np.array([1,1]) , debug=True)\n",
    "print('MSE: ', np.round(np.mean((res['x'] - x_els)**2), 15))"
   ]
  },
  {
   "cell_type": "code",
   "execution_count": 34,
   "metadata": {
    "ExecuteTime": {
     "end_time": "2020-12-19T20:33:08.117793Z",
     "start_time": "2020-12-19T20:33:08.090792Z"
    }
   },
   "outputs": [
    {
     "name": "stdout",
     "output_type": "stream",
     "text": [
      "Linesearch algorithm: backtracking line search\n",
      "Number of Iterations:  31\n",
      "Final point:  [-3.46571241e-01  6.90964135e-07]\n",
      "Final value:  2.559266696668026\n",
      "MSE:  3.253e-12\n"
     ]
    }
   ],
   "source": [
    "print('Linesearch algorithm: backtracking line search')\n",
    "x_bls = gradient_descent(boyd_example_func, np.array([1,1]), linesearch_algorithm=backtracking_line_search, debug=True)\n",
    "print('MSE: ', np.round(np.mean((res['x'] - x_bls)**2), 15))"
   ]
  },
  {
   "cell_type": "markdown",
   "metadata": {},
   "source": [
    "#### quadratic"
   ]
  },
  {
   "cell_type": "code",
   "execution_count": 35,
   "metadata": {
    "ExecuteTime": {
     "end_time": "2020-12-19T20:33:09.651679Z",
     "start_time": "2020-12-19T20:33:09.632681Z"
    }
   },
   "outputs": [],
   "source": [
    "def quadratic(H, b, x, order=0):\n",
    "    \"\"\" \n",
    "    Quadratic Objective\n",
    "    H:          the Hessian matrix\n",
    "    b:          the vector of linear coefficients\n",
    "    x:          the current iterate\n",
    "    order:      the order of the oracle. For example, order=1 returns the value of the function and its gradient while order=2 will also return the hessian\n",
    "    \"\"\"\n",
    "    H = np.asmatrix(H)\n",
    "    b = np.asmatrix(b)\n",
    "    x = np.asmatrix(x)\n",
    "    \n",
    "    value = float(0.5 * x @ H @ x.T + b @ x.T)\n",
    "\n",
    "    if order == 0:\n",
    "        return value\n",
    "    elif order == 1:\n",
    "        gradient = (np.array((H @ x.T).reshape(1,-1) + b)).reshape(-1,)\n",
    "        return (value, gradient)\n",
    "    elif order == 2:\n",
    "        gradient = (np.array((H @ x.T).reshape(1,-1) + b)).reshape(-1,)\n",
    "        hessian = H\n",
    "        return (value, gradient, hessian)\n",
    "    else:\n",
    "        raise ValueError(\"The argument \\\"order\\\" should be 0, 1 or 2\")"
   ]
  },
  {
   "cell_type": "code",
   "execution_count": 36,
   "metadata": {
    "ExecuteTime": {
     "end_time": "2020-12-19T20:33:10.305432Z",
     "start_time": "2020-12-19T20:33:10.286440Z"
    }
   },
   "outputs": [
    {
     "name": "stdout",
     "output_type": "stream",
     "text": [
      "      fun: -0.9166666666662825\n",
      " hess_inv: array([[ 1.01300345, -0.01318065, -0.00608001],\n",
      "       [-0.01318065,  0.51350724,  0.00728037],\n",
      "       [-0.00608001,  0.00728037,  0.34467277]])\n",
      "      jac: array([-1.29275435e-07,  3.71691441e-07,  1.43149579e-06])\n",
      "  message: 'Optimization terminated successfully.'\n",
      "     nfev: 8\n",
      "      nit: 7\n",
      "     njev: 8\n",
      "   status: 0\n",
      "  success: True\n",
      "        x: array([-1.00000013, -0.49999981, -0.33333286])\n",
      "Value in optimal point:  -0.9166666666662825\n"
     ]
    }
   ],
   "source": [
    "H = np.diag([1., 2., 3.])\n",
    "b = np.array([1., 1., 1.])\n",
    "quadratic_ = lambda x, order=0: quadratic(H, b, x, order)\n",
    "res = minimize(quadratic_, np.array([1., 1., 1.]), method='BFGS', jac=lambda x: quadratic_(x, order=1)[1])\n",
    "print(res)\n",
    "print('Value in optimal point: ', quadratic_(res['x']))"
   ]
  },
  {
   "cell_type": "code",
   "execution_count": 37,
   "metadata": {
    "ExecuteTime": {
     "end_time": "2020-12-19T20:33:11.132709Z",
     "start_time": "2020-12-19T20:33:11.020694Z"
    }
   },
   "outputs": [
    {
     "name": "stdout",
     "output_type": "stream",
     "text": [
      "Linesearch algorithm: exact line search\n",
      "Number of Iterations:  18\n",
      "Final point:  [-0.99999286 -0.5        -0.33333058]\n",
      "Final value:  -0.916666666629765\n",
      "MSE:  1.9363e-11\n"
     ]
    }
   ],
   "source": [
    "print('Linesearch algorithm: exact line search')\n",
    "x_els = gradient_descent(quadratic_, np.array([1.0,1.0,1.0]), debug=True)\n",
    "print('MSE: ', np.round(np.mean((res['x'] - x_els)**2), 15))"
   ]
  },
  {
   "cell_type": "code",
   "execution_count": 38,
   "metadata": {
    "ExecuteTime": {
     "end_time": "2020-12-19T20:33:11.600482Z",
     "start_time": "2020-12-19T20:33:11.565449Z"
    }
   },
   "outputs": [
    {
     "name": "stdout",
     "output_type": "stream",
     "text": [
      "Linesearch algorithm: backtracking line search\n",
      "Number of Iterations:  19\n",
      "Final point:  [-0.99999597 -0.5        -0.33333493]\n",
      "Final value:  -0.916666666654708\n",
      "MSE:  7.218e-12\n"
     ]
    }
   ],
   "source": [
    "print('Linesearch algorithm: backtracking line search')\n",
    "x_bls = gradient_descent(quadratic_, np.array([1.0,1.0,1.0]), linesearch_algorithm=backtracking_line_search, debug=True)\n",
    "print('MSE: ', np.round(np.mean((res['x'] - x_bls)**2), 15))"
   ]
  },
  {
   "cell_type": "markdown",
   "metadata": {},
   "source": [
    "#### random quadratic"
   ]
  },
  {
   "cell_type": "code",
   "execution_count": 39,
   "metadata": {
    "ExecuteTime": {
     "end_time": "2020-12-19T20:33:13.173489Z",
     "start_time": "2020-12-19T20:33:13.155491Z"
    }
   },
   "outputs": [],
   "source": [
    "d = 10\n",
    "while True:\n",
    "    H = np.random.randint(0,100*d**2,(d,d))\n",
    "    H = (H+H.T)/2\n",
    "    w,v = np.linalg.eig(H)\n",
    "    H = v @ np.diag(np.abs(w)) @ np.linalg.inv(v)\n",
    "    w,v = np.linalg.eig(H)\n",
    "    if np.all(w>0):\n",
    "        break"
   ]
  },
  {
   "cell_type": "code",
   "execution_count": 40,
   "metadata": {
    "ExecuteTime": {
     "end_time": "2020-12-19T20:33:14.173350Z",
     "start_time": "2020-12-19T20:33:14.153381Z"
    }
   },
   "outputs": [],
   "source": [
    "b = np.random.randint(0,100*d,(d,))\n",
    "x0 = np.ones(d)"
   ]
  },
  {
   "cell_type": "code",
   "execution_count": 41,
   "metadata": {
    "ExecuteTime": {
     "end_time": "2020-12-19T20:33:14.699495Z",
     "start_time": "2020-12-19T20:33:14.675467Z"
    }
   },
   "outputs": [
    {
     "name": "stdout",
     "output_type": "stream",
     "text": [
      "      fun: -147.05559352732791\n",
      " hess_inv: array([[ 5.48334918e-04, -1.67896653e-04, -5.94315602e-05,\n",
      "        -1.25373614e-05, -1.03828020e-04,  3.90875671e-05,\n",
      "         3.76302789e-05, -1.16070296e-05, -3.51558699e-05,\n",
      "        -1.85533657e-04],\n",
      "       [-1.67896653e-04,  1.41685413e-04, -5.13884217e-05,\n",
      "         3.17293822e-05, -5.81015462e-06, -3.03446401e-05,\n",
      "         3.08371524e-05,  4.15789510e-06, -4.88683022e-05,\n",
      "         8.97229510e-05],\n",
      "       [-5.94315602e-05, -5.13884217e-05,  6.72434085e-04,\n",
      "        -1.69797750e-04,  1.82155974e-04, -1.96345764e-04,\n",
      "        -5.41538059e-04,  5.58117117e-05,  1.22229267e-04,\n",
      "        -3.12971221e-05],\n",
      "       [-1.25373614e-05,  3.17293822e-05, -1.69797750e-04,\n",
      "         3.63857559e-04, -1.92546259e-04, -1.55809483e-04,\n",
      "         1.05219110e-04, -8.62467629e-06, -9.81553254e-05,\n",
      "         1.02718335e-04],\n",
      "       [-1.03828020e-04, -5.81015462e-06,  1.82155974e-04,\n",
      "        -1.92546259e-04,  4.62274249e-04,  1.78651094e-04,\n",
      "        -2.15250828e-04, -3.83310550e-05,  2.11466759e-04,\n",
      "        -2.97549085e-04],\n",
      "       [ 3.90875671e-05, -3.03446401e-05, -1.96345764e-04,\n",
      "        -1.55809483e-04,  1.78651094e-04,  4.51084708e-04,\n",
      "         1.51741201e-04, -6.45969433e-05,  1.32980425e-04,\n",
      "        -3.01576247e-04],\n",
      "       [ 3.76302789e-05,  3.08371524e-05, -5.41538059e-04,\n",
      "         1.05219110e-04, -2.15250828e-04,  1.51741201e-04,\n",
      "         7.25788013e-04, -1.34268395e-04, -1.08102812e-04,\n",
      "         9.19466563e-06],\n",
      "       [-1.16070296e-05,  4.15789510e-06,  5.58117117e-05,\n",
      "        -8.62467629e-06, -3.83310550e-05, -6.45969433e-05,\n",
      "        -1.34268395e-04,  1.82310761e-04, -1.26434788e-04,\n",
      "         9.93369000e-05],\n",
      "       [-3.51558699e-05, -4.88683022e-05,  1.22229267e-04,\n",
      "        -9.81553254e-05,  2.11466759e-04,  1.32980425e-04,\n",
      "        -1.08102812e-04, -1.26434788e-04,  3.70442932e-04,\n",
      "        -2.81896889e-04],\n",
      "       [-1.85533657e-04,  8.97229510e-05, -3.12971221e-05,\n",
      "         1.02718335e-04, -2.97549085e-04, -3.01576247e-04,\n",
      "         9.19466563e-06,  9.93369000e-05, -2.81896889e-04,\n",
      "         5.90839194e-04]])\n",
      "      jac: array([-5.74787634e-07, -2.73733804e-07, -7.86214969e-08,  7.01367071e-08,\n",
      "        6.64898266e-07, -5.20159574e-07,  3.18210596e-07,  2.21449454e-07,\n",
      "        2.97578936e-07,  4.76564423e-07])\n",
      "  message: 'Optimization terminated successfully.'\n",
      "     nfev: 21\n",
      "      nit: 14\n",
      "     njev: 21\n",
      "   status: 0\n",
      "  success: True\n",
      "        x: array([ 0.0987273 , -0.00563372,  0.19595903,  0.00289389, -0.04964066,\n",
      "       -0.23821218, -0.19161396,  0.09231415, -0.18673389,  0.10574052])\n",
      "Value in optimal point:  -147.05559352732791\n"
     ]
    }
   ],
   "source": [
    "quadratic_ = lambda x, order=0: quadratic(H, b, x, order)\n",
    "res = minimize(quadratic_, x0, method='BFGS', jac=lambda x: quadratic_(x, order=1)[1])\n",
    "print(res)\n",
    "print('Value in optimal point: ', quadratic_(res['x']))"
   ]
  },
  {
   "cell_type": "code",
   "execution_count": 42,
   "metadata": {
    "ExecuteTime": {
     "end_time": "2020-12-19T20:33:30.235379Z",
     "start_time": "2020-12-19T20:33:15.614714Z"
    }
   },
   "outputs": [
    {
     "name": "stdout",
     "output_type": "stream",
     "text": [
      "Linesearch algorithm: exact line search\n",
      "Number of Iterations:  268\n",
      "Final point:  [ 0.09872731 -0.00563372  0.19595903  0.00289389 -0.04964066 -0.23821218\n",
      " -0.19161395  0.09231415 -0.18673389  0.10574052]\n",
      "Final value:  -147.05559352732797\n",
      "Time:  14.608664274215698\n",
      "MSE:  0.0\n"
     ]
    }
   ],
   "source": [
    "print('Linesearch algorithm: exact line search')\n",
    "t0 = time.time()\n",
    "x_els = gradient_descent(quadratic_, x0, debug=True)\n",
    "print('Time: ', time.time()-t0)\n",
    "print('MSE: ', np.round(np.mean((res['x'] - x_els)**2), 15))"
   ]
  },
  {
   "cell_type": "code",
   "execution_count": 43,
   "metadata": {
    "ExecuteTime": {
     "end_time": "2020-12-19T20:33:32.379376Z",
     "start_time": "2020-12-19T20:33:30.237400Z"
    }
   },
   "outputs": [
    {
     "name": "stdout",
     "output_type": "stream",
     "text": [
      "Linesearch algorithm: backtracking line search\n",
      "Number of Iterations:  472\n",
      "Final point:  [ 0.0987273  -0.00563372  0.19595903  0.00289389 -0.04964066 -0.23821218\n",
      " -0.19161395  0.09231415 -0.18673389  0.10574052]\n",
      "Final value:  -147.05559352732797\n",
      "Time:  2.1299960613250732\n",
      "MSE:  0.0\n"
     ]
    }
   ],
   "source": [
    "print('Linesearch algorithm: backtracking line search')\n",
    "t0 = time.time()\n",
    "x_bls = gradient_descent(quadratic_, x0, linesearch_algorithm=backtracking_line_search, debug=True)\n",
    "print('Time: ', time.time()-t0)\n",
    "print('MSE: ', np.round(np.mean((res['x'] - x_bls)**2), 15))"
   ]
  },
  {
   "cell_type": "markdown",
   "metadata": {},
   "source": [
    "### Bonus problem (5 pts)"
   ]
  },
  {
   "cell_type": "markdown",
   "metadata": {},
   "source": [
    "One can get extra (5 points) if gradient descent method is implemented in a clean <a href=\"https://github.com/google/jax\">JAX framework</a> and its convergence is tested with *logistic regression problem* for <a href=\"https://archive.ics.uci.edu/ml/datasets/madelon\">Madelon</a> or <a href=\"http://www.causality.inf.ethz.ch/data/SIDO.html\">SIDO</a> dataset."
   ]
  },
  {
   "cell_type": "code",
   "execution_count": null,
   "metadata": {},
   "outputs": [],
   "source": []
  },
  {
   "cell_type": "markdown",
   "metadata": {},
   "source": [
    "---"
   ]
  }
 ],
 "metadata": {
  "@webio": {
   "lastCommId": null,
   "lastKernelId": null
  },
  "kernelspec": {
   "display_name": "Python 3",
   "language": "python",
   "name": "python3"
  },
  "language_info": {
   "codemirror_mode": {
    "name": "ipython",
    "version": 3
   },
   "file_extension": ".py",
   "mimetype": "text/x-python",
   "name": "python",
   "nbconvert_exporter": "python",
   "pygments_lexer": "ipython3",
   "version": "3.7.6"
  },
  "toc": {
   "base_numbering": 1,
   "nav_menu": {},
   "number_sections": true,
   "sideBar": true,
   "skip_h1_title": false,
   "title_cell": "Table of Contents",
   "title_sidebar": "Contents",
   "toc_cell": false,
   "toc_position": {
    "height": "calc(100% - 180px)",
    "left": "10px",
    "top": "150px",
    "width": "307.2px"
   },
   "toc_section_display": true,
   "toc_window_display": true
  }
 },
 "nbformat": 4,
 "nbformat_minor": 4
}
