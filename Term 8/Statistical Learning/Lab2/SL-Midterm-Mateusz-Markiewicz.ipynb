{
 "cells": [
  {
   "cell_type": "markdown",
   "id": "listed-irrigation",
   "metadata": {},
   "source": [
    "# SL - Midterm 1\n",
    "Mateusz Markiewicz (298653)"
   ]
  },
  {
   "cell_type": "markdown",
   "id": "daily-surprise",
   "metadata": {},
   "source": [
    "## 1"
   ]
  },
  {
   "cell_type": "code",
   "execution_count": 1,
   "id": "genuine-panama",
   "metadata": {},
   "outputs": [],
   "source": [
    "library(MASS)\n",
    "library(bigstep)"
   ]
  },
  {
   "cell_type": "code",
   "execution_count": 2,
   "id": "reflected-clearance",
   "metadata": {},
   "outputs": [],
   "source": [
    "RSS <- 31.184509094\n",
    "n <- 85\n",
    "p <- 46"
   ]
  },
  {
   "cell_type": "code",
   "execution_count": 3,
   "id": "enclosed-auditor",
   "metadata": {},
   "outputs": [
    {
     "data": {
      "text/html": [
       "0.799602797282051"
      ],
      "text/latex": [
       "0.799602797282051"
      ],
      "text/markdown": [
       "0.799602797282051"
      ],
      "text/plain": [
       "[1] 0.7996028"
      ]
     },
     "metadata": {},
     "output_type": "display_data"
    }
   ],
   "source": [
    "sigma2 <- RSS/(n-p)\n",
    "sigma2"
   ]
  },
  {
   "cell_type": "code",
   "execution_count": 4,
   "id": "dying-journalism",
   "metadata": {},
   "outputs": [
    {
     "data": {
      "text/html": [
       "104.747966443949"
      ],
      "text/latex": [
       "104.747966443949"
      ],
      "text/markdown": [
       "104.747966443949"
      ],
      "text/plain": [
       "[1] 104.748"
      ]
     },
     "metadata": {},
     "output_type": "display_data"
    }
   ],
   "source": [
    "PE <- RSS + 2*sigma2*p\n",
    "PE"
   ]
  },
  {
   "cell_type": "markdown",
   "id": "promising-dutch",
   "metadata": {},
   "source": [
    "## 2"
   ]
  },
  {
   "cell_type": "code",
   "execution_count": 5,
   "id": "broad-decline",
   "metadata": {},
   "outputs": [],
   "source": [
    "res <- c(-0.74896851, 0.18504272, 0.05353262, 0.90002042, 0.34951825, 0.30258145, 0.34759314, 0.5290598 ,-0.66960163,-0.56238394,-0.71956073,-0.24149032, 0.41539896,-0.3860691 ,-0.30886611, 0.63818782, 0.54269018,-0.13567913,-0.77581358,-0.33262997)"
   ]
  },
  {
   "cell_type": "code",
   "execution_count": 6,
   "id": "afraid-stewart",
   "metadata": {},
   "outputs": [],
   "source": [
    "diag <- c(0.5047443135256755, 0.517480392775534, 0.9556045449249919, 0.42252129920717624, 0.5706017655668559, 0.7943916812575631, 0.885321918585358, 0.8684523898319751, 0.8445888564098205, 0.8709102889684243, 0.6925369503789239, 0.5654700646285177, 0.7161015805915008, 0.8988944063015787, 0.7103741649330928, 0.8820012147136895, 0.6577313840192521, 0.9539316566096991, 0.7813476520272873, 0.9069934747430809)"
   ]
  },
  {
   "cell_type": "code",
   "execution_count": 7,
   "id": "processed-absorption",
   "metadata": {},
   "outputs": [
    {
     "data": {
      "text/html": [
       "161.515017476461"
      ],
      "text/latex": [
       "161.515017476461"
      ],
      "text/markdown": [
       "161.515017476461"
      ],
      "text/plain": [
       "[1] 161.515"
      ]
     },
     "metadata": {},
     "output_type": "display_data"
    }
   ],
   "source": [
    "CV <- sum((res/(1-diag))^2)\n",
    "CV"
   ]
  },
  {
   "cell_type": "markdown",
   "id": "critical-costs",
   "metadata": {},
   "source": [
    "## 3"
   ]
  },
  {
   "cell_type": "code",
   "execution_count": 8,
   "id": "patient-cowboy",
   "metadata": {},
   "outputs": [],
   "source": [
    "n <- 235\n",
    "p <- 235\n",
    "k <- 235 - 221"
   ]
  },
  {
   "cell_type": "code",
   "execution_count": 9,
   "id": "coupled-israel",
   "metadata": {},
   "outputs": [],
   "source": [
    "t <- sqrt(log(n) + 2*log(p/4))"
   ]
  },
  {
   "cell_type": "code",
   "execution_count": 10,
   "id": "august-excuse",
   "metadata": {},
   "outputs": [
    {
     "data": {
      "text/html": [
       "0.0498230391386667"
      ],
      "text/latex": [
       "0.0498230391386667"
      ],
      "text/markdown": [
       "0.0498230391386667"
      ],
      "text/plain": [
       "[1] 0.04982304"
      ]
     },
     "metadata": {},
     "output_type": "display_data"
    }
   ],
   "source": [
    "E <- (p-k)*(2*(1-pnorm(t)))\n",
    "E"
   ]
  },
  {
   "cell_type": "markdown",
   "id": "ambient-artist",
   "metadata": {},
   "source": [
    "## 4"
   ]
  },
  {
   "cell_type": "code",
   "execution_count": 11,
   "id": "stupid-expense",
   "metadata": {},
   "outputs": [],
   "source": [
    "n <- 241\n",
    "p <- 241\n",
    "sig_strength <- 3.45902341045"
   ]
  },
  {
   "cell_type": "code",
   "execution_count": 12,
   "id": "colonial-convert",
   "metadata": {},
   "outputs": [],
   "source": [
    "t <- sqrt(log(n) + 2*log(p/4))"
   ]
  },
  {
   "cell_type": "code",
   "execution_count": 13,
   "id": "imported-polymer",
   "metadata": {},
   "outputs": [
    {
     "data": {
      "text/html": [
       "0.405216063329863"
      ],
      "text/latex": [
       "0.405216063329863"
      ],
      "text/markdown": [
       "0.405216063329863"
      ],
      "text/plain": [
       "[1] 0.4052161"
      ]
     },
     "metadata": {},
     "output_type": "display_data"
    }
   ],
   "source": [
    "pow <- (1-pnorm(t-sig_strength)+pnorm(-t-sig_strength))\n",
    "pow"
   ]
  },
  {
   "cell_type": "markdown",
   "id": "hundred-charm",
   "metadata": {},
   "source": [
    "## 5"
   ]
  },
  {
   "cell_type": "code",
   "execution_count": 14,
   "id": "satisfactory-converter",
   "metadata": {},
   "outputs": [],
   "source": [
    "n <- 100\n",
    "p <- 100\n",
    "k <- 19\n",
    "sig_strength <- 5.0"
   ]
  },
  {
   "cell_type": "code",
   "execution_count": 15,
   "id": "casual-taylor",
   "metadata": {},
   "outputs": [
    {
     "data": {
      "text/html": [
       "0.210526315789474"
      ],
      "text/latex": [
       "0.210526315789474"
      ],
      "text/markdown": [
       "0.210526315789474"
      ],
      "text/plain": [
       "[1] 0.2105263"
      ]
     },
     "metadata": {},
     "output_type": "display_data"
    }
   ],
   "source": [
    "gamma <- p/(k*(sig_strength^2));\n",
    "gamma"
   ]
  },
  {
   "cell_type": "markdown",
   "id": "editorial-fusion",
   "metadata": {},
   "source": [
    "## 6"
   ]
  },
  {
   "cell_type": "code",
   "execution_count": 16,
   "id": "exact-prayer",
   "metadata": {},
   "outputs": [],
   "source": [
    "n <- 100\n",
    "p <- 100\n",
    "gamma <- 0.4\n",
    "sig_strength <- 4.0"
   ]
  },
  {
   "cell_type": "code",
   "execution_count": 17,
   "id": "authorized-browse",
   "metadata": {},
   "outputs": [
    {
     "data": {
      "text/html": [
       "-1.14285714285714"
      ],
      "text/latex": [
       "-1.14285714285714"
      ],
      "text/markdown": [
       "-1.14285714285714"
      ],
      "text/plain": [
       "[1] -1.142857"
      ]
     },
     "metadata": {},
     "output_type": "display_data"
    }
   ],
   "source": [
    "bias <- (-gamma/(1+gamma))*sig_strength\n",
    "bias"
   ]
  },
  {
   "cell_type": "markdown",
   "id": "visible-rings",
   "metadata": {},
   "source": [
    "## 7"
   ]
  },
  {
   "cell_type": "code",
   "execution_count": 18,
   "id": "running-embassy",
   "metadata": {},
   "outputs": [],
   "source": [
    "gamma <- 0.4\n",
    "RSS <- 7.54030033273"
   ]
  },
  {
   "cell_type": "code",
   "execution_count": 19,
   "id": "revolutionary-stability",
   "metadata": {},
   "outputs": [],
   "source": [
    "eig <- c(50.546241786177376, 47.720379564716985, 37.57062417729634, 33.67345522337077, 26.441934813846434, 24.89120177960039, 15.957630914386732, 13.6552896981693, 12.522609680520414, 9.688917308359827, 6.867420579997844, 5.925472019317317, 3.6908312823613914, 1.9652969349134684, 1.26875985620672)"
   ]
  },
  {
   "cell_type": "code",
   "execution_count": 20,
   "id": "baking-investment",
   "metadata": {},
   "outputs": [],
   "source": [
    "sigma2 <- 1"
   ]
  },
  {
   "cell_type": "code",
   "execution_count": 21,
   "id": "eastern-cattle",
   "metadata": {},
   "outputs": [],
   "source": [
    "tr <- sum(eig/(eig+gamma))"
   ]
  },
  {
   "cell_type": "code",
   "execution_count": 22,
   "id": "contained-vault",
   "metadata": {},
   "outputs": [
    {
     "data": {
      "text/html": [
       "35.905228212128"
      ],
      "text/latex": [
       "35.905228212128"
      ],
      "text/markdown": [
       "35.905228212128"
      ],
      "text/plain": [
       "[1] 35.90523"
      ]
     },
     "metadata": {},
     "output_type": "display_data"
    }
   ],
   "source": [
    "PE <- RSS + 2*sigma2*tr\n",
    "PE"
   ]
  }
 ],
 "metadata": {
  "kernelspec": {
   "display_name": "R",
   "language": "R",
   "name": "ir"
  },
  "language_info": {
   "codemirror_mode": "r",
   "file_extension": ".r",
   "mimetype": "text/x-r-source",
   "name": "R",
   "pygments_lexer": "r",
   "version": "4.0.4"
  }
 },
 "nbformat": 4,
 "nbformat_minor": 5
}
