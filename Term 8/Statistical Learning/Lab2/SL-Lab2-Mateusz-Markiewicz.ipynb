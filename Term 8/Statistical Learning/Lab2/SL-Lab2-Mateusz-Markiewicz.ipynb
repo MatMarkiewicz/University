{
 "cells": [
  {
   "cell_type": "markdown",
   "id": "little-meditation",
   "metadata": {},
   "source": [
    "# Lab 2 - Mateusz Markiewicz (298653)"
   ]
  },
  {
   "cell_type": "markdown",
   "id": "specific-consumption",
   "metadata": {},
   "source": [
    "## Ex 1\n",
    "Generate orthonormal $(X^T X = I)$ matrix od dimension $1000 \\times 950$. Consider the regressionmodel\n",
    "$Y = X \\beta + \\epsilon$,\n",
    "with $\\epsilon \\sim N(0, I_{N\\times N})$ and the vector of regression coefficients $\\beta_1 = \\cdots = \\beta_k = 3.5$ and $\\beta_{k+1} = \\cdots = \\beta_{950} = 0$ with $k = \\{20,100,200\\}$.\n",
    "\n",
    "For each of these cases:\n",
    "\n",
    "i) To be done by hand: Calculate the value of the tuning parameter $\\lambda$ for the ridge regression, so as to minimize the mean square error of the estimation of $\\beta$.\n",
    "\n",
    "ii) To be done by hand: Calculate the bias, the variance and the mean squared error of this optimal estimator.\n",
    "\n",
    "iii) To be done by hand: Find the critical value and calculate the power of the statistical test based on the ridge estimator and controlling FWER at the level 0.1.\n",
    "\n",
    "iv) Generate 200 replicates of the above model and analyze the data using ridge regression and OLS. Compare empirical bias, variance, mse and the power of the test based on the ridge estimator with the theoretical values of these parameters, calculated above and with the corresponding parameters of OLS."
   ]
  },
  {
   "cell_type": "markdown",
   "id": "complex-dominant",
   "metadata": {},
   "source": [
    "### Optimal $\\gamma$"
   ]
  },
  {
   "cell_type": "markdown",
   "id": "acting-beach",
   "metadata": {},
   "source": [
    "We want to find $\\gamma$ minimizing the expected value of the mean square error of estimation of $\\beta$. To do so, we can simply compute the derivative and find the root of it. Of course, $\\gamma$ has different values for each k."
   ]
  },
  {
   "cell_type": "markdown",
   "id": "certified-elevation",
   "metadata": {},
   "source": [
    "![](1.png)"
   ]
  },
  {
   "cell_type": "code",
   "execution_count": 1,
   "id": "peaceful-cream",
   "metadata": {},
   "outputs": [
    {
     "data": {
      "text/html": [
       "<style>\n",
       ".list-inline {list-style: none; margin:0; padding: 0}\n",
       ".list-inline>li {display: inline-block}\n",
       ".list-inline>li:not(:last-child)::after {content: \"\\00b7\"; padding: 0 .5ex}\n",
       "</style>\n",
       "<ol class=list-inline><li>3.87755102040816</li><li>0.775510204081633</li><li>0.387755102040816</li></ol>\n"
      ],
      "text/latex": [
       "\\begin{enumerate*}\n",
       "\\item 3.87755102040816\n",
       "\\item 0.775510204081633\n",
       "\\item 0.387755102040816\n",
       "\\end{enumerate*}\n"
      ],
      "text/markdown": [
       "1. 3.87755102040816\n",
       "2. 0.775510204081633\n",
       "3. 0.387755102040816\n",
       "\n",
       "\n"
      ],
      "text/plain": [
       "[1] 3.8775510 0.7755102 0.3877551"
      ]
     },
     "metadata": {},
     "output_type": "display_data"
    }
   ],
   "source": [
    "p <- 950;\n",
    "k <- c(20,100,200);\n",
    "gamma <- p/(k*(3.5)^2);\n",
    "gamma"
   ]
  },
  {
   "cell_type": "markdown",
   "id": "manufactured-complaint",
   "metadata": {},
   "source": [
    "### Bias, variance and the MSE"
   ]
  },
  {
   "cell_type": "markdown",
   "id": "strong-submission",
   "metadata": {},
   "source": [
    "Bias is the difference between the true value of $\\beta_i$ and an estimation. We can see that bias has different values for $\\beta_i = 0$ and $\\beta_i \\neq 0$."
   ]
  },
  {
   "cell_type": "markdown",
   "id": "embedded-membership",
   "metadata": {},
   "source": [
    "![](2.png)"
   ]
  },
  {
   "cell_type": "code",
   "execution_count": 2,
   "id": "reverse-summary",
   "metadata": {},
   "outputs": [
    {
     "name": "stdout",
     "output_type": "stream",
     "text": [
      "[1] \"Bias for nonzero betas:\"\n",
      "[1] -2.7824268 -1.5287356 -0.9779412\n",
      "[1] \"Bias for zero betas:\"\n",
      "[1] 0 0 0\n"
     ]
    }
   ],
   "source": [
    "print(\"Bias for nonzero betas:\")\n",
    "bias <- -gamma/(1+gamma)*3.5\n",
    "print(bias)\n",
    "print(\"Bias for zero betas:\")\n",
    "bias2 <- rep(0,3)\n",
    "print(bias2)"
   ]
  },
  {
   "cell_type": "markdown",
   "id": "exact-french",
   "metadata": {},
   "source": [
    "We can get a variance of RR-beta estimation by scaling the variance of OLS-beta estimation."
   ]
  },
  {
   "cell_type": "markdown",
   "id": "requested-fusion",
   "metadata": {},
   "source": [
    "![](3.png)"
   ]
  },
  {
   "cell_type": "code",
   "execution_count": 3,
   "id": "disabled-chair",
   "metadata": {},
   "outputs": [
    {
     "data": {
      "text/html": [
       "<style>\n",
       ".list-inline {list-style: none; margin:0; padding: 0}\n",
       ".list-inline>li {display: inline-block}\n",
       ".list-inline>li:not(:last-child)::after {content: \"\\00b7\"; padding: 0 .5ex}\n",
       "</style>\n",
       "<ol class=list-inline><li>0.0420335778435252</li><li>0.31721495574052</li><li>0.519247404844291</li></ol>\n"
      ],
      "text/latex": [
       "\\begin{enumerate*}\n",
       "\\item 0.0420335778435252\n",
       "\\item 0.31721495574052\n",
       "\\item 0.519247404844291\n",
       "\\end{enumerate*}\n"
      ],
      "text/markdown": [
       "1. 0.0420335778435252\n",
       "2. 0.31721495574052\n",
       "3. 0.519247404844291\n",
       "\n",
       "\n"
      ],
      "text/plain": [
       "[1] 0.04203358 0.31721496 0.51924740"
      ]
     },
     "metadata": {},
     "output_type": "display_data"
    }
   ],
   "source": [
    "var = (1/(1+gamma))^2\n",
    "var"
   ]
  },
  {
   "cell_type": "markdown",
   "id": "affiliated-stanley",
   "metadata": {},
   "source": [
    "We can calculate MSE using our bias and variance values."
   ]
  },
  {
   "cell_type": "markdown",
   "id": "threaded-advertiser",
   "metadata": {},
   "source": [
    "![](4.png)"
   ]
  },
  {
   "cell_type": "code",
   "execution_count": 4,
   "id": "internal-equity",
   "metadata": {},
   "outputs": [
    {
     "data": {
      "text/html": [
       "<style>\n",
       ".list-inline {list-style: none; margin:0; padding: 0}\n",
       ".list-inline>li {display: inline-block}\n",
       ".list-inline>li:not(:last-child)::after {content: \"\\00b7\"; padding: 0 .5ex}\n",
       "</style>\n",
       "<ol class=list-inline><li>194.769874476987</li><li>535.057471264368</li><li>684.558823529412</li></ol>\n"
      ],
      "text/latex": [
       "\\begin{enumerate*}\n",
       "\\item 194.769874476987\n",
       "\\item 535.057471264368\n",
       "\\item 684.558823529412\n",
       "\\end{enumerate*}\n"
      ],
      "text/markdown": [
       "1. 194.769874476987\n",
       "2. 535.057471264368\n",
       "3. 684.558823529412\n",
       "\n",
       "\n"
      ],
      "text/plain": [
       "[1] 194.7699 535.0575 684.5588"
      ]
     },
     "metadata": {},
     "output_type": "display_data"
    }
   ],
   "source": [
    "MSE <- (p+k*((3.5*gamma)^2))/((1+gamma)^2)\n",
    "MSE"
   ]
  },
  {
   "cell_type": "markdown",
   "id": "comprehensive-zimbabwe",
   "metadata": {},
   "source": [
    "### Critival value and power"
   ]
  },
  {
   "cell_type": "markdown",
   "id": "alone-johns",
   "metadata": {},
   "source": [
    "To calculate the power we have to calculate critical value firstly, for example using Bonferroni correction."
   ]
  },
  {
   "cell_type": "markdown",
   "id": "compound-horizon",
   "metadata": {},
   "source": [
    "![](5.png)"
   ]
  },
  {
   "cell_type": "code",
   "execution_count": 5,
   "id": "baking-maine",
   "metadata": {},
   "outputs": [
    {
     "data": {
      "text/html": [
       "<style>\n",
       ".list-inline {list-style: none; margin:0; padding: 0}\n",
       ".list-inline>li {display: inline-block}\n",
       ".list-inline>li:not(:last-child)::after {content: \"\\00b7\"; padding: 0 .5ex}\n",
       "</style>\n",
       "<ol class=list-inline><li>0.795097455201575</li><li>2.18423323900203</li><li>2.79453370284083</li></ol>\n"
      ],
      "text/latex": [
       "\\begin{enumerate*}\n",
       "\\item 0.795097455201575\n",
       "\\item 2.18423323900203\n",
       "\\item 2.79453370284083\n",
       "\\end{enumerate*}\n"
      ],
      "text/markdown": [
       "1. 0.795097455201575\n",
       "2. 2.18423323900203\n",
       "3. 2.79453370284083\n",
       "\n",
       "\n"
      ],
      "text/plain": [
       "[1] 0.7950975 2.1842332 2.7945337"
      ]
     },
     "metadata": {},
     "output_type": "display_data"
    }
   ],
   "source": [
    "t <- qnorm(1-0.1/(2*p))\n",
    "c <- 1/(1+gamma)\n",
    "tcrit <- t*c\n",
    "tcrit"
   ]
  },
  {
   "cell_type": "markdown",
   "id": "dress-jimmy",
   "metadata": {},
   "source": [
    "The power is the same for all $\\gamma$ values."
   ]
  },
  {
   "cell_type": "markdown",
   "id": "antique-protein",
   "metadata": {},
   "source": [
    "![](6.png)"
   ]
  },
  {
   "cell_type": "code",
   "execution_count": 6,
   "id": "acoustic-fighter",
   "metadata": {},
   "outputs": [
    {
     "data": {
      "text/html": [
       "0.352667604385955"
      ],
      "text/latex": [
       "0.352667604385955"
      ],
      "text/markdown": [
       "0.352667604385955"
      ],
      "text/plain": [
       "[1] 0.3526676"
      ]
     },
     "metadata": {},
     "output_type": "display_data"
    }
   ],
   "source": [
    "power <- 1 - pnorm(t-3.5) + pnorm(-t-3.5)\n",
    "power"
   ]
  },
  {
   "cell_type": "code",
   "execution_count": 7,
   "id": "supreme-example",
   "metadata": {},
   "outputs": [],
   "source": [
    "X <- matrix(rep(0,1000*950),1000,950);\n",
    "diag(X) <- 1;"
   ]
  },
  {
   "cell_type": "code",
   "execution_count": 8,
   "id": "healthy-boston",
   "metadata": {},
   "outputs": [],
   "source": [
    "betas1 <- rep(0,950)\n",
    "betas1[1:k[1]] <- 3.5\n",
    "betas2 <- rep(0,950)\n",
    "betas2[1:k[2]] <- 3.5\n",
    "betas3 <- rep(0,950)\n",
    "betas3[1:k[3]] <- 3.5\n",
    "betas <- array(c(betas1,betas2,betas3),dim=c(950,3))"
   ]
  },
  {
   "cell_type": "code",
   "execution_count": 9,
   "id": "electronic-opportunity",
   "metadata": {},
   "outputs": [],
   "source": [
    "Xb1 <- X%*%betas[,1]\n",
    "Xb2 <- X%*%betas[,2]\n",
    "Xb3 <- X%*%betas[,3]\n",
    "Xb <- array(c(Xb1,Xb2,Xb3),dim=c(1000,3))"
   ]
  },
  {
   "cell_type": "code",
   "execution_count": 2,
   "id": "mounted-runner",
   "metadata": {},
   "outputs": [
    {
     "name": "stderr",
     "output_type": "stream",
     "text": [
      "Loading required package: Matrix\n",
      "\n",
      "Loaded glmnet 4.1-1\n",
      "\n"
     ]
    }
   ],
   "source": [
    "library(glmnet);"
   ]
  },
  {
   "cell_type": "code",
   "execution_count": 313,
   "id": "featured-geometry",
   "metadata": {},
   "outputs": [],
   "source": [
    "reps <- 200;\n",
    "betas_rr <- array(rep(0, 3*reps*p), c(3, reps, p)); \n",
    "betas_ols <- array(rep(0, 3*reps*p), c(3, reps, p)); "
   ]
  },
  {
   "cell_type": "code",
   "execution_count": 314,
   "id": "sapphire-limit",
   "metadata": {},
   "outputs": [],
   "source": [
    "XtX <- t(X) %*% X;\n",
    "for (i in 1:reps){\n",
    "    epsilon <- rnorm(1000);\n",
    "    for (j in 1:3){\n",
    "        Y <- Xb[,j] + epsilon;\n",
    "        betas_rr[j,i,] <- solve(XtX + gamma[j]*diag(p)) %*% t(X) %*% Y;\n",
    "        \n",
    "        obj2<-lm(Y~X-1);\n",
    "        betaols<-obj2$coefficients;\n",
    "        betas_ols[j,i,]<-betaols;\n",
    "    }\n",
    "}"
   ]
  },
  {
   "cell_type": "code",
   "execution_count": 315,
   "id": "fabulous-novel",
   "metadata": {
    "tags": []
   },
   "outputs": [],
   "source": [
    "var_ridge <- apply(apply(betas_rr,c(1,3),var),c(1),mean)\n",
    "bias_ridge <- c(mean(t(t(betas_rr[1,,1:k[1]]) - rep(3.5, k[1]))), mean(t(t(betas_rr[2,,1:k[2]]) - rep(3.5, k[2]))), mean(t(t(betas_rr[3,,1:k[3]]) - rep(3.5, k[3]))));\n",
    "bias_ridge0 <- c(mean(betas_rr[1,,(k[1]+1):p]), mean(betas_rr[2,,(k[2]+1):p] ), mean(betas_rr[3,,(k[3]+1):p]));\n",
    "mse_ridge <- c(mean(apply(t(t(betas_rr[1,,]) - betas[,1])^2,1,sum)), mean(apply(t(t(betas_rr[2,,]) - betas[,2])^2,1,sum)), mean(apply(t(t(betas_rr[3,,]) - betas[,3])^2,1,sum)));\n",
    "power_ridge <- c(mean(apply(betas_rr[1,,1:k[1]] > tcrit[1],1,mean)), mean(apply(betas_rr[2,,1:k[2]] > tcrit[2],1,mean)), mean(apply(betas_rr[3,,1:k[3]] > tcrit[3],1,mean)));\n",
    "\n",
    "var_ols <- apply(apply(betas_ols,c(1,3),var),c(1),mean)\n",
    "bias_ols <- c(mean(t(t(betas_ols[1,,1:k[1]]) - rep(3.5, k[1]))), mean(t(t(betas_ols[2,,1:k[2]]) - rep(3.5, k[2]))), mean(t(t(betas_ols[3,,1:k[3]]) - rep(3.5, k[3]))));\n",
    "bias_ols0 <- c(mean(betas_ols[1,,(k[1]+1):p]), mean(betas_ols[2,,(k[2]+1):p] ), mean(betas_ols[3,,(k[3]+1):p]));\n",
    "mse_ols <- c(mean(apply(t(t(betas_ols[1,,]) - betas[,1])^2,1,sum)), mean(apply(t(t(betas_ols[2,,]) - betas[,2])^2,1,sum)), mean(apply(t(t(betas_ols[3,,]) - betas[,3])^2,1,sum)));\n",
    "power_ols <- c(mean(apply(betas_ols[1,,1:k[1]] > t,1,mean)), mean(apply(betas_ols[2,,1:k[2]] > t,1,mean)), mean(apply(betas_ols[3,,1:k[3]] > t,1,mean)));"
   ]
  },
  {
   "cell_type": "code",
   "execution_count": 316,
   "id": "minimal-bathroom",
   "metadata": {},
   "outputs": [
    {
     "name": "stdout",
     "output_type": "stream",
     "text": [
      "     Bias_Theo    Bias_RR     Bias_OLS\n",
      "20  -2.7824268 -2.7828347 -0.001989650\n",
      "100 -1.5287356 -1.5255339  0.005684651\n",
      "200 -0.9779412 -0.9768305  0.001541392\n"
     ]
    }
   ],
   "source": [
    "df_bias <- data.frame(\n",
    "    Bias_Theo = bias,\n",
    "    Bias_RR = bias_ridge,\n",
    "    Bias_OLS = bias_ols\n",
    ");\n",
    "rownames(df_bias)<-k;\n",
    "print(df_bias)"
   ]
  },
  {
   "cell_type": "code",
   "execution_count": 317,
   "id": "finnish-copying",
   "metadata": {},
   "outputs": [
    {
     "name": "stdout",
     "output_type": "stream",
     "text": [
      "    Bias0_Theo     Bias0_RR    Bias0_OLS\n",
      "20           0 -0.000220981 -0.001077846\n",
      "100          0 -0.001067236 -0.001894888\n",
      "200          0 -0.001297509 -0.001800624\n"
     ]
    }
   ],
   "source": [
    "df_bias0 <- data.frame(\n",
    "    Bias0_Theo = rep(0,3),\n",
    "    Bias0_RR = bias_ridge0,\n",
    "    Bias0_OLS = bias_ols0\n",
    ");\n",
    "rownames(df_bias0)<-k;\n",
    "print(df_bias0)"
   ]
  },
  {
   "cell_type": "code",
   "execution_count": 318,
   "id": "applied-patient",
   "metadata": {},
   "outputs": [
    {
     "name": "stdout",
     "output_type": "stream",
     "text": [
      "      Var_Theo    Var_RR   Var_OLS\n",
      "20  0.04203358 0.0418949 0.9967008\n",
      "100 0.31721496 0.3161684 0.9967008\n",
      "200 0.51924740 0.5175343 0.9967008\n"
     ]
    }
   ],
   "source": [
    "df_var <- data.frame(\n",
    "    Var_Theo = var,\n",
    "    Var_RR = var_ridge,\n",
    "    Var_OLS = var_ols\n",
    ");\n",
    "rownames(df_var)<-k;\n",
    "print(df_var)"
   ]
  },
  {
   "cell_type": "code",
   "execution_count": 319,
   "id": "overall-yacht",
   "metadata": {},
   "outputs": [
    {
     "name": "stdout",
     "output_type": "stream",
     "text": [
      "    MSE_Theo   MSE_RR  MSE_OLS\n",
      "20  194.7699 194.6776 946.7254\n",
      "100 535.0575 533.0398 946.7254\n",
      "200 684.5588 682.4240 946.7254\n"
     ]
    }
   ],
   "source": [
    "df_mse <- data.frame(\n",
    "    MSE_Theo = MSE,\n",
    "    MSE_RR = mse_ridge,\n",
    "    MSE_OLS = mse_ols\n",
    ");\n",
    "rownames(df_mse)<-k;\n",
    "print(df_mse)"
   ]
  },
  {
   "cell_type": "code",
   "execution_count": 320,
   "id": "sharp-monster",
   "metadata": {},
   "outputs": [
    {
     "name": "stdout",
     "output_type": "stream",
     "text": [
      "    Power_Theo Power_RR Power_OLS\n",
      "20   0.3526676 0.362500  0.362500\n",
      "100  0.3526676 0.360050  0.360050\n",
      "200  0.3526676 0.356825  0.356825\n"
     ]
    }
   ],
   "source": [
    "df_power <- data.frame(\n",
    "    Power_Theo = rep(power, 3),\n",
    "    Power_RR = power_ridge,\n",
    "    Power_OLS = power_ols\n",
    ");\n",
    "rownames(df_power)<-k;\n",
    "print(df_power)"
   ]
  },
  {
   "cell_type": "markdown",
   "id": "theoretical-forty",
   "metadata": {},
   "source": [
    "I ran 200 iterations of the described model. Then I calculated bias, variance, MSE, and power of both ridge and OLS regressions. For each of those parameters, my theoretical calculations are really close to the ones that I get from the experiment. \n",
    "\n",
    "OLS regression has bias equal to 0 and variance equal to 1, what was expected. In the case of ridge regression, for k=20 we have a high absolute value of bias, but low variance, and for k=200 our abs(bias) gets lower, but variance has increased.\n",
    "\n",
    "MSE for OLS regression is constant with respect to k. This is because in each iteration I'm using the same epsilon for k=20, k=100, and k=200. This MSE is also very high, MSE for RR is much smaller, especially when k is small.\n",
    "\n",
    "The power is the same for all of those cases, as expected. "
   ]
  },
  {
   "cell_type": "markdown",
   "id": "infectious-forty",
   "metadata": {},
   "source": [
    "## Ex 2\n",
    "Generate the design matrix $X_{1000×950}$ such that its elements are iid random variables from $N(0,\\sigma = \\frac{1}{\\sqrt{n}})$. Then generate the vector of the response variable according to the models\n",
    "proposed in Task 1, above.\n",
    "\n",
    "Estimate the parameters of this model using the ridge regression with the tuning parameter selected by\n",
    "\n",
    "i) minimizing the SURE criterion\n",
    "\n",
    "ii) 10 fold cross-validation\n",
    "\n",
    "iii) OLS\n",
    "\n",
    "iiii) OLS within the model selected by mBIC2.\n",
    "\n",
    "Compare the estimation errors $||\\hat{\\beta}-\\beta||^2$ and $||X(\\hat{\\beta}-\\beta)||^2$ for these three approaches. Repeat the above experiment 100 times and compare the mean square errors of estimation of $\\beta$ and $\\mu = X\\beta$ for the above approaches."
   ]
  },
  {
   "cell_type": "code",
   "execution_count": 1,
   "id": "universal-species",
   "metadata": {},
   "outputs": [
    {
     "name": "stderr",
     "output_type": "stream",
     "text": [
      "Loading required package: Matrix\n",
      "\n",
      "Loaded glmnet 4.1-1\n",
      "\n"
     ]
    }
   ],
   "source": [
    "library('bigstep');\n",
    "library(glmnet);"
   ]
  },
  {
   "cell_type": "code",
   "execution_count": 47,
   "id": "respective-advance",
   "metadata": {},
   "outputs": [],
   "source": [
    "n <- 1000;\n",
    "p <- 950;\n",
    "k <- c(20,100,200);"
   ]
  },
  {
   "cell_type": "code",
   "execution_count": 91,
   "id": "expensive-south",
   "metadata": {},
   "outputs": [],
   "source": [
    "X <- matrix(rnorm(n*p,0,1/sqrt(n)),n,p);\n",
    "\n",
    "eig<-eigen(t(X)%*%X);\n",
    "values<-eig$values;"
   ]
  },
  {
   "cell_type": "code",
   "execution_count": 92,
   "id": "velvet-former",
   "metadata": {},
   "outputs": [],
   "source": [
    "signal <- 3.5\n",
    "betas1 <- rep(0,p)\n",
    "betas1[1:k[1]] <- signal\n",
    "betas2 <- rep(0,p)\n",
    "betas2[1:k[2]] <- signal\n",
    "betas3 <- rep(0,p)\n",
    "betas3[1:k[3]] <- signal\n",
    "betas <- array(c(betas1,betas2,betas3),dim=c(p,3))"
   ]
  },
  {
   "cell_type": "code",
   "execution_count": 93,
   "id": "olive-alpha",
   "metadata": {},
   "outputs": [],
   "source": [
    "regression_comparison <- function(j, lambdaseq, X, betas, values, n, p, k){\n",
    "    epsilon <- rnorm(n);\n",
    "    Y <- X%*%betas[,j]+epsilon;\n",
    "\n",
    "    obj<-glmnet(X,Y,alpha=0,intercept=FALSE, standardize=FALSE, lambda=lambdaseq);\n",
    "    betaRidgeSURE<-obj$beta;\n",
    "    l=ncol(betaRidgeSURE);\n",
    "    lambdas<-obj$lambda;\n",
    "    sureridge<-rep(0,l);\n",
    "    for (u in 1:l){\n",
    "        trM<-sum(values/(values+lambdas[u]*n));\n",
    "        sureridge[u]<-sum((X%*%betaRidgeSURE[,u]-Y)^2)+2*trM;\n",
    "    }\n",
    "    ind<-which(sureridge==min(sureridge));\n",
    "    betaRidgeSURE <- betaRidgeSURE[,ind];\n",
    "    mse_ridge_sure <- sum((betaRidgeSURE-betas[,j])^2);\n",
    "    mse_mu_ridge_sure <- sum((X%*%(betaRidgeSURE-betas[,j]))^2);\n",
    "\n",
    "    obj2<-cv.glmnet(X,Y,alpha=0,intercept=FALSE, standardize=FALSE, lambda=lambdaseq);\n",
    "    betaRidgeCv<-coefficients(obj2, s='lambda.min');\n",
    "    betaRidgeCv<-betaRidgeCv[2:(p+1),1];\n",
    "    mse_ridge_cv <- sum((betaRidgeCv-betas[,j])^2);\n",
    "    mse_mu_ridge_cv <- sum((X%*%(betaRidgeCv-betas[,j]))^2);\n",
    "\n",
    "    obj3<-lm(Y~X-1);\n",
    "    betaols<-obj3$coefficients;\n",
    "    mse_ols <- sum((betaols-betas[,j])^2);\n",
    "    mse_mu_ols <- sum((X%*%(betaols-betas[,j]))^2);\n",
    "\n",
    "    dat<-prepare_data(Y, X, verbose = FALSE);\n",
    "    obj4<-stepwise(dat, crit='mbic2', maxf=p);\n",
    "    selected<-as.numeric(obj4$model);\n",
    "    betaolsmBIC<-rep(0,p);\n",
    "    if (length(selected)>0){\n",
    "        X_mBIC<-X[,selected];\n",
    "        betaolsmBIC[selected] = summary(lm(Y ~ X_mBIC-1))$coef[,1];\n",
    "    }\n",
    "    mse_ols_mbic2 <- sum((betaolsmBIC-betas[,j])^2);\n",
    "    mse_mu_ols_mbic2 <- sum((X%*%(betaolsmBIC-betas[,j]))^2);\n",
    "\n",
    "    df <- data.frame(\n",
    "        RR_SURE=c(mse_ridge_sure, mse_mu_ridge_sure),\n",
    "        RR_CV=c(mse_ridge_cv, mse_mu_ridge_cv),\n",
    "        OLS=c(mse_ols, mse_mu_ols),\n",
    "        OLS_mBIC2=c(mse_ols_mbic2, mse_mu_ols_mbic2)\n",
    "    )\n",
    "    rownames(df)<-c('Beta MSE', 'Mu MSE')\n",
    "    print(df)\n",
    "    plot(obj2)\n",
    "    plot(log(lambdas), sureridge);\n",
    "    abline(v=log(lambdas[ind]), lwd=3, lty=2)\n",
    "}"
   ]
  },
  {
   "cell_type": "code",
   "execution_count": 94,
   "id": "automotive-highlight",
   "metadata": {},
   "outputs": [],
   "source": [
    "lseq1 <- seq(from=0.00005,by=0.00005, to=0.005);\n",
    "lseq2 <- seq(from=0.000025,by=0.000025, to=0.0025);\n",
    "lseq3 <- seq(from=0.00001,by=0.00001, to=0.001);"
   ]
  },
  {
   "cell_type": "markdown",
   "id": "apart-bhutan",
   "metadata": {},
   "source": [
    "I'm using different lambdas sequences for each k. This helps me speed up the calculations. I'm comparing 4 different regressions: ridge regression with cross-validation, which minimizes MSE on the cross-validation (upper plots), ridge regression with SURE, which minimizes RSS + 2*Tr (lower plots), standard OLS regression, and OLS regression with mBIC2."
   ]
  },
  {
   "cell_type": "code",
   "execution_count": 95,
   "id": "other-inspector",
   "metadata": {},
   "outputs": [
    {
     "name": "stdout",
     "output_type": "stream",
     "text": [
      "[1] \"K:\"\n",
      "[1] 20\n",
      "          RR_SURE    RR_CV        OLS OLS_mBIC2\n",
      "Beta MSE 201.5136 200.8054 28294.9151  163.0312\n",
      "Mu MSE   163.8824 162.7888   947.4593  137.1503\n"
     ]
    },
    {
     "data": {
      "image/png": "[encoded data removed]",
      "text/plain": [
       "plot without title"
      ]
     },
     "metadata": {
      "image/png": {
       "height": 420,
       "width": 420
      }
     },
     "output_type": "display_data"
    },
    {
     "data": {
      "image/png": "[encoded data removed]",
      "text/plain": [
       "plot without title"
      ]
     },
     "metadata": {
      "image/png": {
       "height": 420,
       "width": 420
      }
     },
     "output_type": "display_data"
    }
   ],
   "source": [
    "j<-1;\n",
    "print('K:');\n",
    "print(k[j]);\n",
    "regression_comparison(j, lseq1, X, betas, values, n, p, k)"
   ]
  },
  {
   "cell_type": "code",
   "execution_count": 96,
   "id": "turned-conference",
   "metadata": {},
   "outputs": [
    {
     "name": "stdout",
     "output_type": "stream",
     "text": [
      "[1] \"K:\"\n",
      "[1] 100\n",
      "          RR_SURE    RR_CV        OLS OLS_mBIC2\n",
      "Beta MSE 700.7033 701.3277 15487.6058  974.9707\n",
      "Mu MSE   376.2064 375.8973   928.2755  712.3423\n"
     ]
    },
    {
     "data": {
      "image/png": "[encoded data removed]",
      "text/plain": [
       "plot without title"
      ]
     },
     "metadata": {
      "image/png": {
       "height": 420,
       "width": 420
      }
     },
     "output_type": "display_data"
    },
    {
     "data": {
      "image/png": "[encoded data removed]",
      "text/plain": [
       "plot without title"
      ]
     },
     "metadata": {
      "image/png": {
       "height": 420,
       "width": 420
      }
     },
     "output_type": "display_data"
    }
   ],
   "source": [
    "j<-2;\n",
    "print('K:');\n",
    "print(k[j]);\n",
    "regression_comparison(j, lseq2, X, betas, values, n, p, k)"
   ]
  },
  {
   "cell_type": "code",
   "execution_count": 97,
   "id": "unable-beginning",
   "metadata": {},
   "outputs": [
    {
     "name": "stdout",
     "output_type": "stream",
     "text": [
      "[1] \"K:\"\n",
      "[1] 200\n",
      "           RR_SURE     RR_CV      OLS OLS_mBIC2\n",
      "Beta MSE 1115.2895 1118.4207 25491.98  2450.000\n",
      "Mu MSE    549.1333  549.9566  1032.27  2326.744\n"
     ]
    },
    {
     "data": {
      "image/png": "[encoded data removed]",
      "text/plain": [
       "plot without title"
      ]
     },
     "metadata": {
      "image/png": {
       "height": 420,
       "width": 420
      }
     },
     "output_type": "display_data"
    },
    {
     "data": {
      "image/png": "[encoded data removed]",
      "text/plain": [
       "plot without title"
      ]
     },
     "metadata": {
      "image/png": {
       "height": 420,
       "width": 420
      }
     },
     "output_type": "display_data"
    }
   ],
   "source": [
    "j<-3;\n",
    "print('K:');\n",
    "print(k[j]);\n",
    "regression_comparison(j, lseq3, X, betas, values, n, p, k)"
   ]
  },
  {
   "cell_type": "markdown",
   "id": "dangerous-developer",
   "metadata": {},
   "source": [
    "### 50 iterations"
   ]
  },
  {
   "cell_type": "markdown",
   "id": "environmental-person",
   "metadata": {},
   "source": [
    "I'm performing only 50 iterations because they're too time-consuming."
   ]
  },
  {
   "cell_type": "code",
   "execution_count": 10,
   "id": "comic-duncan",
   "metadata": {},
   "outputs": [],
   "source": [
    "reps <- 50;\n",
    "mse_ridge_cv <- array(rep(0, 3*reps), c(reps, 3)); \n",
    "mse_mu_ridge_cv <- array(rep(0, 3*reps), c(reps, 3));\n",
    "mse_ridge_sure <- array(rep(0, 3*reps), c(reps, 3)); \n",
    "mse_mu_ridge_sure <- array(rep(0, 3*reps), c(reps, 3)); \n",
    "mse_ols <- array(rep(0, 3*reps), c(reps, 3)); \n",
    "mse_mu_ols <- array(rep(0, 3*reps), c(reps, 3)); \n",
    "mse_ols_mbic2 <- array(rep(0, 3*reps), c(reps, 3)); \n",
    "mse_mu_ols_mbic2 <- array(rep(0, 3*reps), c(reps, 3));"
   ]
  },
  {
   "cell_type": "code",
   "execution_count": 11,
   "id": "worth-negative",
   "metadata": {},
   "outputs": [],
   "source": [
    "Xb1 <- X%*%betas[,1]\n",
    "Xb2 <- X%*%betas[,2]\n",
    "Xb3 <- X%*%betas[,3]\n",
    "Xb <- array(c(Xb1,Xb2,Xb3),dim=c(n,3))"
   ]
  },
  {
   "cell_type": "code",
   "execution_count": 12,
   "id": "postal-concept",
   "metadata": {},
   "outputs": [],
   "source": [
    "for (i in 1:reps){\n",
    "    epsilon <- rnorm(1000);\n",
    "    for (j in 1:3){\n",
    "        Y <- Xb[,j] + epsilon;\n",
    "        \n",
    "        if (j==1){\n",
    "            lambdaseq<-lseq1;\n",
    "        } else if (j==2){\n",
    "            lambdaseq<-lseq2;\n",
    "        } else {\n",
    "            lambdaseq<-lseq3;\n",
    "        }\n",
    "\n",
    "        obj<-glmnet(X,Y,alpha=0,intercept=FALSE, standardize=FALSE, lambda=lambdaseq);\n",
    "        betaRidgeSURE<-obj$beta;\n",
    "        l=ncol(betaRidgeSURE);\n",
    "        lambdas<-obj$lambda;\n",
    "        sureridge<-rep(0,l);\n",
    "        for (u in 1:l){\n",
    "            trM<-sum(values/(values+lambdas[u]*n));\n",
    "            sureridge[u]<-sum((X%*%betaRidgeSURE[,u]-Y)^2)+2*trM;\n",
    "        }\n",
    "        ind<-which(sureridge==min(sureridge));\n",
    "        betaRidgeSURE <- betaRidgeSURE[,ind];\n",
    "        mse_ridge_sure[i,j] <- sum((betaRidgeSURE-betas[,j])^2);\n",
    "        mse_mu_ridge_sure[i,j] <- sum((X%*%(betaRidgeSURE-betas[,j]))^2);\n",
    "        \n",
    "        obj2<-cv.glmnet(X,Y,alpha=0,intercept=FALSE, standardize=FALSE, lambda=lambdaseq);\n",
    "        betaRidgeCv<-coefficients(obj2, s='lambda.min');\n",
    "        betaRidgeCv<-betaRidgeCv[2:(p+1),1];\n",
    "        mse_ridge_cv[i,j] <- sum((betaRidgeCv-betas[,j])^2);\n",
    "        mse_mu_ridge_cv[i,j] <- sum((X%*%(betaRidgeCv-betas[,j]))^2);\n",
    "        \n",
    "        obj3<-lm(Y~X-1);\n",
    "        betaols<-obj3$coefficients;\n",
    "        mse_ols[i,j] <- sum((as.numeric(betaols)-betas[,j])^2);\n",
    "        mse_mu_ols[i,j] <- sum((X%*%(as.numeric(betaols)-betas[,j]))^2);\n",
    "        \n",
    "        dat<-prepare_data(Y, X, verbose = FALSE);\n",
    "        obj4<-stepwise(dat, crit='mbic2', maxf=p);\n",
    "        selected<-as.numeric(obj4$model);\n",
    "        betaolsmBIC<-rep(0,p);\n",
    "        if (length(selected)>0){\n",
    "            X_mBIC<-X[,selected];\n",
    "            betaolsmBIC[selected] = summary(lm(Y ~ X_mBIC-1))$coef[,1];\n",
    "        }\n",
    "        mse_ols_mbic2[i,j] <- sum((betaolsmBIC-betas[,j])^2);\n",
    "        mse_mu_ols_mbic2[i,j] <- sum((X%*%(betaolsmBIC-betas[,j]))^2);\n",
    "    }\n",
    "}"
   ]
  },
  {
   "cell_type": "code",
   "execution_count": 13,
   "id": "surprising-missouri",
   "metadata": {},
   "outputs": [
    {
     "name": "stdout",
     "output_type": "stream",
     "text": [
      "    Beta_MSE_RR_SURE Beta_MSE_RR_CV Beta_MSE_OLS Beta_MSE_OLS_mBIC2\n",
      "20          203.8076       203.4003     18243.93           183.1847\n",
      "100         676.0164       678.1050     18243.93          1090.2196\n",
      "200        1091.9727      1096.6486     18243.93          2456.9323\n"
     ]
    }
   ],
   "source": [
    "df_beta <- data.frame(\n",
    "    Beta_MSE_RR_SURE = apply(mse_ridge_sure,2,mean),\n",
    "    Beta_MSE_RR_CV = apply(mse_ridge_cv,2,mean),\n",
    "    Beta_MSE_OLS = apply(mse_ols,2,mean),\n",
    "    Beta_MSE_OLS_mBIC2 = apply(mse_ols_mbic2,2,mean)\n",
    ");\n",
    "rownames(df_beta)<-k;\n",
    "print(df_beta);"
   ]
  },
  {
   "cell_type": "code",
   "execution_count": 14,
   "id": "abandoned-vegetation",
   "metadata": {},
   "outputs": [
    {
     "name": "stdout",
     "output_type": "stream",
     "text": [
      "    Mu_MSE_RR_SURE Mu_MSE_RR_CV Mu_MSE_OLS Mu_MSE_OLS_mBIC2\n",
      "20        170.9907     170.6461    951.308         178.4035\n",
      "100       416.3961     419.2040    951.308         897.8374\n",
      "200       529.7339     532.5954    951.308        2321.4709\n"
     ]
    }
   ],
   "source": [
    "df_mu <- data.frame(\n",
    "    Mu_MSE_RR_SURE = apply(mse_mu_ridge_sure,2,mean),\n",
    "    Mu_MSE_RR_CV = apply(mse_mu_ridge_cv,2,mean),\n",
    "    Mu_MSE_OLS = apply(mse_mu_ols,2,mean),\n",
    "    Mu_MSE_OLS_mBIC2 = apply(mse_mu_ols_mbic2,2,mean)\n",
    ");\n",
    "rownames(df_mu)<-k;\n",
    "print(df_mu);"
   ]
  },
  {
   "cell_type": "markdown",
   "id": "blond-certificate",
   "metadata": {},
   "source": [
    "For k=20 we're getting the lowest beta MSE using mBIC2. K is low enough and mBIC2 is correctly selecting most of the important variables, however, in terms of $\\mu$ MSE RR is better than mBIC2. For k=100 and k=200 mBIC2 no longer can detect important variables, therefore it gives high MSE. RR with SURE and with CV performs very similarly, SURE usually gives a bit lower MSE, especially when k>50. Standard OLS performs much worse than the rest."
   ]
  },
  {
   "cell_type": "markdown",
   "id": "surface-praise",
   "metadata": {},
   "source": [
    "## Ex 3\n",
    "\n",
    "Repeat Ex 2 with $\\beta_1 = \\beta_2 = ... = \\beta_k = 5$."
   ]
  },
  {
   "cell_type": "code",
   "execution_count": 15,
   "id": "forbidden-renaissance",
   "metadata": {},
   "outputs": [],
   "source": [
    "library('bigstep');\n",
    "library(glmnet);"
   ]
  },
  {
   "cell_type": "code",
   "execution_count": 16,
   "id": "level-intake",
   "metadata": {},
   "outputs": [],
   "source": [
    "n <- 1000;\n",
    "p <- 950;\n",
    "k <- c(20,100,200);"
   ]
  },
  {
   "cell_type": "code",
   "execution_count": 17,
   "id": "other-consultancy",
   "metadata": {},
   "outputs": [],
   "source": [
    "X <- matrix(rnorm(n*p,0,1/sqrt(n)),n,p);\n",
    "\n",
    "eig<-eigen(t(X)%*%X);\n",
    "values<-eig$values;"
   ]
  },
  {
   "cell_type": "code",
   "execution_count": 18,
   "id": "associate-teens",
   "metadata": {},
   "outputs": [],
   "source": [
    "signal <- 5\n",
    "betas1 <- rep(0,p)\n",
    "betas1[1:k[1]] <- signal\n",
    "betas2 <- rep(0,p)\n",
    "betas2[1:k[2]] <- signal\n",
    "betas3 <- rep(0,p)\n",
    "betas3[1:k[3]] <- signal\n",
    "betas <- array(c(betas1,betas2,betas3),dim=c(p,3))"
   ]
  },
  {
   "cell_type": "code",
   "execution_count": 19,
   "id": "japanese-infrastructure",
   "metadata": {},
   "outputs": [],
   "source": [
    "lseq1 <- seq(from=0.00005,by=0.00005, to=0.005);\n",
    "lseq2 <- seq(from=0.000025,by=0.000025, to=0.0025);\n",
    "lseq3 <- seq(from=0.00001,by=0.00001, to=0.001);"
   ]
  },
  {
   "cell_type": "markdown",
   "id": "flush-problem",
   "metadata": {},
   "source": [
    "I'm using the same $\\lambda$ sequences as in exercise 2."
   ]
  },
  {
   "cell_type": "code",
   "execution_count": 20,
   "id": "french-surge",
   "metadata": {},
   "outputs": [
    {
     "name": "stdout",
     "output_type": "stream",
     "text": [
      "[1] \"K:\"\n",
      "[1] 20\n",
      "          RR_SURE    RR_CV        OLS OLS_mBIC2\n",
      "Beta MSE 371.3886 369.7294 16464.8370  25.02986\n",
      "Mu MSE   285.9603 284.2144   984.4022  25.73387\n"
     ]
    },
    {
     "data": {
      "image/png": "[encoded data removed]",
      "text/plain": [
       "plot without title"
      ]
     },
     "metadata": {
      "image/png": {
       "height": 420,
       "width": 420
      }
     },
     "output_type": "display_data"
    },
    {
     "data": {
      "image/png": "[encoded data removed]",
      "text/plain": [
       "plot without title"
      ]
     },
     "metadata": {
      "image/png": {
       "height": 420,
       "width": 420
      }
     },
     "output_type": "display_data"
    }
   ],
   "source": [
    "j<-1;\n",
    "print('K:');\n",
    "print(k[j]);\n",
    "regression_comparison(j, lseq1, X, betas, values, n, p, k)"
   ]
  },
  {
   "cell_type": "code",
   "execution_count": 21,
   "id": "dying-basics",
   "metadata": {},
   "outputs": [
    {
     "name": "stdout",
     "output_type": "stream",
     "text": [
      "[1] \"K:\"\n",
      "[1] 100\n",
      "           RR_SURE     RR_CV       OLS OLS_mBIC2\n",
      "Beta MSE 1171.1983 1183.6085 22516.583  2323.642\n",
      "Mu MSE    537.5082  536.3308  1017.173  1755.039\n"
     ]
    },
    {
     "data": {
      "image/png": "[encoded data removed]",
      "text/plain": [
       "plot without title"
      ]
     },
     "metadata": {
      "image/png": {
       "height": 420,
       "width": 420
      }
     },
     "output_type": "display_data"
    },
    {
     "data": {
      "image/png": "[encoded data removed]",
      "text/plain": [
       "plot without title"
      ]
     },
     "metadata": {
      "image/png": {
       "height": 420,
       "width": 420
      }
     },
     "output_type": "display_data"
    }
   ],
   "source": [
    "j<-2;\n",
    "print('K:');\n",
    "print(k[j]);\n",
    "regression_comparison(j, lseq2, X, betas, values, n, p, k)"
   ]
  },
  {
   "cell_type": "code",
   "execution_count": 22,
   "id": "metropolitan-hierarchy",
   "metadata": {},
   "outputs": [
    {
     "name": "stdout",
     "output_type": "stream",
     "text": [
      "[1] \"K:\"\n",
      "[1] 200\n",
      "           RR_SURE     RR_CV       OLS OLS_mBIC2\n",
      "Beta MSE 1767.8452 1802.1000 23054.089  4847.461\n",
      "Mu MSE    654.1077  671.0348  1027.807  3606.203\n"
     ]
    },
    {
     "data": {
      "image/png": "[encoded data removed]",
      "text/plain": [
       "plot without title"
      ]
     },
     "metadata": {
      "image/png": {
       "height": 420,
       "width": 420
      }
     },
     "output_type": "display_data"
    },
    {
     "data": {
      "image/png": "[encoded data removed]",
      "text/plain": [
       "plot without title"
      ]
     },
     "metadata": {
      "image/png": {
       "height": 420,
       "width": 420
      }
     },
     "output_type": "display_data"
    }
   ],
   "source": [
    "j<-3;\n",
    "print('K:');\n",
    "print(k[j]);\n",
    "regression_comparison(j, lseq3, X, betas, values, n, p, k)"
   ]
  },
  {
   "cell_type": "markdown",
   "id": "romance-fourth",
   "metadata": {},
   "source": [
    "### 50 iterations"
   ]
  },
  {
   "cell_type": "code",
   "execution_count": 23,
   "id": "corrected-madrid",
   "metadata": {},
   "outputs": [],
   "source": [
    "Xb1 <- X%*%betas[,1]\n",
    "Xb2 <- X%*%betas[,2]\n",
    "Xb3 <- X%*%betas[,3]\n",
    "Xb <- array(c(Xb1,Xb2,Xb3),dim=c(n,3))"
   ]
  },
  {
   "cell_type": "code",
   "execution_count": 24,
   "id": "electrical-story",
   "metadata": {},
   "outputs": [],
   "source": [
    "reps <- 50;\n",
    "mse_ridge_cv <- array(rep(0, 3*reps), c(reps, 3)); \n",
    "mse_mu_ridge_cv <- array(rep(0, 3*reps), c(reps, 3));\n",
    "mse_ridge_sure <- array(rep(0, 3*reps), c(reps, 3)); \n",
    "mse_mu_ridge_sure <- array(rep(0, 3*reps), c(reps, 3)); \n",
    "mse_ols <- array(rep(0, 3*reps), c(reps, 3)); \n",
    "mse_mu_ols <- array(rep(0, 3*reps), c(reps, 3)); \n",
    "mse_ols_mbic2 <- array(rep(0, 3*reps), c(reps, 3)); \n",
    "mse_mu_ols_mbic2 <- array(rep(0, 3*reps), c(reps, 3));"
   ]
  },
  {
   "cell_type": "code",
   "execution_count": 25,
   "id": "considerable-brisbane",
   "metadata": {},
   "outputs": [],
   "source": [
    "for (i in 1:reps){\n",
    "    epsilon <- rnorm(1000);\n",
    "    for (j in 1:3){\n",
    "        Y <- Xb[,j] + epsilon;\n",
    "        \n",
    "        if (j==1){\n",
    "            lambdaseq<-lseq1;\n",
    "        } else if (j==2){\n",
    "            lambdaseq<-lseq2;\n",
    "        } else {\n",
    "            lambdaseq<-lseq3;\n",
    "        }\n",
    "\n",
    "        obj<-glmnet(X,Y,alpha=0,intercept=FALSE, standardize=FALSE, lambda=lambdaseq);\n",
    "        betaRidgeSURE<-obj$beta;\n",
    "        l=ncol(betaRidgeSURE);\n",
    "        lambdas<-obj$lambda;\n",
    "        sureridge<-rep(0,l);\n",
    "        for (u in 1:l){\n",
    "            trM<-sum(values/(values+lambdas[u]*n));\n",
    "            sureridge[u]<-sum((X%*%betaRidgeSURE[,u]-Y)^2)+2*trM;\n",
    "        }\n",
    "        ind<-which(sureridge==min(sureridge));\n",
    "        betaRidgeSURE <- betaRidgeSURE[,ind];\n",
    "        mse_ridge_sure[i,j] <- sum((betaRidgeSURE-betas[,j])^2);\n",
    "        mse_mu_ridge_sure[i,j] <- sum((X%*%(betaRidgeSURE-betas[,j]))^2);\n",
    "        \n",
    "        obj2<-cv.glmnet(X,Y,alpha=0,intercept=FALSE, standardize=FALSE, lambda=lambdaseq);\n",
    "        betaRidgeCv<-coefficients(obj2, s='lambda.min');\n",
    "        betaRidgeCv<-betaRidgeCv[2:(p+1),1];\n",
    "        mse_ridge_cv[i,j] <- sum((betaRidgeCv-betas[,j])^2);\n",
    "        mse_mu_ridge_cv[i,j] <- sum((X%*%(betaRidgeCv-betas[,j]))^2);\n",
    "        \n",
    "        obj3<-lm(Y~X-1);\n",
    "        betaols<-obj3$coefficients;\n",
    "        mse_ols[i,j] <- sum((betaols-betas[,j])^2);\n",
    "        mse_mu_ols[i,j] <- sum((X%*%(betaols-betas[,j]))^2);\n",
    "        \n",
    "        dat<-prepare_data(Y, X, verbose = FALSE);\n",
    "        obj4<-stepwise(dat, crit='mbic2', maxf=p);\n",
    "        selected<-as.numeric(obj4$model);\n",
    "        betaolsmBIC<-rep(0,p);\n",
    "        if (length(selected)>0){\n",
    "            X_mBIC<-X[,selected];\n",
    "            betaolsmBIC[selected] = summary(lm(Y ~ X_mBIC-1))$coef[,1];\n",
    "        }\n",
    "        mse_ols_mbic2[i,j] <- sum((betaolsmBIC-betas[,j])^2);\n",
    "        mse_mu_ols_mbic2[i,j] <- sum((X%*%(betaolsmBIC-betas[,j]))^2);\n",
    "    }\n",
    "}"
   ]
  },
  {
   "cell_type": "code",
   "execution_count": 26,
   "id": "chicken-pride",
   "metadata": {},
   "outputs": [
    {
     "name": "stdout",
     "output_type": "stream",
     "text": [
      "    Beta_MSE_RR_SURE Beta_MSE_RR_CV Beta_MSE_OLS Beta_MSE_OLS_mBIC2\n",
      "20          359.2862       359.4236     19276.92            56.2742\n",
      "100        1190.8528      1200.8507     19276.92           898.3759\n",
      "200        1768.6778      1760.9085     19276.92          4756.9657\n"
     ]
    }
   ],
   "source": [
    "df_beta <- data.frame(\n",
    "    Beta_MSE_RR_SURE = apply(mse_ridge_sure,2,mean),\n",
    "    Beta_MSE_RR_CV = apply(mse_ridge_cv,2,mean),\n",
    "    Beta_MSE_OLS = apply(mse_ols,2,mean),\n",
    "    Beta_MSE_OLS_mBIC2 = apply(mse_ols_mbic2,2,mean)\n",
    ");\n",
    "rownames(df_beta)<-k;\n",
    "print(df_beta);"
   ]
  },
  {
   "cell_type": "code",
   "execution_count": 27,
   "id": "elder-vector",
   "metadata": {},
   "outputs": [
    {
     "name": "stdout",
     "output_type": "stream",
     "text": [
      "    Mu_MSE_RR_SURE Mu_MSE_RR_CV Mu_MSE_OLS Mu_MSE_OLS_mBIC2\n",
      "20        265.7922     266.8410   947.3096         53.13656\n",
      "100       527.1287     531.8946   947.3096        637.49556\n",
      "200       631.7732     628.9950   947.3096       3335.63083\n"
     ]
    }
   ],
   "source": [
    "df_mu <- data.frame(\n",
    "    Mu_MSE_RR_SURE = apply(mse_mu_ridge_sure,2,mean),\n",
    "    Mu_MSE_RR_CV = apply(mse_mu_ridge_cv,2,mean),\n",
    "    Mu_MSE_OLS = apply(mse_mu_ols,2,mean),\n",
    "    Mu_MSE_OLS_mBIC2 = apply(mse_mu_ols_mbic2,2,mean)\n",
    ");\n",
    "rownames(df_mu)<-k;\n",
    "print(df_mu);"
   ]
  },
  {
   "cell_type": "markdown",
   "id": "coupled-union",
   "metadata": {},
   "source": [
    "In this exercise, the signal is stronger than before. Thanks to that mBIC2 is able to detect more important variables and for k=20 it's much better than other methods. For k=100 mBIC2 still gives the smallest $\\beta$ MSE, but in terms of $\\mu$ MSE RR are better than it. SURE and CV still performs very similarly."
   ]
  },
  {
   "cell_type": "markdown",
   "id": "statutory-situation",
   "metadata": {},
   "source": [
    "## Ex 4\n",
    "Repeat Ex 2 and Ex 3 when rows of $X$ are iid random vectors from $\\frac{1}{\\sqrt{n}}N(0, \\Sigma)$, where $\\Sigma_{ii} = 1$ and for $i \\neq j \\quad \\Sigma_{i,j} = 0.5$."
   ]
  },
  {
   "cell_type": "markdown",
   "id": "resistant-ecology",
   "metadata": {},
   "source": [
    "### 3.5"
   ]
  },
  {
   "cell_type": "code",
   "execution_count": 28,
   "id": "complimentary-december",
   "metadata": {},
   "outputs": [],
   "source": [
    "n <- 1000;\n",
    "p <- 950;\n",
    "k <- c(20,100,200);\n",
    "\n",
    "sigma = matrix(rep(0.5, p*p), p, p);\n",
    "diag(sigma) <- 1;\n",
    "\n",
    "A = chol(sigma);\n",
    "X = X <- matrix(rnorm(n*p,0,1),p,n);\n",
    "X <- A %*% X;\n",
    "X <- t(X/sqrt(n));\n",
    "\n",
    "signal <- 3.5\n",
    "betas1 <- rep(0,p)\n",
    "betas1[1:k[1]] <- signal\n",
    "betas2 <- rep(0,p)\n",
    "betas2[1:k[2]] <- signal\n",
    "betas3 <- rep(0,p)\n",
    "betas3[1:k[3]] <- signal\n",
    "betas <- array(c(betas1,betas2,betas3),dim=c(p,3))\n",
    "\n",
    "Xb1 <- X%*%betas[,1]\n",
    "Xb2 <- X%*%betas[,2]\n",
    "Xb3 <- X%*%betas[,3]\n",
    "Xb <- array(c(Xb1,Xb2,Xb3),dim=c(n,3))\n",
    "\n",
    "eig<-eigen(t(X)%*%X);\n",
    "values<-eig$values;"
   ]
  },
  {
   "cell_type": "code",
   "execution_count": 29,
   "id": "approximate-horizontal",
   "metadata": {},
   "outputs": [],
   "source": [
    "lseq1 <- seq(from=0.0005,by=0.0005, to=0.05);\n",
    "lseq2<- seq(from=0.00025,by=0.00025, to=0.025);\n",
    "lseq3<- seq(from=0.0001,by=0.0001, to=0.01);"
   ]
  },
  {
   "cell_type": "markdown",
   "id": "expressed-venue",
   "metadata": {},
   "source": [
    "In exercise 4 I'm using 10 times larger lambdas than in exercises 2 and 3. We can see from the plots that in this exercise SURE and CV select different lambdas."
   ]
  },
  {
   "cell_type": "code",
   "execution_count": 30,
   "id": "breeding-remedy",
   "metadata": {},
   "outputs": [
    {
     "name": "stdout",
     "output_type": "stream",
     "text": [
      "[1] \"K:\"\n",
      "[1] 20\n",
      "          RR_SURE     RR_CV        OLS OLS_mBIC2\n",
      "Beta MSE 374.4842 120.83027 38070.3521  222.6374\n",
      "Mu MSE   204.8230  77.81401   899.7785  117.6033\n"
     ]
    },
    {
     "data": {
      "image/png": "[encoded data removed]",
      "text/plain": [
       "plot without title"
      ]
     },
     "metadata": {
      "image/png": {
       "height": 420,
       "width": 420
      }
     },
     "output_type": "display_data"
    },
    {
     "data": {
      "image/png": "[encoded data removed]",
      "text/plain": [
       "plot without title"
      ]
     },
     "metadata": {
      "image/png": {
       "height": 420,
       "width": 420
      }
     },
     "output_type": "display_data"
    }
   ],
   "source": [
    "j<-1;\n",
    "print('K:');\n",
    "print(k[j]);\n",
    "regression_comparison(j, lseq1, X, betas, values, n, p, k)"
   ]
  },
  {
   "cell_type": "code",
   "execution_count": 31,
   "id": "arbitrary-marble",
   "metadata": {},
   "outputs": [
    {
     "name": "stdout",
     "output_type": "stream",
     "text": [
      "[1] \"K:\"\n",
      "[1] 100\n",
      "          RR_SURE    RR_CV        OLS OLS_mBIC2\n",
      "Beta MSE 869.5213 692.9681 35428.1521  1281.381\n",
      "Mu MSE   347.7908 271.2568   968.5327   599.059\n"
     ]
    },
    {
     "data": {
      "image/png": "[encoded data removed]",
      "text/plain": [
       "plot without title"
      ]
     },
     "metadata": {
      "image/png": {
       "height": 420,
       "width": 420
      }
     },
     "output_type": "display_data"
    },
    {
     "data": {
      "image/png": "[encoded data removed]",
      "text/plain": [
       "plot without title"
      ]
     },
     "metadata": {
      "image/png": {
       "height": 420,
       "width": 420
      }
     },
     "output_type": "display_data"
    }
   ],
   "source": [
    "j<-2;\n",
    "print('K:');\n",
    "print(k[j]);\n",
    "regression_comparison(j, lseq2, X, betas, values, n, p, k)"
   ]
  },
  {
   "cell_type": "code",
   "execution_count": 32,
   "id": "indonesian-semiconductor",
   "metadata": {},
   "outputs": [
    {
     "name": "stdout",
     "output_type": "stream",
     "text": [
      "[1] \"K:\"\n",
      "[1] 200\n",
      "           RR_SURE    RR_CV       OLS OLS_mBIC2\n",
      "Beta MSE 1545.0306 1308.139 40465.866  2784.856\n",
      "Mu MSE    455.2651  395.645  1016.574  1134.614\n"
     ]
    },
    {
     "data": {
      "image/png": "[encoded data removed]",
      "text/plain": [
       "plot without title"
      ]
     },
     "metadata": {
      "image/png": {
       "height": 420,
       "width": 420
      }
     },
     "output_type": "display_data"
    },
    {
     "data": {
      "image/png": "[encoded data removed]",
      "text/plain": [
       "plot without title"
      ]
     },
     "metadata": {
      "image/png": {
       "height": 420,
       "width": 420
      }
     },
     "output_type": "display_data"
    }
   ],
   "source": [
    "j<-3;\n",
    "print('K:');\n",
    "print(k[j]);\n",
    "regression_comparison(j, lseq3, X, betas, values, n, p, k)"
   ]
  },
  {
   "cell_type": "code",
   "execution_count": 33,
   "id": "fifth-track",
   "metadata": {},
   "outputs": [],
   "source": [
    "reps <- 50;\n",
    "mse_ridge_cv <- array(rep(0, 3*reps), c(reps, 3)); \n",
    "mse_mu_ridge_cv <- array(rep(0, 3*reps), c(reps, 3));\n",
    "mse_ridge_sure <- array(rep(0, 3*reps), c(reps, 3)); \n",
    "mse_mu_ridge_sure <- array(rep(0, 3*reps), c(reps, 3)); \n",
    "mse_ols <- array(rep(0, 3*reps), c(reps, 3)); \n",
    "mse_mu_ols <- array(rep(0, 3*reps), c(reps, 3)); \n",
    "mse_ols_mbic2 <- array(rep(0, 3*reps), c(reps, 3)); \n",
    "mse_mu_ols_mbic2 <- array(rep(0, 3*reps), c(reps, 3));"
   ]
  },
  {
   "cell_type": "code",
   "execution_count": 34,
   "id": "worse-ensemble",
   "metadata": {},
   "outputs": [],
   "source": [
    "for (i in 1:reps){\n",
    "    epsilon <- rnorm(1000);\n",
    "    for (j in 1:3){\n",
    "        Y <- Xb[,j] + epsilon;\n",
    "        \n",
    "        if (j==1){\n",
    "            lambdaseq<-lseq1;\n",
    "        } else if (j==2){\n",
    "            lambdaseq<-lseq2;\n",
    "        } else {\n",
    "            lambdaseq<-lseq3;\n",
    "        }\n",
    "\n",
    "        obj<-glmnet(X,Y,alpha=0,intercept=FALSE, standardize=FALSE, lambda=lambdaseq);\n",
    "        betaRidgeSURE<-obj$beta;\n",
    "        l=ncol(betaRidgeSURE);\n",
    "        lambdas<-obj$lambda;\n",
    "        sureridge<-rep(0,l);\n",
    "        for (u in 1:l){\n",
    "            trM<-sum(values/(values+lambdas[u]*n));\n",
    "            sureridge[u]<-sum((X%*%betaRidgeSURE[,u]-Y)^2)+2*trM;\n",
    "        }\n",
    "        ind<-which(sureridge==min(sureridge));\n",
    "        betaRidgeSURE <- betaRidgeSURE[,ind];\n",
    "        mse_ridge_sure[i,j] <- sum((betaRidgeSURE-betas[,j])^2);\n",
    "        mse_mu_ridge_sure[i,j] <- sum((X%*%(betaRidgeSURE-betas[,j]))^2);\n",
    "        \n",
    "        obj2<-cv.glmnet(X,Y,alpha=0,intercept=FALSE, standardize=FALSE, lambda=lambdaseq);\n",
    "        betaRidgeCv<-coefficients(obj2, s='lambda.min');\n",
    "        betaRidgeCv<-betaRidgeCv[2:(p+1),1];\n",
    "        mse_ridge_cv[i,j] <- sum((betaRidgeCv-betas[,j])^2);\n",
    "        mse_mu_ridge_cv[i,j] <- sum((X%*%(betaRidgeCv-betas[,j]))^2);\n",
    "        \n",
    "        obj3<-lm(Y~X-1);\n",
    "        betaols<-obj3$coefficients;\n",
    "        mse_ols[i,j] <- sum((betaols-betas[,j])^2);\n",
    "        mse_mu_ols[i,j] <- sum((X%*%(betaols-betas[,j]))^2);\n",
    "        \n",
    "        dat<-prepare_data(Y, X, verbose = FALSE);\n",
    "        obj4<-stepwise(dat, crit='mbic2', maxf=p);\n",
    "        selected<-as.numeric(obj4$model);\n",
    "        betaolsmBIC<-rep(0,p);\n",
    "        if (length(selected)>0){\n",
    "            X_mBIC<-X[,selected];\n",
    "            betaolsmBIC[selected] = summary(lm(Y ~ X_mBIC-1))$coef[,1];\n",
    "        }\n",
    "        mse_ols_mbic2[i,j] <- sum((betaolsmBIC-betas[,j])^2);\n",
    "        mse_mu_ols_mbic2[i,j] <- sum((X%*%(betaolsmBIC-betas[,j]))^2);\n",
    "    }\n",
    "}"
   ]
  },
  {
   "cell_type": "code",
   "execution_count": 35,
   "id": "alike-rescue",
   "metadata": {},
   "outputs": [
    {
     "name": "stdout",
     "output_type": "stream",
     "text": [
      "    Beta_MSE_RR_SURE Beta_MSE_RR_CV Beta_MSE_OLS Beta_MSE_OLS_mBIC2\n",
      "20          442.8690       125.4276     40587.62           243.9084\n",
      "100         952.1347       701.7578     40587.62          1322.6743\n",
      "200        1437.0725      1287.2384     40587.62          2700.1593\n"
     ]
    }
   ],
   "source": [
    "df_beta <- data.frame(\n",
    "    Beta_MSE_RR_SURE = apply(mse_ridge_sure,2,mean),\n",
    "    Beta_MSE_RR_CV = apply(mse_ridge_cv,2,mean),\n",
    "    Beta_MSE_OLS = apply(mse_ols,2,mean),\n",
    "    Beta_MSE_OLS_mBIC2 = apply(mse_ols_mbic2,2,mean)\n",
    ");\n",
    "rownames(df_beta)<-k;\n",
    "print(df_beta);"
   ]
  },
  {
   "cell_type": "code",
   "execution_count": 36,
   "id": "developed-lotus",
   "metadata": {},
   "outputs": [
    {
     "name": "stdout",
     "output_type": "stream",
     "text": [
      "    Mu_MSE_RR_SURE Mu_MSE_RR_CV Mu_MSE_OLS Mu_MSE_OLS_mBIC2\n",
      "20        236.2973     70.92404   949.3217         122.0309\n",
      "100       356.0700    267.19114   949.3217         620.2697\n",
      "200       438.5734    396.32787   949.3217        1188.4057\n"
     ]
    }
   ],
   "source": [
    "df_mu <- data.frame(\n",
    "    Mu_MSE_RR_SURE = apply(mse_mu_ridge_sure,2,mean),\n",
    "    Mu_MSE_RR_CV = apply(mse_mu_ridge_cv,2,mean),\n",
    "    Mu_MSE_OLS = apply(mse_mu_ols,2,mean),\n",
    "    Mu_MSE_OLS_mBIC2 = apply(mse_mu_ols_mbic2,2,mean)\n",
    ");\n",
    "rownames(df_mu)<-k;\n",
    "print(df_mu);"
   ]
  },
  {
   "cell_type": "markdown",
   "id": "hispanic-warrant",
   "metadata": {},
   "source": [
    "When X comes from a multivariate normal distribution with the correlation between variables, CV gives much better results than SURE. For k=20 mBIC2 ranks between those 2, but for larger k mBIC2 is worse than both of them."
   ]
  },
  {
   "cell_type": "markdown",
   "id": "wrong-seven",
   "metadata": {},
   "source": [
    "### 5"
   ]
  },
  {
   "cell_type": "code",
   "execution_count": 37,
   "id": "subsequent-occurrence",
   "metadata": {},
   "outputs": [],
   "source": [
    "n <- 1000;\n",
    "p <- 950;\n",
    "k <- c(20,100,200);\n",
    "\n",
    "sigma = matrix(rep(0.5, p*p), p, p);\n",
    "diag(sigma) <- 1;\n",
    "\n",
    "A = chol(sigma);\n",
    "X = X <- matrix(rnorm(n*p,0,1),p,n);\n",
    "X <- A %*% X;\n",
    "X <- t(X/sqrt(n));\n",
    "\n",
    "signal <- 5\n",
    "betas1 <- rep(0,p)\n",
    "betas1[1:k[1]] <- signal\n",
    "betas2 <- rep(0,p)\n",
    "betas2[1:k[2]] <- signal\n",
    "betas3 <- rep(0,p)\n",
    "betas3[1:k[3]] <- signal\n",
    "betas <- array(c(betas1,betas2,betas3),dim=c(p,3))\n",
    "\n",
    "Xb1 <- X%*%betas[,1]\n",
    "Xb2 <- X%*%betas[,2]\n",
    "Xb3 <- X%*%betas[,3]\n",
    "Xb <- array(c(Xb1,Xb2,Xb3),dim=c(n,3))\n",
    "\n",
    "eig<-eigen(t(X)%*%X);\n",
    "values<-eig$values;"
   ]
  },
  {
   "cell_type": "code",
   "execution_count": 38,
   "id": "textile-mistress",
   "metadata": {},
   "outputs": [],
   "source": [
    "lseq1 <- seq(from=0.0005,by=0.0005, to=0.05);\n",
    "lseq2<- seq(from=0.00025,by=0.00025, to=0.025);\n",
    "lseq3<- seq(from=0.0001,by=0.0001, to=0.01);"
   ]
  },
  {
   "cell_type": "code",
   "execution_count": 39,
   "id": "composed-identification",
   "metadata": {},
   "outputs": [
    {
     "name": "stdout",
     "output_type": "stream",
     "text": [
      "[1] \"K:\"\n",
      "[1] 20\n",
      "          RR_SURE     RR_CV        OLS OLS_mBIC2\n",
      "Beta MSE 659.1777 243.35819 31762.0211  349.9113\n",
      "Mu MSE   291.0347  98.83523   955.6172  153.7594\n"
     ]
    },
    {
     "data": {
      "image/png": "[encoded data removed]",
      "text/plain": [
       "plot without title"
      ]
     },
     "metadata": {
      "image/png": {
       "height": 420,
       "width": 420
      }
     },
     "output_type": "display_data"
    },
    {
     "data": {
      "image/png": "[encoded data removed]",
      "text/plain": [
       "plot without title"
      ]
     },
     "metadata": {
      "image/png": {
       "height": 420,
       "width": 420
      }
     },
     "output_type": "display_data"
    }
   ],
   "source": [
    "j<-1;\n",
    "print('K:');\n",
    "print(k[j]);\n",
    "regression_comparison(j, lseq1, X, betas, values, n, p, k)"
   ]
  },
  {
   "cell_type": "code",
   "execution_count": 40,
   "id": "sixth-anger",
   "metadata": {},
   "outputs": [
    {
     "name": "stdout",
     "output_type": "stream",
     "text": [
      "[1] \"K:\"\n",
      "[1] 100\n",
      "           RR_SURE     RR_CV        OLS OLS_mBIC2\n",
      "Beta MSE 1546.2484 1239.1434 29215.4496 2366.7038\n",
      "Mu MSE    426.1399  370.1887   909.8223  872.9113\n"
     ]
    },
    {
     "data": {
      "image/png": "[encoded data removed]",
      "text/plain": [
       "plot without title"
      ]
     },
     "metadata": {
      "image/png": {
       "height": 420,
       "width": 420
      }
     },
     "output_type": "display_data"
    },
    {
     "data": {
      "image/png": "[encoded data removed]",
      "text/plain": [
       "plot without title"
      ]
     },
     "metadata": {
      "image/png": {
       "height": 420,
       "width": 420
      }
     },
     "output_type": "display_data"
    }
   ],
   "source": [
    "j<-2;\n",
    "print('K:');\n",
    "print(k[j]);\n",
    "regression_comparison(j, lseq2, X, betas, values, n, p, k)"
   ]
  },
  {
   "cell_type": "code",
   "execution_count": 41,
   "id": "hollywood-inspiration",
   "metadata": {},
   "outputs": [
    {
     "name": "stdout",
     "output_type": "stream",
     "text": [
      "[1] \"K:\"\n",
      "[1] 200\n",
      "           RR_SURE     RR_CV        OLS OLS_mBIC2\n",
      "Beta MSE 1876.8311 1820.0892 32100.7267  5419.603\n",
      "Mu MSE    495.1902  486.9997   901.3837  2107.733\n"
     ]
    },
    {
     "data": {
      "image/png": "[encoded data removed]",
      "text/plain": [
       "plot without title"
      ]
     },
     "metadata": {
      "image/png": {
       "height": 420,
       "width": 420
      }
     },
     "output_type": "display_data"
    },
    {
     "data": {
      "image/png": "[encoded data removed]",
      "text/plain": [
       "plot without title"
      ]
     },
     "metadata": {
      "image/png": {
       "height": 420,
       "width": 420
      }
     },
     "output_type": "display_data"
    }
   ],
   "source": [
    "j<-3;\n",
    "print('K:');\n",
    "print(k[j]);\n",
    "regression_comparison(j, lseq3, X, betas, values, n, p, k)"
   ]
  },
  {
   "cell_type": "code",
   "execution_count": 42,
   "id": "occasional-navigation",
   "metadata": {},
   "outputs": [],
   "source": [
    "reps <- 50;\n",
    "mse_ridge_cv <- array(rep(0, 3*reps), c(reps, 3)); \n",
    "mse_mu_ridge_cv <- array(rep(0, 3*reps), c(reps, 3));\n",
    "mse_ridge_sure <- array(rep(0, 3*reps), c(reps, 3)); \n",
    "mse_mu_ridge_sure <- array(rep(0, 3*reps), c(reps, 3)); \n",
    "mse_ols <- array(rep(0, 3*reps), c(reps, 3)); \n",
    "mse_mu_ols <- array(rep(0, 3*reps), c(reps, 3)); \n",
    "mse_ols_mbic2 <- array(rep(0, 3*reps), c(reps, 3)); \n",
    "mse_mu_ols_mbic2 <- array(rep(0, 3*reps), c(reps, 3));"
   ]
  },
  {
   "cell_type": "code",
   "execution_count": 43,
   "id": "adapted-michigan",
   "metadata": {},
   "outputs": [],
   "source": [
    "for (i in 1:reps){\n",
    "    epsilon <- rnorm(1000);\n",
    "    for (j in 1:3){\n",
    "        Y <- Xb[,j] + epsilon;\n",
    "        \n",
    "        if (j==1){\n",
    "            lambdaseq<-lseq1;\n",
    "        } else if (j==2){\n",
    "            lambdaseq<-lseq2;\n",
    "        } else {\n",
    "            lambdaseq<-lseq3;\n",
    "        }\n",
    "\n",
    "        obj<-glmnet(X,Y,alpha=0,intercept=FALSE, standardize=FALSE, lambda=lambdaseq);\n",
    "        betaRidgeSURE<-obj$beta;\n",
    "        l=ncol(betaRidgeSURE);\n",
    "        lambdas<-obj$lambda;\n",
    "        sureridge<-rep(0,l);\n",
    "        for (u in 1:l){\n",
    "            trM<-sum(values/(values+lambdas[u]*n));\n",
    "            sureridge[u]<-sum((X%*%betaRidgeSURE[,u]-Y)^2)+2*trM;\n",
    "        }\n",
    "        ind<-which(sureridge==min(sureridge));\n",
    "        betaRidgeSURE <- betaRidgeSURE[,ind];\n",
    "        mse_ridge_sure[i,j] <- sum((betaRidgeSURE-betas[,j])^2);\n",
    "        mse_mu_ridge_sure[i,j] <- sum((X%*%(betaRidgeSURE-betas[,j]))^2);\n",
    "        \n",
    "        obj2<-cv.glmnet(X,Y,alpha=0,intercept=FALSE, standardize=FALSE, lambda=lambdaseq);\n",
    "        betaRidgeCv<-coefficients(obj2, s='lambda.min');\n",
    "        betaRidgeCv<-betaRidgeCv[2:(p+1),1];\n",
    "        mse_ridge_cv[i,j] <- sum((betaRidgeCv-betas[,j])^2);\n",
    "        mse_mu_ridge_cv[i,j] <- sum((X%*%(betaRidgeCv-betas[,j]))^2);\n",
    "        \n",
    "        obj3<-lm(Y~X-1);\n",
    "        betaols<-obj3$coefficients;\n",
    "        mse_ols[i,j] <- sum((betaols-betas[,j])^2);\n",
    "        mse_mu_ols[i,j] <- sum((X%*%(betaols-betas[,j]))^2);\n",
    "        \n",
    "        dat<-prepare_data(Y, X, verbose = FALSE);\n",
    "        obj4<-stepwise(dat, crit='mbic2', maxf=p);\n",
    "        selected<-as.numeric(obj4$model);\n",
    "        betaolsmBIC<-rep(0,p);\n",
    "        if (length(selected)>0){\n",
    "            X_mBIC<-X[,selected];\n",
    "            betaolsmBIC[selected] = summary(lm(Y ~ X_mBIC-1))$coef[,1];\n",
    "        }\n",
    "        mse_ols_mbic2[i,j] <- sum((betaolsmBIC-betas[,j])^2);\n",
    "        mse_mu_ols_mbic2[i,j] <- sum((X%*%(betaolsmBIC-betas[,j]))^2);\n",
    "    }\n",
    "}"
   ]
  },
  {
   "cell_type": "code",
   "execution_count": 44,
   "id": "chubby-cigarette",
   "metadata": {},
   "outputs": [
    {
     "name": "stdout",
     "output_type": "stream",
     "text": [
      "    Beta_MSE_RR_SURE Beta_MSE_RR_CV Beta_MSE_OLS Beta_MSE_OLS_mBIC2\n",
      "20          647.0918       245.8705     38508.24           293.7398\n",
      "100        1460.3659      1243.2591     38508.24          2068.9749\n",
      "200        2120.2801      1990.7808     38508.24          5183.6649\n"
     ]
    }
   ],
   "source": [
    "df_beta <- data.frame(\n",
    "    Beta_MSE_RR_SURE = apply(mse_ridge_sure,2,mean),\n",
    "    Beta_MSE_RR_CV = apply(mse_ridge_cv,2,mean),\n",
    "    Beta_MSE_OLS = apply(mse_ols,2,mean),\n",
    "    Beta_MSE_OLS_mBIC2 = apply(mse_ols_mbic2,2,mean)\n",
    ");\n",
    "rownames(df_beta)<-k;\n",
    "print(df_beta);"
   ]
  },
  {
   "cell_type": "code",
   "execution_count": 45,
   "id": "biblical-scheme",
   "metadata": {},
   "outputs": [
    {
     "name": "stdout",
     "output_type": "stream",
     "text": [
      "    Mu_MSE_RR_SURE Mu_MSE_RR_CV Mu_MSE_OLS Mu_MSE_OLS_mBIC2\n",
      "20        290.3551     105.8257   953.6382         135.7653\n",
      "100       443.3590     384.3877   953.6382         771.0648\n",
      "200       533.8279     518.4833   953.6382        1986.5880\n"
     ]
    }
   ],
   "source": [
    "df_mu <- data.frame(\n",
    "    Mu_MSE_RR_SURE = apply(mse_mu_ridge_sure,2,mean),\n",
    "    Mu_MSE_RR_CV = apply(mse_mu_ridge_cv,2,mean),\n",
    "    Mu_MSE_OLS = apply(mse_mu_ols,2,mean),\n",
    "    Mu_MSE_OLS_mBIC2 = apply(mse_mu_ols_mbic2,2,mean)\n",
    ");\n",
    "rownames(df_mu)<-k;\n",
    "print(df_mu);"
   ]
  },
  {
   "cell_type": "markdown",
   "id": "systematic-credits",
   "metadata": {},
   "source": [
    "When the signal is equal to 5 the ranking is the same as before. The signal is a bit stronger and thanks to that when k=20 mBIC2 it's a bit closer to RR with CV, but it still can't select all important variables. For k>20 it's worse than both CV and SURE. CV still performs better than SURE for every k."
   ]
  }
 ],
 "metadata": {
  "kernelspec": {
   "display_name": "R",
   "language": "R",
   "name": "ir"
  },
  "language_info": {
   "codemirror_mode": "r",
   "file_extension": ".r",
   "mimetype": "text/x-r-source",
   "name": "R",
   "pygments_lexer": "r",
   "version": "4.0.4"
  }
 },
 "nbformat": 4,
 "nbformat_minor": 5
}
