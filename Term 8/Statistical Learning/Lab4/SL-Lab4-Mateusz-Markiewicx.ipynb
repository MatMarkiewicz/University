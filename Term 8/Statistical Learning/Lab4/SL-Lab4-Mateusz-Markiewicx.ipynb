{
 "cells": [
  {
   "cell_type": "markdown",
   "id": "atmospheric-costa",
   "metadata": {},
   "source": [
    "# Lab 4 - Mateusz Markiewicz (298653)"
   ]
  },
  {
   "cell_type": "markdown",
   "id": "domestic-incentive",
   "metadata": {},
   "source": [
    "## 1\n",
    "\n",
    "Generate the design matrix $X_{500 \\times 100}$ according to the formula:\n",
    "\n",
    "$F_{500 \\times 3}: \\quad \\text{for i} \\in \\{1, \\cdots , 3\\} \\, F_{. i} \\sim N(0, I_{500 \\times 500})$\n",
    "\n",
    "$W_{100 \\times 3}: \\quad W_{.j} = (4 − j)N(0, I_{100 \\times 100})$\n",
    "\n",
    "$E_{500 \\times 100}: \\quad E_{ij} \\sim N(0, 1)$\n",
    "\n",
    "$X = FW^T + E$\n",
    "\n",
    "\n",
    "Perform PCA yourself using\n",
    "\n",
    "a) Eigenvalue decomposition of $X^T X$\n",
    "\n",
    "b) Using singular value decomposition of $X$\n",
    "\n",
    "\n",
    "Compare the results. Calculate the correlation coefficients between your estimated PCs and the columns of the F matrix. Estimate the variance of the noise $\\sigma^2$\n",
    "\n",
    "Select the method for PCA and repeat this simulation 100 times for the setup as above (with n = 500) and for the setup with n = 2000. Draw the boxplots of correlations and of the MSE of your estimator of $\\sigma$."
   ]
  },
  {
   "cell_type": "code",
   "execution_count": 1,
   "id": "interpreted-parliament",
   "metadata": {},
   "outputs": [],
   "source": [
    "n <- 500;\n",
    "p <- 100;\n",
    "k <- 3;"
   ]
  },
  {
   "cell_type": "code",
   "execution_count": 2,
   "id": "living-chosen",
   "metadata": {},
   "outputs": [],
   "source": [
    "F <- matrix(rnorm(n*k,0,1),n,k);\n",
    "W <- t(t(matrix(rnorm(p*k,0,1),p,k)) * ((k+1)-(1:k)));\n",
    "E <- matrix(rnorm(n*p,0,1),n,p);"
   ]
  },
  {
   "cell_type": "code",
   "execution_count": 3,
   "id": "disturbed-million",
   "metadata": {},
   "outputs": [],
   "source": [
    "X <- F %*% t(W) + E;"
   ]
  },
  {
   "cell_type": "markdown",
   "id": "analyzed-presentation",
   "metadata": {},
   "source": [
    "### Eigenvalue decomposition\n",
    "\n",
    "We can calculate the PCs using eigenvalue decomposition:"
   ]
  },
  {
   "cell_type": "code",
   "execution_count": 4,
   "id": "fossil-forge",
   "metadata": {},
   "outputs": [],
   "source": [
    "eig <- eigen(t(X) %*% X)"
   ]
  },
  {
   "cell_type": "code",
   "execution_count": 5,
   "id": "recorded-threshold",
   "metadata": {},
   "outputs": [],
   "source": [
    "F_eig <- X %*% eig$vectors[,1:k]"
   ]
  },
  {
   "cell_type": "markdown",
   "id": "previous-granny",
   "metadata": {},
   "source": [
    "The correlation coefficients between estimated PCs and the columns of the F matrix:"
   ]
  },
  {
   "cell_type": "code",
   "execution_count": 6,
   "id": "supreme-missouri",
   "metadata": {},
   "outputs": [
    {
     "data": {
      "text/html": [
       "<style>\n",
       ".list-inline {list-style: none; margin:0; padding: 0}\n",
       ".list-inline>li {display: inline-block}\n",
       ".list-inline>li:not(:last-child)::after {content: \"\\00b7\"; padding: 0 .5ex}\n",
       "</style>\n",
       "<ol class=list-inline><li>-0.97427845398517</li><li>0.980823273062433</li><li>0.991392101181651</li></ol>\n"
      ],
      "text/latex": [
       "\\begin{enumerate*}\n",
       "\\item -0.97427845398517\n",
       "\\item 0.980823273062433\n",
       "\\item 0.991392101181651\n",
       "\\end{enumerate*}\n"
      ],
      "text/markdown": [
       "1. -0.97427845398517\n",
       "2. 0.980823273062433\n",
       "3. 0.991392101181651\n",
       "\n",
       "\n"
      ],
      "text/plain": [
       "[1] -0.9742785  0.9808233  0.9913921"
      ]
     },
     "metadata": {},
     "output_type": "display_data"
    }
   ],
   "source": [
    "diag(cor(F,F_eig))"
   ]
  },
  {
   "cell_type": "markdown",
   "id": "demographic-river",
   "metadata": {},
   "source": [
    "There are two methods to calculate $\\hat{\\sigma}^2$. We can estimate $\\hat{X}$ and the calculate $\\hat{\\sigma}^2 = \\frac{\\text{sum} ((X-\\hat{X})^2)}{n(p-k)}$"
   ]
  },
  {
   "cell_type": "code",
   "execution_count": 7,
   "id": "legitimate-administration",
   "metadata": {},
   "outputs": [],
   "source": [
    "X_hat <- F_eig %*% t(eig$vectors[,1:k])"
   ]
  },
  {
   "cell_type": "code",
   "execution_count": 8,
   "id": "advisory-discretion",
   "metadata": {},
   "outputs": [
    {
     "data": {
      "text/html": [
       "0.986638997030143"
      ],
      "text/latex": [
       "0.986638997030143"
      ],
      "text/markdown": [
       "0.986638997030143"
      ],
      "text/plain": [
       "[1] 0.986639"
      ]
     },
     "metadata": {},
     "output_type": "display_data"
    }
   ],
   "source": [
    "ss_hat <- sum((X-X_hat)**2) / ((p-k)*n)\n",
    "ss_hat"
   ]
  },
  {
   "cell_type": "markdown",
   "id": "shaped-australian",
   "metadata": {},
   "source": [
    "or calculate $\\hat{\\sigma}^2 = \\frac{\\sum_{i=k+1}^{p}\\lambda_i}{n(p-k)}$"
   ]
  },
  {
   "cell_type": "code",
   "execution_count": 9,
   "id": "compound-orbit",
   "metadata": {},
   "outputs": [
    {
     "data": {
      "text/html": [
       "0.986638997030139"
      ],
      "text/latex": [
       "0.986638997030139"
      ],
      "text/markdown": [
       "0.986638997030139"
      ],
      "text/plain": [
       "[1] 0.986639"
      ]
     },
     "metadata": {},
     "output_type": "display_data"
    }
   ],
   "source": [
    "ss_hat2 <- sum(eig$values[(k+1):p]) / ((p-k)*n)\n",
    "ss_hat2"
   ]
  },
  {
   "cell_type": "markdown",
   "id": "victorian-portrait",
   "metadata": {},
   "source": [
    "### Singular value decomposition\n",
    "\n",
    "The sacond method of computing PCs is based on SVD"
   ]
  },
  {
   "cell_type": "code",
   "execution_count": 10,
   "id": "specific-label",
   "metadata": {},
   "outputs": [],
   "source": [
    "svd_res <- svd(X);"
   ]
  },
  {
   "cell_type": "code",
   "execution_count": 11,
   "id": "breathing-gossip",
   "metadata": {},
   "outputs": [],
   "source": [
    "F_svd <- svd_res$u[,1:k] %*% diag(svd_res$d[1:k])"
   ]
  },
  {
   "cell_type": "markdown",
   "id": "green-order",
   "metadata": {},
   "source": [
    "The correlation coefficients between estimated PCs and the columns of the F matrix:"
   ]
  },
  {
   "cell_type": "code",
   "execution_count": 12,
   "id": "single-compensation",
   "metadata": {},
   "outputs": [
    {
     "data": {
      "text/html": [
       "<style>\n",
       ".list-inline {list-style: none; margin:0; padding: 0}\n",
       ".list-inline>li {display: inline-block}\n",
       ".list-inline>li:not(:last-child)::after {content: \"\\00b7\"; padding: 0 .5ex}\n",
       "</style>\n",
       "<ol class=list-inline><li>0.97427845398517</li><li>0.980823273062433</li><li>0.991392101181651</li></ol>\n"
      ],
      "text/latex": [
       "\\begin{enumerate*}\n",
       "\\item 0.97427845398517\n",
       "\\item 0.980823273062433\n",
       "\\item 0.991392101181651\n",
       "\\end{enumerate*}\n"
      ],
      "text/markdown": [
       "1. 0.97427845398517\n",
       "2. 0.980823273062433\n",
       "3. 0.991392101181651\n",
       "\n",
       "\n"
      ],
      "text/plain": [
       "[1] 0.9742785 0.9808233 0.9913921"
      ]
     },
     "metadata": {},
     "output_type": "display_data"
    }
   ],
   "source": [
    "diag(cor(F, F_svd))"
   ]
  },
  {
   "cell_type": "code",
   "execution_count": 13,
   "id": "colonial-eclipse",
   "metadata": {},
   "outputs": [],
   "source": [
    "M_hat <- F_svd %*% t(svd_res$v[,1:k])"
   ]
  },
  {
   "cell_type": "markdown",
   "id": "funny-gates",
   "metadata": {},
   "source": [
    "Estimation of the $\\hat{\\sigma}^2$"
   ]
  },
  {
   "cell_type": "code",
   "execution_count": 14,
   "id": "forced-bouquet",
   "metadata": {},
   "outputs": [
    {
     "data": {
      "text/html": [
       "0.986638997030143"
      ],
      "text/latex": [
       "0.986638997030143"
      ],
      "text/markdown": [
       "0.986638997030143"
      ],
      "text/plain": [
       "[1] 0.986639"
      ]
     },
     "metadata": {},
     "output_type": "display_data"
    }
   ],
   "source": [
    "sum((X - M_hat)**2)/(n*(p-k))"
   ]
  },
  {
   "cell_type": "markdown",
   "id": "defined-roads",
   "metadata": {},
   "source": [
    "### 100 replications"
   ]
  },
  {
   "cell_type": "code",
   "execution_count": 16,
   "id": "logical-actress",
   "metadata": {},
   "outputs": [],
   "source": [
    "reps <- 100;"
   ]
  },
  {
   "cell_type": "code",
   "execution_count": 17,
   "id": "impaired-syntax",
   "metadata": {},
   "outputs": [],
   "source": [
    "correlations <- matrix(rep(0, k*reps), reps, k);\n",
    "sigma_est_error <- rep(0,reps);"
   ]
  },
  {
   "cell_type": "code",
   "execution_count": 18,
   "id": "wireless-laptop",
   "metadata": {},
   "outputs": [],
   "source": [
    "for (i in 1:reps){\n",
    "    E <- matrix(rnorm(n*p,0,1),n,p);\n",
    "    X <- F %*% t(W) + E;\n",
    "    eig <- eigen(t(X) %*% X);\n",
    "    F_eig <- X %*% eig$vectors[,1:k];\n",
    "    correlations[i, ] <- abs(diag(cor(F,F_eig)));\n",
    "    ss_hat <- sum(eig$values[(k+1):p]) / ((p-k)*n);\n",
    "    sigma_est_error[i] <- (ss_hat-1)**2;\n",
    "}"
   ]
  },
  {
   "cell_type": "code",
   "execution_count": 19,
   "id": "canadian-broadcasting",
   "metadata": {},
   "outputs": [
    {
     "data": {
      "image/png": "[encoded data removed]",
      "text/plain": [
       "Plot with title \"Correlations between the PCs and the F matrix\""
      ]
     },
     "metadata": {
      "image/png": {
       "height": 420,
       "width": 420
      }
     },
     "output_type": "display_data"
    }
   ],
   "source": [
    "boxplot(correlations,\n",
    "       main = \"Correlations between the PCs and the F matrix\",\n",
    "       ylab = 'Correlation',\n",
    "       xlab = \"Index of principal component\")"
   ]
  },
  {
   "cell_type": "code",
   "execution_count": 20,
   "id": "determined-optimization",
   "metadata": {},
   "outputs": [
    {
     "data": {
      "image/png": "[encoded data removed]",
      "text/plain": [
       "Plot with title \"Error of the estimator for sigma^2:\""
      ]
     },
     "metadata": {
      "image/png": {
       "height": 420,
       "width": 420
      }
     },
     "output_type": "display_data"
    }
   ],
   "source": [
    "boxplot(sigma_est_error, main = \"Error of the estimator for sigma^2:\")"
   ]
  },
  {
   "cell_type": "code",
   "execution_count": 21,
   "id": "ordered-nebraska",
   "metadata": {},
   "outputs": [
    {
     "name": "stdout",
     "output_type": "stream",
     "text": [
      "[1] \"MSE of the estimator for sigma^2:\"\n",
      "[1] 7.860861e-05\n"
     ]
    }
   ],
   "source": [
    "print(\"MSE of the estimator for sigma^2:\")\n",
    "print(mean(sigma_est_error))"
   ]
  },
  {
   "cell_type": "code",
   "execution_count": 22,
   "id": "turned-spyware",
   "metadata": {},
   "outputs": [],
   "source": [
    "n <- 2000;"
   ]
  },
  {
   "cell_type": "code",
   "execution_count": 23,
   "id": "saved-filter",
   "metadata": {},
   "outputs": [],
   "source": [
    "F <- matrix(rnorm(n*k,0,1),n,k);\n",
    "W <- t(t(matrix(rnorm(p*k,0,1),p,k)) * ((k+1)-(1:k)));"
   ]
  },
  {
   "cell_type": "code",
   "execution_count": 24,
   "id": "illegal-presence",
   "metadata": {},
   "outputs": [],
   "source": [
    "correlations_2 <- matrix(rep(0, k*reps), reps, k);\n",
    "sigma_est_error_2 <- rep(0,reps);"
   ]
  },
  {
   "cell_type": "code",
   "execution_count": 25,
   "id": "active-birth",
   "metadata": {},
   "outputs": [],
   "source": [
    "for (i in 1:reps){\n",
    "    E <- matrix(rnorm(n*p,0,1),n,p);\n",
    "    X <- F %*% t(W) + E;\n",
    "    eig <- eigen(t(X) %*% X);\n",
    "    F_eig <- X %*% eig$vectors[,1:k];\n",
    "    correlations_2[i, ] <- abs(diag(cor(F,F_eig)));\n",
    "    ss_hat <- sum(eig$values[(k+1):p]) / ((p-k)*n);\n",
    "    sigma_est_error_2[i] <- (ss_hat-1)**2;\n",
    "}"
   ]
  },
  {
   "cell_type": "code",
   "execution_count": 26,
   "id": "stunning-scratch",
   "metadata": {},
   "outputs": [
    {
     "data": {
      "image/png": "[encoded data removed]",
      "text/plain": [
       "Plot with title \"Correlations between the PCs and the F matrix\""
      ]
     },
     "metadata": {
      "image/png": {
       "height": 420,
       "width": 420
      }
     },
     "output_type": "display_data"
    }
   ],
   "source": [
    "boxplot(correlations_2,\n",
    "       main = \"Correlations between the PCs and the F matrix\",\n",
    "       ylab = 'Correlation',\n",
    "       xlab = \"Index of principal component\")"
   ]
  },
  {
   "cell_type": "code",
   "execution_count": 27,
   "id": "coupled-consumption",
   "metadata": {},
   "outputs": [
    {
     "data": {
      "image/png": "[encoded data removed]",
      "text/plain": [
       "Plot with title \"Error of the estimator for sigma^2:\""
      ]
     },
     "metadata": {
      "image/png": {
       "height": 420,
       "width": 420
      }
     },
     "output_type": "display_data"
    }
   ],
   "source": [
    "boxplot(sigma_est_error_2, main = \"Error of the estimator for sigma^2:\")"
   ]
  },
  {
   "cell_type": "code",
   "execution_count": 28,
   "id": "sixth-organ",
   "metadata": {},
   "outputs": [
    {
     "name": "stdout",
     "output_type": "stream",
     "text": [
      "[1] \"MSE of the estimator for sigma^2:\"\n",
      "[1] 1.254048e-05\n"
     ]
    }
   ],
   "source": [
    "print(\"MSE of the estimator for sigma^2:\")\n",
    "print(mean(sigma_est_error_2))"
   ]
  },
  {
   "cell_type": "markdown",
   "id": "rolled-behavior",
   "metadata": {},
   "source": [
    "The absolute values of the correlation coefficients are high, and their variance is low. On the plots, we can see that values of the correlation coefficients may differ in respect to principal components, but the relation between them is not constant. Sometimes the first component has the smallest correlation coefficients, sometimes has the highest.\n",
    "MSE of the $\\hat{\\sigma}^2$ estimation is small, around $1e^{-5}$."
   ]
  },
  {
   "cell_type": "markdown",
   "id": "tropical-closing",
   "metadata": {},
   "source": [
    "## 2. \n",
    "For $n = 50$ and $p \\in \\{100, 500, 1000, 5000\\}$ generate 100 independent replicates of the design matrix $X_{n \\times p}$ according to the formula:\n",
    "\n",
    "$F_{n \\times 5} : \\quad \\text{for} \\, i \\in \\{1, \\cdots , 5\\} \\, F_{.i} \\sim N(0, I_{n \\times n})$\n",
    "\n",
    "$W_{p \\times 5} : \\quad W_{.j} = (6 − j) N(0, I_{p \\times p})$\n",
    "\n",
    "$E_{n \\times p} : \\quad E_{ij} \\sim N(0, \\sigma = 10)$\n",
    "\n",
    "$X = FW^T + E$\n",
    "\n",
    "For each combination of n and p draw a histogram of the dimension selected by PESEL."
   ]
  },
  {
   "cell_type": "code",
   "execution_count": 29,
   "id": "double-publicity",
   "metadata": {},
   "outputs": [],
   "source": [
    "library(pesel);"
   ]
  },
  {
   "cell_type": "code",
   "execution_count": 30,
   "id": "conscious-metro",
   "metadata": {},
   "outputs": [],
   "source": [
    "n <- 50;\n",
    "p_arr <- c(100,500,1000,5000);\n",
    "k <- 5;"
   ]
  },
  {
   "cell_type": "code",
   "execution_count": 31,
   "id": "affected-speaker",
   "metadata": {},
   "outputs": [],
   "source": [
    "reps <- 100;"
   ]
  },
  {
   "cell_type": "code",
   "execution_count": 32,
   "id": "competent-biotechnology",
   "metadata": {},
   "outputs": [],
   "source": [
    "nPCs <- matrix(rep(0, reps*length(p_arr)), reps, length(p_arr));"
   ]
  },
  {
   "cell_type": "code",
   "execution_count": 33,
   "id": "legal-vertical",
   "metadata": {},
   "outputs": [],
   "source": [
    "for (j in 1:length(p_arr)){\n",
    "    p <- p_arr[j];\n",
    "    F <- matrix(rnorm(n*k,0,1),n,k);\n",
    "    W <- t(t(matrix(rnorm(p*k,0,1),p,k)) * ((k+1)-(1:k)));\n",
    "    for (i in 1:reps){\n",
    "        E <- matrix(rnorm(n*p,0,10),n,p);\n",
    "        X <- F %*% t(W) + E;\n",
    "        wyn <- pesel(X);\n",
    "        nPCs[i,j] <- wyn$nPCs;\n",
    "    }\n",
    "}"
   ]
  },
  {
   "cell_type": "code",
   "execution_count": 34,
   "id": "ruled-examination",
   "metadata": {},
   "outputs": [
    {
     "data": {
      "image/png": "[encoded data removed]",
      "text/plain": [
       "Plot with title \"100\""
      ]
     },
     "metadata": {
      "image/png": {
       "height": 420,
       "width": 420
      }
     },
     "output_type": "display_data"
    },
    {
     "data": {
      "image/png": "[encoded data removed]",
      "text/plain": [
       "Plot with title \"500\""
      ]
     },
     "metadata": {
      "image/png": {
       "height": 420,
       "width": 420
      }
     },
     "output_type": "display_data"
    },
    {
     "data": {
      "image/png": "[encoded data removed]",
      "text/plain": [
       "Plot with title \"1000\""
      ]
     },
     "metadata": {
      "image/png": {
       "height": 420,
       "width": 420
      }
     },
     "output_type": "display_data"
    },
    {
     "data": {
      "image/png": "[encoded data removed]",
      "text/plain": [
       "Plot with title \"5000\""
      ]
     },
     "metadata": {
      "image/png": {
       "height": 420,
       "width": 420
      }
     },
     "output_type": "display_data"
    }
   ],
   "source": [
    "for (j in 1:length(p_arr)){\n",
    "    hist(nPCs[,j], main = p_arr[j], breaks=c(0,1,2,3,4,5))\n",
    "}"
   ]
  },
  {
   "cell_type": "markdown",
   "id": "obvious-sacramento",
   "metadata": {},
   "source": [
    "As expected, a higher $p$ leads to an increase in the number of selected PCs. For $p=100$ we're always selecting only 2 PCs out of 5, for $p=5000$ we're usually selecting 4, but sometimes all 5 PCs."
   ]
  },
  {
   "cell_type": "markdown",
   "id": "frequent-dependence",
   "metadata": {},
   "source": [
    "## 3. \n",
    "Repeat task 2 when the elements of E are generated as\n",
    "\n",
    "1) iid variables from the exponential distribution with the rate parameter $\\lambda = 0.1$\n",
    "\n",
    "2) iid variables from the Cauchy distribution"
   ]
  },
  {
   "cell_type": "markdown",
   "id": "european-effects",
   "metadata": {},
   "source": [
    "### Exponential distribution"
   ]
  },
  {
   "cell_type": "code",
   "execution_count": 37,
   "id": "clinical-houston",
   "metadata": {},
   "outputs": [],
   "source": [
    "n <- 50;\n",
    "p_arr <- c(100,500,1000,5000);\n",
    "k <- 5;"
   ]
  },
  {
   "cell_type": "code",
   "execution_count": 38,
   "id": "acting-pierre",
   "metadata": {},
   "outputs": [],
   "source": [
    "reps <- 100;"
   ]
  },
  {
   "cell_type": "code",
   "execution_count": 39,
   "id": "joined-investor",
   "metadata": {},
   "outputs": [],
   "source": [
    "nPCs <- matrix(rep(0, reps*length(p_arr)), reps, length(p_arr));"
   ]
  },
  {
   "cell_type": "code",
   "execution_count": 40,
   "id": "basic-break",
   "metadata": {},
   "outputs": [],
   "source": [
    "for (j in 1:length(p_arr)){\n",
    "    p <- p_arr[j];\n",
    "    F <- matrix(rnorm(n*k,0,1),n,k);\n",
    "    W <- t(t(matrix(rnorm(p*k,0,1),p,k)) * ((k+1)-(1:k)));\n",
    "    for (i in 1:reps){\n",
    "        E <- matrix(rexp(n*p,0.1),n,p);\n",
    "        X <- F %*% t(W) + E;\n",
    "        wyn <- pesel(X);\n",
    "        nPCs[i,j] <- wyn$nPCs;\n",
    "    }\n",
    "}"
   ]
  },
  {
   "cell_type": "code",
   "execution_count": 41,
   "id": "generous-genome",
   "metadata": {},
   "outputs": [
    {
     "data": {
      "image/png": "[encoded data removed]",
      "text/plain": [
       "Plot with title \"100\""
      ]
     },
     "metadata": {
      "image/png": {
       "height": 420,
       "width": 420
      }
     },
     "output_type": "display_data"
    },
    {
     "data": {
      "image/png": "[encoded data removed]",
      "text/plain": [
       "Plot with title \"500\""
      ]
     },
     "metadata": {
      "image/png": {
       "height": 420,
       "width": 420
      }
     },
     "output_type": "display_data"
    },
    {
     "data": {
      "image/png": "[encoded data removed]",
      "text/plain": [
       "Plot with title \"1000\""
      ]
     },
     "metadata": {
      "image/png": {
       "height": 420,
       "width": 420
      }
     },
     "output_type": "display_data"
    },
    {
     "data": {
      "image/png": "[encoded data removed]",
      "text/plain": [
       "Plot with title \"5000\""
      ]
     },
     "metadata": {
      "image/png": {
       "height": 420,
       "width": 420
      }
     },
     "output_type": "display_data"
    }
   ],
   "source": [
    "for (j in 1:length(p_arr)){\n",
    "    hist(nPCs[,j], main = p_arr[j], breaks=c(0,1,2,3,4,5))\n",
    "}"
   ]
  },
  {
   "cell_type": "markdown",
   "id": "former-teaching",
   "metadata": {},
   "source": [
    "When the error comes from exponential distribution instead of the normal distribution the trend stays the same, but the average number of selected PCs for each $p$ is higher, starting from around 3 for $p=100$, ending at selecting all 5 for $p=5000$."
   ]
  },
  {
   "cell_type": "markdown",
   "id": "insured-elephant",
   "metadata": {},
   "source": [
    "### Cauchy distribution"
   ]
  },
  {
   "cell_type": "code",
   "execution_count": 43,
   "id": "automotive-samuel",
   "metadata": {},
   "outputs": [],
   "source": [
    "nPCs <- matrix(rep(0, reps*length(p_arr)), reps, length(p_arr));"
   ]
  },
  {
   "cell_type": "code",
   "execution_count": 44,
   "id": "metric-warning",
   "metadata": {},
   "outputs": [],
   "source": [
    "for (j in 1:length(p_arr)){\n",
    "    p <- p_arr[j];\n",
    "    F <- matrix(rnorm(n*k,0,1),n,k);\n",
    "    W <- t(t(matrix(rnorm(p*k,0,1),p,k)) * ((k+1)-(1:k)));\n",
    "    for (i in 1:reps){\n",
    "        E <- matrix(rcauchy(n*p),n,p);\n",
    "        X <- F %*% t(W) + E;\n",
    "        wyn <- pesel(X);\n",
    "        nPCs[i,j] <- wyn$nPCs;\n",
    "    }\n",
    "}"
   ]
  },
  {
   "cell_type": "code",
   "execution_count": 45,
   "id": "suspended-classics",
   "metadata": {},
   "outputs": [
    {
     "data": {
      "image/png": "[encoded data removed]",
      "text/plain": [
       "Plot with title \"100\""
      ]
     },
     "metadata": {
      "image/png": {
       "height": 420,
       "width": 420
      }
     },
     "output_type": "display_data"
    },
    {
     "data": {
      "image/png": "[encoded data removed]",
      "text/plain": [
       "Plot with title \"500\""
      ]
     },
     "metadata": {
      "image/png": {
       "height": 420,
       "width": 420
      }
     },
     "output_type": "display_data"
    },
    {
     "data": {
      "image/png": "[encoded data removed]",
      "text/plain": [
       "Plot with title \"1000\""
      ]
     },
     "metadata": {
      "image/png": {
       "height": 420,
       "width": 420
      }
     },
     "output_type": "display_data"
    },
    {
     "data": {
      "image/png": "[encoded data removed]",
      "text/plain": [
       "Plot with title \"5000\""
      ]
     },
     "metadata": {
      "image/png": {
       "height": 420,
       "width": 420
      }
     },
     "output_type": "display_data"
    }
   ],
   "source": [
    "for (j in 1:length(p_arr)){\n",
    "    hist(nPCs[,j], main = p_arr[j], breaks=c(0,1,2,3,4,5))\n",
    "}"
   ]
  },
  {
   "cell_type": "markdown",
   "id": "worse-infrared",
   "metadata": {},
   "source": [
    "When the error comes from the Cauchy distribution the number of selected PCs is even higher, ale we can almost select all 5 PC's when $p=1000$."
   ]
  },
  {
   "cell_type": "markdown",
   "id": "formed-breakdown",
   "metadata": {},
   "source": [
    "## 4. \n",
    "For $n = 50$, $p = 800$ and $K = 4$ generate 100 independent replicates of the design matrix $X_{n \\times p}$ according to the formula\n",
    "\n",
    "$X = [X^1, \\cdots, X^K]$\n",
    "\n",
    "\n",
    "where each $X^i$ is of the dimension $n \\times 200$ and is obtained as\n",
    "\n",
    "$X^i = F^i(W^{i})^T + E^i$\n",
    "\n",
    "\n",
    "$F^i_{n \\times 3}: \\quad \\text{for} \\, j \\in \\{1, \\cdots , 3\\} F^i_{.j} \\sim N(0, I_{n \\times n})$\n",
    "\n",
    "\n",
    "$W^i_{200 \\times 3}: \\quad W^i_{.j} = (4 − j)N(0, I_{p \\times p})$\n",
    "\n",
    "\n",
    "$E^i_{n \\times 200}: \\quad E^i_{uj} \\sim N(0, \\sigma = 1)$\n",
    "\n",
    "\n",
    "Then generate the vector of response variable according to the formula\n",
    "\n",
    "$Y = F \\beta + Z$ ,\n",
    "\n",
    "where $F = [F^1, \\cdots , F^K]$, $\\, \\beta = [0, \\frac{1}{2}, \\frac{1}{2}, 0, \\frac{1}{2}, \\frac{1}{2}, 0, 0, 0, 0, 0, 0]$."
   ]
  },
  {
   "cell_type": "markdown",
   "id": "veterinary-hypothetical",
   "metadata": {},
   "source": [
    "a) Use PESEL to estimate the rank of X and calculate all important principal components of X. Draw the histogram of the estimated dimension."
   ]
  },
  {
   "cell_type": "markdown",
   "id": "infinite-guitar",
   "metadata": {},
   "source": [
    "b) Use varclust to cluster the columns of X. Draw histogram of the number of selected clusters, estimated dimensions of the clusters and values of ARI, Integration and Acontamination."
   ]
  },
  {
   "cell_type": "markdown",
   "id": "reverse-operation",
   "metadata": {},
   "source": [
    "library(pesel);c) Fit the predictive model for Y based on X matrix using\n",
    "* Lasso with cross-validation\n",
    "* Adaptive LASSO\n",
    "* Ridge regression with cross-validation\n",
    "* Least squares regression using principal components calculated in a) - use the model with all calculated PCs as well as the model with PCs selected by mBIC2\n",
    "* Least squares regression using all PCs calculated in b) - use the model with all calculated PCs as well as the model with PCs selected by mBIC2\n",
    "\n",
    "For all these methods draw histograms of $SSE(\\hat{\\mu}) = ||\\hat{\\mu} − \\mu||^2$, where $\\mu = E(Y)$."
   ]
  },
  {
   "cell_type": "code",
   "execution_count": 1,
   "id": "nasty-choice",
   "metadata": {},
   "outputs": [
    {
     "name": "stderr",
     "output_type": "stream",
     "text": [
      "Warning message:\n",
      "\"package 'varclust' was built under R version 4.0.5\"\n",
      "Loading required package: Matrix\n",
      "\n",
      "Loaded glmnet 4.1-1\n",
      "\n"
     ]
    }
   ],
   "source": [
    "library(pesel);\n",
    "library(varclust);\n",
    "library(glmnet);\n",
    "library('bigstep');"
   ]
  },
  {
   "cell_type": "code",
   "execution_count": 2,
   "id": "involved-spray",
   "metadata": {},
   "outputs": [],
   "source": [
    "n <- 50\n",
    "p <- 800\n",
    "K <- 4\n",
    "p_i <- p/K\n",
    "k <- 3"
   ]
  },
  {
   "cell_type": "code",
   "execution_count": 3,
   "id": "approximate-arena",
   "metadata": {},
   "outputs": [],
   "source": [
    "F_i <- array(rep(0,n*k*K),c(K,n,k))\n",
    "for (i in 1:K){\n",
    "    F_i[i,,] <- matrix(rnorm(n*k,0,1),n,k);\n",
    "}"
   ]
  },
  {
   "cell_type": "code",
   "execution_count": 4,
   "id": "august-sydney",
   "metadata": {},
   "outputs": [],
   "source": [
    "W_i <- array(rep(0,p_i*k*K),c(K,p_i,k))\n",
    "for (i in 1:K){\n",
    "    W_i[i,,] <- t(t(matrix(rnorm(p_i*k,0,1),p_i,k)) * ((k+1)-(1:k)));\n",
    "}"
   ]
  },
  {
   "cell_type": "code",
   "execution_count": 5,
   "id": "familiar-terrace",
   "metadata": {},
   "outputs": [],
   "source": [
    "E_i <- array(rep(0,p_i*n*K),c(K,n,p_i))\n",
    "for (i in 1:K){\n",
    "    E_i[i,,] <- matrix(rnorm(n*p_i,0,1),n,p_i);\n",
    "}"
   ]
  },
  {
   "cell_type": "code",
   "execution_count": 6,
   "id": "bronze-strip",
   "metadata": {},
   "outputs": [],
   "source": [
    "X_i <- array(rep(0,n*p),c(K,n,p_i))\n",
    "for (i in 1:K){\n",
    "    X_i[i,,] <- F_i[i,,] %*% t(W_i[i,,]) + E_i[i,,];\n",
    "}"
   ]
  },
  {
   "cell_type": "code",
   "execution_count": 7,
   "id": "broadband-mailman",
   "metadata": {},
   "outputs": [],
   "source": [
    "X <- matrix(rep(0,n*p),n,p)\n",
    "for (i in 1:K){\n",
    "    X[,((i-1)*p_i+1):(i*p_i)] <- X_i[i,,]\n",
    "}"
   ]
  },
  {
   "cell_type": "code",
   "execution_count": 8,
   "id": "tested-piano",
   "metadata": {},
   "outputs": [],
   "source": [
    "F <- matrix(rep(0,n*K*k),n,(K*k))\n",
    "for (i in 1:K){\n",
    "    F[,((i-1)*k+1):(i*k)] <- F_i[i,,]\n",
    "}"
   ]
  },
  {
   "cell_type": "code",
   "execution_count": 9,
   "id": "brief-recording",
   "metadata": {},
   "outputs": [],
   "source": [
    "Betas <- c(0, 0.5, 0.5, 0, 0.5, 0.5, 0, 0, 0, 0, 0, 0)"
   ]
  },
  {
   "cell_type": "code",
   "execution_count": 10,
   "id": "naval-allocation",
   "metadata": {},
   "outputs": [],
   "source": [
    "labels = c(rep(1,p_i), rep(2,p_i), rep(3,p_i), rep(4,p_i))"
   ]
  },
  {
   "cell_type": "code",
   "execution_count": 11,
   "id": "dental-action",
   "metadata": {},
   "outputs": [],
   "source": [
    "Z <- rnorm(n,0,1/sqrt(n))"
   ]
  },
  {
   "cell_type": "code",
   "execution_count": 12,
   "id": "spiritual-childhood",
   "metadata": {},
   "outputs": [],
   "source": [
    "Y <- F %*% Betas + Z"
   ]
  },
  {
   "cell_type": "code",
   "execution_count": 13,
   "id": "auburn-native",
   "metadata": {},
   "outputs": [],
   "source": [
    "reps <- 100"
   ]
  },
  {
   "cell_type": "code",
   "execution_count": 14,
   "id": "earlier-steam",
   "metadata": {},
   "outputs": [],
   "source": [
    "ARI <- function(preds, labels){\n",
    "    n <- length(labels);\n",
    "    a <- 0;\n",
    "    b <- 0;\n",
    "    c <- 0;\n",
    "    d <- 0;\n",
    "    for (i in 1:(n-1)){\n",
    "        for (j in (i+1):n){\n",
    "            if (preds[i]==preds[j]){\n",
    "                if (labels[i]==labels[j]){\n",
    "                    a <- a+1;\n",
    "                } else{\n",
    "                    b <- b+1\n",
    "                }\n",
    "            } else{\n",
    "                if (labels[i]==labels[j]){\n",
    "                    c <- c+1;\n",
    "                } else{\n",
    "                    d <- d+1;\n",
    "                }\n",
    "            }\n",
    "        }\n",
    "    }\n",
    "    binom <- choose(n,2);\n",
    "    ARI <- (binom*(a+d) - ((a+b)*(a+c) + (b+d)*(c+d)))/(binom^2 - ((a+b)*(a+c) + (b+d)*(c+d)))\n",
    "    return(ARI)\n",
    "}"
   ]
  },
  {
   "cell_type": "code",
   "execution_count": 15,
   "id": "composed-reset",
   "metadata": {},
   "outputs": [],
   "source": [
    "Int <- function(A_j, B){\n",
    "    m <- max(B);\n",
    "    res <- 0;\n",
    "    for (j in 1:m){\n",
    "        res <- max(res, length(intersect(A_j, which(B==j))));\n",
    "    }\n",
    "    res <- res/length(A_j);\n",
    "    return(res)\n",
    "}\n",
    "Integrat <- function(preds, labels){\n",
    "    n <- max(preds);\n",
    "    res <- 0;\n",
    "    for (i in 1:n){\n",
    "        res <- res + Int(which(preds==i), labels);\n",
    "    }\n",
    "    res <- res/n;\n",
    "    return(res)\n",
    "}"
   ]
  },
  {
   "cell_type": "code",
   "execution_count": 16,
   "id": "collectible-laugh",
   "metadata": {},
   "outputs": [],
   "source": [
    "Ac <- function(A_j, B){\n",
    "    m <- max(B);\n",
    "    res <- 0;\n",
    "    B_k_count <- 0;\n",
    "    for (j in 1:m){\n",
    "        temp <- length(intersect(A_j, which(B==j)));\n",
    "        if (temp>res){\n",
    "            res <- temp;\n",
    "            B_k_count <- length(which(B==j));\n",
    "        }\n",
    "    }\n",
    "    res <- res/B_k_count;\n",
    "    return(res)\n",
    "}\n",
    "Acount <- function(preds, labels){\n",
    "    n <- max(preds);\n",
    "    res <- 0;\n",
    "    for (i in 1:n){\n",
    "        res <- res + Ac(which(preds==i), labels);\n",
    "    }\n",
    "    res <- res/n;\n",
    "    return(res)\n",
    "}"
   ]
  },
  {
   "cell_type": "code",
   "execution_count": 17,
   "id": "willing-tulsa",
   "metadata": {},
   "outputs": [],
   "source": [
    "nPCs_pesel <- rep(0, reps);\n",
    "nClusters <- rep(0, reps);\n",
    "dimVarclust <- rep(0, reps);\n",
    "ARIs <- rep(0, reps);\n",
    "Integrats <- rep(0, reps);\n",
    "Acounts <- rep(0, reps);\n",
    "SSE_Lasso <- rep(0, reps);\n",
    "SSE_RR <- rep(0, reps);\n",
    "SSE_ALasso <- rep(0, reps);\n",
    "SSE_pcls_pesel <- rep(0, reps);\n",
    "SSE_pcls_pesel_mbic2 <- rep(0, reps);\n",
    "SSE_pcls_varclust <- rep(0, reps);\n",
    "SSE_pcls_varclust_mbic2 <- rep(0, reps);"
   ]
  },
  {
   "cell_type": "code",
   "execution_count": 18,
   "id": "proprietary-advertiser",
   "metadata": {},
   "outputs": [],
   "source": [
    "lambda_alasso <- qnorm(1-0.1/p);\n",
    "EY <-  F %*% Betas;\n",
    "for (r in 1:reps){\n",
    "    \n",
    "    # data\n",
    "    for (i in 1:K){\n",
    "        E_i[i,,] <- matrix(rnorm(n*p_i,0,1),n,p_i);\n",
    "        X_i[i,,] <- F_i[i,,] %*% t(W_i[i,,]) + E_i[i,,];\n",
    "        X[,((i-1)*p_i+1):(i*p_i)] <- X_i[i,,];\n",
    "        F[,((i-1)*k+1):(i*k)] <- F_i[i,,]\n",
    "    }\n",
    "    \n",
    "    Z <- rnorm(n,0,1/sqrt(n));\n",
    "    Y <- F %*% Betas + Z;\n",
    "    \n",
    "    \n",
    "    # a) PESEL\n",
    "    wyn <- pesel(X, npc.max=20);\n",
    "    nPCs_pesel[r] <- wyn$nPCs;\n",
    "    eig <- eigen(t(X) %*% X)\n",
    "    F_eig <- X %*% eig$vectors[,1:wyn$nPCs]\n",
    "    \n",
    "    \n",
    "    # b) varclust\n",
    "    varc <- mlcc.bic(X, numb.clusters = 1:10, numb.runs = 5, max.iter = 15);\n",
    "    nClusters[r] <- varc$nClusters;\n",
    "    dimVarclust[r] <- mean(as.numeric(varc$subspacesDimensions));\n",
    "    ARIs[r] <- ARI(varc$segmentation, labels);\n",
    "    Integrats[r] <- Integrat(varc$segmentation, labels);\n",
    "    Acounts[r] <-Acount(varc$segmentation, labels);\n",
    "    \n",
    "    \n",
    "    # c)\n",
    "    # Lasso\n",
    "    obj1 <- cv.glmnet(X, Y, alpha=1, intercept=FALSE, standardize=FALSE);\n",
    "    betas_lasso_ <- coefficients(obj1, s='lambda.min')[2:(p+1),1];\n",
    "    lasso_indxs <- which(abs(betas_lasso_)>0);\n",
    "    SSE_Lasso[r] <- sum((X %*% betas_lasso_ - EY)^2);\n",
    "    \n",
    "    # RR\n",
    "    obj2 <- cv.glmnet(X, Y, alpha=0, intercept=FALSE, standardize=FALSE);\n",
    "    betas_ridge_ <- coefficients(obj2, s='lambda.min')[2:(p+1),1];\n",
    "    SSE_RR[r] <- sum((X %*% betas_ridge_ - EY)^2);\n",
    "    \n",
    "    # ALasso\n",
    "    Lasso_RSS <- sum((Y- X%*%betas_lasso_)^2)\n",
    "    X_ADLasso2 <- X[,lasso_indxs];\n",
    "    betas_adlasso2_ <- betas_lasso_[lasso_indxs];\n",
    "    sigma_lassoCV <- sqrt(Lasso_RSS/(n-length(lasso_indxs)));\n",
    "    W_ADLasso_2<-abs(betas_adlasso2_)/sigma_lassoCV;\n",
    "    X_ADLasso2_temp <- sweep(X_ADLasso2, 2, W_ADLasso_2, '*');\n",
    "    obj3 <- glmnet(X_ADLasso2_temp, Y, intercept=FALSE, alpha=1, standardize=FALSE, lambda=sigma_lassoCV*lambda_alasso/n);\n",
    "    betas_adlasso2_2 <- coefficients(obj3)[2:(length(lasso_indxs)+1)] * W_ADLasso_2;\n",
    "    betas_adlasso2_3 <- rep(0,p);\n",
    "    betas_adlasso2_3[lasso_indxs] <- betas_adlasso2_2;\n",
    "    SSE_ALasso[r] <- sum((X %*% betas_adlasso2_3 - EY)^2);\n",
    "    \n",
    "    # PCLS + PESEL\n",
    "    obj4 <- lm(Y~F_eig-1);\n",
    "    betas_pcls_pesel_ <- obj4$coefficients;\n",
    "    SSE_pcls_pesel[r] <- sum((F_eig %*% betas_pcls_pesel_ - EY)^2);\n",
    "    \n",
    "    # PCLS + PESEL + mBIC2\n",
    "    dat<-prepare_data(Y, F_eig, verbose = FALSE);\n",
    "    obj5<-stepwise(dat, crit='mbic2', maxf=p);\n",
    "    selected<-as.numeric(obj5$model);\n",
    "    betaolsmBIC<-rep(0,wyn$nPCs);\n",
    "    if (length(selected)>0){\n",
    "        F_mBIC2<-F_eig[,selected];\n",
    "        betaolsmBIC[selected] = summary(lm(Y ~ F_mBIC2-1))$coef[,1];\n",
    "    }\n",
    "    SSE_pcls_pesel_mbic2[r] <- sum((F_eig %*% betaolsmBIC - EY)^2);\n",
    "    \n",
    "    # PCLS + varclust\n",
    "    n_dim_varclust <- sum(as.numeric(varc$subspacesDimensions));\n",
    "    F_varclust <- matrix(rep(0, n*n_dim_varclust), n, n_dim_varclust);\n",
    "    temp_dim <- 1;\n",
    "    for (c in 1:varc$nClusters){\n",
    "        X_temp <- X[,which(varc$segmentation==c)];\n",
    "        dim_c <- as.numeric(varc$subspacesDimensions)[c];\n",
    "        eig <- eigen(t(X_temp) %*% X_temp)\n",
    "        F_varclust[, temp_dim:(temp_dim+dim_c-1)] <- X_temp %*% eig$vectors[,1:dim_c];\n",
    "        temp_dim <- temp_dim + dim_c;\n",
    "    }\n",
    "    obj6 <- lm(Y~F_varclust-1);\n",
    "    betas_pcls_varclust_ <- obj6$coefficients;\n",
    "    SSE_pcls_varclust[r] <- sum((F_varclust %*% betas_pcls_varclust_ - EY)^2);\n",
    "    \n",
    "    # PCLS + varclust + mBIC2\n",
    "    dat<-prepare_data(Y, F_varclust, verbose = FALSE);\n",
    "    obj7<-stepwise(dat, crit='mbic2', maxf=p);\n",
    "    selected<-as.numeric(obj7$model);\n",
    "    betaolsmBIC<-rep(0,n_dim_varclust);\n",
    "    if (length(selected)>0){\n",
    "        F_mBIC2<-F_varclust[,selected];\n",
    "        betaolsmBIC[selected] = summary(lm(Y ~ F_mBIC2-1))$coef[,1];\n",
    "    }\n",
    "    SSE_pcls_varclust_mbic2[r] <- sum((F_varclust %*% betaolsmBIC - EY)^2);\n",
    "}"
   ]
  },
  {
   "cell_type": "code",
   "execution_count": 19,
   "id": "designing-residence",
   "metadata": {},
   "outputs": [
    {
     "data": {
      "image/png": "[encoded data removed]",
      "text/plain": [
       "Plot with title \"Histogram of nPCs_pesel\""
      ]
     },
     "metadata": {
      "image/png": {
       "height": 420,
       "width": 420
      }
     },
     "output_type": "display_data"
    }
   ],
   "source": [
    "hist(nPCs_pesel, breaks=0:14)"
   ]
  },
  {
   "cell_type": "code",
   "execution_count": 20,
   "id": "ongoing-metallic",
   "metadata": {},
   "outputs": [
    {
     "data": {
      "image/png": "[encoded data removed]",
      "text/plain": [
       "Plot with title \"Histogram of nClusters\""
      ]
     },
     "metadata": {
      "image/png": {
       "height": 420,
       "width": 420
      }
     },
     "output_type": "display_data"
    }
   ],
   "source": [
    "hist(nClusters, breaks=0:7)"
   ]
  },
  {
   "cell_type": "code",
   "execution_count": 21,
   "id": "annual-knock",
   "metadata": {},
   "outputs": [
    {
     "data": {
      "image/png": "[encoded data removed]",
      "text/plain": [
       "Plot with title \"Histogram of dimVarclust\""
      ]
     },
     "metadata": {
      "image/png": {
       "height": 420,
       "width": 420
      }
     },
     "output_type": "display_data"
    }
   ],
   "source": [
    "hist(dimVarclust, breaks=0:10/5 + 2)"
   ]
  },
  {
   "cell_type": "code",
   "execution_count": 22,
   "id": "appreciated-indie",
   "metadata": {},
   "outputs": [
    {
     "data": {
      "image/png": "[encoded data removed]",
      "text/plain": [
       "Plot with title \"Histogram of ARIs\""
      ]
     },
     "metadata": {
      "image/png": {
       "height": 420,
       "width": 420
      }
     },
     "output_type": "display_data"
    }
   ],
   "source": [
    "hist(ARIs, breaks=0:20/100 + 0.80)"
   ]
  },
  {
   "cell_type": "code",
   "execution_count": 23,
   "id": "convertible-renaissance",
   "metadata": {},
   "outputs": [
    {
     "data": {
      "image/png": "[encoded data removed]",
      "text/plain": [
       "Plot with title \"Histogram of Integrats\""
      ]
     },
     "metadata": {
      "image/png": {
       "height": 420,
       "width": 420
      }
     },
     "output_type": "display_data"
    }
   ],
   "source": [
    "hist(Integrats, breaks=0:20/100 + 0.80)"
   ]
  },
  {
   "cell_type": "code",
   "execution_count": 24,
   "id": "quantitative-pathology",
   "metadata": {},
   "outputs": [
    {
     "data": {
      "image/png": "[encoded data removed]",
      "text/plain": [
       "Plot with title \"Histogram of Acounts\""
      ]
     },
     "metadata": {
      "image/png": {
       "height": 420,
       "width": 420
      }
     },
     "output_type": "display_data"
    }
   ],
   "source": [
    "hist(Acounts, breaks=0:20/50 + 0.6)"
   ]
  },
  {
   "cell_type": "code",
   "execution_count": 28,
   "id": "durable-rachel",
   "metadata": {},
   "outputs": [
    {
     "name": "stdout",
     "output_type": "stream",
     "text": [
      "         Lasso    RR AdLasso PC-LS-P PC-LS-P-mBIC PC-LS-V PC-LS-V-mBIC\n",
      "SSE(mu) 0.6177 0.859  0.9503  0.3622        6.439  0.3841       0.3038\n"
     ]
    }
   ],
   "source": [
    "df = data.frame(\n",
    "    c1<-round(mean(SSE_Lasso),4),\n",
    "    c2<-round(mean(SSE_RR),4),\n",
    "    c3<-round(mean(SSE_ALasso),4),\n",
    "    c4<-round(mean(SSE_pcls_pesel),4),\n",
    "    c5<-round(mean(SSE_pcls_pesel_mbic2),4),\n",
    "    c6<-round(mean(SSE_pcls_varclust),4),\n",
    "    c7<-round(mean(SSE_pcls_varclust_mbic2),4)\n",
    ");\n",
    "colnames(df) <- c('Lasso', 'RR', 'AdLasso', 'PC-LS-P', 'PC-LS-P-mBIC', 'PC-LS-V', 'PC-LS-V-mBIC');\n",
    "rownames(df) <- c('SSE(mu)');\n",
    "print(df)"
   ]
  },
  {
   "cell_type": "markdown",
   "id": "focal-september",
   "metadata": {},
   "source": [
    "In each iteration, PESEL chose all 12 PCs.\n",
    "\n",
    "Most of the time, Varclust creates 4 clusters, but sometimes it adds one or two more clusters. The average dimension is usually near 3.\n",
    "\n",
    "All 3 scores show that most of the time our clustering is really good and the score value is near 1. But sometimes we can spot some outliers, especially looking at Acontamination score.\n",
    "\n",
    "Lasso (both standard and Adaptive one) and the Ridge regression let us describe the Y variable a bit, but the results are not that good as while using PCs.\n",
    "Using the standard least square method on the principal components based on PESEL results is getting quite good results, but limiting the number of variables using mBIC2 leads to a significant increase of the error. \n",
    "Calculating the principal component from each cluster (got from Varclust) separately leads to similar results to the previous method, but this time we can use mBIC2 to reduce unnecessary variables, which leads to results improvment."
   ]
  }
 ],
 "metadata": {
  "kernelspec": {
   "display_name": "R",
   "language": "R",
   "name": "ir"
  },
  "language_info": {
   "codemirror_mode": "r",
   "file_extension": ".r",
   "mimetype": "text/x-r-source",
   "name": "R",
   "pygments_lexer": "r",
   "version": "4.0.4"
  }
 },
 "nbformat": 4,
 "nbformat_minor": 5
}
