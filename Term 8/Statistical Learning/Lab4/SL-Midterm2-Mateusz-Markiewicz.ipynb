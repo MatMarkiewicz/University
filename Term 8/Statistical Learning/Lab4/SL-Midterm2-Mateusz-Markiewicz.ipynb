{
 "cells": [
  {
   "cell_type": "markdown",
   "id": "provincial-morris",
   "metadata": {},
   "source": [
    "# Midterm 2 - Mateusz Markiewicz (298653)"
   ]
  },
  {
   "cell_type": "markdown",
   "id": "universal-continuity",
   "metadata": {},
   "source": [
    "## 1\n",
    "Consider orthogonal design  (X'X=I) with p = 57 and a multiple regression model where the vector of regression coefficients has  15 non-zero elements, all equal to 3.0 and a standard deviation of the error term is equal to 1.  You are using the adaptive version of ridge regression where the tuning parameter is equal to 0.8, the weights for all true predictors are equal to 0.333333333333 and the weights for false predictors are equal to 100. Find the mean squared error  E|| estymator - beta||^2 of this estimator."
   ]
  },
  {
   "cell_type": "code",
   "execution_count": 1,
   "id": "circular-blame",
   "metadata": {},
   "outputs": [],
   "source": [
    "p <- 57\n",
    "k <- 15\n",
    "sig <- 3\n",
    "std <- 1\n",
    "betas <- rep(0, p)\n",
    "betas[1:k] <- sig\n",
    "lambda <- 0.8\n",
    "w <- rep(100,p)\n",
    "w[1:k] <- 0.333333333333\n",
    "lambda_i <- w*lambda"
   ]
  },
  {
   "cell_type": "markdown",
   "id": "incorporated-equipment",
   "metadata": {},
   "source": [
    "$MSE = ||\\hat{\\beta}-beta||^2 = \\sum_i MSE_i$"
   ]
  },
  {
   "cell_type": "markdown",
   "id": "committed-hygiene",
   "metadata": {},
   "source": [
    "$MSE_i = Var(\\beta_i) + Bias(\\beta_i)^2$"
   ]
  },
  {
   "cell_type": "markdown",
   "id": "amino-barbados",
   "metadata": {},
   "source": [
    "$Var(\\beta_i) = (\\frac{\\sigma}{1+\\gamma_i})^2$"
   ]
  },
  {
   "cell_type": "markdown",
   "id": "assigned-reporter",
   "metadata": {},
   "source": [
    "$Bias(\\beta_i) = - \\frac{1}{1+\\gamma_i}\\beta_i$"
   ]
  },
  {
   "cell_type": "code",
   "execution_count": 25,
   "id": "compliant-separate",
   "metadata": {},
   "outputs": [],
   "source": [
    "var_i <- (std/(1+lambda_i))**2\n",
    "bias_i <- -(1/(1+lambda_i)) * betas"
   ]
  },
  {
   "cell_type": "code",
   "execution_count": 26,
   "id": "productive-knitting",
   "metadata": {},
   "outputs": [],
   "source": [
    "MSE_i <- var_i + bias_i**2"
   ]
  },
  {
   "cell_type": "code",
   "execution_count": 27,
   "id": "radical-luxembourg",
   "metadata": {},
   "outputs": [],
   "source": [
    "MSE <- sum(MSE_i)"
   ]
  },
  {
   "cell_type": "code",
   "execution_count": 28,
   "id": "superb-therapist",
   "metadata": {},
   "outputs": [
    {
     "data": {
      "text/html": [
       "93.4967061723722"
      ],
      "text/latex": [
       "93.4967061723722"
      ],
      "text/markdown": [
       "93.4967061723722"
      ],
      "text/plain": [
       "[1] 93.49671"
      ]
     },
     "metadata": {},
     "output_type": "display_data"
    }
   ],
   "source": [
    "MSE"
   ]
  },
  {
   "cell_type": "markdown",
   "id": "sudden-taiwan",
   "metadata": {},
   "source": [
    "## 2\n",
    "Consider orthogonal design (X'X=I). Least squares estimator of beta_1 is equal to lse_1=4.5 and a lasso estimator is equal to 2.5. Calculate the adaptive LASSO estimator for this parameter using the same value of the tuning parameter as for the regular LASSO above and a weight w_1=1/(lse_1)."
   ]
  },
  {
   "cell_type": "code",
   "execution_count": 6,
   "id": "instrumental-armenia",
   "metadata": {},
   "outputs": [
    {
     "data": {
      "text/html": [
       "4.05555555555556"
      ],
      "text/latex": [
       "4.05555555555556"
      ],
      "text/markdown": [
       "4.05555555555556"
      ],
      "text/plain": [
       "[1] 4.055556"
      ]
     },
     "metadata": {},
     "output_type": "display_data"
    }
   ],
   "source": [
    "b_ols <- 4.5\n",
    "b_lasso <- 2.5\n",
    "lambda <- b_ols-b_lasso\n",
    "w <- 1/b_ols\n",
    "lambda_w <- w*lambda\n",
    "b_adlasso <- b_ols - lambda_w\n",
    "b_adlasso"
   ]
  },
  {
   "cell_type": "markdown",
   "id": "experimental-continent",
   "metadata": {},
   "source": [
    "## 3\n",
    "Vector [0.0, -2.0, 7.0, 1.0, -8.0, -2.0, 6.0, 6.0, 2.0, 4.0] contains values of W statistics for knockoffs. How many hypothesis you will reject using knockoffs with the nominal FDR value equal to 0.4."
   ]
  },
  {
   "cell_type": "code",
   "execution_count": 7,
   "id": "moral-israeli",
   "metadata": {},
   "outputs": [],
   "source": [
    "Knockoff_betas <- function(w, beta_hat, q=0.2){\n",
    "    sorted <- sort(abs(w), decreasing=TRUE, index.return=TRUE);\n",
    "    fd<-cumsum(w[sorted$ix]<0); \n",
    "    nd<-cumsum(w[sorted$ix]>0);\n",
    "    fdr<-(fd+1)/nd;\n",
    "    betas_knockoff <- rep(0,p);\n",
    "    u1<-which(fdr<q);\n",
    "    if (length(u1)>0){\n",
    "        indopt<-max(u1);\n",
    "        a1<-sorted$ix[1:indopt];\n",
    "        a2<-which(w>0);\n",
    "        a3<-intersect(a1,a2);\n",
    "        betas_knockoff[a3]<-beta_hat[a3];\n",
    "    }\n",
    "    return(betas_knockoff);\n",
    "}"
   ]
  },
  {
   "cell_type": "code",
   "execution_count": 8,
   "id": "requested-opportunity",
   "metadata": {},
   "outputs": [],
   "source": [
    "w <- c(0.0, -2.0, 7.0, 1.0, -8.0, -2.0, 6.0, 6.0, 2.0, 4.0)\n",
    "p <- length(w)\n",
    "beta_hat <- rep(1, p)\n",
    "q <- 0.4"
   ]
  },
  {
   "cell_type": "code",
   "execution_count": 9,
   "id": "developed-setup",
   "metadata": {},
   "outputs": [
    {
     "data": {
      "text/html": [
       "0"
      ],
      "text/latex": [
       "0"
      ],
      "text/markdown": [
       "0"
      ],
      "text/plain": [
       "[1] 0"
      ]
     },
     "metadata": {},
     "output_type": "display_data"
    }
   ],
   "source": [
    "sum(Knockoff_betas(w, betas, q)>0)"
   ]
  },
  {
   "cell_type": "markdown",
   "id": "associate-location",
   "metadata": {},
   "source": [
    "## 4\n",
    "Vectors S=[0.0, 1.0, 0.0] and U=[-1.0, 2.0, -1.0] are the first two rows of the matrix X. Provide the largest singular value of matrix X."
   ]
  },
  {
   "cell_type": "code",
   "execution_count": 23,
   "id": "flush-demand",
   "metadata": {},
   "outputs": [
    {
     "data": {
      "text/html": [
       "2.58873755307803"
      ],
      "text/latex": [
       "2.58873755307803"
      ],
      "text/markdown": [
       "2.58873755307803"
      ],
      "text/plain": [
       "[1] 2.588738"
      ]
     },
     "metadata": {},
     "output_type": "display_data"
    }
   ],
   "source": [
    "X <- t(matrix(c(0.0, 1.0, 0.0,-1.0, 2.0, -1.0), 3, 2))\n",
    "svd(X)$d[1]"
   ]
  },
  {
   "cell_type": "markdown",
   "id": "editorial-rates",
   "metadata": {},
   "source": [
    "## 5\n",
    "Vectors S=[0.0, 0.0, 0.0] and U=[-1.0, 1.0, 2.0] are the consecutive rows of the matrix X. Calculate the best rank one approximation to X, hat X, and provide the Frobenius norm of the difference between X and hat X, i.e. sum(X_ij - hat X_ij)^2. "
   ]
  },
  {
   "cell_type": "code",
   "execution_count": 11,
   "id": "irish-serum",
   "metadata": {},
   "outputs": [],
   "source": [
    "X <- t(matrix(c(0.0, 0.0, 0.0,-1.0, 1.0, 2.0), 3, 2))"
   ]
  },
  {
   "cell_type": "code",
   "execution_count": 12,
   "id": "threatened-chambers",
   "metadata": {},
   "outputs": [],
   "source": [
    "eig <- eigen(t(X) %*% X)"
   ]
  },
  {
   "cell_type": "code",
   "execution_count": 13,
   "id": "applied-netscape",
   "metadata": {},
   "outputs": [],
   "source": [
    "k <- 1\n",
    "F_eig <- X %*% eig$vectors[,1:k]\n",
    "X_hat <- F_eig %*% t(eig$vectors[,1:k])"
   ]
  },
  {
   "cell_type": "code",
   "execution_count": 14,
   "id": "colonial-milan",
   "metadata": {},
   "outputs": [
    {
     "data": {
      "text/html": [
       "5.54667823983524e-31"
      ],
      "text/latex": [
       "5.54667823983524e-31"
      ],
      "text/markdown": [
       "5.54667823983524e-31"
      ],
      "text/plain": [
       "[1] 5.546678e-31"
      ]
     },
     "metadata": {},
     "output_type": "display_data"
    }
   ],
   "source": [
    "sum((X_hat - X)**2)"
   ]
  },
  {
   "cell_type": "code",
   "execution_count": 15,
   "id": "immediate-panel",
   "metadata": {},
   "outputs": [
    {
     "data": {
      "text/html": [
       "8.88178419700125e-16"
      ],
      "text/latex": [
       "8.88178419700125e-16"
      ],
      "text/markdown": [
       "8.88178419700125e-16"
      ],
      "text/plain": [
       "[1] 8.881784e-16"
      ]
     },
     "metadata": {},
     "output_type": "display_data"
    }
   ],
   "source": [
    "sum(eig$values[2:3])"
   ]
  },
  {
   "cell_type": "markdown",
   "id": "cubic-reception",
   "metadata": {},
   "source": [
    "## 6\n",
    "Vectors S=[0.0, 0.0, 0.0] and U=[-1.0, 1.0, 1.0] are the consecutive rows of the matrix X. Provide first coordinate of the first principal component of X. "
   ]
  },
  {
   "cell_type": "code",
   "execution_count": 24,
   "id": "conventional-intersection",
   "metadata": {},
   "outputs": [
    {
     "data": {
      "text/html": [
       "0"
      ],
      "text/latex": [
       "0"
      ],
      "text/markdown": [
       "0"
      ],
      "text/plain": [
       "[1] 0"
      ]
     },
     "metadata": {},
     "output_type": "display_data"
    }
   ],
   "source": [
    "X <- t(matrix(c(0.0, 0.0, 0.0, -1.0, 1.0, 1.0), 3, 2))\n",
    "k <- 1\n",
    "eig <- eigen(t(X) %*% X)\n",
    "F_eig <- X %*% eig$vectors[,1:k]\n",
    "F_eig[1]"
   ]
  },
  {
   "cell_type": "markdown",
   "id": "sensitive-departure",
   "metadata": {},
   "source": [
    "## 7\n",
    "Vectors [-7.0, -5.0, -6.0], [1.0, -1.0, 0.0] and [-16.0, -11.0, -11.0] are the consecutive rows of X. Assuming that X=M+E, where M is of rank 1, estimate variance of the noise (i.e., the variance of the elements of E)."
   ]
  },
  {
   "cell_type": "code",
   "execution_count": 17,
   "id": "continental-rachel",
   "metadata": {},
   "outputs": [
    {
     "data": {
      "text/html": [
       "0.460147642827959"
      ],
      "text/latex": [
       "0.460147642827959"
      ],
      "text/markdown": [
       "0.460147642827959"
      ],
      "text/plain": [
       "[1] 0.4601476"
      ]
     },
     "metadata": {},
     "output_type": "display_data"
    }
   ],
   "source": [
    "X <- t(matrix(c(-7.0, -5.0, -6.0, 1.0, -1.0, 0.0, -16.0, -11.0, -11.0), 3, 3))\n",
    "eig <- eigen(t(X) %*% X)\n",
    "k <- 1\n",
    "p <- 3\n",
    "n <- 3\n",
    "ss_hat <- sum(eig$values[(k+1):p]) / ((p-k)*n)\n",
    "ss_hat"
   ]
  },
  {
   "cell_type": "markdown",
   "id": "searching-collective",
   "metadata": {},
   "source": [
    "## 8\n",
    "Vectors [7,7,8], [21,16,21] and [2,4,3] are the consecutive rows of X. Assuming that X=M+E, where E is the matrix of noise terms, use PESEL to estimate the rank of M."
   ]
  },
  {
   "cell_type": "code",
   "execution_count": 18,
   "id": "former-aging",
   "metadata": {},
   "outputs": [],
   "source": [
    "X <- t(matrix(c(7,7,8,21,16,21,2,4,3), 3, 3))"
   ]
  },
  {
   "cell_type": "code",
   "execution_count": 19,
   "id": "outdoor-worker",
   "metadata": {},
   "outputs": [],
   "source": [
    "library(pesel);"
   ]
  },
  {
   "cell_type": "code",
   "execution_count": 20,
   "id": "lined-software",
   "metadata": {},
   "outputs": [
    {
     "data": {
      "text/html": [
       "2"
      ],
      "text/latex": [
       "2"
      ],
      "text/markdown": [
       "2"
      ],
      "text/plain": [
       "[1] 2"
      ]
     },
     "metadata": {},
     "output_type": "display_data"
    }
   ],
   "source": [
    "pesel(X)$nPCs"
   ]
  },
  {
   "cell_type": "markdown",
   "id": "accredited-pacific",
   "metadata": {},
   "source": [
    "## 9\n",
    "Vectors [-0.18181818181818185, 0.45454545454545464, -0.18181818181818185], [0.4545454545454546, -0.6363636363636365, 0.2545454545454546] and [-0.4545454545454546, 0.6363636363636365, -0.05454545454545459] are the consecutive rows of the covariance matrix of the three dimensional multivariate normal distribution. Choose the appropriate answer:\n",
    "\n",
    "\n",
    "\n",
    "1 : all coordinates of this vector are conditionally dependent on each other\n",
    "\n",
    "2 : coordinates X1 and X2 are conditionally independent\n",
    "\n",
    "3 : coordinates X1 and X3 are conditionally independent \n",
    "\n",
    "4 : coordinates X2 and X3 are conditionally independent"
   ]
  },
  {
   "cell_type": "code",
   "execution_count": 21,
   "id": "absolute-fiction",
   "metadata": {},
   "outputs": [],
   "source": [
    "sigma <- t(matrix(c(-0.18181818181818185, 0.45454545454545464, -0.18181818181818185, 0.4545454545454546, -0.6363636363636365, 0.2545454545454546,-0.4545454545454546, 0.6363636363636365, -0.05454545454545459), 3, 3))"
   ]
  },
  {
   "cell_type": "code",
   "execution_count": 22,
   "id": "wound-internet",
   "metadata": {},
   "outputs": [
    {
     "data": {
      "text/html": [
       "<table class=\"dataframe\">\n",
       "<caption>A matrix: 3 × 3 of type dbl</caption>\n",
       "<tbody>\n",
       "\t<tr><td>7</td><td>5</td><td>-4.884981e-16</td></tr>\n",
       "\t<tr><td>5</td><td>4</td><td> 2.000000e+00</td></tr>\n",
       "\t<tr><td>0</td><td>5</td><td> 5.000000e+00</td></tr>\n",
       "</tbody>\n",
       "</table>\n"
      ],
      "text/latex": [
       "A matrix: 3 × 3 of type dbl\n",
       "\\begin{tabular}{lll}\n",
       "\t 7 & 5 & -4.884981e-16\\\\\n",
       "\t 5 & 4 &  2.000000e+00\\\\\n",
       "\t 0 & 5 &  5.000000e+00\\\\\n",
       "\\end{tabular}\n"
      ],
      "text/markdown": [
       "\n",
       "A matrix: 3 × 3 of type dbl\n",
       "\n",
       "| 7 | 5 | -4.884981e-16 |\n",
       "| 5 | 4 |  2.000000e+00 |\n",
       "| 0 | 5 |  5.000000e+00 |\n",
       "\n"
      ],
      "text/plain": [
       "     [,1] [,2] [,3]         \n",
       "[1,] 7    5    -4.884981e-16\n",
       "[2,] 5    4     2.000000e+00\n",
       "[3,] 0    5     5.000000e+00"
      ]
     },
     "metadata": {},
     "output_type": "display_data"
    }
   ],
   "source": [
    "K <- solve(sigma)\n",
    "K"
   ]
  },
  {
   "cell_type": "markdown",
   "id": "reverse-lloyd",
   "metadata": {},
   "source": [
    "3 : coordinates X1 and X3 are conditionally independent "
   ]
  }
 ],
 "metadata": {
  "kernelspec": {
   "display_name": "R",
   "language": "R",
   "name": "ir"
  },
  "language_info": {
   "codemirror_mode": "r",
   "file_extension": ".r",
   "mimetype": "text/x-r-source",
   "name": "R",
   "pygments_lexer": "r",
   "version": "4.0.4"
  }
 },
 "nbformat": 4,
 "nbformat_minor": 5
}
