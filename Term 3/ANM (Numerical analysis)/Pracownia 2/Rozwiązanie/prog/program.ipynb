{
 "cells": [
  {
   "cell_type": "markdown",
   "metadata": {},
   "source": [
    "# Pracownia z Analizy Numerycznej"
   ]
  },
  {
   "cell_type": "markdown",
   "metadata": {},
   "source": [
    "## Zadanie 2.16"
   ]
  },
  {
   "cell_type": "markdown",
   "metadata": {},
   "source": [
    "## Autor : Mateusz Markiewicz"
   ]
  },
  {
   "cell_type": "markdown",
   "metadata": {},
   "source": [
    "# Algorytm Clenshawa"
   ]
  },
  {
   "cell_type": "markdown",
   "metadata": {},
   "source": [
    "Funkcja obliczająca wartość sumy Sn(x) =  0.5\\*c0\\*T0(x) + c1\\*T1(x) + c2\\*T2(x) + ... + cn\\*Tn(x), dla zadanych wartości n,c0...cn,x"
   ]
  },
  {
   "cell_type": "code",
   "execution_count": 1,
   "metadata": {},
   "outputs": [
    {
     "data": {
      "text/plain": [
       "clenshaw (generic function with 1 method)"
      ]
     },
     "execution_count": 1,
     "metadata": {},
     "output_type": "execute_result"
    }
   ],
   "source": [
    "function clenshaw(n,c,x)\n",
    "    Bk_1 = 0\n",
    "    Bk_2 = 0\n",
    "    for i = n:(-1):1\n",
    "        Bk = Float64(2) * x * Bk_1 - Bk_2 + c[i+1]\n",
    "        Bk_2 = Bk_1\n",
    "        Bk_1 = Bk\n",
    "    end\n",
    "    return x * Bk_1 - Bk_2 + c[1]/Float64(2)\n",
    "end"
   ]
  },
  {
   "cell_type": "code",
   "execution_count": 2,
   "metadata": {},
   "outputs": [],
   "source": [
    "using Distributions"
   ]
  },
  {
   "cell_type": "markdown",
   "metadata": {},
   "source": [
    "Funkcja zaburzająca wartość danego parametru o losową wartość epsilon z przedziału [-2^(-48),2^(-48)]"
   ]
  },
  {
   "cell_type": "code",
   "execution_count": 3,
   "metadata": {},
   "outputs": [
    {
     "data": {
      "text/plain": [
       "fluct (generic function with 1 method)"
      ]
     },
     "execution_count": 3,
     "metadata": {},
     "output_type": "execute_result"
    }
   ],
   "source": [
    "function fluct(c)\n",
    "    return Float64(c) + rand(Uniform(-(2^(-48)),2^(-48)))\n",
    "end"
   ]
  },
  {
   "cell_type": "markdown",
   "metadata": {},
   "source": [
    "Funkcaj obliczająca wartość k-tego wielomiany czebyszewa Tk, w punkcie x z przedziału [-1,1]"
   ]
  },
  {
   "cell_type": "code",
   "execution_count": 4,
   "metadata": {},
   "outputs": [
    {
     "data": {
      "text/plain": [
       "czebyszew (generic function with 1 method)"
      ]
     },
     "execution_count": 4,
     "metadata": {},
     "output_type": "execute_result"
    }
   ],
   "source": [
    "function czebyszew(k,x)\n",
    "    return cos(k * acos(x))\n",
    "end"
   ]
  },
  {
   "cell_type": "code",
   "execution_count": 5,
   "metadata": {},
   "outputs": [
    {
     "data": {
      "text/plain": [
       "czebyszew2 (generic function with 1 method)"
      ]
     },
     "execution_count": 5,
     "metadata": {},
     "output_type": "execute_result"
    }
   ],
   "source": [
    "function czebyszew2(k,x)\n",
    "    if k == 0\n",
    "        return 1\n",
    "    elseif k == 1\n",
    "        return x\n",
    "    else\n",
    "        return 2*x*czebyszew(k-1,x) - czebyszew(k-2,x)\n",
    "    end\n",
    "end"
   ]
  },
  {
   "cell_type": "markdown",
   "metadata": {},
   "source": [
    "Funkcja obliczająca ilość cyfr znaczących"
   ]
  },
  {
   "cell_type": "code",
   "execution_count": 6,
   "metadata": {},
   "outputs": [
    {
     "data": {
      "text/plain": [
       "sign_figures (generic function with 1 method)"
      ]
     },
     "execution_count": 6,
     "metadata": {},
     "output_type": "execute_result"
    }
   ],
   "source": [
    "function sign_figures(a,b)\n",
    "    return -log(10,abs((a-b)/b))\n",
    "end"
   ]
  },
  {
   "cell_type": "markdown",
   "metadata": {},
   "source": [
    "Test dokładności obliczania Tn(x) dla zadanego n (20) oraz x z przedziału [-1,1] (parametry a0 oraz b oznaczaja odpowiednio początek i koniec przedziału i mogę być zmieniane, tak samo maxiter - liczba iteracji)"
   ]
  },
  {
   "cell_type": "code",
   "execution_count": 7,
   "metadata": {},
   "outputs": [],
   "source": [
    "a0 = -1\n",
    "a = a0\n",
    "b = 1\n",
    "max_iter = 50\n",
    "e = (b-a)/max_iter\n",
    "res = []\n",
    "for i = 0:(max_iter-1)\n",
    "    y0 = czebyszew(20,a)\n",
    "    y = clenshaw(20,[0,0,0,0,0,0,0,0,0,0,0,0,0,0,0,0,0,0,0,0,1],a)\n",
    "    s = sign_figures(y,y0)\n",
    "    push!(res,s)\n",
    "    a += e\n",
    "end\n",
    "    "
   ]
  },
  {
   "cell_type": "code",
   "execution_count": 8,
   "metadata": {},
   "outputs": [
    {
     "data": {
      "text/html": [
       "    <script type=\"text/javascript\">\n",
       "        requirejs([\"https://cdn.plot.ly/plotly-latest.min.js\"], function(p) {\n",
       "            window.Plotly = p\n",
       "        });\n",
       "    </script>\n"
      ]
     },
     "metadata": {},
     "output_type": "display_data"
    },
    {
     "data": {
      "application/vnd.plotly.v1+json": {
       "data": [
        {
         "colorbar": {
          "title": ""
         },
         "hoverinfo": "text",
         "legendgroup": "y1",
         "marker": {
          "color": "rgba(0, 154, 250, 1.000)",
          "line": {
           "color": "rgba(0, 0, 0, 1.000)",
           "width": 1
          },
          "size": 8,
          "symbol": "circle"
         },
         "mode": "markers",
         "name": "y1",
         "showlegend": true,
         "text": [
          null,
          null,
          null,
          null,
          null,
          null,
          null,
          null,
          null,
          null,
          null,
          null,
          null,
          null,
          null,
          null,
          null,
          null,
          null,
          null,
          null,
          null,
          null,
          null,
          null,
          null,
          null,
          null,
          null,
          null,
          null,
          null,
          null,
          null,
          null,
          null,
          null,
          null,
          null,
          null,
          null,
          null,
          null,
          null,
          null,
          null,
          null,
          null,
          null,
          null
         ],
         "type": "scatter",
         "x": [
          -1,
          -0.96,
          -0.92,
          -0.88,
          -0.84,
          -0.8,
          -0.76,
          -0.72,
          -0.68,
          -0.64,
          -0.6,
          -0.56,
          -0.52,
          -0.48,
          -0.44,
          -0.4,
          -0.36,
          -0.32,
          -0.28,
          -0.24,
          -0.2,
          -0.16,
          -0.12,
          -0.08,
          -0.04,
          0,
          0.04,
          0.08,
          0.12,
          0.16,
          0.2,
          0.24,
          0.28,
          0.32,
          0.36,
          0.4,
          0.44,
          0.48,
          0.52,
          0.56,
          0.6,
          0.64,
          0.68,
          0.72,
          0.76,
          0.8,
          0.84,
          0.88,
          0.92,
          0.96
         ],
         "xaxis": "x1",
         "y": [
          null,
          14.63858449477487,
          14.099623258744701,
          15.204908834647155,
          14.68514480900406,
          14.591829718630143,
          12.327759244415796,
          14.748388910053121,
          14.101813225813208,
          14.026190760610891,
          14.788124363774111,
          15.36868137640675,
          13.137859189199204,
          15.096497246751245,
          15.330926836981156,
          15.121946452655992,
          15.45005190842697,
          15.164705435598604,
          14.755090063846303,
          13.945070720873552,
          15.755891617150452,
          15.953456190509709,
          14.545828645208148,
          13.122474391724998,
          15.49651428274701,
          null,
          15.320423023691324,
          13.183430817666556,
          15.22252225483302,
          15.953456190509705,
          14.852801630158499,
          14.323705574350255,
          14.722905380474906,
          15.243886681646227,
          14.069840666715356,
          14.315766478672122,
          15.33092683698116,
          15.573618501470902,
          13.524627019558757,
          15.243742639798457,
          15.332192408124383,
          14.513905088827944,
          15.215756578120057,
          15.447358914389135,
          13.590402712656527,
          15.934252399452351,
          14.769465694704078,
          null,
          14.855498114417113,
          15.090882165769486
         ],
         "yaxis": "y1",
         "zmax": 0.1,
         "zmin": -0.1
        }
       ],
       "layout": {
        "annotations": [
         {
          "font": {
           "color": "rgba(0, 0, 0, 1.000)",
           "family": "sans-serif",
           "size": 20
          },
          "rotation": 0,
          "showarrow": false,
          "text": "Dokładność obliczania T20(x)",
          "x": 0.5275462962962963,
          "xanchor": "center",
          "xref": "paper",
          "y": 1,
          "yanchor": "top",
          "yref": "paper"
         }
        ],
        "height": 400,
        "legend": {
         "bgcolor": "rgba(255, 255, 255, 1.000)",
         "bordercolor": "rgba(0, 0, 0, 1.000)",
         "font": {
          "color": "rgba(0, 0, 0, 1.000)",
          "family": "sans-serif",
          "size": 11
         },
         "tracegroupgap": 0,
         "x": 1,
         "y": 1
        },
        "margin": {
         "b": 20,
         "l": 0,
         "r": 0,
         "t": 20
        },
        "paper_bgcolor": "rgba(255, 255, 255, 1.000)",
        "plot_bgcolor": "rgba(255, 255, 255, 1.000)",
        "showlegend": true,
        "width": 600,
        "xaxis": {
         "anchor": "y1",
         "domain": [
          0.061654272382618835,
          0.9934383202099737
         ],
         "gridcolor": "rgba(0, 0, 0, 0.100)",
         "gridwidth": 0.5,
         "linecolor": "rgba(0, 0, 0, 1.000)",
         "mirror": false,
         "range": [
          -1.0588,
          1.0188
         ],
         "showgrid": true,
         "showline": true,
         "showticklabels": true,
         "tickangle": 0,
         "tickcolor": "rgb(0, 0, 0)",
         "tickfont": {
          "color": "rgba(0, 0, 0, 1.000)",
          "family": "sans-serif",
          "size": 11
         },
         "tickmode": "array",
         "ticks": "inside",
         "ticktext": [
          "-1.0",
          "-0.5",
          "0.0",
          "0.5",
          "1.0"
         ],
         "tickvals": [
          -1,
          -0.5,
          0,
          0.5,
          1
         ],
         "title": "x",
         "titlefont": {
          "color": "rgba(0, 0, 0, 1.000)",
          "family": "sans-serif",
          "size": 15
         },
         "type": "-",
         "visible": true,
         "zeroline": false,
         "zerolinecolor": "rgba(0, 0, 0, 1.000)"
        },
        "yaxis": {
         "anchor": "x1",
         "domain": [
          0.07581474190726165,
          0.9415463692038496
         ],
         "gridcolor": "rgba(0, 0, 0, 0.100)",
         "gridwidth": 0.5,
         "linecolor": "rgba(0, 0, 0, 1.000)",
         "mirror": false,
         "range": [
          0,
          20
         ],
         "showgrid": true,
         "showline": true,
         "showticklabels": true,
         "tickangle": 0,
         "tickcolor": "rgb(0, 0, 0)",
         "tickfont": {
          "color": "rgba(0, 0, 0, 1.000)",
          "family": "sans-serif",
          "size": 11
         },
         "tickmode": "array",
         "ticks": "inside",
         "ticktext": [
          "0",
          "5",
          "10",
          "15",
          "20"
         ],
         "tickvals": [
          0,
          5,
          10,
          15,
          20
         ],
         "title": "Ilość cyfr znaczących wyniku",
         "titlefont": {
          "color": "rgba(0, 0, 0, 1.000)",
          "family": "sans-serif",
          "size": 15
         },
         "type": "-",
         "visible": true,
         "zeroline": false,
         "zerolinecolor": "rgba(0, 0, 0, 1.000)"
        }
       }
      },
      "text/html": [
       "    <div id=\"7944efe5-23ed-4592-a428-31d176135dc2\" style=\"width:600px;height:400px;\"></div>\n",
       "    <script>\n",
       "    PLOT = document.getElementById('7944efe5-23ed-4592-a428-31d176135dc2');\n",
       "    Plotly.plot(PLOT, [{\"xaxis\":\"x1\",\"colorbar\":{\"title\":\"\"},\"yaxis\":\"y1\",\"text\":[null,null,null,null,null,null,null,null,null,null,null,null,null,null,null,null,null,null,null,null,null,null,null,null,null,null,null,null,null,null,null,null,null,null,null,null,null,null,null,null,null,null,null,null,null,null,null,null,null,null],\"x\":[-1.0,-0.96,-0.92,-0.88,-0.84,-0.8,-0.76,-0.72,-0.68,-0.64,-0.6,-0.56,-0.52,-0.48,-0.44,-0.4,-0.36,-0.32,-0.28,-0.24,-0.2,-0.16,-0.12,-0.08,-0.04,0.0,0.04,0.08,0.12,0.16,0.2,0.24,0.28,0.32,0.36,0.4,0.44,0.48,0.52,0.56,0.6,0.64,0.68,0.72,0.76,0.8,0.84,0.88,0.92,0.96],\"showlegend\":true,\"mode\":\"markers\",\"name\":\"y1\",\"zmin\":-0.1,\"legendgroup\":\"y1\",\"marker\":{\"symbol\":\"circle\",\"color\":\"rgba(0, 154, 250, 1.000)\",\"line\":{\"color\":\"rgba(0, 0, 0, 1.000)\",\"width\":1},\"size\":8},\"zmax\":0.1,\"y\":[null,14.63858449477487,14.099623258744701,15.204908834647155,14.68514480900406,14.591829718630143,12.327759244415796,14.748388910053121,14.101813225813208,14.026190760610891,14.788124363774111,15.36868137640675,13.137859189199204,15.096497246751245,15.330926836981156,15.121946452655992,15.45005190842697,15.164705435598604,14.755090063846303,13.945070720873552,15.755891617150452,15.953456190509709,14.545828645208148,13.122474391724998,15.49651428274701,null,15.320423023691324,13.183430817666556,15.22252225483302,15.953456190509705,14.852801630158499,14.323705574350255,14.722905380474906,15.243886681646227,14.069840666715356,14.315766478672122,15.33092683698116,15.573618501470902,13.524627019558757,15.243742639798457,15.332192408124383,14.513905088827944,15.215756578120057,15.447358914389135,13.590402712656527,15.934252399452351,14.769465694704078,null,14.855498114417113,15.090882165769486],\"type\":\"scatter\",\"hoverinfo\":\"text\"}], {\"showlegend\":true,\"xaxis\":{\"showticklabels\":true,\"gridwidth\":0.5,\"tickvals\":[-1.0,-0.5,0.0,0.5,1.0],\"visible\":true,\"ticks\":\"inside\",\"range\":[-1.0588,1.0188],\"domain\":[0.061654272382618835,0.9934383202099737],\"tickmode\":\"array\",\"linecolor\":\"rgba(0, 0, 0, 1.000)\",\"showgrid\":true,\"title\":\"x\",\"mirror\":false,\"tickangle\":0,\"showline\":true,\"gridcolor\":\"rgba(0, 0, 0, 0.100)\",\"titlefont\":{\"color\":\"rgba(0, 0, 0, 1.000)\",\"family\":\"sans-serif\",\"size\":15},\"tickcolor\":\"rgb(0, 0, 0)\",\"ticktext\":[\"-1.0\",\"-0.5\",\"0.0\",\"0.5\",\"1.0\"],\"zeroline\":false,\"type\":\"-\",\"tickfont\":{\"color\":\"rgba(0, 0, 0, 1.000)\",\"family\":\"sans-serif\",\"size\":11},\"zerolinecolor\":\"rgba(0, 0, 0, 1.000)\",\"anchor\":\"y1\"},\"paper_bgcolor\":\"rgba(255, 255, 255, 1.000)\",\"annotations\":[{\"yanchor\":\"top\",\"xanchor\":\"center\",\"rotation\":-0.0,\"y\":1.0,\"font\":{\"color\":\"rgba(0, 0, 0, 1.000)\",\"family\":\"sans-serif\",\"size\":20},\"yref\":\"paper\",\"showarrow\":false,\"text\":\"Dokładność obliczania T20(x)\",\"xref\":\"paper\",\"x\":0.5275462962962963}],\"height\":400,\"margin\":{\"l\":0,\"b\":20,\"r\":0,\"t\":20},\"plot_bgcolor\":\"rgba(255, 255, 255, 1.000)\",\"yaxis\":{\"showticklabels\":true,\"gridwidth\":0.5,\"tickvals\":[0.0,5.0,10.0,15.0,20.0],\"visible\":true,\"ticks\":\"inside\",\"range\":[0.0,20.0],\"domain\":[0.07581474190726165,0.9415463692038496],\"tickmode\":\"array\",\"linecolor\":\"rgba(0, 0, 0, 1.000)\",\"showgrid\":true,\"title\":\"Ilość cyfr znaczących wyniku\",\"mirror\":false,\"tickangle\":0,\"showline\":true,\"gridcolor\":\"rgba(0, 0, 0, 0.100)\",\"titlefont\":{\"color\":\"rgba(0, 0, 0, 1.000)\",\"family\":\"sans-serif\",\"size\":15},\"tickcolor\":\"rgb(0, 0, 0)\",\"ticktext\":[\"0\",\"5\",\"10\",\"15\",\"20\"],\"zeroline\":false,\"type\":\"-\",\"tickfont\":{\"color\":\"rgba(0, 0, 0, 1.000)\",\"family\":\"sans-serif\",\"size\":11},\"zerolinecolor\":\"rgba(0, 0, 0, 1.000)\",\"anchor\":\"x1\"},\"legend\":{\"tracegroupgap\":0,\"bordercolor\":\"rgba(0, 0, 0, 1.000)\",\"bgcolor\":\"rgba(255, 255, 255, 1.000)\",\"font\":{\"color\":\"rgba(0, 0, 0, 1.000)\",\"family\":\"sans-serif\",\"size\":11},\"y\":1.0,\"x\":1.0},\"width\":600});\n",
       "    </script>\n"
      ]
     },
     "execution_count": 8,
     "metadata": {},
     "output_type": "execute_result"
    }
   ],
   "source": [
    "using Plots\n",
    "plotly()\n",
    "x1 = a0:e:(b-e)\n",
    "plot(x1,res,ylims = (0,20),seriestype=:scatter,title=\"Dokładność obliczania T20(x)\")\n",
    "xlabel!(\"x\")\n",
    "ylabel!(\"Ilość cyfr znaczących wyniku\")"
   ]
  },
  {
   "cell_type": "markdown",
   "metadata": {},
   "source": [
    "Funkcaj obliczająca błąd względny wyniku"
   ]
  },
  {
   "cell_type": "code",
   "execution_count": 9,
   "metadata": {},
   "outputs": [
    {
     "data": {
      "text/plain": [
       "rel_err (generic function with 1 method)"
      ]
     },
     "execution_count": 9,
     "metadata": {},
     "output_type": "execute_result"
    }
   ],
   "source": [
    "function rel_err(v,av)\n",
    "    return Float64(abs((v-av)/v))\n",
    "end"
   ]
  },
  {
   "cell_type": "markdown",
   "metadata": {},
   "source": [
    "Test numerycznej poprawności algorytmu Clenshawa dla ck = k^(0.5)"
   ]
  },
  {
   "cell_type": "markdown",
   "metadata": {},
   "source": [
    "Parametry n, a0, b oraz max_iter mogą być zmieniane"
   ]
  },
  {
   "cell_type": "code",
   "execution_count": 28,
   "metadata": {},
   "outputs": [],
   "source": [
    "n = 20\n",
    "c = zeros(Float64,(n+1))\n",
    "for i = 1:(n+1)\n",
    "    c[i] = (Float64(i-1))^(Float64(0.5))\n",
    "end"
   ]
  },
  {
   "cell_type": "code",
   "execution_count": 29,
   "metadata": {},
   "outputs": [],
   "source": [
    "c_f = zeros(Float64,(n+1))\n",
    "for i = 1:(n+1)\n",
    "    c_f[i] = fluct((Float64(i-1))^(Float64(0.5)))\n",
    "end"
   ]
  },
  {
   "cell_type": "code",
   "execution_count": 30,
   "metadata": {},
   "outputs": [],
   "source": [
    "a0 = Float64(0)\n",
    "a = a0\n",
    "b = Float64(10)\n",
    "max_iter = 50\n",
    "e = (b-a0)/max_iter\n",
    "res2 = []\n",
    "for i = 0:max_iter\n",
    "    y0 = clenshaw(n,c,a)\n",
    "    y = clenshaw(n,c_f,a)\n",
    "    s = rel_err(y,y0)\n",
    "    push!(res2,s)\n",
    "    a += e\n",
    "end"
   ]
  },
  {
   "cell_type": "code",
   "execution_count": 31,
   "metadata": {},
   "outputs": [
    {
     "data": {
      "application/vnd.plotly.v1+json": {
       "data": [
        {
         "colorbar": {
          "title": ""
         },
         "hoverinfo": "text",
         "legendgroup": "y1",
         "marker": {
          "color": "rgba(0, 154, 250, 1.000)",
          "line": {
           "color": "rgba(0, 0, 0, 1.000)",
           "width": 1
          },
          "size": 8,
          "symbol": "circle"
         },
         "mode": "markers",
         "name": "y1",
         "showlegend": true,
         "text": [
          null,
          null,
          null,
          null,
          null,
          null,
          null,
          null,
          null,
          null,
          null,
          null,
          null,
          null,
          null,
          null,
          null,
          null,
          null,
          null,
          null,
          null,
          null,
          null,
          null,
          null,
          null,
          null,
          null,
          null,
          null,
          null,
          null,
          null,
          null,
          null,
          null,
          null,
          null,
          null,
          null,
          null,
          null,
          null,
          null,
          null,
          null,
          null,
          null,
          null,
          null
         ],
         "type": "scatter",
         "x": [
          0,
          0.2,
          0.4,
          0.6,
          0.8,
          1,
          1.2,
          1.4,
          1.6,
          1.8,
          2,
          2.2,
          2.4,
          2.6,
          2.8,
          3,
          3.2,
          3.4,
          3.6,
          3.8,
          4,
          4.2,
          4.4,
          4.6,
          4.8,
          5,
          5.2,
          5.4,
          5.6,
          5.8,
          6,
          6.2,
          6.4,
          6.6,
          6.8,
          7,
          7.2,
          7.4,
          7.6,
          7.8,
          8,
          8.2,
          8.4,
          8.6,
          8.8,
          9,
          9.2,
          9.4,
          9.6,
          9.8,
          10
         ],
         "xaxis": "x1",
         "y": [
          6.707968697202697e-15,
          3.864287550775451e-14,
          1.8697839808378557e-15,
          6.426570074449313e-13,
          1.6367240818950977e-15,
          1.843590935495754e-15,
          0,
          2.319838096416339e-16,
          0,
          6.274241203013119e-16,
          0,
          1.2518388406836729e-15,
          4.965708697875783e-16,
          8.259042551214105e-16,
          5.846746429369409e-16,
          1.8198610665723146e-16,
          7.543404802584815e-16,
          8.549623929875919e-16,
          7.8571177276789655e-16,
          8.592592362284516e-16,
          4.793398072095108e-16,
          7.058386217128472e-16,
          1.0914225027086855e-15,
          1.1024488633913152e-15,
          1.112881130157837e-15,
          8.093147569398311e-16,
          7.304447793350724e-16,
          1.0880195803962803e-15,
          9.120274252082843e-16,
          8.97209311609888e-16,
          0,
          1.066736811150426e-15,
          1.405619957542392e-16,
          6.047282739923815e-16,
          3.314034229434386e-16,
          1.1092016503827652e-15,
          0,
          1.0876952433204725e-15,
          7.068963371747785e-16,
          5.032239368044792e-16,
          6.051063130685543e-16,
          4.912853901517472e-16,
          3.0279521861689376e-16,
          1.1327015807096273e-15,
          1.070996892541912e-15,
          9.096133993281865e-16,
          3.9015832434227777e-16,
          1.1404713227963852e-15,
          8.307130947386798e-16,
          2.1975166689597516e-16,
          1.4655789569966965e-16
         ],
         "yaxis": "y1",
         "zmax": 0.1,
         "zmin": -0.1
        }
       ],
       "layout": {
        "annotations": [
         {
          "font": {
           "color": "rgba(0, 0, 0, 1.000)",
           "family": "sans-serif",
           "size": 20
          },
          "rotation": 0,
          "showarrow": false,
          "text": "Błąd względny dla dokładnych i zaburzonych ck, n=20",
          "x": 0.5645833333333333,
          "xanchor": "center",
          "xref": "paper",
          "y": 1,
          "yanchor": "top",
          "yref": "paper"
         }
        ],
        "height": 400,
        "legend": {
         "bgcolor": "rgba(255, 255, 255, 1.000)",
         "bordercolor": "rgba(0, 0, 0, 1.000)",
         "font": {
          "color": "rgba(0, 0, 0, 1.000)",
          "family": "sans-serif",
          "size": 11
         },
         "tracegroupgap": 0,
         "x": 1,
         "y": 1
        },
        "margin": {
         "b": 20,
         "l": 0,
         "r": 0,
         "t": 20
        },
        "paper_bgcolor": "rgba(255, 255, 255, 1.000)",
        "plot_bgcolor": "rgba(255, 255, 255, 1.000)",
        "showlegend": true,
        "width": 600,
        "xaxis": {
         "anchor": "y1",
         "domain": [
          0.1357283464566929,
          0.9934383202099737
         ],
         "gridcolor": "rgba(0, 0, 0, 0.100)",
         "gridwidth": 0.5,
         "linecolor": "rgba(0, 0, 0, 1.000)",
         "mirror": false,
         "range": [
          -0.3,
          10.3
         ],
         "showgrid": true,
         "showline": true,
         "showticklabels": true,
         "tickangle": 0,
         "tickcolor": "rgb(0, 0, 0)",
         "tickfont": {
          "color": "rgba(0, 0, 0, 1.000)",
          "family": "sans-serif",
          "size": 11
         },
         "tickmode": "array",
         "ticks": "inside",
         "ticktext": [
          "0.0",
          "2.5",
          "5.0",
          "7.5",
          "10.0"
         ],
         "tickvals": [
          0,
          2.5,
          5,
          7.5,
          10
         ],
         "title": "x",
         "titlefont": {
          "color": "rgba(0, 0, 0, 1.000)",
          "family": "sans-serif",
          "size": 15
         },
         "type": "-",
         "visible": true,
         "zeroline": false,
         "zerolinecolor": "rgba(0, 0, 0, 1.000)"
        },
        "yaxis": {
         "anchor": "x1",
         "domain": [
          0.07581474190726165,
          0.9415463692038496
         ],
         "gridcolor": "rgba(0, 0, 0, 0.100)",
         "gridwidth": 0.5,
         "linecolor": "rgba(0, 0, 0, 1.000)",
         "mirror": false,
         "range": [
          0,
          5.000000000000004e-15
         ],
         "showgrid": true,
         "showline": true,
         "showticklabels": true,
         "tickangle": 0,
         "tickcolor": "rgb(0, 0, 0)",
         "tickfont": {
          "color": "rgba(0, 0, 0, 1.000)",
          "family": "sans-serif",
          "size": 11
         },
         "tickmode": "array",
         "ticks": "inside",
         "ticktext": [
          "0",
          "1×10⁻¹⁵",
          "2×10⁻¹⁵",
          "3×10⁻¹⁵",
          "4×10⁻¹⁵",
          "5×10⁻¹⁵"
         ],
         "tickvals": [
          0,
          1e-15,
          2e-15,
          3.0000000000000002e-15,
          4e-15,
          5.000000000000001e-15
         ],
         "title": "Błąd względny",
         "titlefont": {
          "color": "rgba(0, 0, 0, 1.000)",
          "family": "sans-serif",
          "size": 15
         },
         "type": "-",
         "visible": true,
         "zeroline": false,
         "zerolinecolor": "rgba(0, 0, 0, 1.000)"
        }
       }
      },
      "text/html": [
       "    <div id=\"80d6d204-1338-41df-9540-641eda0b7d73\" style=\"width:600px;height:400px;\"></div>\n",
       "    <script>\n",
       "    PLOT = document.getElementById('80d6d204-1338-41df-9540-641eda0b7d73');\n",
       "    Plotly.plot(PLOT, [{\"xaxis\":\"x1\",\"colorbar\":{\"title\":\"\"},\"yaxis\":\"y1\",\"text\":[null,null,null,null,null,null,null,null,null,null,null,null,null,null,null,null,null,null,null,null,null,null,null,null,null,null,null,null,null,null,null,null,null,null,null,null,null,null,null,null,null,null,null,null,null,null,null,null,null,null,null],\"x\":[0.0,0.2,0.4,0.6,0.8,1.0,1.2,1.4,1.6,1.8,2.0,2.2,2.4,2.6,2.8,3.0,3.2,3.4,3.6,3.8,4.0,4.2,4.4,4.6,4.8,5.0,5.2,5.4,5.6,5.8,6.0,6.2,6.4,6.6,6.8,7.0,7.2,7.4,7.6,7.8,8.0,8.2,8.4,8.6,8.8,9.0,9.2,9.4,9.6,9.8,10.0],\"showlegend\":true,\"mode\":\"markers\",\"name\":\"y1\",\"zmin\":-0.1,\"legendgroup\":\"y1\",\"marker\":{\"symbol\":\"circle\",\"color\":\"rgba(0, 154, 250, 1.000)\",\"line\":{\"color\":\"rgba(0, 0, 0, 1.000)\",\"width\":1},\"size\":8},\"zmax\":0.1,\"y\":[6.707968697202697e-15,3.864287550775451e-14,1.8697839808378557e-15,6.426570074449313e-13,1.6367240818950977e-15,1.843590935495754e-15,0.0,2.319838096416339e-16,0.0,6.274241203013119e-16,0.0,1.2518388406836729e-15,4.965708697875783e-16,8.259042551214105e-16,5.846746429369409e-16,1.8198610665723146e-16,7.543404802584815e-16,8.549623929875919e-16,7.8571177276789655e-16,8.592592362284516e-16,4.793398072095108e-16,7.058386217128472e-16,1.0914225027086855e-15,1.1024488633913152e-15,1.112881130157837e-15,8.093147569398311e-16,7.304447793350724e-16,1.0880195803962803e-15,9.120274252082843e-16,8.97209311609888e-16,0.0,1.066736811150426e-15,1.405619957542392e-16,6.047282739923815e-16,3.314034229434386e-16,1.1092016503827652e-15,0.0,1.0876952433204725e-15,7.068963371747785e-16,5.032239368044792e-16,6.051063130685543e-16,4.912853901517472e-16,3.0279521861689376e-16,1.1327015807096273e-15,1.070996892541912e-15,9.096133993281865e-16,3.9015832434227777e-16,1.1404713227963852e-15,8.307130947386798e-16,2.1975166689597516e-16,1.4655789569966965e-16],\"type\":\"scatter\",\"hoverinfo\":\"text\"}], {\"showlegend\":true,\"xaxis\":{\"showticklabels\":true,\"gridwidth\":0.5,\"tickvals\":[0.0,2.5,5.0,7.5,10.0],\"visible\":true,\"ticks\":\"inside\",\"range\":[-0.3,10.3],\"domain\":[0.1357283464566929,0.9934383202099737],\"tickmode\":\"array\",\"linecolor\":\"rgba(0, 0, 0, 1.000)\",\"showgrid\":true,\"title\":\"x\",\"mirror\":false,\"tickangle\":0,\"showline\":true,\"gridcolor\":\"rgba(0, 0, 0, 0.100)\",\"titlefont\":{\"color\":\"rgba(0, 0, 0, 1.000)\",\"family\":\"sans-serif\",\"size\":15},\"tickcolor\":\"rgb(0, 0, 0)\",\"ticktext\":[\"0.0\",\"2.5\",\"5.0\",\"7.5\",\"10.0\"],\"zeroline\":false,\"type\":\"-\",\"tickfont\":{\"color\":\"rgba(0, 0, 0, 1.000)\",\"family\":\"sans-serif\",\"size\":11},\"zerolinecolor\":\"rgba(0, 0, 0, 1.000)\",\"anchor\":\"y1\"},\"paper_bgcolor\":\"rgba(255, 255, 255, 1.000)\",\"annotations\":[{\"yanchor\":\"top\",\"xanchor\":\"center\",\"rotation\":-0.0,\"y\":1.0,\"font\":{\"color\":\"rgba(0, 0, 0, 1.000)\",\"family\":\"sans-serif\",\"size\":20},\"yref\":\"paper\",\"showarrow\":false,\"text\":\"Błąd względny dla dokładnych i zaburzonych ck, n=20\",\"xref\":\"paper\",\"x\":0.5645833333333333}],\"height\":400,\"margin\":{\"l\":0,\"b\":20,\"r\":0,\"t\":20},\"plot_bgcolor\":\"rgba(255, 255, 255, 1.000)\",\"yaxis\":{\"showticklabels\":true,\"gridwidth\":0.5,\"tickvals\":[0.0,1.0e-15,2.0e-15,3.0000000000000002e-15,4.0e-15,5.000000000000001e-15],\"visible\":true,\"ticks\":\"inside\",\"range\":[0.0,5.000000000000004e-15],\"domain\":[0.07581474190726165,0.9415463692038496],\"tickmode\":\"array\",\"linecolor\":\"rgba(0, 0, 0, 1.000)\",\"showgrid\":true,\"title\":\"Błąd względny\",\"mirror\":false,\"tickangle\":0,\"showline\":true,\"gridcolor\":\"rgba(0, 0, 0, 0.100)\",\"titlefont\":{\"color\":\"rgba(0, 0, 0, 1.000)\",\"family\":\"sans-serif\",\"size\":15},\"tickcolor\":\"rgb(0, 0, 0)\",\"ticktext\":[\"0\",\"1×10⁻¹⁵\",\"2×10⁻¹⁵\",\"3×10⁻¹⁵\",\"4×10⁻¹⁵\",\"5×10⁻¹⁵\"],\"zeroline\":false,\"type\":\"-\",\"tickfont\":{\"color\":\"rgba(0, 0, 0, 1.000)\",\"family\":\"sans-serif\",\"size\":11},\"zerolinecolor\":\"rgba(0, 0, 0, 1.000)\",\"anchor\":\"x1\"},\"legend\":{\"tracegroupgap\":0,\"bordercolor\":\"rgba(0, 0, 0, 1.000)\",\"bgcolor\":\"rgba(255, 255, 255, 1.000)\",\"font\":{\"color\":\"rgba(0, 0, 0, 1.000)\",\"family\":\"sans-serif\",\"size\":11},\"y\":1.0,\"x\":1.0},\"width\":600});\n",
       "    </script>\n"
      ]
     },
     "execution_count": 31,
     "metadata": {},
     "output_type": "execute_result"
    }
   ],
   "source": [
    "x2 = a0:e:b\n",
    "plot(x2,res2,ylim = (0,5*10^-15),seriestype=:scatter,title=\"Błąd względny dla dokładnych i zaburzonych ck, n=20\")\n",
    "xlabel!(\"x\")\n",
    "ylabel!(\"Błąd względny\")"
   ]
  },
  {
   "cell_type": "markdown",
   "metadata": {},
   "source": [
    "Funkcja pomocnicze t(n,k) oraz u(n,k)"
   ]
  },
  {
   "cell_type": "code",
   "execution_count": 14,
   "metadata": {},
   "outputs": [
    {
     "data": {
      "text/plain": [
       "t (generic function with 1 method)"
      ]
     },
     "execution_count": 14,
     "metadata": {},
     "output_type": "execute_result"
    }
   ],
   "source": [
    "function t(n,k)\n",
    "    return Float64(cos(((2*k+1)/(2*n))*pi))\n",
    "end"
   ]
  },
  {
   "cell_type": "code",
   "execution_count": 15,
   "metadata": {},
   "outputs": [
    {
     "data": {
      "text/plain": [
       "u (generic function with 1 method)"
      ]
     },
     "execution_count": 15,
     "metadata": {},
     "output_type": "execute_result"
    }
   ],
   "source": [
    "function u(n,k)\n",
    "    return Float64(cos(((k)/(n+1))*pi))\n",
    "end"
   ]
  },
  {
   "cell_type": "markdown",
   "metadata": {},
   "source": [
    "Wielomian interpolacyjny In"
   ]
  },
  {
   "cell_type": "markdown",
   "metadata": {},
   "source": [
    "Funkcja obliczająca macierz n x n wartości Ti(t(n+1,j))"
   ]
  },
  {
   "cell_type": "code",
   "execution_count": 16,
   "metadata": {},
   "outputs": [
    {
     "data": {
      "text/plain": [
       "tkMatrix (generic function with 1 method)"
      ]
     },
     "execution_count": 16,
     "metadata": {},
     "output_type": "execute_result"
    }
   ],
   "source": [
    "function tkMatrix(n)\n",
    "    matrix = ones(Float64,n+1,n+1)\n",
    "    for i = 1:(n+1)\n",
    "        matrix[2,i] = t(n+1,i-1)\n",
    "    end\n",
    "    for i = 3:(n+1)\n",
    "        for j = 1:(n+1)\n",
    "            matrix[i,j] = 2 * matrix[2,j] * matrix[i-1,j] - matrix[i-2,j]\n",
    "        end\n",
    "    end\n",
    "    return matrix\n",
    "end"
   ]
  },
  {
   "cell_type": "markdown",
   "metadata": {},
   "source": [
    "Funkcja, którą będziemy przybliżać (można użyć dowolnej, określonej na danym przedziale)"
   ]
  },
  {
   "cell_type": "code",
   "execution_count": 17,
   "metadata": {},
   "outputs": [
    {
     "data": {
      "text/plain": [
       "f (generic function with 1 method)"
      ]
     },
     "execution_count": 17,
     "metadata": {},
     "output_type": "execute_result"
    }
   ],
   "source": [
    "function f(x)\n",
    "    return Float64(x^22 + e^x + x^7)\n",
    "end"
   ]
  },
  {
   "cell_type": "code",
   "execution_count": 18,
   "metadata": {},
   "outputs": [],
   "source": [
    "n = 20\n",
    "c2 = zeros(Float64,(n+1))\n",
    "tks = tkMatrix(n)\n",
    "for i = 1:(n+1)\n",
    "    s = 0\n",
    "    for j = 0:n\n",
    "        s += f(t((n+1),j))*tks[i,(j+1)]\n",
    "    end\n",
    "    c2[i] = s\n",
    "end\n",
    "c2_f = zeros(Float64,(n+1))\n",
    "for i = 1:(n+1)\n",
    "    c2_f[i] = fluct(c2[i])\n",
    "end"
   ]
  },
  {
   "cell_type": "code",
   "execution_count": 19,
   "metadata": {},
   "outputs": [],
   "source": [
    "a0 = Float64(-20)\n",
    "a = a0\n",
    "b = Float64(20)\n",
    "max_iter = 100\n",
    "e = (b-a0)/max_iter\n",
    "res3 = []\n",
    "for i = 0:max_iter\n",
    "    y0 = (2/(n+1))*clenshaw(n,c2,a)\n",
    "    y = (2/(n+1))*clenshaw(n,c2_f,a)\n",
    "    s = rel_err(y,y0)\n",
    "    push!(res3,s)\n",
    "    a += e\n",
    "end"
   ]
  },
  {
   "cell_type": "code",
   "execution_count": 20,
   "metadata": {},
   "outputs": [
    {
     "data": {
      "application/vnd.plotly.v1+json": {
       "data": [
        {
         "colorbar": {
          "title": ""
         },
         "hoverinfo": "text",
         "legendgroup": "y1",
         "marker": {
          "color": "rgba(0, 154, 250, 1.000)",
          "line": {
           "color": "rgba(0, 0, 0, 1.000)",
           "width": 1
          },
          "size": 8,
          "symbol": "circle"
         },
         "mode": "markers",
         "name": "y1",
         "showlegend": true,
         "text": [
          null,
          null,
          null,
          null,
          null,
          null,
          null,
          null,
          null,
          null,
          null,
          null,
          null,
          null,
          null,
          null,
          null,
          null,
          null,
          null,
          null,
          null,
          null,
          null,
          null,
          null,
          null,
          null,
          null,
          null,
          null,
          null,
          null,
          null,
          null,
          null,
          null,
          null,
          null,
          null,
          null,
          null,
          null,
          null,
          null,
          null,
          null,
          null,
          null,
          null,
          null,
          null,
          null,
          null,
          null,
          null,
          null,
          null,
          null,
          null,
          null,
          null,
          null,
          null,
          null,
          null,
          null,
          null,
          null,
          null,
          null,
          null,
          null,
          null,
          null,
          null,
          null,
          null,
          null,
          null,
          null,
          null,
          null,
          null,
          null,
          null,
          null,
          null,
          null,
          null,
          null,
          null,
          null,
          null,
          null,
          null,
          null,
          null,
          null,
          null,
          null
         ],
         "type": "scatter",
         "x": [
          -20,
          -19.6,
          -19.2,
          -18.8,
          -18.4,
          -18,
          -17.6,
          -17.2,
          -16.8,
          -16.4,
          -16,
          -15.6,
          -15.2,
          -14.8,
          -14.4,
          -14,
          -13.6,
          -13.2,
          -12.8,
          -12.4,
          -12,
          -11.6,
          -11.2,
          -10.8,
          -10.4,
          -10,
          -9.6,
          -9.2,
          -8.8,
          -8.4,
          -8,
          -7.6,
          -7.2,
          -6.8,
          -6.4,
          -6,
          -5.6,
          -5.2,
          -4.8,
          -4.4,
          -4,
          -3.6,
          -3.2,
          -2.8,
          -2.4,
          -2,
          -1.6,
          -1.2,
          -0.8,
          -0.4,
          0,
          0.4,
          0.8,
          1.2,
          1.6,
          2,
          2.4,
          2.8,
          3.2,
          3.6,
          4,
          4.4,
          4.8,
          5.2,
          5.6,
          6,
          6.4,
          6.8,
          7.2,
          7.6,
          8,
          8.4,
          8.8,
          9.2,
          9.6,
          10,
          10.4,
          10.8,
          11.2,
          11.6,
          12,
          12.4,
          12.8,
          13.2,
          13.6,
          14,
          14.4,
          14.8,
          15.2,
          15.6,
          16,
          16.4,
          16.8,
          17.2,
          17.6,
          18,
          18.4,
          18.8,
          19.2,
          19.6,
          20
         ],
         "xaxis": "x1",
         "y": [
          2.6557804162868895e-11,
          2.653333956786284e-11,
          2.65063881661479e-11,
          2.6479698105464658e-11,
          2.645049483401922e-11,
          2.6419517900466217e-11,
          2.638809841921257e-11,
          2.63537726550666e-11,
          2.6318741030681398e-11,
          2.6280635679603368e-11,
          2.6240607922516444e-11,
          2.6197661542497704e-11,
          2.615229749039758e-11,
          2.6104770400383964e-11,
          2.6053052881975555e-11,
          2.599801788543992e-11,
          2.5939857738698878e-11,
          2.5876588218141932e-11,
          2.58093095595773e-11,
          2.573686005975929e-11,
          2.5657756522037412e-11,
          2.5573080033218167e-11,
          2.5480343965400334e-11,
          2.5380388425189836e-11,
          2.5269853060002893e-11,
          2.5148757336490386e-11,
          2.501586580763799e-11,
          2.486895399909079e-11,
          2.4704570729007225e-11,
          2.4520859807211963e-11,
          2.431627381025987e-11,
          2.4084345267862298e-11,
          2.3820018132335387e-11,
          2.351728203585228e-11,
          2.3167841247561525e-11,
          2.2761296491817206e-11,
          2.2281065803846433e-11,
          2.171288351149844e-11,
          2.102795966647053e-11,
          2.018907410571347e-11,
          1.9150533378894122e-11,
          1.784135354210682e-11,
          1.6159998530790116e-11,
          1.3965586967607399e-11,
          1.1076086807426466e-11,
          7.336974922550668e-12,
          3.0399308287780594e-12,
          1.8809492654962062e-13,
          6.4895695527137205e-16,
          3.5022527147406853e-16,
          8.881784197001237e-16,
          1.053455082749992e-15,
          4.50358758276222e-15,
          7.321888882567181e-13,
          7.60183684476312e-12,
          1.4478467506956085e-11,
          1.908348527371275e-11,
          2.202272952537439e-11,
          2.392953766731322e-11,
          2.520216318343563e-11,
          2.6076494334368974e-11,
          2.6691070797158704e-11,
          2.7132243813720523e-11,
          2.7452708310126664e-11,
          2.769041066277549e-11,
          2.786701953719565e-11,
          2.800040823203488e-11,
          2.8100753769676962e-11,
          2.8177267638945863e-11,
          2.8234386630510904e-11,
          2.8277931642788534e-11,
          2.8309755492357634e-11,
          2.833269860620555e-11,
          2.8349918022692222e-11,
          2.8360777626926056e-11,
          2.836750004426818e-11,
          2.837131924778321e-11,
          2.8372162568716723e-11,
          2.8370352119645912e-11,
          2.836722335571195e-11,
          2.8362661531208637e-11,
          2.835710328947679e-11,
          2.8350515646680605e-11,
          2.8344031505305436e-11,
          2.8336434509227335e-11,
          2.832864125142444e-11,
          2.8319590762110238e-11,
          2.8311831875889027e-11,
          2.8303142874646346e-11,
          2.8294579373672874e-11,
          2.828522865875663e-11,
          2.8276435647227185e-11,
          2.8267696582812962e-11,
          2.8259001967204157e-11,
          2.8250382433957526e-11,
          2.8241277312145543e-11,
          2.8232940954509574e-11,
          2.8225495678263913e-11,
          2.8217389750510174e-11,
          2.8208565195794356e-11,
          2.8201174842268787e-11
         ],
         "yaxis": "y1",
         "zmax": 0.1,
         "zmin": -0.1
        }
       ],
       "layout": {
        "annotations": [
         {
          "font": {
           "color": "rgba(0, 0, 0, 1.000)",
           "family": "sans-serif",
           "size": 20
          },
          "rotation": 0,
          "showarrow": false,
          "text": "Błąd względny dla dokładnych i zaburzonych ck, n=20",
          "x": 0.5793981481481482,
          "xanchor": "center",
          "xref": "paper",
          "y": 1,
          "yanchor": "top",
          "yref": "paper"
         }
        ],
        "height": 400,
        "legend": {
         "bgcolor": "rgba(255, 255, 255, 1.000)",
         "bordercolor": "rgba(0, 0, 0, 1.000)",
         "font": {
          "color": "rgba(0, 0, 0, 1.000)",
          "family": "sans-serif",
          "size": 11
         },
         "tracegroupgap": 0,
         "x": 1,
         "y": 1
        },
        "margin": {
         "b": 20,
         "l": 0,
         "r": 0,
         "t": 20
        },
        "paper_bgcolor": "rgba(255, 255, 255, 1.000)",
        "plot_bgcolor": "rgba(255, 255, 255, 1.000)",
        "showlegend": true,
        "width": 600,
        "xaxis": {
         "anchor": "y1",
         "domain": [
          0.16535797608632255,
          0.9934383202099738
         ],
         "gridcolor": "rgba(0, 0, 0, 0.100)",
         "gridwidth": 0.5,
         "linecolor": "rgba(0, 0, 0, 1.000)",
         "mirror": false,
         "range": [
          -21.2,
          21.2
         ],
         "showgrid": true,
         "showline": true,
         "showticklabels": true,
         "tickangle": 0,
         "tickcolor": "rgb(0, 0, 0)",
         "tickfont": {
          "color": "rgba(0, 0, 0, 1.000)",
          "family": "sans-serif",
          "size": 11
         },
         "tickmode": "array",
         "ticks": "inside",
         "ticktext": [
          "-20",
          "-10",
          "0",
          "10",
          "20"
         ],
         "tickvals": [
          -20,
          -10,
          0,
          10,
          20
         ],
         "title": "x",
         "titlefont": {
          "color": "rgba(0, 0, 0, 1.000)",
          "family": "sans-serif",
          "size": 15
         },
         "type": "-",
         "visible": true,
         "zeroline": false,
         "zerolinecolor": "rgba(0, 0, 0, 1.000)"
        },
        "yaxis": {
         "anchor": "x1",
         "domain": [
          0.07581474190726165,
          0.9415463692038496
         ],
         "gridcolor": "rgba(0, 0, 0, 0.100)",
         "gridwidth": 0.5,
         "linecolor": "rgba(0, 0, 0, 1.000)",
         "mirror": false,
         "range": [
          -8.508041450318833e-13,
          2.922331693902008e-11
         ],
         "showgrid": true,
         "showline": true,
         "showticklabels": true,
         "tickangle": 0,
         "tickcolor": "rgb(0, 0, 0)",
         "tickfont": {
          "color": "rgba(0, 0, 0, 1.000)",
          "family": "sans-serif",
          "size": 11
         },
         "tickmode": "array",
         "ticks": "inside",
         "ticktext": [
          "0",
          "5.0×10⁻¹²",
          "1.0×10⁻¹¹",
          "1.5×10⁻¹¹",
          "2.0×10⁻¹¹",
          "2.5×10⁻¹¹"
         ],
         "tickvals": [
          0,
          5e-12,
          1e-11,
          1.5e-11,
          2e-11,
          2.4999999999999998e-11
         ],
         "title": "Błąd względny",
         "titlefont": {
          "color": "rgba(0, 0, 0, 1.000)",
          "family": "sans-serif",
          "size": 15
         },
         "type": "-",
         "visible": true,
         "zeroline": false,
         "zerolinecolor": "rgba(0, 0, 0, 1.000)"
        }
       }
      },
      "text/html": [
       "    <div id=\"3c72b6fb-9e3d-45de-853f-51d2aefd909b\" style=\"width:600px;height:400px;\"></div>\n",
       "    <script>\n",
       "    PLOT = document.getElementById('3c72b6fb-9e3d-45de-853f-51d2aefd909b');\n",
       "    Plotly.plot(PLOT, [{\"xaxis\":\"x1\",\"colorbar\":{\"title\":\"\"},\"yaxis\":\"y1\",\"text\":[null,null,null,null,null,null,null,null,null,null,null,null,null,null,null,null,null,null,null,null,null,null,null,null,null,null,null,null,null,null,null,null,null,null,null,null,null,null,null,null,null,null,null,null,null,null,null,null,null,null,null,null,null,null,null,null,null,null,null,null,null,null,null,null,null,null,null,null,null,null,null,null,null,null,null,null,null,null,null,null,null,null,null,null,null,null,null,null,null,null,null,null,null,null,null,null,null,null,null,null,null],\"x\":[-20.0,-19.6,-19.2,-18.8,-18.4,-18.0,-17.6,-17.2,-16.8,-16.4,-16.0,-15.6,-15.2,-14.8,-14.4,-14.0,-13.6,-13.2,-12.8,-12.4,-12.0,-11.6,-11.2,-10.8,-10.4,-10.0,-9.6,-9.2,-8.8,-8.4,-8.0,-7.6,-7.2,-6.8,-6.4,-6.0,-5.6,-5.2,-4.8,-4.4,-4.0,-3.6,-3.2,-2.8,-2.4,-2.0,-1.6,-1.2,-0.8,-0.4,0.0,0.4,0.8,1.2,1.6,2.0,2.4,2.8,3.2,3.6,4.0,4.4,4.8,5.2,5.6,6.0,6.4,6.8,7.2,7.6,8.0,8.4,8.8,9.2,9.6,10.0,10.4,10.8,11.2,11.6,12.0,12.4,12.8,13.2,13.6,14.0,14.4,14.8,15.2,15.6,16.0,16.4,16.8,17.2,17.6,18.0,18.4,18.8,19.2,19.6,20.0],\"showlegend\":true,\"mode\":\"markers\",\"name\":\"y1\",\"zmin\":-0.1,\"legendgroup\":\"y1\",\"marker\":{\"symbol\":\"circle\",\"color\":\"rgba(0, 154, 250, 1.000)\",\"line\":{\"color\":\"rgba(0, 0, 0, 1.000)\",\"width\":1},\"size\":8},\"zmax\":0.1,\"y\":[2.6557804162868895e-11,2.653333956786284e-11,2.65063881661479e-11,2.6479698105464658e-11,2.645049483401922e-11,2.6419517900466217e-11,2.638809841921257e-11,2.63537726550666e-11,2.6318741030681398e-11,2.6280635679603368e-11,2.6240607922516444e-11,2.6197661542497704e-11,2.615229749039758e-11,2.6104770400383964e-11,2.6053052881975555e-11,2.599801788543992e-11,2.5939857738698878e-11,2.5876588218141932e-11,2.58093095595773e-11,2.573686005975929e-11,2.5657756522037412e-11,2.5573080033218167e-11,2.5480343965400334e-11,2.5380388425189836e-11,2.5269853060002893e-11,2.5148757336490386e-11,2.501586580763799e-11,2.486895399909079e-11,2.4704570729007225e-11,2.4520859807211963e-11,2.431627381025987e-11,2.4084345267862298e-11,2.3820018132335387e-11,2.351728203585228e-11,2.3167841247561525e-11,2.2761296491817206e-11,2.2281065803846433e-11,2.171288351149844e-11,2.102795966647053e-11,2.018907410571347e-11,1.9150533378894122e-11,1.784135354210682e-11,1.6159998530790116e-11,1.3965586967607399e-11,1.1076086807426466e-11,7.336974922550668e-12,3.0399308287780594e-12,1.8809492654962062e-13,6.4895695527137205e-16,3.5022527147406853e-16,8.881784197001237e-16,1.053455082749992e-15,4.50358758276222e-15,7.321888882567181e-13,7.60183684476312e-12,1.4478467506956085e-11,1.908348527371275e-11,2.202272952537439e-11,2.392953766731322e-11,2.520216318343563e-11,2.6076494334368974e-11,2.6691070797158704e-11,2.7132243813720523e-11,2.7452708310126664e-11,2.769041066277549e-11,2.786701953719565e-11,2.800040823203488e-11,2.8100753769676962e-11,2.8177267638945863e-11,2.8234386630510904e-11,2.8277931642788534e-11,2.8309755492357634e-11,2.833269860620555e-11,2.8349918022692222e-11,2.8360777626926056e-11,2.836750004426818e-11,2.837131924778321e-11,2.8372162568716723e-11,2.8370352119645912e-11,2.836722335571195e-11,2.8362661531208637e-11,2.835710328947679e-11,2.8350515646680605e-11,2.8344031505305436e-11,2.8336434509227335e-11,2.832864125142444e-11,2.8319590762110238e-11,2.8311831875889027e-11,2.8303142874646346e-11,2.8294579373672874e-11,2.828522865875663e-11,2.8276435647227185e-11,2.8267696582812962e-11,2.8259001967204157e-11,2.8250382433957526e-11,2.8241277312145543e-11,2.8232940954509574e-11,2.8225495678263913e-11,2.8217389750510174e-11,2.8208565195794356e-11,2.8201174842268787e-11],\"type\":\"scatter\",\"hoverinfo\":\"text\"}], {\"showlegend\":true,\"xaxis\":{\"showticklabels\":true,\"gridwidth\":0.5,\"tickvals\":[-20.0,-10.0,0.0,10.0,20.0],\"visible\":true,\"ticks\":\"inside\",\"range\":[-21.2,21.2],\"domain\":[0.16535797608632255,0.9934383202099738],\"tickmode\":\"array\",\"linecolor\":\"rgba(0, 0, 0, 1.000)\",\"showgrid\":true,\"title\":\"x\",\"mirror\":false,\"tickangle\":0,\"showline\":true,\"gridcolor\":\"rgba(0, 0, 0, 0.100)\",\"titlefont\":{\"color\":\"rgba(0, 0, 0, 1.000)\",\"family\":\"sans-serif\",\"size\":15},\"tickcolor\":\"rgb(0, 0, 0)\",\"ticktext\":[\"-20\",\"-10\",\"0\",\"10\",\"20\"],\"zeroline\":false,\"type\":\"-\",\"tickfont\":{\"color\":\"rgba(0, 0, 0, 1.000)\",\"family\":\"sans-serif\",\"size\":11},\"zerolinecolor\":\"rgba(0, 0, 0, 1.000)\",\"anchor\":\"y1\"},\"paper_bgcolor\":\"rgba(255, 255, 255, 1.000)\",\"annotations\":[{\"yanchor\":\"top\",\"xanchor\":\"center\",\"rotation\":-0.0,\"y\":1.0,\"font\":{\"color\":\"rgba(0, 0, 0, 1.000)\",\"family\":\"sans-serif\",\"size\":20},\"yref\":\"paper\",\"showarrow\":false,\"text\":\"Błąd względny dla dokładnych i zaburzonych ck, n=20\",\"xref\":\"paper\",\"x\":0.5793981481481482}],\"height\":400,\"margin\":{\"l\":0,\"b\":20,\"r\":0,\"t\":20},\"plot_bgcolor\":\"rgba(255, 255, 255, 1.000)\",\"yaxis\":{\"showticklabels\":true,\"gridwidth\":0.5,\"tickvals\":[0.0,5.0e-12,1.0e-11,1.5e-11,2.0e-11,2.4999999999999998e-11],\"visible\":true,\"ticks\":\"inside\",\"range\":[-8.508041450318833e-13,2.922331693902008e-11],\"domain\":[0.07581474190726165,0.9415463692038496],\"tickmode\":\"array\",\"linecolor\":\"rgba(0, 0, 0, 1.000)\",\"showgrid\":true,\"title\":\"Błąd względny\",\"mirror\":false,\"tickangle\":0,\"showline\":true,\"gridcolor\":\"rgba(0, 0, 0, 0.100)\",\"titlefont\":{\"color\":\"rgba(0, 0, 0, 1.000)\",\"family\":\"sans-serif\",\"size\":15},\"tickcolor\":\"rgb(0, 0, 0)\",\"ticktext\":[\"0\",\"5.0×10⁻¹²\",\"1.0×10⁻¹¹\",\"1.5×10⁻¹¹\",\"2.0×10⁻¹¹\",\"2.5×10⁻¹¹\"],\"zeroline\":false,\"type\":\"-\",\"tickfont\":{\"color\":\"rgba(0, 0, 0, 1.000)\",\"family\":\"sans-serif\",\"size\":11},\"zerolinecolor\":\"rgba(0, 0, 0, 1.000)\",\"anchor\":\"x1\"},\"legend\":{\"tracegroupgap\":0,\"bordercolor\":\"rgba(0, 0, 0, 1.000)\",\"bgcolor\":\"rgba(255, 255, 255, 1.000)\",\"font\":{\"color\":\"rgba(0, 0, 0, 1.000)\",\"family\":\"sans-serif\",\"size\":11},\"y\":1.0,\"x\":1.0},\"width\":600});\n",
       "    </script>\n"
      ]
     },
     "execution_count": 20,
     "metadata": {},
     "output_type": "execute_result"
    }
   ],
   "source": [
    "x3 = a0:e:b\n",
    "plot(x3,res3,seriestype=:scatter,title=\"Błąd względny dla dokładnych i zaburzonych ck, n=20\")\n",
    "xlabel!(\"x\")\n",
    "ylabel!(\"Błąd względny\")"
   ]
  },
  {
   "cell_type": "markdown",
   "metadata": {},
   "source": [
    "Wielomian interpolacyjny Jn"
   ]
  },
  {
   "cell_type": "code",
   "execution_count": 38,
   "metadata": {},
   "outputs": [],
   "source": [
    "n = 20\n",
    "c3 = zeros(Float64,(n+1))\n",
    "cp = zeros(Float64,(n+1))\n",
    "for i = 1:(n+1)\n",
    "    cp[i] = f(u(n-1,(i-1)))\n",
    "end\n",
    "for i = 1:(n+1)\n",
    "    c3[i] = clenshaw(n,cp,u(n-1,(i-1))) - f(-1) * czebyszew2(n,-1)\n",
    "end\n",
    "c3_f = zeros(Float64,(n+1))\n",
    "for i = 1:(n+1)\n",
    "    c3_f[i] = fluct(c3[i])\n",
    "end"
   ]
  },
  {
   "cell_type": "code",
   "execution_count": 39,
   "metadata": {},
   "outputs": [],
   "source": [
    "a0 = Float64(-20)\n",
    "a = a0\n",
    "b = Float64(20)\n",
    "max_iter = 100\n",
    "e = (b-a0)/max_iter\n",
    "res4 = []\n",
    "for i = 0:max_iter\n",
    "    y0 = (2/n)*clenshaw(n,c3,a)\n",
    "    y = (2/n)*clenshaw(n,c3_f,a)\n",
    "    s = rel_err(y,y0)\n",
    "    push!(res4,s)\n",
    "    a += e\n",
    "end"
   ]
  },
  {
   "cell_type": "code",
   "execution_count": 40,
   "metadata": {},
   "outputs": [
    {
     "data": {
      "application/vnd.plotly.v1+json": {
       "data": [
        {
         "colorbar": {
          "title": ""
         },
         "hoverinfo": "text",
         "legendgroup": "y1",
         "marker": {
          "color": "rgba(0, 154, 250, 1.000)",
          "line": {
           "color": "rgba(0, 0, 0, 1.000)",
           "width": 1
          },
          "size": 8,
          "symbol": "circle"
         },
         "mode": "markers",
         "name": "y1",
         "showlegend": true,
         "text": [
          null,
          null,
          null,
          null,
          null,
          null,
          null,
          null,
          null,
          null,
          null,
          null,
          null,
          null,
          null,
          null,
          null,
          null,
          null,
          null,
          null,
          null,
          null,
          null,
          null,
          null,
          null,
          null,
          null,
          null,
          null,
          null,
          null,
          null,
          null,
          null,
          null,
          null,
          null,
          null,
          null,
          null,
          null,
          null,
          null,
          null,
          null,
          null,
          null,
          null,
          null,
          null,
          null,
          null,
          null,
          null,
          null,
          null,
          null,
          null,
          null,
          null,
          null,
          null,
          null,
          null,
          null,
          null,
          null,
          null,
          null,
          null,
          null,
          null,
          null,
          null,
          null,
          null,
          null,
          null,
          null,
          null,
          null,
          null,
          null,
          null,
          null,
          null,
          null,
          null,
          null,
          null,
          null,
          null,
          null,
          null,
          null,
          null,
          null,
          null,
          null
         ],
         "type": "scatter",
         "x": [
          -20,
          -19.6,
          -19.2,
          -18.8,
          -18.4,
          -18,
          -17.6,
          -17.2,
          -16.8,
          -16.4,
          -16,
          -15.6,
          -15.2,
          -14.8,
          -14.4,
          -14,
          -13.6,
          -13.2,
          -12.8,
          -12.4,
          -12,
          -11.6,
          -11.2,
          -10.8,
          -10.4,
          -10,
          -9.6,
          -9.2,
          -8.8,
          -8.4,
          -8,
          -7.6,
          -7.2,
          -6.8,
          -6.4,
          -6,
          -5.6,
          -5.2,
          -4.8,
          -4.4,
          -4,
          -3.6,
          -3.2,
          -2.8,
          -2.4,
          -2,
          -1.6,
          -1.2,
          -0.8,
          -0.4,
          0,
          0.4,
          0.8,
          1.2,
          1.6,
          2,
          2.4,
          2.8,
          3.2,
          3.6,
          4,
          4.4,
          4.8,
          5.2,
          5.6,
          6,
          6.4,
          6.8,
          7.2,
          7.6,
          8,
          8.4,
          8.8,
          9.2,
          9.6,
          10,
          10.4,
          10.8,
          11.2,
          11.6,
          12,
          12.4,
          12.8,
          13.2,
          13.6,
          14,
          14.4,
          14.8,
          15.2,
          15.6,
          16,
          16.4,
          16.8,
          17.2,
          17.6,
          18,
          18.4,
          18.8,
          19.2,
          19.6,
          20
         ],
         "xaxis": "x1",
         "y": [
          2.1514062975140234e-15,
          2.1529973245970504e-15,
          2.6481487633332553e-15,
          2.799857217630372e-15,
          2.517280624647541e-15,
          2.6114442866947577e-15,
          2.4920822650831886e-15,
          2.7940735034324587e-15,
          2.243468068974092e-15,
          3.037050599782913e-15,
          2.496816181971676e-15,
          2.9105119859207877e-15,
          2.4560363559902483e-15,
          2.8526621092986282e-15,
          2.7388659575072037e-15,
          2.9923596982797764e-15,
          2.8915040912941088e-15,
          2.2634847294429883e-15,
          2.4574251500404282e-15,
          2.8329531774975256e-15,
          2.5858945534080723e-15,
          3.207181693039776e-15,
          2.934813765327585e-15,
          2.382599830199817e-15,
          2.5582759500492894e-15,
          2.832125124313028e-15,
          3.1251037432926474e-15,
          3.1580250049867174e-15,
          2.880039973483139e-15,
          3.2735585363990935e-15,
          2.8005489211154536e-15,
          2.7279430470491827e-15,
          2.8505295195819525e-15,
          3.4451881595215584e-15,
          3.0993981293522665e-15,
          3.5509240013361235e-15,
          3.2553009340728156e-15,
          3.5303217511087048e-15,
          3.843026115019322e-15,
          3.756466773451436e-15,
          3.8900114828730385e-15,
          3.4750301848662245e-15,
          3.9869302036956534e-15,
          5.756655420522328e-15,
          7.785698254683755e-15,
          1.368321057874202e-14,
          5.243632604176444e-14,
          3.854099975985079e-15,
          9.408976286549787e-16,
          3.4183450905041914e-16,
          3.5526739251657365e-16,
          3.568401224584874e-16,
          2.7779270853338813e-15,
          1.2488496566865767e-16,
          3.2820636893879145e-16,
          1.2575537726862846e-15,
          1.0823252503492686e-15,
          1.3213823277406225e-15,
          1.6442453812538113e-15,
          2.4532090416344686e-15,
          1.743119103920098e-15,
          1.2602216689499215e-15,
          1.5631359410907946e-15,
          1.5225818890342444e-15,
          1.1225146029956475e-15,
          1.747830468392726e-15,
          1.9163613988884378e-15,
          1.6253278757361584e-15,
          1.656435920520831e-15,
          2.1060176686778075e-15,
          2.013797093195509e-15,
          1.8227403023650027e-15,
          2.0387434439718187e-15,
          1.3818648937901767e-15,
          1.6876778691506613e-15,
          1.3445916253648767e-15,
          1.911928207178969e-15,
          1.6717008728692309e-15,
          1.7423963847255722e-15,
          1.977111845208913e-15,
          2.261559479381589e-15,
          2.0899223699048636e-15,
          2.2183967476694403e-15,
          2.7013232143245036e-15,
          2.150798436919417e-15,
          1.855720035148247e-15,
          2.1156706545246863e-15,
          2.4494805196522985e-15,
          2.3020902875059258e-15,
          1.885193952833205e-15,
          2.068341644033716e-15,
          2.022027836918381e-15,
          2.18788488693226e-15,
          2.3454079298373053e-15,
          2.223850633961656e-15,
          2.5249537638074843e-15,
          2.239256889299185e-15,
          1.457957864843166e-15,
          2.0898991288474467e-15,
          1.9620664593781613e-15,
          1.8509882962742818e-15
         ],
         "yaxis": "y1",
         "zmax": 0.1,
         "zmin": -0.1
        }
       ],
       "layout": {
        "annotations": [
         {
          "font": {
           "color": "rgba(0, 0, 0, 1.000)",
           "family": "sans-serif",
           "size": 20
          },
          "rotation": 0,
          "showarrow": false,
          "text": "Błąd względny dla dokładnych i zaburzonych ck, n=20",
          "x": 0.5645833333333333,
          "xanchor": "center",
          "xref": "paper",
          "y": 1,
          "yanchor": "top",
          "yref": "paper"
         }
        ],
        "height": 400,
        "legend": {
         "bgcolor": "rgba(255, 255, 255, 1.000)",
         "bordercolor": "rgba(0, 0, 0, 1.000)",
         "font": {
          "color": "rgba(0, 0, 0, 1.000)",
          "family": "sans-serif",
          "size": 11
         },
         "tracegroupgap": 0,
         "x": 1,
         "y": 1
        },
        "margin": {
         "b": 20,
         "l": 0,
         "r": 0,
         "t": 20
        },
        "paper_bgcolor": "rgba(255, 255, 255, 1.000)",
        "plot_bgcolor": "rgba(255, 255, 255, 1.000)",
        "showlegend": true,
        "width": 600,
        "xaxis": {
         "anchor": "y1",
         "domain": [
          0.1357283464566929,
          0.9934383202099737
         ],
         "gridcolor": "rgba(0, 0, 0, 0.100)",
         "gridwidth": 0.5,
         "linecolor": "rgba(0, 0, 0, 1.000)",
         "mirror": false,
         "range": [
          -21.2,
          21.2
         ],
         "showgrid": true,
         "showline": true,
         "showticklabels": true,
         "tickangle": 0,
         "tickcolor": "rgb(0, 0, 0)",
         "tickfont": {
          "color": "rgba(0, 0, 0, 1.000)",
          "family": "sans-serif",
          "size": 11
         },
         "tickmode": "array",
         "ticks": "inside",
         "ticktext": [
          "-20",
          "-10",
          "0",
          "10",
          "20"
         ],
         "tickvals": [
          -20,
          -10,
          0,
          10,
          20
         ],
         "title": "x",
         "titlefont": {
          "color": "rgba(0, 0, 0, 1.000)",
          "family": "sans-serif",
          "size": 15
         },
         "type": "-",
         "visible": true,
         "zeroline": false,
         "zerolinecolor": "rgba(0, 0, 0, 1.000)"
        },
        "yaxis": {
         "anchor": "x1",
         "domain": [
          0.07581474190726165,
          0.9415463692038496
         ],
         "gridcolor": "rgba(0, 0, 0, 0.100)",
         "gridwidth": 0.5,
         "linecolor": "rgba(0, 0, 0, 1.000)",
         "mirror": false,
         "range": [
          -1.4444582666142158e-15,
          5.400566927404732e-14
         ],
         "showgrid": true,
         "showline": true,
         "showticklabels": true,
         "tickangle": 0,
         "tickcolor": "rgb(0, 0, 0)",
         "tickfont": {
          "color": "rgba(0, 0, 0, 1.000)",
          "family": "sans-serif",
          "size": 11
         },
         "tickmode": "array",
         "ticks": "inside",
         "ticktext": [
          "0",
          "1×10⁻¹⁴",
          "2×10⁻¹⁴",
          "3×10⁻¹⁴",
          "4×10⁻¹⁴",
          "5×10⁻¹⁴"
         ],
         "tickvals": [
          0,
          1e-14,
          2e-14,
          3e-14,
          4e-14,
          5e-14
         ],
         "title": "Błąd względny",
         "titlefont": {
          "color": "rgba(0, 0, 0, 1.000)",
          "family": "sans-serif",
          "size": 15
         },
         "type": "-",
         "visible": true,
         "zeroline": false,
         "zerolinecolor": "rgba(0, 0, 0, 1.000)"
        }
       }
      },
      "text/html": [
       "    <div id=\"ff04fb90-a2a8-4415-9d47-2f7b6893ee04\" style=\"width:600px;height:400px;\"></div>\n",
       "    <script>\n",
       "    PLOT = document.getElementById('ff04fb90-a2a8-4415-9d47-2f7b6893ee04');\n",
       "    Plotly.plot(PLOT, [{\"xaxis\":\"x1\",\"colorbar\":{\"title\":\"\"},\"yaxis\":\"y1\",\"text\":[null,null,null,null,null,null,null,null,null,null,null,null,null,null,null,null,null,null,null,null,null,null,null,null,null,null,null,null,null,null,null,null,null,null,null,null,null,null,null,null,null,null,null,null,null,null,null,null,null,null,null,null,null,null,null,null,null,null,null,null,null,null,null,null,null,null,null,null,null,null,null,null,null,null,null,null,null,null,null,null,null,null,null,null,null,null,null,null,null,null,null,null,null,null,null,null,null,null,null,null,null],\"x\":[-20.0,-19.6,-19.2,-18.8,-18.4,-18.0,-17.6,-17.2,-16.8,-16.4,-16.0,-15.6,-15.2,-14.8,-14.4,-14.0,-13.6,-13.2,-12.8,-12.4,-12.0,-11.6,-11.2,-10.8,-10.4,-10.0,-9.6,-9.2,-8.8,-8.4,-8.0,-7.6,-7.2,-6.8,-6.4,-6.0,-5.6,-5.2,-4.8,-4.4,-4.0,-3.6,-3.2,-2.8,-2.4,-2.0,-1.6,-1.2,-0.8,-0.4,0.0,0.4,0.8,1.2,1.6,2.0,2.4,2.8,3.2,3.6,4.0,4.4,4.8,5.2,5.6,6.0,6.4,6.8,7.2,7.6,8.0,8.4,8.8,9.2,9.6,10.0,10.4,10.8,11.2,11.6,12.0,12.4,12.8,13.2,13.6,14.0,14.4,14.8,15.2,15.6,16.0,16.4,16.8,17.2,17.6,18.0,18.4,18.8,19.2,19.6,20.0],\"showlegend\":true,\"mode\":\"markers\",\"name\":\"y1\",\"zmin\":-0.1,\"legendgroup\":\"y1\",\"marker\":{\"symbol\":\"circle\",\"color\":\"rgba(0, 154, 250, 1.000)\",\"line\":{\"color\":\"rgba(0, 0, 0, 1.000)\",\"width\":1},\"size\":8},\"zmax\":0.1,\"y\":[2.1514062975140234e-15,2.1529973245970504e-15,2.6481487633332553e-15,2.799857217630372e-15,2.517280624647541e-15,2.6114442866947577e-15,2.4920822650831886e-15,2.7940735034324587e-15,2.243468068974092e-15,3.037050599782913e-15,2.496816181971676e-15,2.9105119859207877e-15,2.4560363559902483e-15,2.8526621092986282e-15,2.7388659575072037e-15,2.9923596982797764e-15,2.8915040912941088e-15,2.2634847294429883e-15,2.4574251500404282e-15,2.8329531774975256e-15,2.5858945534080723e-15,3.207181693039776e-15,2.934813765327585e-15,2.382599830199817e-15,2.5582759500492894e-15,2.832125124313028e-15,3.1251037432926474e-15,3.1580250049867174e-15,2.880039973483139e-15,3.2735585363990935e-15,2.8005489211154536e-15,2.7279430470491827e-15,2.8505295195819525e-15,3.4451881595215584e-15,3.0993981293522665e-15,3.5509240013361235e-15,3.2553009340728156e-15,3.5303217511087048e-15,3.843026115019322e-15,3.756466773451436e-15,3.8900114828730385e-15,3.4750301848662245e-15,3.9869302036956534e-15,5.756655420522328e-15,7.785698254683755e-15,1.368321057874202e-14,5.243632604176444e-14,3.854099975985079e-15,9.408976286549787e-16,3.4183450905041914e-16,3.5526739251657365e-16,3.568401224584874e-16,2.7779270853338813e-15,1.2488496566865767e-16,3.2820636893879145e-16,1.2575537726862846e-15,1.0823252503492686e-15,1.3213823277406225e-15,1.6442453812538113e-15,2.4532090416344686e-15,1.743119103920098e-15,1.2602216689499215e-15,1.5631359410907946e-15,1.5225818890342444e-15,1.1225146029956475e-15,1.747830468392726e-15,1.9163613988884378e-15,1.6253278757361584e-15,1.656435920520831e-15,2.1060176686778075e-15,2.013797093195509e-15,1.8227403023650027e-15,2.0387434439718187e-15,1.3818648937901767e-15,1.6876778691506613e-15,1.3445916253648767e-15,1.911928207178969e-15,1.6717008728692309e-15,1.7423963847255722e-15,1.977111845208913e-15,2.261559479381589e-15,2.0899223699048636e-15,2.2183967476694403e-15,2.7013232143245036e-15,2.150798436919417e-15,1.855720035148247e-15,2.1156706545246863e-15,2.4494805196522985e-15,2.3020902875059258e-15,1.885193952833205e-15,2.068341644033716e-15,2.022027836918381e-15,2.18788488693226e-15,2.3454079298373053e-15,2.223850633961656e-15,2.5249537638074843e-15,2.239256889299185e-15,1.457957864843166e-15,2.0898991288474467e-15,1.9620664593781613e-15,1.8509882962742818e-15],\"type\":\"scatter\",\"hoverinfo\":\"text\"}], {\"showlegend\":true,\"xaxis\":{\"showticklabels\":true,\"gridwidth\":0.5,\"tickvals\":[-20.0,-10.0,0.0,10.0,20.0],\"visible\":true,\"ticks\":\"inside\",\"range\":[-21.2,21.2],\"domain\":[0.1357283464566929,0.9934383202099737],\"tickmode\":\"array\",\"linecolor\":\"rgba(0, 0, 0, 1.000)\",\"showgrid\":true,\"title\":\"x\",\"mirror\":false,\"tickangle\":0,\"showline\":true,\"gridcolor\":\"rgba(0, 0, 0, 0.100)\",\"titlefont\":{\"color\":\"rgba(0, 0, 0, 1.000)\",\"family\":\"sans-serif\",\"size\":15},\"tickcolor\":\"rgb(0, 0, 0)\",\"ticktext\":[\"-20\",\"-10\",\"0\",\"10\",\"20\"],\"zeroline\":false,\"type\":\"-\",\"tickfont\":{\"color\":\"rgba(0, 0, 0, 1.000)\",\"family\":\"sans-serif\",\"size\":11},\"zerolinecolor\":\"rgba(0, 0, 0, 1.000)\",\"anchor\":\"y1\"},\"paper_bgcolor\":\"rgba(255, 255, 255, 1.000)\",\"annotations\":[{\"yanchor\":\"top\",\"xanchor\":\"center\",\"rotation\":-0.0,\"y\":1.0,\"font\":{\"color\":\"rgba(0, 0, 0, 1.000)\",\"family\":\"sans-serif\",\"size\":20},\"yref\":\"paper\",\"showarrow\":false,\"text\":\"Błąd względny dla dokładnych i zaburzonych ck, n=20\",\"xref\":\"paper\",\"x\":0.5645833333333333}],\"height\":400,\"margin\":{\"l\":0,\"b\":20,\"r\":0,\"t\":20},\"plot_bgcolor\":\"rgba(255, 255, 255, 1.000)\",\"yaxis\":{\"showticklabels\":true,\"gridwidth\":0.5,\"tickvals\":[0.0,1.0e-14,2.0e-14,3.0e-14,4.0e-14,5.0e-14],\"visible\":true,\"ticks\":\"inside\",\"range\":[-1.4444582666142158e-15,5.400566927404732e-14],\"domain\":[0.07581474190726165,0.9415463692038496],\"tickmode\":\"array\",\"linecolor\":\"rgba(0, 0, 0, 1.000)\",\"showgrid\":true,\"title\":\"Błąd względny\",\"mirror\":false,\"tickangle\":0,\"showline\":true,\"gridcolor\":\"rgba(0, 0, 0, 0.100)\",\"titlefont\":{\"color\":\"rgba(0, 0, 0, 1.000)\",\"family\":\"sans-serif\",\"size\":15},\"tickcolor\":\"rgb(0, 0, 0)\",\"ticktext\":[\"0\",\"1×10⁻¹⁴\",\"2×10⁻¹⁴\",\"3×10⁻¹⁴\",\"4×10⁻¹⁴\",\"5×10⁻¹⁴\"],\"zeroline\":false,\"type\":\"-\",\"tickfont\":{\"color\":\"rgba(0, 0, 0, 1.000)\",\"family\":\"sans-serif\",\"size\":11},\"zerolinecolor\":\"rgba(0, 0, 0, 1.000)\",\"anchor\":\"x1\"},\"legend\":{\"tracegroupgap\":0,\"bordercolor\":\"rgba(0, 0, 0, 1.000)\",\"bgcolor\":\"rgba(255, 255, 255, 1.000)\",\"font\":{\"color\":\"rgba(0, 0, 0, 1.000)\",\"family\":\"sans-serif\",\"size\":11},\"y\":1.0,\"x\":1.0},\"width\":600});\n",
       "    </script>\n"
      ]
     },
     "execution_count": 40,
     "metadata": {},
     "output_type": "execute_result"
    }
   ],
   "source": [
    "x4 = a0:e:b\n",
    "plot(x4,res4,seriestype=:scatter,title=\"Błąd względny dla dokładnych i zaburzonych ck, n=20\")\n",
    "xlabel!(\"x\")\n",
    "ylabel!(\"Błąd względny\")"
   ]
  }
 ],
 "metadata": {
  "kernelspec": {
   "display_name": "Julia 1.0.1",
   "language": "julia",
   "name": "julia-1.0"
  },
  "language_info": {
   "file_extension": ".jl",
   "mimetype": "application/julia",
   "name": "julia",
   "version": "1.0.1"
  }
 },
 "nbformat": 4,
 "nbformat_minor": 2
}
