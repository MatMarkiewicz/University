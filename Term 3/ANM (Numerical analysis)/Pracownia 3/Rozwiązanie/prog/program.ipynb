{
 "cells": [
  {
   "cell_type": "markdown",
   "metadata": {},
   "source": [
    "# Pracownia z Analizy Numerycznej\n",
    "## Zadanie 3.20\n",
    "## Wyznaczanie macierzy odwrotnej za pomocą rozkładów QR oraz LU\n",
    "# Autorzy:\n",
    "## Artur Derechowski\n",
    "## Mateusz Markiewicz"
   ]
  },
  {
   "cell_type": "markdown",
   "metadata": {},
   "source": [
    "# Rozkład LU"
   ]
  },
  {
   "cell_type": "markdown",
   "metadata": {},
   "source": [
    "Rozkład LU macierzy A"
   ]
  },
  {
   "cell_type": "code",
   "execution_count": 1,
   "metadata": {},
   "outputs": [
    {
     "data": {
      "text/plain": [
       "LU_decomposition (generic function with 1 method)"
      ]
     },
     "execution_count": 1,
     "metadata": {},
     "output_type": "execute_result"
    }
   ],
   "source": [
    "function LU_decomposition(A)\n",
    "    n = size(A)[1]\n",
    "    L = zeros(Float64,n,n)\n",
    "    U = zeros(Float64,n,n)\n",
    "    function sum_of_mults(A,B,i,j)\n",
    "        s = Float64(0)\n",
    "        for k = 1:i-1\n",
    "            s += A[i,k] * B[k,j]\n",
    "        end\n",
    "        return s\n",
    "    end\n",
    "    function sum_of_mults2(A,B,i,j)\n",
    "        s = Float64(0)\n",
    "        for k = 1:i-1\n",
    "            s += A[j,k] * B[k,i]\n",
    "        end\n",
    "        return s\n",
    "    end\n",
    "    for i = 1:n\n",
    "        U[i,i] = A[i,i] - sum_of_mults(L,U,i,i)\n",
    "        L[i,i] = 1\n",
    "        for j = (i+1):n\n",
    "            U[i,j] = A[i,j] - sum_of_mults(L,U,i,j)\n",
    "            L[j,i] = 1/U[i,i] * (A[j,i] - sum_of_mults2(L,U,i,j))\n",
    "        end\n",
    "    end\n",
    "    return L,U\n",
    "end\n",
    "    "
   ]
  },
  {
   "cell_type": "markdown",
   "metadata": {},
   "source": [
    "Przykład działania"
   ]
  },
  {
   "cell_type": "code",
   "execution_count": 2,
   "metadata": {},
   "outputs": [
    {
     "data": {
      "text/plain": [
       "3×3 Array{Int64,2}:\n",
       " 1  4  7\n",
       " 2  5  8\n",
       " 3  6  9"
      ]
     },
     "execution_count": 2,
     "metadata": {},
     "output_type": "execute_result"
    }
   ],
   "source": [
    "A = [[1 4 7];[2 5 8];[3 6 9]]"
   ]
  },
  {
   "cell_type": "code",
   "execution_count": 3,
   "metadata": {},
   "outputs": [
    {
     "data": {
      "text/plain": [
       "([1.0 0.0 0.0; 2.0 1.0 0.0; 3.0 2.0 1.0], [1.0 4.0 7.0; 0.0 -3.0 -6.0; 0.0 0.0 0.0])"
      ]
     },
     "execution_count": 3,
     "metadata": {},
     "output_type": "execute_result"
    }
   ],
   "source": [
    "L,U = LU_decomposition(A)"
   ]
  },
  {
   "cell_type": "code",
   "execution_count": 4,
   "metadata": {},
   "outputs": [
    {
     "data": {
      "text/plain": [
       "3×3 Array{Float64,2}:\n",
       " 1.0  0.0  0.0\n",
       " 2.0  1.0  0.0\n",
       " 3.0  2.0  1.0"
      ]
     },
     "execution_count": 4,
     "metadata": {},
     "output_type": "execute_result"
    }
   ],
   "source": [
    "L"
   ]
  },
  {
   "cell_type": "code",
   "execution_count": 5,
   "metadata": {},
   "outputs": [
    {
     "data": {
      "text/plain": [
       "3×3 Array{Float64,2}:\n",
       " 1.0   4.0   7.0\n",
       " 0.0  -3.0  -6.0\n",
       " 0.0   0.0   0.0"
      ]
     },
     "execution_count": 5,
     "metadata": {},
     "output_type": "execute_result"
    }
   ],
   "source": [
    "U"
   ]
  },
  {
   "cell_type": "code",
   "execution_count": 6,
   "metadata": {},
   "outputs": [
    {
     "data": {
      "text/plain": [
       "3×3 Array{Float64,2}:\n",
       " 1.0  4.0  7.0\n",
       " 2.0  5.0  8.0\n",
       " 3.0  6.0  9.0"
      ]
     },
     "execution_count": 6,
     "metadata": {},
     "output_type": "execute_result"
    }
   ],
   "source": [
    "L*U"
   ]
  },
  {
   "cell_type": "markdown",
   "metadata": {},
   "source": [
    "Funkcja do rozwiązywania układów równań A \\* X = B za pomocą metory LU L\\*(U\\*X) = B"
   ]
  },
  {
   "cell_type": "code",
   "execution_count": 7,
   "metadata": {},
   "outputs": [
    {
     "data": {
      "text/plain": [
       "solve (generic function with 1 method)"
      ]
     },
     "execution_count": 7,
     "metadata": {},
     "output_type": "execute_result"
    }
   ],
   "source": [
    "function solve(L,U,B)\n",
    "    n = size(L)[1]\n",
    "    Y = zeros(Float64,n,1)\n",
    "    X = zeros(Float64,n,1)\n",
    "    Y[1] = B[1]\n",
    "    function sum(L,Y,i)\n",
    "        s = Float64(0)\n",
    "        for j = 1:i-1\n",
    "            s += L[i,j] * Y[j]\n",
    "        end\n",
    "        return s\n",
    "    end\n",
    "    for i = 2:n\n",
    "        Y[i] = B[i] - sum(L,Y,i)\n",
    "    end\n",
    "    function sum2(U,X,i,n)\n",
    "        s = Float64(0)\n",
    "        for j = (i+1):n\n",
    "            s += U[i,j] * X[j]\n",
    "        end\n",
    "        return s\n",
    "    end\n",
    "    X[n] = Y[n] / U[n,n]\n",
    "    for i = (n-1):-1:1\n",
    "        X[i] = 1/U[i,i] * (Y[i] - sum2(U,X,i,n))\n",
    "    end\n",
    "    return X\n",
    "end "
   ]
  },
  {
   "cell_type": "markdown",
   "metadata": {},
   "source": [
    "Przykład działania"
   ]
  },
  {
   "cell_type": "code",
   "execution_count": 8,
   "metadata": {},
   "outputs": [
    {
     "data": {
      "text/plain": [
       "4×4 Array{Int64,2}:\n",
       " 4  -2  4  -2\n",
       " 3   1  4   2\n",
       " 2   4  2   1\n",
       " 2  -2  4   2"
      ]
     },
     "execution_count": 8,
     "metadata": {},
     "output_type": "execute_result"
    }
   ],
   "source": [
    "A2 = [[4 -2 4 -2];[3 1 4 2];[2 4 2 1];[2 -2 4 2]]"
   ]
  },
  {
   "cell_type": "code",
   "execution_count": 9,
   "metadata": {},
   "outputs": [
    {
     "data": {
      "text/plain": [
       "4-element Array{Int64,1}:\n",
       "  8\n",
       "  7\n",
       " 10\n",
       "  2"
      ]
     },
     "execution_count": 9,
     "metadata": {},
     "output_type": "execute_result"
    }
   ],
   "source": [
    "b = [8; 7; 10; 2]"
   ]
  },
  {
   "cell_type": "code",
   "execution_count": 10,
   "metadata": {},
   "outputs": [
    {
     "data": {
      "text/plain": [
       "([1.0 0.0 0.0 0.0; 0.75 1.0 0.0 0.0; 0.5 2.0 1.0 0.0; 0.5 -0.4 -1.2 1.0], [4.0 -2.0 4.0 -2.0; 0.0 2.5 1.0 3.5; 0.0 0.0 -2.0 -5.0; 0.0 0.0 0.0 -1.6])"
      ]
     },
     "execution_count": 10,
     "metadata": {},
     "output_type": "execute_result"
    }
   ],
   "source": [
    "L2,U2 = LU_decomposition(A2)"
   ]
  },
  {
   "cell_type": "code",
   "execution_count": 11,
   "metadata": {},
   "outputs": [
    {
     "data": {
      "text/plain": [
       "4×1 Array{Float64,2}:\n",
       " -1.0000000000000009\n",
       "  2.0000000000000004\n",
       "  3.000000000000001 \n",
       " -2.0000000000000004"
      ]
     },
     "execution_count": 11,
     "metadata": {},
     "output_type": "execute_result"
    }
   ],
   "source": [
    "solve(L2,U2,b)"
   ]
  },
  {
   "cell_type": "markdown",
   "metadata": {},
   "source": [
    "# Wyznaczanie A^-1 za pomocą rozkładu LU"
   ]
  },
  {
   "cell_type": "markdown",
   "metadata": {},
   "source": [
    "Niech X = A^-1"
   ]
  },
  {
   "cell_type": "code",
   "execution_count": 12,
   "metadata": {},
   "outputs": [
    {
     "data": {
      "text/plain": [
       "invertible (generic function with 1 method)"
      ]
     },
     "execution_count": 12,
     "metadata": {},
     "output_type": "execute_result"
    }
   ],
   "source": [
    "function invertible(A)\n",
    "    n = size(A)[1]\n",
    "    L,U = LU_decomposition(A)\n",
    "    B = zeros(Float64,1,n)\n",
    "    B[1] = 1\n",
    "    X = solve(L,U,B)\n",
    "    for i = 2:n\n",
    "        B = zeros(Float64,n)\n",
    "        B[i] = 1\n",
    "        X = [X (solve(L,U,B))]\n",
    "    end\n",
    "    return X\n",
    "end\n",
    "    "
   ]
  },
  {
   "cell_type": "markdown",
   "metadata": {},
   "source": [
    "Przykład działania"
   ]
  },
  {
   "cell_type": "code",
   "execution_count": 13,
   "metadata": {},
   "outputs": [
    {
     "data": {
      "text/plain": [
       "3×3 Array{Int64,2}:\n",
       " 2  -2  18\n",
       " 2   1   0\n",
       " 1   2   0"
      ]
     },
     "execution_count": 13,
     "metadata": {},
     "output_type": "execute_result"
    }
   ],
   "source": [
    "A = [[2 -2 18];[2 1 0];[1 2 0]]"
   ]
  },
  {
   "cell_type": "code",
   "execution_count": 14,
   "metadata": {},
   "outputs": [
    {
     "data": {
      "text/plain": [
       "3×3 Array{Float64,2}:\n",
       " 1.0  0.0           0.0        \n",
       " 0.0  1.0          -1.11022e-16\n",
       " 0.0  1.11022e-16   1.0        "
      ]
     },
     "execution_count": 14,
     "metadata": {},
     "output_type": "execute_result"
    }
   ],
   "source": [
    "A * invertible(A)"
   ]
  },
  {
   "cell_type": "markdown",
   "metadata": {},
   "source": [
    "# Rozkład QR"
   ]
  },
  {
   "cell_type": "code",
   "execution_count": 15,
   "metadata": {},
   "outputs": [],
   "source": [
    "using LinearAlgebra"
   ]
  },
  {
   "cell_type": "markdown",
   "metadata": {},
   "source": [
    "Druga norma wektorowa"
   ]
  },
  {
   "cell_type": "code",
   "execution_count": 16,
   "metadata": {},
   "outputs": [
    {
     "data": {
      "text/plain": [
       "_norm (generic function with 1 method)"
      ]
     },
     "execution_count": 16,
     "metadata": {},
     "output_type": "execute_result"
    }
   ],
   "source": [
    "function _norm(v)\n",
    "    n = 0.0\n",
    "    for i = 1:length(v)\n",
    "        n += v[i]*v[i]\n",
    "    end\n",
    "    return sqrt(n)\n",
    "end\n",
    "#norm([1,2,3]) #powinno 14"
   ]
  },
  {
   "cell_type": "markdown",
   "metadata": {},
   "source": [
    "Metoda householdera"
   ]
  },
  {
   "cell_type": "code",
   "execution_count": 17,
   "metadata": {},
   "outputs": [
    {
     "data": {
      "text/plain": [
       "3×3 Array{Float64,2}:\n",
       " 1.0  2.0  3.0\n",
       " 4.0  5.0  6.0\n",
       " 7.0  8.0  9.0"
      ]
     },
     "execution_count": 17,
     "metadata": {},
     "output_type": "execute_result"
    }
   ],
   "source": [
    "function householder(A, k) #k jest którą macierz Householdera liczymy\n",
    "    n = size(A)[1]\n",
    "    v = zeros(Float64,(n-k) +1)\n",
    "    for i = k:n\n",
    "        v[i-k+1] = A[i,k]\n",
    "    end\n",
    "    v[1] = (Float64(sign(A[k,k]))*norm(v)) + v[1]\n",
    "    vt = transpose(v)\n",
    "    H = -2 * v*vt / (vt*v) + I\n",
    "    ret = zeros(n,n)\n",
    "    for i = 1:k-1\n",
    "        ret[i,i] = 1\n",
    "    end\n",
    "    for i = k:n\n",
    "        for j = k:n\n",
    "            ret[i,j] = H[i-k+1,j-k+1]\n",
    "        end\n",
    "    end\n",
    "    return ret\n",
    "end\n",
    "\n",
    "#############################TEST\n",
    "B =  [1 2 3.0;\n",
    "      4 5 6;\n",
    "      7 8 9]\n",
    "#  H1 = householder(B,1)\n",
    "#  B = H1*B\n",
    "\n",
    "# H1 = householder(A, 1)\n",
    "# A = H1*A\n",
    "# H2 = householder(A, 2)\n",
    "# A = H2*A\n",
    "#H3 = householder(H2, 3)"
   ]
  },
  {
   "cell_type": "markdown",
   "metadata": {},
   "source": [
    "# Rozkład QR"
   ]
  },
  {
   "cell_type": "code",
   "execution_count": 18,
   "metadata": {},
   "outputs": [
    {
     "data": {
      "text/plain": [
       "3×3 Array{Float64,2}:\n",
       " 1.0  2.0  3.0\n",
       " 4.0  5.0  6.0\n",
       " 7.0  8.0  9.0"
      ]
     },
     "execution_count": 18,
     "metadata": {},
     "output_type": "execute_result"
    }
   ],
   "source": [
    "function QRfactorize(A) #rozkład na macierze Q,R takie, że QR=A\n",
    "    n = size(A)[1]\n",
    "    Q = I\n",
    "    H = A\n",
    "    for i = 1:n\n",
    "        H = householder(A, i)\n",
    "        A = H * A\n",
    "        Q = Q*H\n",
    "    end\n",
    "    return Q,A\n",
    "end   \n",
    "############################TEST\n",
    "B =  [1 2 3.0;\n",
    "      4 5 6;\n",
    "      7 8 9]\n",
    "_B = QRfactorize(B)\n",
    "_B[1] * _B[2]\n"
   ]
  },
  {
   "cell_type": "markdown",
   "metadata": {},
   "source": [
    "Odwracanie macierzy trójkątnej"
   ]
  },
  {
   "cell_type": "code",
   "execution_count": 19,
   "metadata": {},
   "outputs": [
    {
     "data": {
      "text/plain": [
       "3×3 Array{Float64,2}:\n",
       " 1.0  2.0  3.0\n",
       " 0.0  5.0  6.0\n",
       " 0.0  0.0  9.0"
      ]
     },
     "execution_count": 19,
     "metadata": {},
     "output_type": "execute_result"
    }
   ],
   "source": [
    "function inv_tri(B) #odwrotność macierzy górnotrójkątnej B w O(n^3)\n",
    "    n = size(B)[1]\n",
    "    A = deepcopy(B)\n",
    "    for i = 1:n\n",
    "        A[i,i] = 1.0/A[i,i]\n",
    "    end\n",
    "    for i = n-1:-1:1\n",
    "        for j = n:-1:i+1\n",
    "            s = 0.0\n",
    "            for k = i+1:j\n",
    "                s += A[i,k]*A[k,j]\n",
    "            end\n",
    "            A[i,j] = - A[i,i]*s\n",
    "        end\n",
    "    end\n",
    "    return A\n",
    "end\n",
    "########################TEST\n",
    "B =  [1 2 3;\n",
    "      0 5 6;\n",
    "      0 0 9.0]\n",
    "inv_tri(inv_tri(B))\n",
    "\n",
    "#  1.0  -0.4  -0.0666667\n",
    "#  0.0   0.2  -0.133333 \n",
    "#  0.0   0.0   0.111111"
   ]
  },
  {
   "cell_type": "markdown",
   "metadata": {},
   "source": [
    "# Odwracanie macierzy metodą QR"
   ]
  },
  {
   "cell_type": "code",
   "execution_count": 63,
   "metadata": {},
   "outputs": [
    {
     "data": {
      "text/plain": [
       "3×3 Array{Float64,2}:\n",
       " 2.0   -2.0  18.0\n",
       " 7.0  124.0   9.0\n",
       " 9.0    2.0   2.0"
      ]
     },
     "execution_count": 63,
     "metadata": {},
     "output_type": "execute_result"
    }
   ],
   "source": [
    "function QRinv(A)\n",
    "    Q,R = QRfactorize(A)\n",
    "    R_i = inv(UpperTriangular(R))\n",
    "    Q_t = transpose(Q)\n",
    "    return R_i*Q_t\n",
    "end\n",
    "\n",
    "B = [2 -2 18;\n",
    "     7 124 9;\n",
    "     9 2 2]\n",
    "\n",
    "#######################################TEST\n",
    "QRinv(QRinv(B))\n"
   ]
  },
  {
   "cell_type": "markdown",
   "metadata": {},
   "source": [
    "# Porównanie obu metod"
   ]
  },
  {
   "cell_type": "markdown",
   "metadata": {},
   "source": [
    "Pierwsza norma macierzowa"
   ]
  },
  {
   "cell_type": "code",
   "execution_count": 21,
   "metadata": {},
   "outputs": [
    {
     "data": {
      "text/plain": [
       "first_norm (generic function with 1 method)"
      ]
     },
     "execution_count": 21,
     "metadata": {},
     "output_type": "execute_result"
    }
   ],
   "source": [
    "function first_norm(A)\n",
    "    n = size(A)[1]\n",
    "    m = 0\n",
    "    for i = 1:n\n",
    "        m = max(m, sum(map(abs,A[:,i])))\n",
    "    end\n",
    "    return m\n",
    "end"
   ]
  },
  {
   "cell_type": "code",
   "execution_count": 22,
   "metadata": {},
   "outputs": [
    {
     "data": {
      "text/plain": [
       "4×4 Array{Int64,2}:\n",
       " 4  -2  4  -2\n",
       " 3   1  4   2\n",
       " 2   4  2   1\n",
       " 2  -2  4   2"
      ]
     },
     "execution_count": 22,
     "metadata": {},
     "output_type": "execute_result"
    }
   ],
   "source": [
    "A10 = [[4 -2 4 -2];[3 1 4 2];[2 4 2 1];[2 -2 4 2]]"
   ]
  },
  {
   "cell_type": "code",
   "execution_count": 23,
   "metadata": {},
   "outputs": [
    {
     "data": {
      "text/plain": [
       "14"
      ]
     },
     "execution_count": 23,
     "metadata": {},
     "output_type": "execute_result"
    }
   ],
   "source": [
    "first_norm(A10)"
   ]
  },
  {
   "cell_type": "markdown",
   "metadata": {},
   "source": [
    "Funkcję do testowania rozkładów QR i LU"
   ]
  },
  {
   "cell_type": "code",
   "execution_count": 24,
   "metadata": {},
   "outputs": [
    {
     "data": {
      "text/plain": [
       "test_QR (generic function with 1 method)"
      ]
     },
     "execution_count": 24,
     "metadata": {},
     "output_type": "execute_result"
    }
   ],
   "source": [
    "function test_LU(A)\n",
    "    return abs(1 - first_norm(A * invertible(A)))\n",
    "end\n",
    "\n",
    "function test_QR(A)\n",
    "    return abs(1 - first_norm(A*QRinv(A)))\n",
    "end"
   ]
  },
  {
   "cell_type": "markdown",
   "metadata": {},
   "source": [
    "# TESTY"
   ]
  },
  {
   "cell_type": "code",
   "execution_count": 46,
   "metadata": {},
   "outputs": [
    {
     "data": {
      "text/plain": [
       "15×15 Array{Float64,2}:\n",
       "   6.0e13    1.0      3.0      5.0     …    1.0      5.0      4.0      0.0   \n",
       "  10.0      -2.0e13   2.0      8.0          4.0     -2.0      7.0     -9.0   \n",
       "  -5.0       8.0      3.0e13   2.0         -4.0     -1.0      4.0      1.0   \n",
       "  -8.0      -8.0      0.0      3.0e13      -5.0      5.0      8.0     -1.0   \n",
       "   4.0      10.0      4.0     -9.0         -1.0      1.0      8.0     -8.0   \n",
       "   6.0      -2.0     -5.0     10.0     …   -7.0     -9.0      9.0      9.0   \n",
       "  -1.0      -1.0     -9.0      4.0         -8.0      7.0     -3.0     -2.0   \n",
       " -10.0      -9.0      0.0     -5.0        -10.0     -9.0     -1.0      1.0   \n",
       "   5.0     -10.0     -2.0      9.0         -3.0     10.0     -6.0      8.0   \n",
       "   6.0     -10.0      1.0      9.0          7.0     -8.0     -9.0      3.0   \n",
       "   2.0       1.0     -8.0     -1.0     …    3.0     -6.0     -3.0      0.0   \n",
       "  -9.0      -9.0      8.0     -7.0          3.0e13   7.0      3.0     -9.0   \n",
       "  -4.0      10.0      0.0     -4.0         -9.0     -7.0e13   7.0     -7.0   \n",
       "   2.0      10.0     -4.0     -4.0          6.0     -5.0     -1.0e13   5.0   \n",
       "  -8.0      -4.0     -1.0      8.0         -9.0     -1.0      8.0      1.0e13"
      ]
     },
     "execution_count": 46,
     "metadata": {},
     "output_type": "execute_result"
    }
   ],
   "source": [
    "A81 = rand(-10:10,15,15)\n",
    "A8 = zeros(Float64,15,15)\n",
    "for i = 1:15\n",
    "    for j = 1:15\n",
    "        A8[i,j] = A81[i,j]\n",
    "    end\n",
    "    A8[i,i] = A8[i,i] * 10000000000000 + rand(1:10)\n",
    "end\n",
    "A8"
   ]
  },
  {
   "cell_type": "code",
   "execution_count": 47,
   "metadata": {},
   "outputs": [
    {
     "data": {
      "text/plain": [
       "5.4867456000027836e190"
      ]
     },
     "execution_count": 47,
     "metadata": {},
     "output_type": "execute_result"
    }
   ],
   "source": [
    "det(A8)"
   ]
  },
  {
   "cell_type": "markdown",
   "metadata": {},
   "source": [
    "Dokładność metody LU"
   ]
  },
  {
   "cell_type": "code",
   "execution_count": 48,
   "metadata": {},
   "outputs": [
    {
     "data": {
      "text/plain": [
       "1.1102230246251565e-15"
      ]
     },
     "execution_count": 48,
     "metadata": {},
     "output_type": "execute_result"
    }
   ],
   "source": [
    "test_LU(A8)"
   ]
  },
  {
   "cell_type": "markdown",
   "metadata": {},
   "source": [
    "Dokładność metody QR"
   ]
  },
  {
   "cell_type": "code",
   "execution_count": 49,
   "metadata": {},
   "outputs": [
    {
     "data": {
      "text/plain": [
       "1.1102230246251565e-15"
      ]
     },
     "execution_count": 49,
     "metadata": {},
     "output_type": "execute_result"
    }
   ],
   "source": [
    "test_QR(A8)"
   ]
  },
  {
   "cell_type": "markdown",
   "metadata": {},
   "source": [
    "Dokładność rozkładu QR"
   ]
  },
  {
   "cell_type": "code",
   "execution_count": 50,
   "metadata": {},
   "outputs": [
    {
     "data": {
      "text/plain": [
       "0.02401524245059461"
      ]
     },
     "execution_count": 50,
     "metadata": {},
     "output_type": "execute_result"
    }
   ],
   "source": [
    "Q8,R8 = QRfactorize(A8)\n",
    "first_norm(Q8 * R8 - A8)"
   ]
  },
  {
   "cell_type": "markdown",
   "metadata": {},
   "source": [
    "Dokładność rozkładu LU"
   ]
  },
  {
   "cell_type": "code",
   "execution_count": 51,
   "metadata": {},
   "outputs": [
    {
     "data": {
      "text/plain": [
       "4.440892098500667e-15"
      ]
     },
     "execution_count": 51,
     "metadata": {},
     "output_type": "execute_result"
    }
   ],
   "source": [
    "L8,U8 = LU_decomposition(A8)\n",
    "first_norm(L8*U8 - A8)"
   ]
  },
  {
   "cell_type": "markdown",
   "metadata": {},
   "source": [
    "Dokładność funkcji wbudowanej do rozkładu QR"
   ]
  },
  {
   "cell_type": "code",
   "execution_count": 52,
   "metadata": {},
   "outputs": [
    {
     "data": {
      "text/plain": [
       "0.010864257812528422"
      ]
     },
     "execution_count": 52,
     "metadata": {},
     "output_type": "execute_result"
    }
   ],
   "source": [
    "F = qr(A8)\n",
    "first_norm(F.Q * F.R - A8)"
   ]
  },
  {
   "cell_type": "markdown",
   "metadata": {},
   "source": [
    "# Badanie dokładności dla macierzy A z coraz mocnej dominującą przekątną"
   ]
  },
  {
   "cell_type": "code",
   "execution_count": 32,
   "metadata": {},
   "outputs": [
    {
     "data": {
      "text/plain": [
       "100×100 Array{Float64,2}:\n",
       " -16.0  -36.0   44.0    4.0  -11.0  …  -13.0   40.0  -20.0   30.0   39.0\n",
       "  50.0    8.0   -6.0   -1.0  -45.0     -44.0   -6.0   -1.0  -21.0    8.0\n",
       "   0.0   27.0  -24.0    5.0   46.0      -1.0   12.0    9.0   -7.0    6.0\n",
       " -37.0    5.0   26.0  -11.0   -4.0      32.0   47.0    1.0  -23.0  -23.0\n",
       " -45.0   -2.0   12.0   33.0   28.0       2.0   32.0   -1.0   32.0    1.0\n",
       "  12.0    4.0   41.0   50.0    2.0  …  -23.0   27.0  -27.0  -10.0  -45.0\n",
       " -40.0   32.0  -49.0   19.0   42.0     -12.0    3.0  -12.0  -23.0  -15.0\n",
       "  40.0  -31.0  -16.0  -36.0   -8.0       7.0   16.0  -32.0  -15.0  -46.0\n",
       " -39.0  -49.0   -6.0  -45.0   11.0      12.0   41.0   38.0   13.0   42.0\n",
       "  29.0  -43.0   27.0  -23.0   44.0     -37.0  -29.0   36.0  -16.0  -33.0\n",
       " -22.0  -26.0    6.0  -49.0   24.0  …   40.0   36.0  -45.0   26.0   31.0\n",
       "   9.0   27.0  -34.0  -50.0   29.0      49.0   -5.0   24.0  -47.0   49.0\n",
       "  17.0    7.0   -9.0  -31.0    3.0      43.0  -48.0  -45.0   14.0  -10.0\n",
       "   ⋮                                ⋱    ⋮                              \n",
       "  10.0  -19.0   16.0   35.0   -8.0     -25.0   14.0   49.0    3.0    4.0\n",
       " -35.0  -49.0  -35.0  -27.0   37.0     -33.0   18.0  -29.0   34.0   -5.0\n",
       " -23.0   18.0   -8.0   31.0    6.0  …    7.0  -43.0   -2.0   -1.0  -33.0\n",
       "   9.0   15.0    6.0  -18.0   18.0     -29.0  -37.0   49.0  -33.0   45.0\n",
       "   1.0  -40.0  -40.0  -10.0  -36.0     -50.0   27.0   33.0  -23.0   41.0\n",
       " -14.0    4.0   36.0  -40.0  -16.0      10.0    2.0    1.0   -5.0   28.0\n",
       "  29.0  -14.0   11.0  -10.0  -13.0     -35.0   49.0  -41.0   -1.0   47.0\n",
       "   6.0   43.0  -40.0   44.0  -47.0  …   47.0   25.0   29.0   -5.0   27.0\n",
       "   8.0  -45.0  -25.0    6.0   40.0     -14.0  -21.0  -23.0  -42.0    5.0\n",
       "  16.0   34.0  -22.0   40.0  -30.0      38.0   30.0  -34.0   35.0  -39.0\n",
       "  12.0  -50.0   11.0    2.0   -7.0      16.0   35.0   32.0  -34.0  -10.0\n",
       "   4.0   41.0  -18.0  -28.0   47.0     -20.0    5.0  -28.0  -16.0   -5.0"
      ]
     },
     "execution_count": 32,
     "metadata": {},
     "output_type": "execute_result"
    }
   ],
   "source": [
    "B1 = zeros(Float64,100,100)\n",
    "B11 = rand(-50:50,100,100)\n",
    "for i = 1:100\n",
    "    for j = 1:100\n",
    "        B1[i,j] = B11[i,j]\n",
    "    end\n",
    "end\n",
    "B1"
   ]
  },
  {
   "cell_type": "code",
   "execution_count": 33,
   "metadata": {},
   "outputs": [
    {
     "data": {
      "text/plain": [
       "test (generic function with 1 method)"
      ]
     },
     "execution_count": 33,
     "metadata": {},
     "output_type": "execute_result"
    }
   ],
   "source": [
    "function test(A,n)\n",
    "    cA = copy(A)\n",
    "    err_LU = zeros(n)\n",
    "    err_QR = zeros(n)\n",
    "    m = 10000000/n\n",
    "    for k = 1:n\n",
    "        for i = 1:100\n",
    "            cA[i,i] += rand() * m\n",
    "        end\n",
    "        err_LU[k] = test_LU(cA)\n",
    "        err_QR[k] = test_QR(cA)\n",
    "    end\n",
    "    return err_LU,err_QR\n",
    "end"
   ]
  },
  {
   "cell_type": "code",
   "execution_count": 34,
   "metadata": {},
   "outputs": [
    {
     "data": {
      "text/plain": [
       "([1.11022e-15, 1.33227e-15, 8.88178e-16, 1.11022e-15, 8.88178e-16, 8.88178e-16, 1.33227e-15, 1.55431e-15, 1.11022e-15, 8.88178e-16  …  1.33227e-15, 1.33227e-15, 6.66134e-16, 1.33227e-15, 8.88178e-16, 6.66134e-16, 1.33227e-15, 1.11022e-15, 8.88178e-16, 1.33227e-15], [6.21725e-15, 9.32587e-15, 6.21725e-15, 5.9952e-15, 6.88338e-15, 7.32747e-15, 5.32907e-15, 6.43929e-15, 8.21565e-15, 6.66134e-15  …  4.88498e-15, 6.88338e-15, 5.10703e-15, 5.10703e-15, 5.9952e-15, 5.32907e-15, 6.88338e-15, 5.9952e-15, 4.88498e-15, 5.32907e-15])"
      ]
     },
     "execution_count": 34,
     "metadata": {},
     "output_type": "execute_result"
    }
   ],
   "source": [
    "err_LU,err_QR = test(B1,100)"
   ]
  },
  {
   "cell_type": "code",
   "execution_count": 62,
   "metadata": {},
   "outputs": [
    {
     "data": {
      "application/vnd.plotly.v1+json": {
       "data": [
        {
         "colorbar": {
          "title": ""
         },
         "hoverinfo": "text",
         "legendgroup": "Metoda LU",
         "marker": {
          "color": "rgba(0, 154, 250, 1.000)",
          "line": {
           "color": "rgba(0, 0, 0, 1.000)",
           "width": 1
          },
          "size": 8,
          "symbol": "circle"
         },
         "mode": "markers",
         "name": "Metoda LU",
         "showlegend": true,
         "text": [
          null,
          null,
          null,
          null,
          null,
          null,
          null,
          null,
          null,
          null,
          null,
          null,
          null,
          null,
          null,
          null,
          null,
          null,
          null,
          null,
          null,
          null,
          null,
          null,
          null,
          null,
          null,
          null,
          null,
          null,
          null,
          null,
          null,
          null,
          null,
          null,
          null,
          null,
          null,
          null,
          null,
          null,
          null,
          null,
          null,
          null,
          null,
          null,
          null,
          null,
          null,
          null,
          null,
          null,
          null,
          null,
          null,
          null,
          null,
          null,
          null,
          null,
          null,
          null,
          null,
          null,
          null,
          null,
          null,
          null,
          null,
          null,
          null,
          null,
          null,
          null,
          null,
          null,
          null,
          null,
          null,
          null,
          null,
          null,
          null,
          null,
          null,
          null,
          null,
          null,
          null,
          null,
          null,
          null,
          null,
          null,
          null,
          null,
          null,
          null
         ],
         "type": "scatter",
         "x": [
          1,
          2,
          3,
          4,
          5,
          6,
          7,
          8,
          9,
          10,
          11,
          12,
          13,
          14,
          15,
          16,
          17,
          18,
          19,
          20,
          21,
          22,
          23,
          24,
          25,
          26,
          27,
          28,
          29,
          30,
          31,
          32,
          33,
          34,
          35,
          36,
          37,
          38,
          39,
          40,
          41,
          42,
          43,
          44,
          45,
          46,
          47,
          48,
          49,
          50,
          51,
          52,
          53,
          54,
          55,
          56,
          57,
          58,
          59,
          60,
          61,
          62,
          63,
          64,
          65,
          66,
          67,
          68,
          69,
          70,
          71,
          72,
          73,
          74,
          75,
          76,
          77,
          78,
          79,
          80,
          81,
          82,
          83,
          84,
          85,
          86,
          87,
          88,
          89,
          90,
          91,
          92,
          93,
          94,
          95,
          96,
          97,
          98,
          99,
          100
         ],
         "xaxis": "x1",
         "y": [
          1.1102230246251565e-15,
          1.3322676295501878e-15,
          8.881784197001252e-16,
          1.1102230246251565e-15,
          8.881784197001252e-16,
          8.881784197001252e-16,
          1.3322676295501878e-15,
          1.5543122344752192e-15,
          1.1102230246251565e-15,
          8.881784197001252e-16,
          8.881784197001252e-16,
          1.5543122344752192e-15,
          1.1102230246251565e-15,
          8.881784197001252e-16,
          8.881784197001252e-16,
          1.5543122344752192e-15,
          1.5543122344752192e-15,
          1.1102230246251565e-15,
          1.1102230246251565e-15,
          8.881784197001252e-16,
          8.881784197001252e-16,
          8.881784197001252e-16,
          8.881784197001252e-16,
          1.5543122344752192e-15,
          1.1102230246251565e-15,
          8.881784197001252e-16,
          1.1102230246251565e-15,
          1.1102230246251565e-15,
          8.881784197001252e-16,
          8.881784197001252e-16,
          8.881784197001252e-16,
          1.1102230246251565e-15,
          1.1102230246251565e-15,
          1.1102230246251565e-15,
          8.881784197001252e-16,
          1.1102230246251565e-15,
          8.881784197001252e-16,
          1.5543122344752192e-15,
          1.3322676295501878e-15,
          8.881784197001252e-16,
          8.881784197001252e-16,
          6.661338147750939e-16,
          1.1102230246251565e-15,
          1.5543122344752192e-15,
          1.1102230246251565e-15,
          8.881784197001252e-16,
          1.1102230246251565e-15,
          1.1102230246251565e-15,
          1.7763568394002505e-15,
          6.661338147750939e-16,
          1.7763568394002505e-15,
          8.881784197001252e-16,
          6.661338147750939e-16,
          1.1102230246251565e-15,
          1.1102230246251565e-15,
          1.1102230246251565e-15,
          8.881784197001252e-16,
          1.3322676295501878e-15,
          8.881784197001252e-16,
          1.5543122344752192e-15,
          1.3322676295501878e-15,
          6.661338147750939e-16,
          8.881784197001252e-16,
          1.1102230246251565e-15,
          1.1102230246251565e-15,
          8.881784197001252e-16,
          8.881784197001252e-16,
          1.1102230246251565e-15,
          8.881784197001252e-16,
          1.3322676295501878e-15,
          1.1102230246251565e-15,
          8.881784197001252e-16,
          1.3322676295501878e-15,
          1.5543122344752192e-15,
          1.1102230246251565e-15,
          1.1102230246251565e-15,
          1.5543122344752192e-15,
          1.1102230246251565e-15,
          1.3322676295501878e-15,
          1.3322676295501878e-15,
          1.5543122344752192e-15,
          8.881784197001252e-16,
          1.1102230246251565e-15,
          1.3322676295501878e-15,
          1.1102230246251565e-15,
          1.1102230246251565e-15,
          8.881784197001252e-16,
          8.881784197001252e-16,
          1.1102230246251565e-15,
          1.1102230246251565e-15,
          1.3322676295501878e-15,
          1.3322676295501878e-15,
          6.661338147750939e-16,
          1.3322676295501878e-15,
          8.881784197001252e-16,
          6.661338147750939e-16,
          1.3322676295501878e-15,
          1.1102230246251565e-15,
          8.881784197001252e-16,
          1.3322676295501878e-15
         ],
         "yaxis": "y1",
         "zmax": 0.1,
         "zmin": -0.1
        },
        {
         "colorbar": {
          "title": ""
         },
         "hoverinfo": "text",
         "legendgroup": "Metoda QR",
         "marker": {
          "color": "rgba(227, 111, 71, 1.000)",
          "line": {
           "color": "rgba(0, 0, 0, 1.000)",
           "width": 1
          },
          "size": 8,
          "symbol": "circle"
         },
         "mode": "markers",
         "name": "Metoda QR",
         "showlegend": true,
         "text": [
          null,
          null,
          null,
          null,
          null,
          null,
          null,
          null,
          null,
          null,
          null,
          null,
          null,
          null,
          null,
          null,
          null,
          null,
          null,
          null,
          null,
          null,
          null,
          null,
          null,
          null,
          null,
          null,
          null,
          null,
          null,
          null,
          null,
          null,
          null,
          null,
          null,
          null,
          null,
          null,
          null,
          null,
          null,
          null,
          null,
          null,
          null,
          null,
          null,
          null,
          null,
          null,
          null,
          null,
          null,
          null,
          null,
          null,
          null,
          null,
          null,
          null,
          null,
          null,
          null,
          null,
          null,
          null,
          null,
          null,
          null,
          null,
          null,
          null,
          null,
          null,
          null,
          null,
          null,
          null,
          null,
          null,
          null,
          null,
          null,
          null,
          null,
          null,
          null,
          null,
          null,
          null,
          null,
          null,
          null,
          null,
          null,
          null,
          null,
          null
         ],
         "type": "scatter",
         "x": [
          1,
          2,
          3,
          4,
          5,
          6,
          7,
          8,
          9,
          10,
          11,
          12,
          13,
          14,
          15,
          16,
          17,
          18,
          19,
          20,
          21,
          22,
          23,
          24,
          25,
          26,
          27,
          28,
          29,
          30,
          31,
          32,
          33,
          34,
          35,
          36,
          37,
          38,
          39,
          40,
          41,
          42,
          43,
          44,
          45,
          46,
          47,
          48,
          49,
          50,
          51,
          52,
          53,
          54,
          55,
          56,
          57,
          58,
          59,
          60,
          61,
          62,
          63,
          64,
          65,
          66,
          67,
          68,
          69,
          70,
          71,
          72,
          73,
          74,
          75,
          76,
          77,
          78,
          79,
          80,
          81,
          82,
          83,
          84,
          85,
          86,
          87,
          88,
          89,
          90,
          91,
          92,
          93,
          94,
          95,
          96,
          97,
          98,
          99,
          100
         ],
         "xaxis": "x1",
         "y": [
          6.217248937900877e-15,
          9.325873406851315e-15,
          6.217248937900877e-15,
          5.995204332975845e-15,
          6.8833827526759706e-15,
          7.327471962526033e-15,
          5.329070518200751e-15,
          6.439293542825908e-15,
          8.215650382226158e-15,
          6.661338147750939e-15,
          4.884981308350689e-15,
          4.218847493575595e-15,
          6.217248937900877e-15,
          6.439293542825908e-15,
          4.6629367034256575e-15,
          5.10702591327572e-15,
          3.552713678800501e-15,
          7.549516567451064e-15,
          5.995204332975845e-15,
          4.6629367034256575e-15,
          5.329070518200751e-15,
          5.551115123125783e-15,
          7.105427357601002e-15,
          6.439293542825908e-15,
          5.329070518200751e-15,
          4.6629367034256575e-15,
          4.884981308350689e-15,
          5.10702591327572e-15,
          6.8833827526759706e-15,
          3.9968028886505635e-15,
          4.440892098500626e-15,
          5.329070518200751e-15,
          3.9968028886505635e-15,
          3.552713678800501e-15,
          4.218847493575595e-15,
          6.217248937900877e-15,
          4.440892098500626e-15,
          4.6629367034256575e-15,
          5.773159728050814e-15,
          5.551115123125783e-15,
          4.884981308350689e-15,
          5.995204332975845e-15,
          4.884981308350689e-15,
          5.329070518200751e-15,
          8.43769498715119e-15,
          5.551115123125783e-15,
          6.217248937900877e-15,
          6.217248937900877e-15,
          5.773159728050814e-15,
          7.771561172376096e-15,
          4.884981308350689e-15,
          5.551115123125783e-15,
          7.549516567451064e-15,
          6.439293542825908e-15,
          7.105427357601002e-15,
          4.218847493575595e-15,
          4.218847493575595e-15,
          4.218847493575595e-15,
          4.440892098500626e-15,
          4.884981308350689e-15,
          3.774758283725532e-15,
          3.3306690738754696e-15,
          3.1086244689504383e-15,
          3.9968028886505635e-15,
          6.8833827526759706e-15,
          7.549516567451064e-15,
          5.551115123125783e-15,
          3.9968028886505635e-15,
          4.884981308350689e-15,
          4.6629367034256575e-15,
          4.218847493575595e-15,
          3.774758283725532e-15,
          5.10702591327572e-15,
          4.884981308350689e-15,
          4.884981308350689e-15,
          3.552713678800501e-15,
          4.440892098500626e-15,
          4.440892098500626e-15,
          3.9968028886505635e-15,
          4.440892098500626e-15,
          4.884981308350689e-15,
          5.10702591327572e-15,
          3.552713678800501e-15,
          5.551115123125783e-15,
          5.551115123125783e-15,
          5.773159728050814e-15,
          5.773159728050814e-15,
          4.440892098500626e-15,
          3.774758283725532e-15,
          5.329070518200751e-15,
          4.884981308350689e-15,
          6.8833827526759706e-15,
          5.10702591327572e-15,
          5.10702591327572e-15,
          5.995204332975845e-15,
          5.329070518200751e-15,
          6.8833827526759706e-15,
          5.995204332975845e-15,
          4.884981308350689e-15,
          5.329070518200751e-15
         ],
         "yaxis": "y1",
         "zmax": 0.1,
         "zmin": -0.1
        }
       ],
       "layout": {
        "annotations": [
         {
          "font": {
           "color": "rgba(0, 0, 0, 1.000)",
           "family": "sans-serif",
           "size": 20
          },
          "rotation": 0,
          "showarrow": false,
          "text": "Dokładność wyznaczania macierzy odwrotnej",
          "x": 0.5484375,
          "xanchor": "center",
          "xref": "paper",
          "y": 1,
          "yanchor": "top",
          "yref": "paper"
         }
        ],
        "height": 400,
        "legend": {
         "bgcolor": "rgba(255, 255, 255, 1.000)",
         "bordercolor": "rgba(0, 0, 0, 1.000)",
         "font": {
          "color": "rgba(0, 0, 0, 1.000)",
          "family": "sans-serif",
          "size": 11
         },
         "tracegroupgap": 0,
         "x": 1,
         "y": 1
        },
        "margin": {
         "b": 20,
         "l": 0,
         "r": 0,
         "t": 20
        },
        "paper_bgcolor": "rgba(255, 255, 255, 1.000)",
        "plot_bgcolor": "rgba(255, 255, 255, 1.000)",
        "showlegend": true,
        "width": 800,
        "xaxis": {
         "anchor": "y1",
         "domain": [
          0.10179625984251968,
          0.9950787401574803
         ],
         "gridcolor": "rgba(0, 0, 0, 0.100)",
         "gridwidth": 0.5,
         "linecolor": "rgba(0, 0, 0, 1.000)",
         "mirror": false,
         "range": [
          -1.9699999999999998,
          102.97
         ],
         "showgrid": true,
         "showline": true,
         "showticklabels": true,
         "tickangle": 0,
         "tickcolor": "rgb(0, 0, 0)",
         "tickfont": {
          "color": "rgba(0, 0, 0, 1.000)",
          "family": "sans-serif",
          "size": 11
         },
         "tickmode": "array",
         "ticks": "inside",
         "ticktext": [
          "0",
          "25",
          "50",
          "75",
          "100"
         ],
         "tickvals": [
          0,
          25,
          50,
          75,
          100
         ],
         "title": "n",
         "titlefont": {
          "color": "rgba(0, 0, 0, 1.000)",
          "family": "sans-serif",
          "size": 15
         },
         "type": "-",
         "visible": true,
         "zeroline": false,
         "zerolinecolor": "rgba(0, 0, 0, 1.000)"
        },
        "yaxis": {
         "anchor": "x1",
         "domain": [
          0.07581474190726165,
          0.9415463692038496
         ],
         "gridcolor": "rgba(0, 0, 0, 0.100)",
         "gridwidth": 0.5,
         "linecolor": "rgba(0, 0, 0, 1.000)",
         "mirror": false,
         "range": [
          4.063416270128073e-16,
          9.585665594613602e-15
         ],
         "showgrid": true,
         "showline": true,
         "showticklabels": true,
         "tickangle": 0,
         "tickcolor": "rgb(0, 0, 0)",
         "tickfont": {
          "color": "rgba(0, 0, 0, 1.000)",
          "family": "sans-serif",
          "size": 11
         },
         "tickmode": "array",
         "ticks": "inside",
         "ticktext": [
          "2×10⁻¹⁵",
          "4×10⁻¹⁵",
          "6×10⁻¹⁵",
          "8×10⁻¹⁵"
         ],
         "tickvals": [
          2e-15,
          4e-15,
          6.0000000000000005e-15,
          8e-15
         ],
         "title": "Błąd wyniku",
         "titlefont": {
          "color": "rgba(0, 0, 0, 1.000)",
          "family": "sans-serif",
          "size": 15
         },
         "type": "-",
         "visible": true,
         "zeroline": false,
         "zerolinecolor": "rgba(0, 0, 0, 1.000)"
        }
       }
      },
      "text/html": [
       "    <div id=\"d6045ed9-a15c-4749-a861-4333d1ae4501\" style=\"width:800px;height:400px;\"></div>\n",
       "    <script>\n",
       "    PLOT = document.getElementById('d6045ed9-a15c-4749-a861-4333d1ae4501');\n",
       "    Plotly.plot(PLOT, [{\"xaxis\":\"x1\",\"colorbar\":{\"title\":\"\"},\"yaxis\":\"y1\",\"text\":[null,null,null,null,null,null,null,null,null,null,null,null,null,null,null,null,null,null,null,null,null,null,null,null,null,null,null,null,null,null,null,null,null,null,null,null,null,null,null,null,null,null,null,null,null,null,null,null,null,null,null,null,null,null,null,null,null,null,null,null,null,null,null,null,null,null,null,null,null,null,null,null,null,null,null,null,null,null,null,null,null,null,null,null,null,null,null,null,null,null,null,null,null,null,null,null,null,null,null,null],\"x\":[1,2,3,4,5,6,7,8,9,10,11,12,13,14,15,16,17,18,19,20,21,22,23,24,25,26,27,28,29,30,31,32,33,34,35,36,37,38,39,40,41,42,43,44,45,46,47,48,49,50,51,52,53,54,55,56,57,58,59,60,61,62,63,64,65,66,67,68,69,70,71,72,73,74,75,76,77,78,79,80,81,82,83,84,85,86,87,88,89,90,91,92,93,94,95,96,97,98,99,100],\"showlegend\":true,\"mode\":\"markers\",\"name\":\"Metoda LU\",\"zmin\":-0.1,\"legendgroup\":\"Metoda LU\",\"marker\":{\"symbol\":\"circle\",\"color\":\"rgba(0, 154, 250, 1.000)\",\"line\":{\"color\":\"rgba(0, 0, 0, 1.000)\",\"width\":1},\"size\":8},\"zmax\":0.1,\"y\":[1.1102230246251565e-15,1.3322676295501878e-15,8.881784197001252e-16,1.1102230246251565e-15,8.881784197001252e-16,8.881784197001252e-16,1.3322676295501878e-15,1.5543122344752192e-15,1.1102230246251565e-15,8.881784197001252e-16,8.881784197001252e-16,1.5543122344752192e-15,1.1102230246251565e-15,8.881784197001252e-16,8.881784197001252e-16,1.5543122344752192e-15,1.5543122344752192e-15,1.1102230246251565e-15,1.1102230246251565e-15,8.881784197001252e-16,8.881784197001252e-16,8.881784197001252e-16,8.881784197001252e-16,1.5543122344752192e-15,1.1102230246251565e-15,8.881784197001252e-16,1.1102230246251565e-15,1.1102230246251565e-15,8.881784197001252e-16,8.881784197001252e-16,8.881784197001252e-16,1.1102230246251565e-15,1.1102230246251565e-15,1.1102230246251565e-15,8.881784197001252e-16,1.1102230246251565e-15,8.881784197001252e-16,1.5543122344752192e-15,1.3322676295501878e-15,8.881784197001252e-16,8.881784197001252e-16,6.661338147750939e-16,1.1102230246251565e-15,1.5543122344752192e-15,1.1102230246251565e-15,8.881784197001252e-16,1.1102230246251565e-15,1.1102230246251565e-15,1.7763568394002505e-15,6.661338147750939e-16,1.7763568394002505e-15,8.881784197001252e-16,6.661338147750939e-16,1.1102230246251565e-15,1.1102230246251565e-15,1.1102230246251565e-15,8.881784197001252e-16,1.3322676295501878e-15,8.881784197001252e-16,1.5543122344752192e-15,1.3322676295501878e-15,6.661338147750939e-16,8.881784197001252e-16,1.1102230246251565e-15,1.1102230246251565e-15,8.881784197001252e-16,8.881784197001252e-16,1.1102230246251565e-15,8.881784197001252e-16,1.3322676295501878e-15,1.1102230246251565e-15,8.881784197001252e-16,1.3322676295501878e-15,1.5543122344752192e-15,1.1102230246251565e-15,1.1102230246251565e-15,1.5543122344752192e-15,1.1102230246251565e-15,1.3322676295501878e-15,1.3322676295501878e-15,1.5543122344752192e-15,8.881784197001252e-16,1.1102230246251565e-15,1.3322676295501878e-15,1.1102230246251565e-15,1.1102230246251565e-15,8.881784197001252e-16,8.881784197001252e-16,1.1102230246251565e-15,1.1102230246251565e-15,1.3322676295501878e-15,1.3322676295501878e-15,6.661338147750939e-16,1.3322676295501878e-15,8.881784197001252e-16,6.661338147750939e-16,1.3322676295501878e-15,1.1102230246251565e-15,8.881784197001252e-16,1.3322676295501878e-15],\"type\":\"scatter\",\"hoverinfo\":\"text\"},{\"xaxis\":\"x1\",\"colorbar\":{\"title\":\"\"},\"yaxis\":\"y1\",\"text\":[null,null,null,null,null,null,null,null,null,null,null,null,null,null,null,null,null,null,null,null,null,null,null,null,null,null,null,null,null,null,null,null,null,null,null,null,null,null,null,null,null,null,null,null,null,null,null,null,null,null,null,null,null,null,null,null,null,null,null,null,null,null,null,null,null,null,null,null,null,null,null,null,null,null,null,null,null,null,null,null,null,null,null,null,null,null,null,null,null,null,null,null,null,null,null,null,null,null,null,null],\"x\":[1,2,3,4,5,6,7,8,9,10,11,12,13,14,15,16,17,18,19,20,21,22,23,24,25,26,27,28,29,30,31,32,33,34,35,36,37,38,39,40,41,42,43,44,45,46,47,48,49,50,51,52,53,54,55,56,57,58,59,60,61,62,63,64,65,66,67,68,69,70,71,72,73,74,75,76,77,78,79,80,81,82,83,84,85,86,87,88,89,90,91,92,93,94,95,96,97,98,99,100],\"showlegend\":true,\"mode\":\"markers\",\"name\":\"Metoda QR\",\"zmin\":-0.1,\"legendgroup\":\"Metoda QR\",\"marker\":{\"symbol\":\"circle\",\"color\":\"rgba(227, 111, 71, 1.000)\",\"line\":{\"color\":\"rgba(0, 0, 0, 1.000)\",\"width\":1},\"size\":8},\"zmax\":0.1,\"y\":[6.217248937900877e-15,9.325873406851315e-15,6.217248937900877e-15,5.995204332975845e-15,6.8833827526759706e-15,7.327471962526033e-15,5.329070518200751e-15,6.439293542825908e-15,8.215650382226158e-15,6.661338147750939e-15,4.884981308350689e-15,4.218847493575595e-15,6.217248937900877e-15,6.439293542825908e-15,4.6629367034256575e-15,5.10702591327572e-15,3.552713678800501e-15,7.549516567451064e-15,5.995204332975845e-15,4.6629367034256575e-15,5.329070518200751e-15,5.551115123125783e-15,7.105427357601002e-15,6.439293542825908e-15,5.329070518200751e-15,4.6629367034256575e-15,4.884981308350689e-15,5.10702591327572e-15,6.8833827526759706e-15,3.9968028886505635e-15,4.440892098500626e-15,5.329070518200751e-15,3.9968028886505635e-15,3.552713678800501e-15,4.218847493575595e-15,6.217248937900877e-15,4.440892098500626e-15,4.6629367034256575e-15,5.773159728050814e-15,5.551115123125783e-15,4.884981308350689e-15,5.995204332975845e-15,4.884981308350689e-15,5.329070518200751e-15,8.43769498715119e-15,5.551115123125783e-15,6.217248937900877e-15,6.217248937900877e-15,5.773159728050814e-15,7.771561172376096e-15,4.884981308350689e-15,5.551115123125783e-15,7.549516567451064e-15,6.439293542825908e-15,7.105427357601002e-15,4.218847493575595e-15,4.218847493575595e-15,4.218847493575595e-15,4.440892098500626e-15,4.884981308350689e-15,3.774758283725532e-15,3.3306690738754696e-15,3.1086244689504383e-15,3.9968028886505635e-15,6.8833827526759706e-15,7.549516567451064e-15,5.551115123125783e-15,3.9968028886505635e-15,4.884981308350689e-15,4.6629367034256575e-15,4.218847493575595e-15,3.774758283725532e-15,5.10702591327572e-15,4.884981308350689e-15,4.884981308350689e-15,3.552713678800501e-15,4.440892098500626e-15,4.440892098500626e-15,3.9968028886505635e-15,4.440892098500626e-15,4.884981308350689e-15,5.10702591327572e-15,3.552713678800501e-15,5.551115123125783e-15,5.551115123125783e-15,5.773159728050814e-15,5.773159728050814e-15,4.440892098500626e-15,3.774758283725532e-15,5.329070518200751e-15,4.884981308350689e-15,6.8833827526759706e-15,5.10702591327572e-15,5.10702591327572e-15,5.995204332975845e-15,5.329070518200751e-15,6.8833827526759706e-15,5.995204332975845e-15,4.884981308350689e-15,5.329070518200751e-15],\"type\":\"scatter\",\"hoverinfo\":\"text\"}], {\"showlegend\":true,\"xaxis\":{\"showticklabels\":true,\"gridwidth\":0.5,\"tickvals\":[0.0,25.0,50.0,75.0,100.0],\"visible\":true,\"ticks\":\"inside\",\"range\":[-1.9699999999999998,102.97],\"domain\":[0.10179625984251968,0.9950787401574803],\"tickmode\":\"array\",\"linecolor\":\"rgba(0, 0, 0, 1.000)\",\"showgrid\":true,\"title\":\"n\",\"mirror\":false,\"tickangle\":0,\"showline\":true,\"gridcolor\":\"rgba(0, 0, 0, 0.100)\",\"titlefont\":{\"color\":\"rgba(0, 0, 0, 1.000)\",\"family\":\"sans-serif\",\"size\":15},\"tickcolor\":\"rgb(0, 0, 0)\",\"ticktext\":[\"0\",\"25\",\"50\",\"75\",\"100\"],\"zeroline\":false,\"type\":\"-\",\"tickfont\":{\"color\":\"rgba(0, 0, 0, 1.000)\",\"family\":\"sans-serif\",\"size\":11},\"zerolinecolor\":\"rgba(0, 0, 0, 1.000)\",\"anchor\":\"y1\"},\"paper_bgcolor\":\"rgba(255, 255, 255, 1.000)\",\"annotations\":[{\"yanchor\":\"top\",\"xanchor\":\"center\",\"rotation\":-0.0,\"y\":1.0,\"font\":{\"color\":\"rgba(0, 0, 0, 1.000)\",\"family\":\"sans-serif\",\"size\":20},\"yref\":\"paper\",\"showarrow\":false,\"text\":\"Dokładność wyznaczania macierzy odwrotnej\",\"xref\":\"paper\",\"x\":0.5484375}],\"height\":400,\"margin\":{\"l\":0,\"b\":20,\"r\":0,\"t\":20},\"plot_bgcolor\":\"rgba(255, 255, 255, 1.000)\",\"yaxis\":{\"showticklabels\":true,\"gridwidth\":0.5,\"tickvals\":[2.0e-15,4.0e-15,6.0000000000000005e-15,8.0e-15],\"visible\":true,\"ticks\":\"inside\",\"range\":[4.063416270128073e-16,9.585665594613602e-15],\"domain\":[0.07581474190726165,0.9415463692038496],\"tickmode\":\"array\",\"linecolor\":\"rgba(0, 0, 0, 1.000)\",\"showgrid\":true,\"title\":\"Błąd wyniku\",\"mirror\":false,\"tickangle\":0,\"showline\":true,\"gridcolor\":\"rgba(0, 0, 0, 0.100)\",\"titlefont\":{\"color\":\"rgba(0, 0, 0, 1.000)\",\"family\":\"sans-serif\",\"size\":15},\"tickcolor\":\"rgb(0, 0, 0)\",\"ticktext\":[\"2×10⁻¹⁵\",\"4×10⁻¹⁵\",\"6×10⁻¹⁵\",\"8×10⁻¹⁵\"],\"zeroline\":false,\"type\":\"-\",\"tickfont\":{\"color\":\"rgba(0, 0, 0, 1.000)\",\"family\":\"sans-serif\",\"size\":11},\"zerolinecolor\":\"rgba(0, 0, 0, 1.000)\",\"anchor\":\"x1\"},\"legend\":{\"tracegroupgap\":0,\"bordercolor\":\"rgba(0, 0, 0, 1.000)\",\"bgcolor\":\"rgba(255, 255, 255, 1.000)\",\"font\":{\"color\":\"rgba(0, 0, 0, 1.000)\",\"family\":\"sans-serif\",\"size\":11},\"y\":1.0,\"x\":1.0},\"width\":800});\n",
       "    </script>\n"
      ]
     },
     "execution_count": 62,
     "metadata": {},
     "output_type": "execute_result"
    }
   ],
   "source": [
    "using Plots\n",
    "plotly()\n",
    "plot(1:100,err_LU,seriestype=:scatter,label = \"Metoda LU\", title = \"Dokładność wyznaczania macierzy odwrotnej\",size = (800, 400),xlabel = \"n\",ylabel = \"Błąd wyniku\")\n",
    "plot!(1:100,err_QR,seriestype=:scatter,label = \"Metoda QR\")"
   ]
  },
  {
   "cell_type": "markdown",
   "metadata": {},
   "source": [
    "# Badanie dokładności dlamacierzy A postaci Q^T * B * Q"
   ]
  },
  {
   "cell_type": "code",
   "execution_count": 36,
   "metadata": {},
   "outputs": [
    {
     "data": {
      "text/plain": [
       "100×100 Array{Float64,2}:\n",
       " 86.0441   0.0     0.0      0.0     …   0.0     0.0      0.0      0.0   \n",
       "  0.0     86.044   0.0      0.0         0.0     0.0      0.0      0.0   \n",
       "  0.0      0.0    86.0436   0.0         0.0     0.0      0.0      0.0   \n",
       "  0.0      0.0     0.0     86.0435      0.0     0.0      0.0      0.0   \n",
       "  0.0      0.0     0.0      0.0         0.0     0.0      0.0      0.0   \n",
       "  0.0      0.0     0.0      0.0     …   0.0     0.0      0.0      0.0   \n",
       "  0.0      0.0     0.0      0.0         0.0     0.0      0.0      0.0   \n",
       "  0.0      0.0     0.0      0.0         0.0     0.0      0.0      0.0   \n",
       "  0.0      0.0     0.0      0.0         0.0     0.0      0.0      0.0   \n",
       "  0.0      0.0     0.0      0.0         0.0     0.0      0.0      0.0   \n",
       "  0.0      0.0     0.0      0.0     …   0.0     0.0      0.0      0.0   \n",
       "  0.0      0.0     0.0      0.0         0.0     0.0      0.0      0.0   \n",
       "  0.0      0.0     0.0      0.0         0.0     0.0      0.0      0.0   \n",
       "  ⋮                                 ⋱                                   \n",
       "  0.0      0.0     0.0      0.0         0.0     0.0      0.0      0.0   \n",
       "  0.0      0.0     0.0      0.0         0.0     0.0      0.0      0.0   \n",
       "  0.0      0.0     0.0      0.0     …   0.0     0.0      0.0      0.0   \n",
       "  0.0      0.0     0.0      0.0         0.0     0.0      0.0      0.0   \n",
       "  0.0      0.0     0.0      0.0         0.0     0.0      0.0      0.0   \n",
       "  0.0      0.0     0.0      0.0         0.0     0.0      0.0      0.0   \n",
       "  0.0      0.0     0.0      0.0         0.0     0.0      0.0      0.0   \n",
       "  0.0      0.0     0.0      0.0     …   0.0     0.0      0.0      0.0   \n",
       "  0.0      0.0     0.0      0.0        86.002   0.0      0.0      0.0   \n",
       "  0.0      0.0     0.0      0.0         0.0    86.0019   0.0      0.0   \n",
       "  0.0      0.0     0.0      0.0         0.0     0.0     86.0012   0.0   \n",
       "  0.0      0.0     0.0      0.0         0.0     0.0      0.0     86.0009"
      ]
     },
     "execution_count": 36,
     "metadata": {},
     "output_type": "execute_result"
    }
   ],
   "source": [
    "QB1,RB1 = QRfactorize(B1)\n",
    "B2 = zeros(Float64,100,100)\n",
    "l = rand(0:100)\n",
    "e = 0\n",
    "for i = 100:-1:1\n",
    "    e += rand()/1000\n",
    "    B2[i,i] = l + e\n",
    "end\n",
    "B2"
   ]
  },
  {
   "cell_type": "code",
   "execution_count": 37,
   "metadata": {},
   "outputs": [
    {
     "data": {
      "text/plain": [
       "test2 (generic function with 1 method)"
      ]
     },
     "execution_count": 37,
     "metadata": {},
     "output_type": "execute_result"
    }
   ],
   "source": [
    "function test2(A,n)\n",
    "    cA = copy(A)\n",
    "    err_LU = zeros(n)\n",
    "    err_QR = zeros(n)\n",
    "    for k = 1:n\n",
    "        l = rand(10:100)\n",
    "        for i = 100:-1:1\n",
    "            l += rand(1:10)\n",
    "            cA[i,i] += l\n",
    "        end\n",
    "        err_LU[k] = test_LU((transpose(QB1)*cA*QB1))\n",
    "        err_QR[k] = test_QR((transpose(QB1)*cA*QB1))\n",
    "    end\n",
    "    return err_LU,err_QR\n",
    "end"
   ]
  },
  {
   "cell_type": "code",
   "execution_count": 38,
   "metadata": {},
   "outputs": [
    {
     "data": {
      "text/plain": [
       "([2.66454e-15, 3.9968e-15, 4.21885e-15, 5.10703e-15, 3.33067e-15, 3.55271e-15, 3.77476e-15, 3.77476e-15, 4.21885e-15, 4.44089e-15  …  3.9968e-15, 5.10703e-15, 4.66294e-15, 3.9968e-15, 4.44089e-15, 4.21885e-15, 4.44089e-15, 4.21885e-15, 3.77476e-15, 4.21885e-15], [2.39808e-14, 2.4647e-14, 2.33147e-14, 3.04201e-14, 2.66454e-14, 2.62013e-14, 3.37508e-14, 2.73115e-14, 2.59792e-14, 2.66454e-14  …  2.62013e-14, 3.26406e-14, 2.57572e-14, 2.81997e-14, 3.15303e-14, 2.84217e-14, 2.9976e-14, 2.68674e-14, 2.62013e-14, 2.93099e-14])"
      ]
     },
     "execution_count": 38,
     "metadata": {},
     "output_type": "execute_result"
    }
   ],
   "source": [
    "err_LU2,err_QR2 = test2(B2,100)"
   ]
  },
  {
   "cell_type": "code",
   "execution_count": 39,
   "metadata": {},
   "outputs": [
    {
     "data": {
      "application/vnd.plotly.v1+json": {
       "data": [
        {
         "colorbar": {
          "title": ""
         },
         "hoverinfo": "text",
         "legendgroup": "Metoda LU",
         "marker": {
          "color": "rgba(0, 154, 250, 1.000)",
          "line": {
           "color": "rgba(0, 0, 0, 1.000)",
           "width": 1
          },
          "size": 8,
          "symbol": "circle"
         },
         "mode": "markers",
         "name": "Metoda LU",
         "showlegend": true,
         "text": [
          null,
          null,
          null,
          null,
          null,
          null,
          null,
          null,
          null,
          null,
          null,
          null,
          null,
          null,
          null,
          null,
          null,
          null,
          null,
          null,
          null,
          null,
          null,
          null,
          null,
          null,
          null,
          null,
          null,
          null,
          null,
          null,
          null,
          null,
          null,
          null,
          null,
          null,
          null,
          null,
          null,
          null,
          null,
          null,
          null,
          null,
          null,
          null,
          null,
          null,
          null,
          null,
          null,
          null,
          null,
          null,
          null,
          null,
          null,
          null,
          null,
          null,
          null,
          null,
          null,
          null,
          null,
          null,
          null,
          null,
          null,
          null,
          null,
          null,
          null,
          null,
          null,
          null,
          null,
          null,
          null,
          null,
          null,
          null,
          null,
          null,
          null,
          null,
          null,
          null,
          null,
          null,
          null,
          null,
          null,
          null,
          null,
          null,
          null,
          null
         ],
         "type": "scatter",
         "x": [
          1,
          2,
          3,
          4,
          5,
          6,
          7,
          8,
          9,
          10,
          11,
          12,
          13,
          14,
          15,
          16,
          17,
          18,
          19,
          20,
          21,
          22,
          23,
          24,
          25,
          26,
          27,
          28,
          29,
          30,
          31,
          32,
          33,
          34,
          35,
          36,
          37,
          38,
          39,
          40,
          41,
          42,
          43,
          44,
          45,
          46,
          47,
          48,
          49,
          50,
          51,
          52,
          53,
          54,
          55,
          56,
          57,
          58,
          59,
          60,
          61,
          62,
          63,
          64,
          65,
          66,
          67,
          68,
          69,
          70,
          71,
          72,
          73,
          74,
          75,
          76,
          77,
          78,
          79,
          80,
          81,
          82,
          83,
          84,
          85,
          86,
          87,
          88,
          89,
          90,
          91,
          92,
          93,
          94,
          95,
          96,
          97,
          98,
          99,
          100
         ],
         "xaxis": "x1",
         "y": [
          2.6645352591003757e-15,
          3.9968028886505635e-15,
          4.218847493575595e-15,
          5.10702591327572e-15,
          3.3306690738754696e-15,
          3.552713678800501e-15,
          3.774758283725532e-15,
          3.774758283725532e-15,
          4.218847493575595e-15,
          4.440892098500626e-15,
          4.6629367034256575e-15,
          4.218847493575595e-15,
          4.218847493575595e-15,
          3.774758283725532e-15,
          4.6629367034256575e-15,
          3.9968028886505635e-15,
          3.774758283725532e-15,
          4.218847493575595e-15,
          4.218847493575595e-15,
          3.9968028886505635e-15,
          3.774758283725532e-15,
          3.9968028886505635e-15,
          3.774758283725532e-15,
          3.774758283725532e-15,
          3.9968028886505635e-15,
          3.9968028886505635e-15,
          3.9968028886505635e-15,
          4.218847493575595e-15,
          4.440892098500626e-15,
          5.10702591327572e-15,
          4.218847493575595e-15,
          3.9968028886505635e-15,
          3.9968028886505635e-15,
          4.218847493575595e-15,
          3.774758283725532e-15,
          3.9968028886505635e-15,
          3.9968028886505635e-15,
          4.440892098500626e-15,
          4.6629367034256575e-15,
          3.9968028886505635e-15,
          3.9968028886505635e-15,
          4.440892098500626e-15,
          4.218847493575595e-15,
          4.218847493575595e-15,
          4.218847493575595e-15,
          4.440892098500626e-15,
          4.218847493575595e-15,
          4.884981308350689e-15,
          4.6629367034256575e-15,
          4.218847493575595e-15,
          4.218847493575595e-15,
          4.218847493575595e-15,
          3.774758283725532e-15,
          3.9968028886505635e-15,
          4.6629367034256575e-15,
          4.440892098500626e-15,
          4.218847493575595e-15,
          4.440892098500626e-15,
          4.440892098500626e-15,
          4.218847493575595e-15,
          3.9968028886505635e-15,
          4.440892098500626e-15,
          4.6629367034256575e-15,
          3.774758283725532e-15,
          4.218847493575595e-15,
          4.218847493575595e-15,
          4.218847493575595e-15,
          3.9968028886505635e-15,
          4.440892098500626e-15,
          4.218847493575595e-15,
          3.9968028886505635e-15,
          4.218847493575595e-15,
          4.6629367034256575e-15,
          4.440892098500626e-15,
          4.218847493575595e-15,
          4.6629367034256575e-15,
          3.9968028886505635e-15,
          4.218847493575595e-15,
          4.218847493575595e-15,
          4.218847493575595e-15,
          4.218847493575595e-15,
          5.10702591327572e-15,
          3.9968028886505635e-15,
          4.218847493575595e-15,
          4.440892098500626e-15,
          4.440892098500626e-15,
          3.9968028886505635e-15,
          4.6629367034256575e-15,
          4.6629367034256575e-15,
          4.440892098500626e-15,
          3.9968028886505635e-15,
          5.10702591327572e-15,
          4.6629367034256575e-15,
          3.9968028886505635e-15,
          4.440892098500626e-15,
          4.218847493575595e-15,
          4.440892098500626e-15,
          4.218847493575595e-15,
          3.774758283725532e-15,
          4.218847493575595e-15
         ],
         "yaxis": "y1",
         "zmax": 0.1,
         "zmin": -0.1
        },
        {
         "colorbar": {
          "title": ""
         },
         "hoverinfo": "text",
         "legendgroup": "Metoda QR",
         "marker": {
          "color": "rgba(227, 111, 71, 1.000)",
          "line": {
           "color": "rgba(0, 0, 0, 1.000)",
           "width": 1
          },
          "size": 8,
          "symbol": "circle"
         },
         "mode": "markers",
         "name": "Metoda QR",
         "showlegend": true,
         "text": [
          null,
          null,
          null,
          null,
          null,
          null,
          null,
          null,
          null,
          null,
          null,
          null,
          null,
          null,
          null,
          null,
          null,
          null,
          null,
          null,
          null,
          null,
          null,
          null,
          null,
          null,
          null,
          null,
          null,
          null,
          null,
          null,
          null,
          null,
          null,
          null,
          null,
          null,
          null,
          null,
          null,
          null,
          null,
          null,
          null,
          null,
          null,
          null,
          null,
          null,
          null,
          null,
          null,
          null,
          null,
          null,
          null,
          null,
          null,
          null,
          null,
          null,
          null,
          null,
          null,
          null,
          null,
          null,
          null,
          null,
          null,
          null,
          null,
          null,
          null,
          null,
          null,
          null,
          null,
          null,
          null,
          null,
          null,
          null,
          null,
          null,
          null,
          null,
          null,
          null,
          null,
          null,
          null,
          null,
          null,
          null,
          null,
          null,
          null,
          null
         ],
         "type": "scatter",
         "x": [
          1,
          2,
          3,
          4,
          5,
          6,
          7,
          8,
          9,
          10,
          11,
          12,
          13,
          14,
          15,
          16,
          17,
          18,
          19,
          20,
          21,
          22,
          23,
          24,
          25,
          26,
          27,
          28,
          29,
          30,
          31,
          32,
          33,
          34,
          35,
          36,
          37,
          38,
          39,
          40,
          41,
          42,
          43,
          44,
          45,
          46,
          47,
          48,
          49,
          50,
          51,
          52,
          53,
          54,
          55,
          56,
          57,
          58,
          59,
          60,
          61,
          62,
          63,
          64,
          65,
          66,
          67,
          68,
          69,
          70,
          71,
          72,
          73,
          74,
          75,
          76,
          77,
          78,
          79,
          80,
          81,
          82,
          83,
          84,
          85,
          86,
          87,
          88,
          89,
          90,
          91,
          92,
          93,
          94,
          95,
          96,
          97,
          98,
          99,
          100
         ],
         "xaxis": "x1",
         "y": [
          2.398081733190338e-14,
          2.4646951146678475e-14,
          2.3314683517128287e-14,
          3.042011087472929e-14,
          2.6645352591003757e-14,
          2.6201263381153694e-14,
          3.375077994860476e-14,
          2.731148640577885e-14,
          2.5979218776228663e-14,
          2.6645352591003757e-14,
          2.398081733190338e-14,
          2.9753977059954195e-14,
          2.5757174171303632e-14,
          2.930988785010413e-14,
          3.530509218307998e-14,
          3.175237850427948e-14,
          3.064215547965432e-14,
          2.864375403532904e-14,
          2.9531932455029164e-14,
          2.6201263381153694e-14,
          2.6423307986078726e-14,
          2.5091040356528538e-14,
          2.375877272697835e-14,
          2.7977620220553945e-14,
          2.6867397195928788e-14,
          3.175237850427948e-14,
          3.5083047578154947e-14,
          2.7977620220553945e-14,
          3.397282455352979e-14,
          2.864375403532904e-14,
          3.4861002973229915e-14,
          3.419486915845482e-14,
          2.864375403532904e-14,
          2.7755575615628914e-14,
          2.7755575615628914e-14,
          2.7977620220553945e-14,
          3.042011087472929e-14,
          3.019806626980426e-14,
          2.6867397195928788e-14,
          2.9976021664879227e-14,
          2.708944180085382e-14,
          2.9753977059954195e-14,
          2.55351295663786e-14,
          2.6645352591003757e-14,
          2.3092638912203256e-14,
          2.6201263381153694e-14,
          2.353672812205332e-14,
          2.531308496145357e-14,
          2.6867397195928788e-14,
          2.7755575615628914e-14,
          3.26405569239796e-14,
          3.4861002973229915e-14,
          3.019806626980426e-14,
          3.175237850427948e-14,
          3.197442310920451e-14,
          3.552713678800501e-14,
          2.731148640577885e-14,
          3.042011087472929e-14,
          3.419486915845482e-14,
          3.2862601528904634e-14,
          2.7977620220553945e-14,
          2.864375403532904e-14,
          3.3306690738754696e-14,
          3.241851231905457e-14,
          2.55351295663786e-14,
          2.9976021664879227e-14,
          2.9531932455029164e-14,
          3.108624468950438e-14,
          2.6201263381153694e-14,
          2.864375403532904e-14,
          3.064215547965432e-14,
          2.886579864025407e-14,
          2.5091040356528538e-14,
          3.2862601528904634e-14,
          3.4638958368304884e-14,
          3.930189507173054e-14,
          3.4861002973229915e-14,
          3.064215547965432e-14,
          3.4638958368304884e-14,
          3.1530333899354446e-14,
          3.019806626980426e-14,
          2.4646951146678475e-14,
          3.5083047578154947e-14,
          2.731148640577885e-14,
          2.90878432451791e-14,
          2.6201263381153694e-14,
          2.7755575615628914e-14,
          2.886579864025407e-14,
          2.7755575615628914e-14,
          2.886579864025407e-14,
          2.6201263381153694e-14,
          3.26405569239796e-14,
          2.5757174171303632e-14,
          2.8199664825478976e-14,
          3.1530333899354446e-14,
          2.842170943040401e-14,
          2.9976021664879227e-14,
          2.6867397195928788e-14,
          2.6201263381153694e-14,
          2.930988785010413e-14
         ],
         "yaxis": "y1",
         "zmax": 0.1,
         "zmin": -0.1
        }
       ],
       "layout": {
        "annotations": [
         {
          "font": {
           "color": "rgba(0, 0, 0, 1.000)",
           "family": "sans-serif",
           "size": 20
          },
          "rotation": 0,
          "showarrow": false,
          "text": "Dokładność wyznaczania macierzy odwrotnej",
          "x": 0.5484375,
          "xanchor": "center",
          "xref": "paper",
          "y": 1,
          "yanchor": "top",
          "yref": "paper"
         }
        ],
        "height": 400,
        "legend": {
         "bgcolor": "rgba(255, 255, 255, 1.000)",
         "bordercolor": "rgba(0, 0, 0, 1.000)",
         "font": {
          "color": "rgba(0, 0, 0, 1.000)",
          "family": "sans-serif",
          "size": 11
         },
         "tracegroupgap": 0,
         "x": 1,
         "y": 1
        },
        "margin": {
         "b": 20,
         "l": 0,
         "r": 0,
         "t": 20
        },
        "paper_bgcolor": "rgba(255, 255, 255, 1.000)",
        "plot_bgcolor": "rgba(255, 255, 255, 1.000)",
        "showlegend": true,
        "width": 800,
        "xaxis": {
         "anchor": "y1",
         "domain": [
          0.10179625984251968,
          0.9950787401574803
         ],
         "gridcolor": "rgba(0, 0, 0, 0.100)",
         "gridwidth": 0.5,
         "linecolor": "rgba(0, 0, 0, 1.000)",
         "mirror": false,
         "range": [
          -1.9699999999999998,
          102.97
         ],
         "showgrid": true,
         "showline": true,
         "showticklabels": true,
         "tickangle": 0,
         "tickcolor": "rgb(0, 0, 0)",
         "tickfont": {
          "color": "rgba(0, 0, 0, 1.000)",
          "family": "sans-serif",
          "size": 11
         },
         "tickmode": "array",
         "ticks": "inside",
         "ticktext": [
          "0",
          "25",
          "50",
          "75",
          "100"
         ],
         "tickvals": [
          0,
          25,
          50,
          75,
          100
         ],
         "title": "n",
         "titlefont": {
          "color": "rgba(0, 0, 0, 1.000)",
          "family": "sans-serif",
          "size": 15
         },
         "type": "-",
         "visible": true,
         "zeroline": false,
         "zerolinecolor": "rgba(0, 0, 0, 1.000)"
        },
        "yaxis": {
         "anchor": "x1",
         "domain": [
          0.07581474190726165,
          0.9415463692038496
         ],
         "gridcolor": "rgba(0, 0, 0, 0.100)",
         "gridwidth": 0.5,
         "linecolor": "rgba(0, 0, 0, 1.000)",
         "mirror": false,
         "range": [
          1.5654144647214707e-15,
          4.0401015866109444e-14
         ],
         "showgrid": true,
         "showline": true,
         "showticklabels": true,
         "tickangle": 0,
         "tickcolor": "rgb(0, 0, 0)",
         "tickfont": {
          "color": "rgba(0, 0, 0, 1.000)",
          "family": "sans-serif",
          "size": 11
         },
         "tickmode": "array",
         "ticks": "inside",
         "ticktext": [
          "1×10⁻¹⁴",
          "2×10⁻¹⁴",
          "3×10⁻¹⁴",
          "4×10⁻¹⁴"
         ],
         "tickvals": [
          1e-14,
          2e-14,
          3e-14,
          4e-14
         ],
         "title": "Błąd wyniku",
         "titlefont": {
          "color": "rgba(0, 0, 0, 1.000)",
          "family": "sans-serif",
          "size": 15
         },
         "type": "-",
         "visible": true,
         "zeroline": false,
         "zerolinecolor": "rgba(0, 0, 0, 1.000)"
        }
       }
      },
      "text/html": [
       "    <div id=\"67285057-1ea1-49e7-8b43-167d37fe94aa\" style=\"width:800px;height:400px;\"></div>\n",
       "    <script>\n",
       "    PLOT = document.getElementById('67285057-1ea1-49e7-8b43-167d37fe94aa');\n",
       "    Plotly.plot(PLOT, [{\"xaxis\":\"x1\",\"colorbar\":{\"title\":\"\"},\"yaxis\":\"y1\",\"text\":[null,null,null,null,null,null,null,null,null,null,null,null,null,null,null,null,null,null,null,null,null,null,null,null,null,null,null,null,null,null,null,null,null,null,null,null,null,null,null,null,null,null,null,null,null,null,null,null,null,null,null,null,null,null,null,null,null,null,null,null,null,null,null,null,null,null,null,null,null,null,null,null,null,null,null,null,null,null,null,null,null,null,null,null,null,null,null,null,null,null,null,null,null,null,null,null,null,null,null,null],\"x\":[1,2,3,4,5,6,7,8,9,10,11,12,13,14,15,16,17,18,19,20,21,22,23,24,25,26,27,28,29,30,31,32,33,34,35,36,37,38,39,40,41,42,43,44,45,46,47,48,49,50,51,52,53,54,55,56,57,58,59,60,61,62,63,64,65,66,67,68,69,70,71,72,73,74,75,76,77,78,79,80,81,82,83,84,85,86,87,88,89,90,91,92,93,94,95,96,97,98,99,100],\"showlegend\":true,\"mode\":\"markers\",\"name\":\"Metoda LU\",\"zmin\":-0.1,\"legendgroup\":\"Metoda LU\",\"marker\":{\"symbol\":\"circle\",\"color\":\"rgba(0, 154, 250, 1.000)\",\"line\":{\"color\":\"rgba(0, 0, 0, 1.000)\",\"width\":1},\"size\":8},\"zmax\":0.1,\"y\":[2.6645352591003757e-15,3.9968028886505635e-15,4.218847493575595e-15,5.10702591327572e-15,3.3306690738754696e-15,3.552713678800501e-15,3.774758283725532e-15,3.774758283725532e-15,4.218847493575595e-15,4.440892098500626e-15,4.6629367034256575e-15,4.218847493575595e-15,4.218847493575595e-15,3.774758283725532e-15,4.6629367034256575e-15,3.9968028886505635e-15,3.774758283725532e-15,4.218847493575595e-15,4.218847493575595e-15,3.9968028886505635e-15,3.774758283725532e-15,3.9968028886505635e-15,3.774758283725532e-15,3.774758283725532e-15,3.9968028886505635e-15,3.9968028886505635e-15,3.9968028886505635e-15,4.218847493575595e-15,4.440892098500626e-15,5.10702591327572e-15,4.218847493575595e-15,3.9968028886505635e-15,3.9968028886505635e-15,4.218847493575595e-15,3.774758283725532e-15,3.9968028886505635e-15,3.9968028886505635e-15,4.440892098500626e-15,4.6629367034256575e-15,3.9968028886505635e-15,3.9968028886505635e-15,4.440892098500626e-15,4.218847493575595e-15,4.218847493575595e-15,4.218847493575595e-15,4.440892098500626e-15,4.218847493575595e-15,4.884981308350689e-15,4.6629367034256575e-15,4.218847493575595e-15,4.218847493575595e-15,4.218847493575595e-15,3.774758283725532e-15,3.9968028886505635e-15,4.6629367034256575e-15,4.440892098500626e-15,4.218847493575595e-15,4.440892098500626e-15,4.440892098500626e-15,4.218847493575595e-15,3.9968028886505635e-15,4.440892098500626e-15,4.6629367034256575e-15,3.774758283725532e-15,4.218847493575595e-15,4.218847493575595e-15,4.218847493575595e-15,3.9968028886505635e-15,4.440892098500626e-15,4.218847493575595e-15,3.9968028886505635e-15,4.218847493575595e-15,4.6629367034256575e-15,4.440892098500626e-15,4.218847493575595e-15,4.6629367034256575e-15,3.9968028886505635e-15,4.218847493575595e-15,4.218847493575595e-15,4.218847493575595e-15,4.218847493575595e-15,5.10702591327572e-15,3.9968028886505635e-15,4.218847493575595e-15,4.440892098500626e-15,4.440892098500626e-15,3.9968028886505635e-15,4.6629367034256575e-15,4.6629367034256575e-15,4.440892098500626e-15,3.9968028886505635e-15,5.10702591327572e-15,4.6629367034256575e-15,3.9968028886505635e-15,4.440892098500626e-15,4.218847493575595e-15,4.440892098500626e-15,4.218847493575595e-15,3.774758283725532e-15,4.218847493575595e-15],\"type\":\"scatter\",\"hoverinfo\":\"text\"},{\"xaxis\":\"x1\",\"colorbar\":{\"title\":\"\"},\"yaxis\":\"y1\",\"text\":[null,null,null,null,null,null,null,null,null,null,null,null,null,null,null,null,null,null,null,null,null,null,null,null,null,null,null,null,null,null,null,null,null,null,null,null,null,null,null,null,null,null,null,null,null,null,null,null,null,null,null,null,null,null,null,null,null,null,null,null,null,null,null,null,null,null,null,null,null,null,null,null,null,null,null,null,null,null,null,null,null,null,null,null,null,null,null,null,null,null,null,null,null,null,null,null,null,null,null,null],\"x\":[1,2,3,4,5,6,7,8,9,10,11,12,13,14,15,16,17,18,19,20,21,22,23,24,25,26,27,28,29,30,31,32,33,34,35,36,37,38,39,40,41,42,43,44,45,46,47,48,49,50,51,52,53,54,55,56,57,58,59,60,61,62,63,64,65,66,67,68,69,70,71,72,73,74,75,76,77,78,79,80,81,82,83,84,85,86,87,88,89,90,91,92,93,94,95,96,97,98,99,100],\"showlegend\":true,\"mode\":\"markers\",\"name\":\"Metoda QR\",\"zmin\":-0.1,\"legendgroup\":\"Metoda QR\",\"marker\":{\"symbol\":\"circle\",\"color\":\"rgba(227, 111, 71, 1.000)\",\"line\":{\"color\":\"rgba(0, 0, 0, 1.000)\",\"width\":1},\"size\":8},\"zmax\":0.1,\"y\":[2.398081733190338e-14,2.4646951146678475e-14,2.3314683517128287e-14,3.042011087472929e-14,2.6645352591003757e-14,2.6201263381153694e-14,3.375077994860476e-14,2.731148640577885e-14,2.5979218776228663e-14,2.6645352591003757e-14,2.398081733190338e-14,2.9753977059954195e-14,2.5757174171303632e-14,2.930988785010413e-14,3.530509218307998e-14,3.175237850427948e-14,3.064215547965432e-14,2.864375403532904e-14,2.9531932455029164e-14,2.6201263381153694e-14,2.6423307986078726e-14,2.5091040356528538e-14,2.375877272697835e-14,2.7977620220553945e-14,2.6867397195928788e-14,3.175237850427948e-14,3.5083047578154947e-14,2.7977620220553945e-14,3.397282455352979e-14,2.864375403532904e-14,3.4861002973229915e-14,3.419486915845482e-14,2.864375403532904e-14,2.7755575615628914e-14,2.7755575615628914e-14,2.7977620220553945e-14,3.042011087472929e-14,3.019806626980426e-14,2.6867397195928788e-14,2.9976021664879227e-14,2.708944180085382e-14,2.9753977059954195e-14,2.55351295663786e-14,2.6645352591003757e-14,2.3092638912203256e-14,2.6201263381153694e-14,2.353672812205332e-14,2.531308496145357e-14,2.6867397195928788e-14,2.7755575615628914e-14,3.26405569239796e-14,3.4861002973229915e-14,3.019806626980426e-14,3.175237850427948e-14,3.197442310920451e-14,3.552713678800501e-14,2.731148640577885e-14,3.042011087472929e-14,3.419486915845482e-14,3.2862601528904634e-14,2.7977620220553945e-14,2.864375403532904e-14,3.3306690738754696e-14,3.241851231905457e-14,2.55351295663786e-14,2.9976021664879227e-14,2.9531932455029164e-14,3.108624468950438e-14,2.6201263381153694e-14,2.864375403532904e-14,3.064215547965432e-14,2.886579864025407e-14,2.5091040356528538e-14,3.2862601528904634e-14,3.4638958368304884e-14,3.930189507173054e-14,3.4861002973229915e-14,3.064215547965432e-14,3.4638958368304884e-14,3.1530333899354446e-14,3.019806626980426e-14,2.4646951146678475e-14,3.5083047578154947e-14,2.731148640577885e-14,2.90878432451791e-14,2.6201263381153694e-14,2.7755575615628914e-14,2.886579864025407e-14,2.7755575615628914e-14,2.886579864025407e-14,2.6201263381153694e-14,3.26405569239796e-14,2.5757174171303632e-14,2.8199664825478976e-14,3.1530333899354446e-14,2.842170943040401e-14,2.9976021664879227e-14,2.6867397195928788e-14,2.6201263381153694e-14,2.930988785010413e-14],\"type\":\"scatter\",\"hoverinfo\":\"text\"}], {\"showlegend\":true,\"xaxis\":{\"showticklabels\":true,\"gridwidth\":0.5,\"tickvals\":[0.0,25.0,50.0,75.0,100.0],\"visible\":true,\"ticks\":\"inside\",\"range\":[-1.9699999999999998,102.97],\"domain\":[0.10179625984251968,0.9950787401574803],\"tickmode\":\"array\",\"linecolor\":\"rgba(0, 0, 0, 1.000)\",\"showgrid\":true,\"title\":\"n\",\"mirror\":false,\"tickangle\":0,\"showline\":true,\"gridcolor\":\"rgba(0, 0, 0, 0.100)\",\"titlefont\":{\"color\":\"rgba(0, 0, 0, 1.000)\",\"family\":\"sans-serif\",\"size\":15},\"tickcolor\":\"rgb(0, 0, 0)\",\"ticktext\":[\"0\",\"25\",\"50\",\"75\",\"100\"],\"zeroline\":false,\"type\":\"-\",\"tickfont\":{\"color\":\"rgba(0, 0, 0, 1.000)\",\"family\":\"sans-serif\",\"size\":11},\"zerolinecolor\":\"rgba(0, 0, 0, 1.000)\",\"anchor\":\"y1\"},\"paper_bgcolor\":\"rgba(255, 255, 255, 1.000)\",\"annotations\":[{\"yanchor\":\"top\",\"xanchor\":\"center\",\"rotation\":-0.0,\"y\":1.0,\"font\":{\"color\":\"rgba(0, 0, 0, 1.000)\",\"family\":\"sans-serif\",\"size\":20},\"yref\":\"paper\",\"showarrow\":false,\"text\":\"Dokładność wyznaczania macierzy odwrotnej\",\"xref\":\"paper\",\"x\":0.5484375}],\"height\":400,\"margin\":{\"l\":0,\"b\":20,\"r\":0,\"t\":20},\"plot_bgcolor\":\"rgba(255, 255, 255, 1.000)\",\"yaxis\":{\"showticklabels\":true,\"gridwidth\":0.5,\"tickvals\":[1.0e-14,2.0e-14,3.0e-14,4.0e-14],\"visible\":true,\"ticks\":\"inside\",\"range\":[1.5654144647214707e-15,4.0401015866109444e-14],\"domain\":[0.07581474190726165,0.9415463692038496],\"tickmode\":\"array\",\"linecolor\":\"rgba(0, 0, 0, 1.000)\",\"showgrid\":true,\"title\":\"Błąd wyniku\",\"mirror\":false,\"tickangle\":0,\"showline\":true,\"gridcolor\":\"rgba(0, 0, 0, 0.100)\",\"titlefont\":{\"color\":\"rgba(0, 0, 0, 1.000)\",\"family\":\"sans-serif\",\"size\":15},\"tickcolor\":\"rgb(0, 0, 0)\",\"ticktext\":[\"1×10⁻¹⁴\",\"2×10⁻¹⁴\",\"3×10⁻¹⁴\",\"4×10⁻¹⁴\"],\"zeroline\":false,\"type\":\"-\",\"tickfont\":{\"color\":\"rgba(0, 0, 0, 1.000)\",\"family\":\"sans-serif\",\"size\":11},\"zerolinecolor\":\"rgba(0, 0, 0, 1.000)\",\"anchor\":\"x1\"},\"legend\":{\"tracegroupgap\":0,\"bordercolor\":\"rgba(0, 0, 0, 1.000)\",\"bgcolor\":\"rgba(255, 255, 255, 1.000)\",\"font\":{\"color\":\"rgba(0, 0, 0, 1.000)\",\"family\":\"sans-serif\",\"size\":11},\"y\":1.0,\"x\":1.0},\"width\":800});\n",
       "    </script>\n"
      ]
     },
     "execution_count": 39,
     "metadata": {},
     "output_type": "execute_result"
    }
   ],
   "source": [
    "plot(1:100,err_LU2,seriestype=:scatter,label = \"Metoda LU\", title = \"Dokładność wyznaczania macierzy odwrotnej\",size = (800, 400),xlabel = \"n\",ylabel = \"Błąd wyniku\")\n",
    "plot!(1:100,err_QR2,seriestype=:scatter,label = \"Metoda QR\")"
   ]
  },
  {
   "cell_type": "markdown",
   "metadata": {},
   "source": [
    "# Badanie dokładności dla macierzy A z losowymi wartościami"
   ]
  },
  {
   "cell_type": "code",
   "execution_count": 40,
   "metadata": {},
   "outputs": [
    {
     "data": {
      "text/plain": [
       "test3 (generic function with 1 method)"
      ]
     },
     "execution_count": 40,
     "metadata": {},
     "output_type": "execute_result"
    }
   ],
   "source": [
    "function test3(n,size,max)\n",
    "    err_LU = zeros(Float64,n)\n",
    "    err_QR = zeros(Float64,n) \n",
    "    for k = 1:n\n",
    "        cA = zeros(Float64,size,size)\n",
    "        rando = rand(-max:max,size,size)\n",
    "        for i = 1:size\n",
    "            for j = 1:size\n",
    "                cA[i,j] = rando[i,j]\n",
    "            end\n",
    "        end\n",
    "        err_LU[k] = test_LU(cA)\n",
    "        err_QR[k] = test_QR(cA)\n",
    "    end\n",
    "    return err_LU,err_QR\n",
    "end"
   ]
  },
  {
   "cell_type": "code",
   "execution_count": 55,
   "metadata": {},
   "outputs": [
    {
     "data": {
      "text/plain": [
       "([1.28764e-12, 8.54428e-12, 5.99092e-11, 5.42189e-12, 4.63607e-12, 7.01375e-11, 1.70731e-10, 1.17217e-12, 9.77218e-13, 1.74283e-12  …  4.55613e-12, 1.5268e-11, 1.75771e-12, 2.72338e-12, 5.71676e-12, 3.40861e-12, 1.06313e-11, 4.35962e-12, 3.08227e-11, 2.13762e-12], [9.37028e-14, 1.76303e-13, 1.40998e-13, 1.83409e-13, 2.23821e-13, 1.69642e-13, 6.46372e-13, 9.83658e-14, 1.25899e-13, 4.26326e-14  …  2.34701e-13, 1.75193e-13, 3.57492e-14, 1.52323e-13, 1.35003e-13, 8.08242e-14, 8.70415e-14, 9.41469e-14, 6.52589e-13, 7.66054e-14])"
      ]
     },
     "execution_count": 55,
     "metadata": {},
     "output_type": "execute_result"
    }
   ],
   "source": [
    "err_LU3,err_QR3 = test3(100,50,100)"
   ]
  },
  {
   "cell_type": "code",
   "execution_count": 56,
   "metadata": {},
   "outputs": [
    {
     "data": {
      "application/vnd.plotly.v1+json": {
       "data": [
        {
         "colorbar": {
          "title": ""
         },
         "hoverinfo": "text",
         "legendgroup": "Metoda LU",
         "marker": {
          "color": "rgba(0, 154, 250, 1.000)",
          "line": {
           "color": "rgba(0, 0, 0, 1.000)",
           "width": 1
          },
          "size": 8,
          "symbol": "circle"
         },
         "mode": "markers",
         "name": "Metoda LU",
         "showlegend": true,
         "text": [
          null,
          null,
          null,
          null,
          null,
          null,
          null,
          null,
          null,
          null,
          null,
          null,
          null,
          null,
          null,
          null,
          null,
          null,
          null,
          null,
          null,
          null,
          null,
          null,
          null,
          null,
          null,
          null,
          null,
          null,
          null,
          null,
          null,
          null,
          null,
          null,
          null,
          null,
          null,
          null,
          null,
          null,
          null,
          null,
          null,
          null,
          null,
          null,
          null,
          null,
          null,
          null,
          null,
          null,
          null,
          null,
          null,
          null,
          null,
          null,
          null,
          null,
          null,
          null,
          null,
          null,
          null,
          null,
          null,
          null,
          null,
          null,
          null,
          null,
          null,
          null,
          null,
          null,
          null,
          null,
          null,
          null,
          null,
          null,
          null,
          null,
          null,
          null,
          null,
          null,
          null,
          null,
          null,
          null,
          null,
          null,
          null,
          null,
          null,
          null
         ],
         "type": "scatter",
         "x": [
          1,
          2,
          3,
          4,
          5,
          6,
          7,
          8,
          9,
          10,
          11,
          12,
          13,
          14,
          15,
          16,
          17,
          18,
          19,
          20,
          21,
          22,
          23,
          24,
          25,
          26,
          27,
          28,
          29,
          30,
          31,
          32,
          33,
          34,
          35,
          36,
          37,
          38,
          39,
          40,
          41,
          42,
          43,
          44,
          45,
          46,
          47,
          48,
          49,
          50,
          51,
          52,
          53,
          54,
          55,
          56,
          57,
          58,
          59,
          60,
          61,
          62,
          63,
          64,
          65,
          66,
          67,
          68,
          69,
          70,
          71,
          72,
          73,
          74,
          75,
          76,
          77,
          78,
          79,
          80,
          81,
          82,
          83,
          84,
          85,
          86,
          87,
          88,
          89,
          90,
          91,
          92,
          93,
          94,
          95,
          96,
          97,
          98,
          99,
          100
         ],
         "xaxis": "x1",
         "y": [
          1.2876366639602566e-12,
          8.544276397515205e-12,
          5.990918872100792e-11,
          5.4218851630594145e-12,
          4.636069306229729e-12,
          7.013745140227456e-11,
          1.7073098490527627e-10,
          1.1721734693992403e-12,
          9.772183062750628e-13,
          1.7428281040565707e-12,
          1.7892354264859023e-12,
          3.843103613121457e-11,
          1.4073187060148484e-12,
          1.3591350267461166e-12,
          1.6440182548649318e-12,
          2.496891582381977e-12,
          6.335154623116068e-12,
          7.175815497362237e-12,
          1.532285409666656e-11,
          1.9101364934215326e-10,
          1.2536638394067268e-12,
          2.7329249974172853e-12,
          4.182654222972815e-12,
          9.974243653232406e-13,
          6.6069372195443066e-12,
          1.0629053193156324e-11,
          1.7277290709216686e-12,
          7.1804784340656624e-12,
          1.5694112676101213e-12,
          2.360778239562933e-12,
          2.696287637604655e-12,
          7.488720754622591e-11,
          3.346434240825147e-12,
          6.978639888188809e-12,
          2.6270097208680454e-12,
          1.5943690812036948e-11,
          1.909139513145419e-12,
          2.987521341424326e-11,
          3.731015496555301e-12,
          1.396660564978447e-12,
          1.1012302181256928e-11,
          4.1588954502458364e-13,
          4.312106227644108e-13,
          6.983302824892235e-13,
          2.934386067465766e-11,
          4.653388785413881e-12,
          2.161826273550105e-12,
          8.5131901528257e-13,
          8.888445535149003e-12,
          1.06332720406499e-11,
          4.4932946252629336e-12,
          5.0536019813307576e-11,
          1.4531931213923599e-11,
          1.957811690544986e-11,
          2.1187940291156337e-11,
          1.0806910921701274e-12,
          3.646638546683789e-12,
          1.414446337832942e-11,
          2.1297852370594228e-11,
          4.312106227644108e-13,
          4.588551760775772e-12,
          2.194222581408667e-11,
          8.243183913236862e-12,
          2.567723811353062e-12,
          4.0176750815135165e-12,
          1.588285059028749e-12,
          3.907185686102821e-11,
          5.875322450776821e-11,
          6.29383212213952e-11,
          1.1867840044033073e-11,
          7.041034422172743e-13,
          4.881650639276813e-12,
          2.242428465137891e-12,
          2.0117241206207837e-12,
          6.508349414957593e-12,
          8.287837083287286e-11,
          1.2070344723724702e-12,
          1.1739498262386405e-12,
          8.006706408991704e-12,
          1.4230838729645257e-12,
          2.0028423364237824e-12,
          1.3420375921668892e-11,
          7.459166617707069e-11,
          3.844036200462142e-12,
          5.901945598907332e-13,
          9.993339489255959e-12,
          2.5199842212941803e-12,
          1.891176104606984e-11,
          1.1483480832907844e-11,
          1.37550415502119e-10,
          4.5561332484567174e-12,
          1.5268009079250078e-11,
          1.7577050925865478e-12,
          2.723377079405509e-12,
          5.716760398399856e-12,
          3.4086067302041556e-12,
          1.0631273639205574e-11,
          4.359623773098065e-12,
          3.082267774345837e-11,
          2.1376234116132764e-12
         ],
         "yaxis": "y1",
         "zmax": 0.1,
         "zmin": -0.1
        },
        {
         "colorbar": {
          "title": ""
         },
         "hoverinfo": "text",
         "legendgroup": "Metoda QR",
         "marker": {
          "color": "rgba(227, 111, 71, 1.000)",
          "line": {
           "color": "rgba(0, 0, 0, 1.000)",
           "width": 1
          },
          "size": 8,
          "symbol": "circle"
         },
         "mode": "markers",
         "name": "Metoda QR",
         "showlegend": true,
         "text": [
          null,
          null,
          null,
          null,
          null,
          null,
          null,
          null,
          null,
          null,
          null,
          null,
          null,
          null,
          null,
          null,
          null,
          null,
          null,
          null,
          null,
          null,
          null,
          null,
          null,
          null,
          null,
          null,
          null,
          null,
          null,
          null,
          null,
          null,
          null,
          null,
          null,
          null,
          null,
          null,
          null,
          null,
          null,
          null,
          null,
          null,
          null,
          null,
          null,
          null,
          null,
          null,
          null,
          null,
          null,
          null,
          null,
          null,
          null,
          null,
          null,
          null,
          null,
          null,
          null,
          null,
          null,
          null,
          null,
          null,
          null,
          null,
          null,
          null,
          null,
          null,
          null,
          null,
          null,
          null,
          null,
          null,
          null,
          null,
          null,
          null,
          null,
          null,
          null,
          null,
          null,
          null,
          null,
          null,
          null,
          null,
          null,
          null,
          null,
          null
         ],
         "type": "scatter",
         "x": [
          1,
          2,
          3,
          4,
          5,
          6,
          7,
          8,
          9,
          10,
          11,
          12,
          13,
          14,
          15,
          16,
          17,
          18,
          19,
          20,
          21,
          22,
          23,
          24,
          25,
          26,
          27,
          28,
          29,
          30,
          31,
          32,
          33,
          34,
          35,
          36,
          37,
          38,
          39,
          40,
          41,
          42,
          43,
          44,
          45,
          46,
          47,
          48,
          49,
          50,
          51,
          52,
          53,
          54,
          55,
          56,
          57,
          58,
          59,
          60,
          61,
          62,
          63,
          64,
          65,
          66,
          67,
          68,
          69,
          70,
          71,
          72,
          73,
          74,
          75,
          76,
          77,
          78,
          79,
          80,
          81,
          82,
          83,
          84,
          85,
          86,
          87,
          88,
          89,
          90,
          91,
          92,
          93,
          94,
          95,
          96,
          97,
          98,
          99,
          100
         ],
         "xaxis": "x1",
         "y": [
          9.370282327836321e-14,
          1.7630341631047486e-13,
          1.4099832412739488e-13,
          1.8340884366807586e-13,
          2.2382096176443156e-13,
          1.6964207816272392e-13,
          6.463718449367661e-13,
          9.836575998178887e-14,
          1.2589929099249275e-13,
          4.263256414560601e-14,
          6.705747068735946e-14,
          1.3420375921668892e-12,
          1.3855583347321954e-13,
          4.574118861455645e-14,
          2.0450308113595383e-13,
          5.484501741648273e-14,
          9.08162434143378e-14,
          1.8673951274195133e-13,
          7.842615445952106e-13,
          5.115907697472721e-13,
          5.306866057708248e-14,
          6.727951529228449e-14,
          1.907363156306019e-13,
          7.349676423018536e-14,
          1.021405182655144e-13,
          1.694200335577989e-13,
          8.926193117986259e-14,
          1.0080825063596421e-13,
          6.905587213168474e-14,
          4.3298697960381105e-14,
          1.0325074129013956e-13,
          4.3010039973978564e-13,
          1.7030821197749901e-13,
          2.1516122217235534e-13,
          5.3290705182007514e-14,
          2.1249668691325496e-13,
          1.8474111129762605e-13,
          6.448175327022909e-13,
          2.0694557179012918e-13,
          5.440092820663267e-14,
          2.26929586233382e-13,
          8.348877145181177e-14,
          1.0635936575909e-13,
          1.1124434706744069e-13,
          2.4558133304708463e-13,
          1.028066520802895e-13,
          1.5765166949677223e-13,
          1.325606291402437e-13,
          1.092459456231154e-13,
          1.567634910770721e-13,
          3.40394379350073e-13,
          2.007061183917358e-12,
          1.5498713423767185e-13,
          9.325873406851315e-14,
          6.832312493543213e-13,
          9.126033262418787e-14,
          5.595524044110789e-14,
          3.603783937933258e-13,
          1.028066520802895e-13,
          1.0502709812953981e-13,
          1.3744561044859438e-13,
          1.4344081478157023e-13,
          1.4366285938649526e-13,
          1.0191847366058937e-13,
          7.549516567451064e-14,
          1.4788170688007085e-13,
          5.894396082339881e-12,
          1.842748176272835e-12,
          1.4832579608992091e-13,
          6.938893903907228e-13,
          6.483702463810914e-14,
          6.505906924303417e-14,
          1.141309269314661e-13,
          2.460254222569347e-13,
          3.348432642269472e-13,
          2.9976021664879227e-13,
          6.017408793468348e-14,
          1.056932319443149e-13,
          5.806466418789569e-13,
          8.526512829121202e-14,
          6.972200594645983e-14,
          1.0911271886016038e-12,
          2.5979218776228663e-13,
          1.9761969838327786e-13,
          7.993605777301127e-14,
          6.483702463810914e-13,
          3.863576125695545e-14,
          1.1501910535116622e-13,
          1.5165646516379638e-13,
          1.3367085216486885e-13,
          2.347011474057581e-13,
          1.751931932858497e-13,
          3.574918139293004e-14,
          1.5232259897857148e-13,
          1.3500311979441904e-13,
          8.08242361927114e-14,
          8.704148513061227e-14,
          9.414691248821327e-14,
          6.52589093874667e-13,
          7.66053886991358e-14
         ],
         "yaxis": "y1",
         "zmax": 0.1,
         "zmin": -0.1
        }
       ],
       "layout": {
        "annotations": [
         {
          "font": {
           "color": "rgba(0, 0, 0, 1.000)",
           "family": "sans-serif",
           "size": 20
          },
          "rotation": 0,
          "showarrow": false,
          "text": "Dokładność wyznaczania macierzy odwrotnej",
          "x": 0.5595486111111111,
          "xanchor": "center",
          "xref": "paper",
          "y": 1,
          "yanchor": "top",
          "yref": "paper"
         }
        ],
        "height": 400,
        "legend": {
         "bgcolor": "rgba(255, 255, 255, 1.000)",
         "bordercolor": "rgba(0, 0, 0, 1.000)",
         "font": {
          "color": "rgba(0, 0, 0, 1.000)",
          "family": "sans-serif",
          "size": 11
         },
         "tracegroupgap": 0,
         "x": 1,
         "y": 1
        },
        "margin": {
         "b": 20,
         "l": 0,
         "r": 0,
         "t": 20
        },
        "paper_bgcolor": "rgba(255, 255, 255, 1.000)",
        "plot_bgcolor": "rgba(255, 255, 255, 1.000)",
        "showlegend": true,
        "width": 800,
        "xaxis": {
         "anchor": "y1",
         "domain": [
          0.12401848206474192,
          0.9950787401574803
         ],
         "gridcolor": "rgba(0, 0, 0, 0.100)",
         "gridwidth": 0.5,
         "linecolor": "rgba(0, 0, 0, 1.000)",
         "mirror": false,
         "range": [
          -1.9699999999999998,
          102.97
         ],
         "showgrid": true,
         "showline": true,
         "showticklabels": true,
         "tickangle": 0,
         "tickcolor": "rgb(0, 0, 0)",
         "tickfont": {
          "color": "rgba(0, 0, 0, 1.000)",
          "family": "sans-serif",
          "size": 11
         },
         "tickmode": "array",
         "ticks": "inside",
         "ticktext": [
          "0",
          "25",
          "50",
          "75",
          "100"
         ],
         "tickvals": [
          0,
          25,
          50,
          75,
          100
         ],
         "title": "n",
         "titlefont": {
          "color": "rgba(0, 0, 0, 1.000)",
          "family": "sans-serif",
          "size": 15
         },
         "type": "-",
         "visible": true,
         "zeroline": false,
         "zerolinecolor": "rgba(0, 0, 0, 1.000)"
        },
        "yaxis": {
         "anchor": "x1",
         "domain": [
          0.07581474190726165,
          0.9415463692038496
         ],
         "gridcolor": "rgba(0, 0, 0, 0.100)",
         "gridwidth": 0.5,
         "linecolor": "rgba(0, 0, 0, 1.000)",
         "mirror": false,
         "range": [
          -5.69358782342988e-12,
          1.9674298634697607e-10
         ],
         "showgrid": true,
         "showline": true,
         "showticklabels": true,
         "tickangle": 0,
         "tickcolor": "rgb(0, 0, 0)",
         "tickfont": {
          "color": "rgba(0, 0, 0, 1.000)",
          "family": "sans-serif",
          "size": 11
         },
         "tickmode": "array",
         "ticks": "inside",
         "ticktext": [
          "0",
          "5.0×10⁻¹¹",
          "1.0×10⁻¹⁰",
          "1.5×10⁻¹⁰"
         ],
         "tickvals": [
          0,
          5.000000000000001e-11,
          1.0000000000000002e-10,
          1.5000000000000002e-10
         ],
         "title": "Błąd wyniku",
         "titlefont": {
          "color": "rgba(0, 0, 0, 1.000)",
          "family": "sans-serif",
          "size": 15
         },
         "type": "-",
         "visible": true,
         "zeroline": false,
         "zerolinecolor": "rgba(0, 0, 0, 1.000)"
        }
       }
      },
      "text/html": [
       "    <div id=\"9a21862e-11c3-493d-9e9f-b1d87ac08a06\" style=\"width:800px;height:400px;\"></div>\n",
       "    <script>\n",
       "    PLOT = document.getElementById('9a21862e-11c3-493d-9e9f-b1d87ac08a06');\n",
       "    Plotly.plot(PLOT, [{\"xaxis\":\"x1\",\"colorbar\":{\"title\":\"\"},\"yaxis\":\"y1\",\"text\":[null,null,null,null,null,null,null,null,null,null,null,null,null,null,null,null,null,null,null,null,null,null,null,null,null,null,null,null,null,null,null,null,null,null,null,null,null,null,null,null,null,null,null,null,null,null,null,null,null,null,null,null,null,null,null,null,null,null,null,null,null,null,null,null,null,null,null,null,null,null,null,null,null,null,null,null,null,null,null,null,null,null,null,null,null,null,null,null,null,null,null,null,null,null,null,null,null,null,null,null],\"x\":[1,2,3,4,5,6,7,8,9,10,11,12,13,14,15,16,17,18,19,20,21,22,23,24,25,26,27,28,29,30,31,32,33,34,35,36,37,38,39,40,41,42,43,44,45,46,47,48,49,50,51,52,53,54,55,56,57,58,59,60,61,62,63,64,65,66,67,68,69,70,71,72,73,74,75,76,77,78,79,80,81,82,83,84,85,86,87,88,89,90,91,92,93,94,95,96,97,98,99,100],\"showlegend\":true,\"mode\":\"markers\",\"name\":\"Metoda LU\",\"zmin\":-0.1,\"legendgroup\":\"Metoda LU\",\"marker\":{\"symbol\":\"circle\",\"color\":\"rgba(0, 154, 250, 1.000)\",\"line\":{\"color\":\"rgba(0, 0, 0, 1.000)\",\"width\":1},\"size\":8},\"zmax\":0.1,\"y\":[1.2876366639602566e-12,8.544276397515205e-12,5.990918872100792e-11,5.4218851630594145e-12,4.636069306229729e-12,7.013745140227456e-11,1.7073098490527627e-10,1.1721734693992403e-12,9.772183062750628e-13,1.7428281040565707e-12,1.7892354264859023e-12,3.843103613121457e-11,1.4073187060148484e-12,1.3591350267461166e-12,1.6440182548649318e-12,2.496891582381977e-12,6.335154623116068e-12,7.175815497362237e-12,1.532285409666656e-11,1.9101364934215326e-10,1.2536638394067268e-12,2.7329249974172853e-12,4.182654222972815e-12,9.974243653232406e-13,6.6069372195443066e-12,1.0629053193156324e-11,1.7277290709216686e-12,7.1804784340656624e-12,1.5694112676101213e-12,2.360778239562933e-12,2.696287637604655e-12,7.488720754622591e-11,3.346434240825147e-12,6.978639888188809e-12,2.6270097208680454e-12,1.5943690812036948e-11,1.909139513145419e-12,2.987521341424326e-11,3.731015496555301e-12,1.396660564978447e-12,1.1012302181256928e-11,4.1588954502458364e-13,4.312106227644108e-13,6.983302824892235e-13,2.934386067465766e-11,4.653388785413881e-12,2.161826273550105e-12,8.5131901528257e-13,8.888445535149003e-12,1.06332720406499e-11,4.4932946252629336e-12,5.0536019813307576e-11,1.4531931213923599e-11,1.957811690544986e-11,2.1187940291156337e-11,1.0806910921701274e-12,3.646638546683789e-12,1.414446337832942e-11,2.1297852370594228e-11,4.312106227644108e-13,4.588551760775772e-12,2.194222581408667e-11,8.243183913236862e-12,2.567723811353062e-12,4.0176750815135165e-12,1.588285059028749e-12,3.907185686102821e-11,5.875322450776821e-11,6.29383212213952e-11,1.1867840044033073e-11,7.041034422172743e-13,4.881650639276813e-12,2.242428465137891e-12,2.0117241206207837e-12,6.508349414957593e-12,8.287837083287286e-11,1.2070344723724702e-12,1.1739498262386405e-12,8.006706408991704e-12,1.4230838729645257e-12,2.0028423364237824e-12,1.3420375921668892e-11,7.459166617707069e-11,3.844036200462142e-12,5.901945598907332e-13,9.993339489255959e-12,2.5199842212941803e-12,1.891176104606984e-11,1.1483480832907844e-11,1.37550415502119e-10,4.5561332484567174e-12,1.5268009079250078e-11,1.7577050925865478e-12,2.723377079405509e-12,5.716760398399856e-12,3.4086067302041556e-12,1.0631273639205574e-11,4.359623773098065e-12,3.082267774345837e-11,2.1376234116132764e-12],\"type\":\"scatter\",\"hoverinfo\":\"text\"},{\"xaxis\":\"x1\",\"colorbar\":{\"title\":\"\"},\"yaxis\":\"y1\",\"text\":[null,null,null,null,null,null,null,null,null,null,null,null,null,null,null,null,null,null,null,null,null,null,null,null,null,null,null,null,null,null,null,null,null,null,null,null,null,null,null,null,null,null,null,null,null,null,null,null,null,null,null,null,null,null,null,null,null,null,null,null,null,null,null,null,null,null,null,null,null,null,null,null,null,null,null,null,null,null,null,null,null,null,null,null,null,null,null,null,null,null,null,null,null,null,null,null,null,null,null,null],\"x\":[1,2,3,4,5,6,7,8,9,10,11,12,13,14,15,16,17,18,19,20,21,22,23,24,25,26,27,28,29,30,31,32,33,34,35,36,37,38,39,40,41,42,43,44,45,46,47,48,49,50,51,52,53,54,55,56,57,58,59,60,61,62,63,64,65,66,67,68,69,70,71,72,73,74,75,76,77,78,79,80,81,82,83,84,85,86,87,88,89,90,91,92,93,94,95,96,97,98,99,100],\"showlegend\":true,\"mode\":\"markers\",\"name\":\"Metoda QR\",\"zmin\":-0.1,\"legendgroup\":\"Metoda QR\",\"marker\":{\"symbol\":\"circle\",\"color\":\"rgba(227, 111, 71, 1.000)\",\"line\":{\"color\":\"rgba(0, 0, 0, 1.000)\",\"width\":1},\"size\":8},\"zmax\":0.1,\"y\":[9.370282327836321e-14,1.7630341631047486e-13,1.4099832412739488e-13,1.8340884366807586e-13,2.2382096176443156e-13,1.6964207816272392e-13,6.463718449367661e-13,9.836575998178887e-14,1.2589929099249275e-13,4.263256414560601e-14,6.705747068735946e-14,1.3420375921668892e-12,1.3855583347321954e-13,4.574118861455645e-14,2.0450308113595383e-13,5.484501741648273e-14,9.08162434143378e-14,1.8673951274195133e-13,7.842615445952106e-13,5.115907697472721e-13,5.306866057708248e-14,6.727951529228449e-14,1.907363156306019e-13,7.349676423018536e-14,1.021405182655144e-13,1.694200335577989e-13,8.926193117986259e-14,1.0080825063596421e-13,6.905587213168474e-14,4.3298697960381105e-14,1.0325074129013956e-13,4.3010039973978564e-13,1.7030821197749901e-13,2.1516122217235534e-13,5.3290705182007514e-14,2.1249668691325496e-13,1.8474111129762605e-13,6.448175327022909e-13,2.0694557179012918e-13,5.440092820663267e-14,2.26929586233382e-13,8.348877145181177e-14,1.0635936575909e-13,1.1124434706744069e-13,2.4558133304708463e-13,1.028066520802895e-13,1.5765166949677223e-13,1.325606291402437e-13,1.092459456231154e-13,1.567634910770721e-13,3.40394379350073e-13,2.007061183917358e-12,1.5498713423767185e-13,9.325873406851315e-14,6.832312493543213e-13,9.126033262418787e-14,5.595524044110789e-14,3.603783937933258e-13,1.028066520802895e-13,1.0502709812953981e-13,1.3744561044859438e-13,1.4344081478157023e-13,1.4366285938649526e-13,1.0191847366058937e-13,7.549516567451064e-14,1.4788170688007085e-13,5.894396082339881e-12,1.842748176272835e-12,1.4832579608992091e-13,6.938893903907228e-13,6.483702463810914e-14,6.505906924303417e-14,1.141309269314661e-13,2.460254222569347e-13,3.348432642269472e-13,2.9976021664879227e-13,6.017408793468348e-14,1.056932319443149e-13,5.806466418789569e-13,8.526512829121202e-14,6.972200594645983e-14,1.0911271886016038e-12,2.5979218776228663e-13,1.9761969838327786e-13,7.993605777301127e-14,6.483702463810914e-13,3.863576125695545e-14,1.1501910535116622e-13,1.5165646516379638e-13,1.3367085216486885e-13,2.347011474057581e-13,1.751931932858497e-13,3.574918139293004e-14,1.5232259897857148e-13,1.3500311979441904e-13,8.08242361927114e-14,8.704148513061227e-14,9.414691248821327e-14,6.52589093874667e-13,7.66053886991358e-14],\"type\":\"scatter\",\"hoverinfo\":\"text\"}], {\"showlegend\":true,\"xaxis\":{\"showticklabels\":true,\"gridwidth\":0.5,\"tickvals\":[0.0,25.0,50.0,75.0,100.0],\"visible\":true,\"ticks\":\"inside\",\"range\":[-1.9699999999999998,102.97],\"domain\":[0.12401848206474192,0.9950787401574803],\"tickmode\":\"array\",\"linecolor\":\"rgba(0, 0, 0, 1.000)\",\"showgrid\":true,\"title\":\"n\",\"mirror\":false,\"tickangle\":0,\"showline\":true,\"gridcolor\":\"rgba(0, 0, 0, 0.100)\",\"titlefont\":{\"color\":\"rgba(0, 0, 0, 1.000)\",\"family\":\"sans-serif\",\"size\":15},\"tickcolor\":\"rgb(0, 0, 0)\",\"ticktext\":[\"0\",\"25\",\"50\",\"75\",\"100\"],\"zeroline\":false,\"type\":\"-\",\"tickfont\":{\"color\":\"rgba(0, 0, 0, 1.000)\",\"family\":\"sans-serif\",\"size\":11},\"zerolinecolor\":\"rgba(0, 0, 0, 1.000)\",\"anchor\":\"y1\"},\"paper_bgcolor\":\"rgba(255, 255, 255, 1.000)\",\"annotations\":[{\"yanchor\":\"top\",\"xanchor\":\"center\",\"rotation\":-0.0,\"y\":1.0,\"font\":{\"color\":\"rgba(0, 0, 0, 1.000)\",\"family\":\"sans-serif\",\"size\":20},\"yref\":\"paper\",\"showarrow\":false,\"text\":\"Dokładność wyznaczania macierzy odwrotnej\",\"xref\":\"paper\",\"x\":0.5595486111111111}],\"height\":400,\"margin\":{\"l\":0,\"b\":20,\"r\":0,\"t\":20},\"plot_bgcolor\":\"rgba(255, 255, 255, 1.000)\",\"yaxis\":{\"showticklabels\":true,\"gridwidth\":0.5,\"tickvals\":[0.0,5.000000000000001e-11,1.0000000000000002e-10,1.5000000000000002e-10],\"visible\":true,\"ticks\":\"inside\",\"range\":[-5.69358782342988e-12,1.9674298634697607e-10],\"domain\":[0.07581474190726165,0.9415463692038496],\"tickmode\":\"array\",\"linecolor\":\"rgba(0, 0, 0, 1.000)\",\"showgrid\":true,\"title\":\"Błąd wyniku\",\"mirror\":false,\"tickangle\":0,\"showline\":true,\"gridcolor\":\"rgba(0, 0, 0, 0.100)\",\"titlefont\":{\"color\":\"rgba(0, 0, 0, 1.000)\",\"family\":\"sans-serif\",\"size\":15},\"tickcolor\":\"rgb(0, 0, 0)\",\"ticktext\":[\"0\",\"5.0×10⁻¹¹\",\"1.0×10⁻¹⁰\",\"1.5×10⁻¹⁰\"],\"zeroline\":false,\"type\":\"-\",\"tickfont\":{\"color\":\"rgba(0, 0, 0, 1.000)\",\"family\":\"sans-serif\",\"size\":11},\"zerolinecolor\":\"rgba(0, 0, 0, 1.000)\",\"anchor\":\"x1\"},\"legend\":{\"tracegroupgap\":0,\"bordercolor\":\"rgba(0, 0, 0, 1.000)\",\"bgcolor\":\"rgba(255, 255, 255, 1.000)\",\"font\":{\"color\":\"rgba(0, 0, 0, 1.000)\",\"family\":\"sans-serif\",\"size\":11},\"y\":1.0,\"x\":1.0},\"width\":800});\n",
       "    </script>\n"
      ]
     },
     "execution_count": 56,
     "metadata": {},
     "output_type": "execute_result"
    }
   ],
   "source": [
    "plot(1:100,err_LU3,seriestype=:scatter,label = \"Metoda LU\", title = \"Dokładność wyznaczania macierzy odwrotnej\",size = (800, 400),xlabel = \"n\",ylabel = \"Błąd wyniku\")\n",
    "plot!(1:100,err_QR3,seriestype=:scatter,label = \"Metoda QR\")"
   ]
  },
  {
   "cell_type": "markdown",
   "metadata": {},
   "source": [
    "# Badanie numeryczenej poprawności obu metod"
   ]
  },
  {
   "cell_type": "code",
   "execution_count": 59,
   "metadata": {},
   "outputs": [],
   "source": [
    "err_2 = zeros(Float64,100)\n",
    "err_3 = zeros(Float64,100)\n",
    "for k = 1:100\n",
    "    B3 = zeros(Float64,25,25)\n",
    "    B3f = zeros(Float64,25,25)\n",
    "    B31 = rand(-50:50,25,25)\n",
    "    for i = 1:25\n",
    "        for j = 1:25\n",
    "            B3[i,j] = B31[i,j]\n",
    "            B3f[i,j] = B31[i,j] + rand()/10000000000000\n",
    "        end\n",
    "    end\n",
    "    err_2[k] = first_norm(QRinv(B3)-QRinv(B3f))\n",
    "    err_3[k] = first_norm(invertible(B3)-invertible(B3f))\n",
    "end"
   ]
  },
  {
   "cell_type": "code",
   "execution_count": 60,
   "metadata": {},
   "outputs": [
    {
     "data": {
      "application/vnd.plotly.v1+json": {
       "data": [
        {
         "colorbar": {
          "title": ""
         },
         "hoverinfo": "text",
         "legendgroup": "y1",
         "marker": {
          "color": "rgba(0, 154, 250, 1.000)",
          "line": {
           "color": "rgba(0, 0, 0, 1.000)",
           "width": 1
          },
          "size": 8,
          "symbol": "circle"
         },
         "mode": "markers",
         "name": "y1",
         "showlegend": true,
         "text": [
          null,
          null,
          null,
          null,
          null,
          null,
          null,
          null,
          null,
          null,
          null,
          null,
          null,
          null,
          null,
          null,
          null,
          null,
          null,
          null,
          null,
          null,
          null,
          null,
          null,
          null,
          null,
          null,
          null,
          null,
          null,
          null,
          null,
          null,
          null,
          null,
          null,
          null,
          null,
          null,
          null,
          null,
          null,
          null,
          null,
          null,
          null,
          null,
          null,
          null,
          null,
          null,
          null,
          null,
          null,
          null,
          null,
          null,
          null,
          null,
          null,
          null,
          null,
          null,
          null,
          null,
          null,
          null,
          null,
          null,
          null,
          null,
          null,
          null,
          null,
          null,
          null,
          null,
          null,
          null,
          null,
          null,
          null,
          null,
          null,
          null,
          null,
          null,
          null,
          null,
          null,
          null,
          null,
          null,
          null,
          null,
          null,
          null,
          null,
          null
         ],
         "type": "scatter",
         "x": [
          1,
          2,
          3,
          4,
          5,
          6,
          7,
          8,
          9,
          10,
          11,
          12,
          13,
          14,
          15,
          16,
          17,
          18,
          19,
          20,
          21,
          22,
          23,
          24,
          25,
          26,
          27,
          28,
          29,
          30,
          31,
          32,
          33,
          34,
          35,
          36,
          37,
          38,
          39,
          40,
          41,
          42,
          43,
          44,
          45,
          46,
          47,
          48,
          49,
          50,
          51,
          52,
          53,
          54,
          55,
          56,
          57,
          58,
          59,
          60,
          61,
          62,
          63,
          64,
          65,
          66,
          67,
          68,
          69,
          70,
          71,
          72,
          73,
          74,
          75,
          76,
          77,
          78,
          79,
          80,
          81,
          82,
          83,
          84,
          85,
          86,
          87,
          88,
          89,
          90,
          91,
          92,
          93,
          94,
          95,
          96,
          97,
          98,
          99,
          100
         ],
         "xaxis": "x1",
         "y": [
          6.0537512502900626e-15,
          7.119305145408816e-15,
          5.1717744670165544e-14,
          1.7764435755740493e-14,
          3.4252115033162056e-15,
          6.233240919945038e-15,
          1.7213661052117857e-14,
          8.375461782450522e-16,
          1.1047161449506682e-12,
          2.8501853654994136e-13,
          3.9654043937353833e-13,
          2.644238994431447e-14,
          1.6414820891430537e-15,
          1.2335028831689243e-12,
          1.2330414467243145e-14,
          2.3604382337616414e-14,
          8.170981252719756e-14,
          6.025995674674434e-15,
          9.088921022054608e-15,
          6.013418929473602e-15,
          1.042950448226776e-13,
          6.178651340560393e-15,
          1.5477202852665073e-14,
          1.9617554108952717e-15,
          3.300506569436923e-14,
          7.745540320236444e-15,
          2.9264785039728736e-14,
          4.194995045780914e-15,
          3.722716579446228e-15,
          4.7340603659407066e-15,
          2.513267371995198e-14,
          4.882249118876025e-14,
          2.67729631867053e-14,
          5.4366233737113134e-15,
          2.6684383869213235e-14,
          6.9284855630513675e-15,
          2.733707357704951e-15,
          2.38373557004401e-13,
          4.206270748374763e-15,
          1.936298343885312e-14,
          4.0896322786587724e-14,
          9.080756979695792e-14,
          3.953326381533895e-15,
          9.712283061125149e-16,
          2.0432874142661817e-15,
          1.9258141088773773e-15,
          7.533904056167273e-15,
          1.3474464599649849e-14,
          6.281216866077521e-15,
          5.204343900278019e-14,
          5.429684479807406e-14,
          5.300447580847134e-15,
          6.200769064879097e-15,
          1.3601359621917553e-13,
          3.889510241661398e-14,
          4.881620281615984e-15,
          8.810768954703452e-15,
          5.88418203051333e-15,
          1.0385789450673144e-12,
          9.157713649898813e-15,
          3.4095989920324143e-15,
          3.736550999167143e-14,
          1.0998146837692957e-15,
          1.8489116487829804e-14,
          5.061923102900323e-15,
          1.7225262015363452e-15,
          2.342895842610826e-14,
          3.0890979878239744e-14,
          1.2299189444675562e-14,
          6.607778560430155e-15,
          1.698294282981294e-14,
          5.5357194522764885e-15,
          2.3296739971173652e-14,
          2.4407125626124682e-14,
          5.909986042218485e-15,
          3.915704566148648e-15,
          7.383677003147682e-13,
          5.733564664711643e-14,
          1.6450816403557056e-14,
          3.709841678647963e-15,
          5.197665214895508e-15,
          9.240871956528451e-15,
          2.2567885060720272e-14,
          2.6020852139652106e-15,
          2.7330568364014596e-14,
          1.9783220200908502e-14,
          7.342325532289085e-15,
          2.3239223045923296e-14,
          2.5902023581547695e-14,
          1.0371044301127341e-14,
          2.1167095853869e-14,
          1.6231807564714984e-14,
          4.2327903335137584e-14,
          3.3063829452117943e-15,
          8.600325313024015e-15,
          8.455042221910958e-15,
          3.9946344843055925e-15,
          1.1235587113467282e-15,
          1.068155980332719e-15,
          6.3586289011929864e-15
         ],
         "yaxis": "y1",
         "zmax": 0.1,
         "zmin": -0.1
        }
       ],
       "layout": {
        "annotations": [
         {
          "font": {
           "color": "rgba(0, 0, 0, 1.000)",
           "family": "sans-serif",
           "size": 20
          },
          "rotation": 0,
          "showarrow": false,
          "text": "Poprawność numeryczna metody QR",
          "x": 0.5484375,
          "xanchor": "center",
          "xref": "paper",
          "y": 1,
          "yanchor": "top",
          "yref": "paper"
         }
        ],
        "height": 400,
        "legend": {
         "bgcolor": "rgba(255, 255, 255, 1.000)",
         "bordercolor": "rgba(0, 0, 0, 1.000)",
         "font": {
          "color": "rgba(0, 0, 0, 1.000)",
          "family": "sans-serif",
          "size": 11
         },
         "tracegroupgap": 0,
         "x": 1,
         "y": 1
        },
        "margin": {
         "b": 20,
         "l": 0,
         "r": 0,
         "t": 20
        },
        "paper_bgcolor": "rgba(255, 255, 255, 1.000)",
        "plot_bgcolor": "rgba(255, 255, 255, 1.000)",
        "showlegend": true,
        "width": 800,
        "xaxis": {
         "anchor": "y1",
         "domain": [
          0.10179625984251968,
          0.9950787401574803
         ],
         "gridcolor": "rgba(0, 0, 0, 0.100)",
         "gridwidth": 0.5,
         "linecolor": "rgba(0, 0, 0, 1.000)",
         "mirror": false,
         "range": [
          -1.9699999999999998,
          102.97
         ],
         "showgrid": true,
         "showline": true,
         "showticklabels": true,
         "tickangle": 0,
         "tickcolor": "rgb(0, 0, 0)",
         "tickfont": {
          "color": "rgba(0, 0, 0, 1.000)",
          "family": "sans-serif",
          "size": 11
         },
         "tickmode": "array",
         "ticks": "inside",
         "ticktext": [
          "0",
          "25",
          "50",
          "75",
          "100"
         ],
         "tickvals": [
          0,
          25,
          50,
          75,
          100
         ],
         "title": "n",
         "titlefont": {
          "color": "rgba(0, 0, 0, 1.000)",
          "family": "sans-serif",
          "size": 15
         },
         "type": "-",
         "visible": true,
         "zeroline": false,
         "zerolinecolor": "rgba(0, 0, 0, 1.000)"
        },
        "yaxis": {
         "anchor": "x1",
         "domain": [
          0.07581474190726165,
          0.9415463692038496
         ],
         "gridcolor": "rgba(0, 0, 0, 0.100)",
         "gridwidth": 0.5,
         "linecolor": "rgba(0, 0, 0, 1.000)",
         "mirror": false,
         "range": [
          0,
          5.000000000000004e-13
         ],
         "showgrid": true,
         "showline": true,
         "showticklabels": true,
         "tickangle": 0,
         "tickcolor": "rgb(0, 0, 0)",
         "tickfont": {
          "color": "rgba(0, 0, 0, 1.000)",
          "family": "sans-serif",
          "size": 11
         },
         "tickmode": "array",
         "ticks": "inside",
         "ticktext": [
          "0",
          "1×10⁻¹³",
          "2×10⁻¹³",
          "3×10⁻¹³",
          "4×10⁻¹³",
          "5×10⁻¹³"
         ],
         "tickvals": [
          0,
          1e-13,
          2e-13,
          3.0000000000000003e-13,
          4e-13,
          5e-13
         ],
         "title": "Błąd wyniku",
         "titlefont": {
          "color": "rgba(0, 0, 0, 1.000)",
          "family": "sans-serif",
          "size": 15
         },
         "type": "-",
         "visible": true,
         "zeroline": false,
         "zerolinecolor": "rgba(0, 0, 0, 1.000)"
        }
       }
      },
      "text/html": [
       "    <div id=\"3868466e-1a7a-4561-880c-51ba078d1755\" style=\"width:800px;height:400px;\"></div>\n",
       "    <script>\n",
       "    PLOT = document.getElementById('3868466e-1a7a-4561-880c-51ba078d1755');\n",
       "    Plotly.plot(PLOT, [{\"xaxis\":\"x1\",\"colorbar\":{\"title\":\"\"},\"yaxis\":\"y1\",\"text\":[null,null,null,null,null,null,null,null,null,null,null,null,null,null,null,null,null,null,null,null,null,null,null,null,null,null,null,null,null,null,null,null,null,null,null,null,null,null,null,null,null,null,null,null,null,null,null,null,null,null,null,null,null,null,null,null,null,null,null,null,null,null,null,null,null,null,null,null,null,null,null,null,null,null,null,null,null,null,null,null,null,null,null,null,null,null,null,null,null,null,null,null,null,null,null,null,null,null,null,null],\"x\":[1,2,3,4,5,6,7,8,9,10,11,12,13,14,15,16,17,18,19,20,21,22,23,24,25,26,27,28,29,30,31,32,33,34,35,36,37,38,39,40,41,42,43,44,45,46,47,48,49,50,51,52,53,54,55,56,57,58,59,60,61,62,63,64,65,66,67,68,69,70,71,72,73,74,75,76,77,78,79,80,81,82,83,84,85,86,87,88,89,90,91,92,93,94,95,96,97,98,99,100],\"showlegend\":true,\"mode\":\"markers\",\"name\":\"y1\",\"zmin\":-0.1,\"legendgroup\":\"y1\",\"marker\":{\"symbol\":\"circle\",\"color\":\"rgba(0, 154, 250, 1.000)\",\"line\":{\"color\":\"rgba(0, 0, 0, 1.000)\",\"width\":1},\"size\":8},\"zmax\":0.1,\"y\":[6.0537512502900626e-15,7.119305145408816e-15,5.1717744670165544e-14,1.7764435755740493e-14,3.4252115033162056e-15,6.233240919945038e-15,1.7213661052117857e-14,8.375461782450522e-16,1.1047161449506682e-12,2.8501853654994136e-13,3.9654043937353833e-13,2.644238994431447e-14,1.6414820891430537e-15,1.2335028831689243e-12,1.2330414467243145e-14,2.3604382337616414e-14,8.170981252719756e-14,6.025995674674434e-15,9.088921022054608e-15,6.013418929473602e-15,1.042950448226776e-13,6.178651340560393e-15,1.5477202852665073e-14,1.9617554108952717e-15,3.300506569436923e-14,7.745540320236444e-15,2.9264785039728736e-14,4.194995045780914e-15,3.722716579446228e-15,4.7340603659407066e-15,2.513267371995198e-14,4.882249118876025e-14,2.67729631867053e-14,5.4366233737113134e-15,2.6684383869213235e-14,6.9284855630513675e-15,2.733707357704951e-15,2.38373557004401e-13,4.206270748374763e-15,1.936298343885312e-14,4.0896322786587724e-14,9.080756979695792e-14,3.953326381533895e-15,9.712283061125149e-16,2.0432874142661817e-15,1.9258141088773773e-15,7.533904056167273e-15,1.3474464599649849e-14,6.281216866077521e-15,5.204343900278019e-14,5.429684479807406e-14,5.300447580847134e-15,6.200769064879097e-15,1.3601359621917553e-13,3.889510241661398e-14,4.881620281615984e-15,8.810768954703452e-15,5.88418203051333e-15,1.0385789450673144e-12,9.157713649898813e-15,3.4095989920324143e-15,3.736550999167143e-14,1.0998146837692957e-15,1.8489116487829804e-14,5.061923102900323e-15,1.7225262015363452e-15,2.342895842610826e-14,3.0890979878239744e-14,1.2299189444675562e-14,6.607778560430155e-15,1.698294282981294e-14,5.5357194522764885e-15,2.3296739971173652e-14,2.4407125626124682e-14,5.909986042218485e-15,3.915704566148648e-15,7.383677003147682e-13,5.733564664711643e-14,1.6450816403557056e-14,3.709841678647963e-15,5.197665214895508e-15,9.240871956528451e-15,2.2567885060720272e-14,2.6020852139652106e-15,2.7330568364014596e-14,1.9783220200908502e-14,7.342325532289085e-15,2.3239223045923296e-14,2.5902023581547695e-14,1.0371044301127341e-14,2.1167095853869e-14,1.6231807564714984e-14,4.2327903335137584e-14,3.3063829452117943e-15,8.600325313024015e-15,8.455042221910958e-15,3.9946344843055925e-15,1.1235587113467282e-15,1.068155980332719e-15,6.3586289011929864e-15],\"type\":\"scatter\",\"hoverinfo\":\"text\"}], {\"showlegend\":true,\"xaxis\":{\"showticklabels\":true,\"gridwidth\":0.5,\"tickvals\":[0.0,25.0,50.0,75.0,100.0],\"visible\":true,\"ticks\":\"inside\",\"range\":[-1.9699999999999998,102.97],\"domain\":[0.10179625984251968,0.9950787401574803],\"tickmode\":\"array\",\"linecolor\":\"rgba(0, 0, 0, 1.000)\",\"showgrid\":true,\"title\":\"n\",\"mirror\":false,\"tickangle\":0,\"showline\":true,\"gridcolor\":\"rgba(0, 0, 0, 0.100)\",\"titlefont\":{\"color\":\"rgba(0, 0, 0, 1.000)\",\"family\":\"sans-serif\",\"size\":15},\"tickcolor\":\"rgb(0, 0, 0)\",\"ticktext\":[\"0\",\"25\",\"50\",\"75\",\"100\"],\"zeroline\":false,\"type\":\"-\",\"tickfont\":{\"color\":\"rgba(0, 0, 0, 1.000)\",\"family\":\"sans-serif\",\"size\":11},\"zerolinecolor\":\"rgba(0, 0, 0, 1.000)\",\"anchor\":\"y1\"},\"paper_bgcolor\":\"rgba(255, 255, 255, 1.000)\",\"annotations\":[{\"yanchor\":\"top\",\"xanchor\":\"center\",\"rotation\":-0.0,\"y\":1.0,\"font\":{\"color\":\"rgba(0, 0, 0, 1.000)\",\"family\":\"sans-serif\",\"size\":20},\"yref\":\"paper\",\"showarrow\":false,\"text\":\"Poprawność numeryczna metody QR\",\"xref\":\"paper\",\"x\":0.5484375}],\"height\":400,\"margin\":{\"l\":0,\"b\":20,\"r\":0,\"t\":20},\"plot_bgcolor\":\"rgba(255, 255, 255, 1.000)\",\"yaxis\":{\"showticklabels\":true,\"gridwidth\":0.5,\"tickvals\":[0.0,1.0e-13,2.0e-13,3.0000000000000003e-13,4.0e-13,5.0e-13],\"visible\":true,\"ticks\":\"inside\",\"range\":[0.0,5.000000000000004e-13],\"domain\":[0.07581474190726165,0.9415463692038496],\"tickmode\":\"array\",\"linecolor\":\"rgba(0, 0, 0, 1.000)\",\"showgrid\":true,\"title\":\"Błąd wyniku\",\"mirror\":false,\"tickangle\":0,\"showline\":true,\"gridcolor\":\"rgba(0, 0, 0, 0.100)\",\"titlefont\":{\"color\":\"rgba(0, 0, 0, 1.000)\",\"family\":\"sans-serif\",\"size\":15},\"tickcolor\":\"rgb(0, 0, 0)\",\"ticktext\":[\"0\",\"1×10⁻¹³\",\"2×10⁻¹³\",\"3×10⁻¹³\",\"4×10⁻¹³\",\"5×10⁻¹³\"],\"zeroline\":false,\"type\":\"-\",\"tickfont\":{\"color\":\"rgba(0, 0, 0, 1.000)\",\"family\":\"sans-serif\",\"size\":11},\"zerolinecolor\":\"rgba(0, 0, 0, 1.000)\",\"anchor\":\"x1\"},\"legend\":{\"tracegroupgap\":0,\"bordercolor\":\"rgba(0, 0, 0, 1.000)\",\"bgcolor\":\"rgba(255, 255, 255, 1.000)\",\"font\":{\"color\":\"rgba(0, 0, 0, 1.000)\",\"family\":\"sans-serif\",\"size\":11},\"y\":1.0,\"x\":1.0},\"width\":800});\n",
       "    </script>\n"
      ]
     },
     "execution_count": 60,
     "metadata": {},
     "output_type": "execute_result"
    }
   ],
   "source": [
    "plot(1:100,err_2,ylim = (0,5*10^-13),seriestype=:scatter, title = \"Poprawność numeryczna metody QR\",size = (800, 400),xlabel = \"n\",ylabel = \"Błąd wyniku\")\n"
   ]
  },
  {
   "cell_type": "code",
   "execution_count": 61,
   "metadata": {},
   "outputs": [
    {
     "data": {
      "application/vnd.plotly.v1+json": {
       "data": [
        {
         "colorbar": {
          "title": ""
         },
         "hoverinfo": "text",
         "legendgroup": "y1",
         "marker": {
          "color": "rgba(0, 154, 250, 1.000)",
          "line": {
           "color": "rgba(0, 0, 0, 1.000)",
           "width": 1
          },
          "size": 8,
          "symbol": "circle"
         },
         "mode": "markers",
         "name": "y1",
         "showlegend": true,
         "text": [
          null,
          null,
          null,
          null,
          null,
          null,
          null,
          null,
          null,
          null,
          null,
          null,
          null,
          null,
          null,
          null,
          null,
          null,
          null,
          null,
          null,
          null,
          null,
          null,
          null,
          null,
          null,
          null,
          null,
          null,
          null,
          null,
          null,
          null,
          null,
          null,
          null,
          null,
          null,
          null,
          null,
          null,
          null,
          null,
          null,
          null,
          null,
          null,
          null,
          null,
          null,
          null,
          null,
          null,
          null,
          null,
          null,
          null,
          null,
          null,
          null,
          null,
          null,
          null,
          null,
          null,
          null,
          null,
          null,
          null,
          null,
          null,
          null,
          null,
          null,
          null,
          null,
          null,
          null,
          null,
          null,
          null,
          null,
          null,
          null,
          null,
          null,
          null,
          null,
          null,
          null,
          null,
          null,
          null,
          null,
          null,
          null,
          null,
          null,
          null
         ],
         "type": "scatter",
         "x": [
          1,
          2,
          3,
          4,
          5,
          6,
          7,
          8,
          9,
          10,
          11,
          12,
          13,
          14,
          15,
          16,
          17,
          18,
          19,
          20,
          21,
          22,
          23,
          24,
          25,
          26,
          27,
          28,
          29,
          30,
          31,
          32,
          33,
          34,
          35,
          36,
          37,
          38,
          39,
          40,
          41,
          42,
          43,
          44,
          45,
          46,
          47,
          48,
          49,
          50,
          51,
          52,
          53,
          54,
          55,
          56,
          57,
          58,
          59,
          60,
          61,
          62,
          63,
          64,
          65,
          66,
          67,
          68,
          69,
          70,
          71,
          72,
          73,
          74,
          75,
          76,
          77,
          78,
          79,
          80,
          81,
          82,
          83,
          84,
          85,
          86,
          87,
          88,
          89,
          90,
          91,
          92,
          93,
          94,
          95,
          96,
          97,
          98,
          99,
          100
         ],
         "xaxis": "x1",
         "y": [
          2.6490094839903833e-14,
          1.667481257239256e-14,
          5.094271142078166e-12,
          3.753215186558245e-14,
          8.365703962898152e-15,
          8.568720819696063e-15,
          1.7682036390631595e-13,
          1.3013305981846718e-15,
          1.499428185780527e-12,
          1.0031281361122524e-11,
          1.1237512656525617e-12,
          4.647503085500326e-13,
          8.446477024748322e-15,
          1.7273613095447615e-12,
          1.2231426808895218e-14,
          1.1320919245452754e-13,
          2.1775376640720268e-13,
          1.9426056900237465e-14,
          3.676659671159044e-14,
          1.864199495726221e-12,
          6.69117539153774e-14,
          9.384161132083672e-14,
          1.2775371038831196e-14,
          1.849323645608525e-15,
          2.746717783774777e-14,
          4.402294501160142e-15,
          1.0345196921335287e-13,
          6.492431307738959e-15,
          7.483380234929449e-15,
          6.105630324243494e-15,
          8.690010516732016e-14,
          4.961193944812842e-14,
          3.404091244996188e-14,
          1.1464787452730718e-14,
          1.3123183095764546e-14,
          7.982302969652966e-15,
          3.4592554515322504e-15,
          4.801272227017428e-13,
          3.8249134762247117e-14,
          1.720075904626528e-14,
          2.031032677110578e-13,
          2.384845793068635e-13,
          1.4387254408665395e-14,
          3.3894870417328082e-15,
          7.012999122396613e-14,
          1.5025036336629993e-14,
          4.753771161436493e-14,
          2.8129408524701915e-14,
          1.2230708524955947e-14,
          2.801387594120186e-13,
          2.6166785752068655e-13,
          6.651187304911044e-15,
          5.400330383613719e-13,
          7.983828875790522e-12,
          2.3423233838637536e-13,
          1.458701865894585e-14,
          1.2994813558542262e-14,
          9.942285709996224e-14,
          1.1170925295900247e-12,
          3.501043313765273e-14,
          1.927131414516947e-14,
          1.6505416824963426e-13,
          7.807768103926249e-14,
          4.924901632341605e-14,
          5.97768362586848e-14,
          1.241975272625595e-14,
          4.831448826084217e-14,
          1.2496297399633427e-13,
          3.3654928345040747e-13,
          1.0951471934167456e-14,
          1.0596016251918083e-14,
          1.473471020354113e-13,
          3.034429126155466e-14,
          4.2169132768998807e-13,
          1.7309287683731078e-14,
          8.380435559916799e-15,
          1.4354583494080586e-11,
          3.376496131302087e-13,
          3.9426469901349126e-14,
          1.1772470476754948e-13,
          1.5828077780735694e-14,
          9.093745721722168e-15,
          8.272072263282304e-14,
          6.163106591912382e-15,
          3.0205428002555434e-12,
          1.3015370031732587e-13,
          2.92008442166064e-14,
          7.351541250755211e-14,
          3.840582366021472e-13,
          4.9137343499650044e-14,
          3.536719528351995e-13,
          2.1373874892205436e-13,
          5.352435075017814e-14,
          3.828317871046316e-15,
          8.68901305073333e-15,
          9.624571105371071e-15,
          8.841251298782882e-14,
          1.1109250455318409e-14,
          4.063913309061522e-15,
          3.8824520855185174e-14
         ],
         "yaxis": "y1",
         "zmax": 0.1,
         "zmin": -0.1
        }
       ],
       "layout": {
        "annotations": [
         {
          "font": {
           "color": "rgba(0, 0, 0, 1.000)",
           "family": "sans-serif",
           "size": 20
          },
          "rotation": 0,
          "showarrow": false,
          "text": "Poprawność numeryczna metody LU",
          "x": 0.5595486111111111,
          "xanchor": "center",
          "xref": "paper",
          "y": 1,
          "yanchor": "top",
          "yref": "paper"
         }
        ],
        "height": 400,
        "legend": {
         "bgcolor": "rgba(255, 255, 255, 1.000)",
         "bordercolor": "rgba(0, 0, 0, 1.000)",
         "font": {
          "color": "rgba(0, 0, 0, 1.000)",
          "family": "sans-serif",
          "size": 11
         },
         "tracegroupgap": 0,
         "x": 1,
         "y": 1
        },
        "margin": {
         "b": 20,
         "l": 0,
         "r": 0,
         "t": 20
        },
        "paper_bgcolor": "rgba(255, 255, 255, 1.000)",
        "plot_bgcolor": "rgba(255, 255, 255, 1.000)",
        "showlegend": true,
        "width": 800,
        "xaxis": {
         "anchor": "y1",
         "domain": [
          0.12401848206474192,
          0.9950787401574803
         ],
         "gridcolor": "rgba(0, 0, 0, 0.100)",
         "gridwidth": 0.5,
         "linecolor": "rgba(0, 0, 0, 1.000)",
         "mirror": false,
         "range": [
          -1.9699999999999998,
          102.97
         ],
         "showgrid": true,
         "showline": true,
         "showticklabels": true,
         "tickangle": 0,
         "tickcolor": "rgb(0, 0, 0)",
         "tickfont": {
          "color": "rgba(0, 0, 0, 1.000)",
          "family": "sans-serif",
          "size": 11
         },
         "tickmode": "array",
         "ticks": "inside",
         "ticktext": [
          "0",
          "25",
          "50",
          "75",
          "100"
         ],
         "tickvals": [
          0,
          25,
          50,
          75,
          100
         ],
         "title": "n",
         "titlefont": {
          "color": "rgba(0, 0, 0, 1.000)",
          "family": "sans-serif",
          "size": 15
         },
         "type": "-",
         "visible": true,
         "zeroline": false,
         "zerolinecolor": "rgba(0, 0, 0, 1.000)"
        },
        "yaxis": {
         "anchor": "x1",
         "domain": [
          0.07581474190726165,
          0.9415463692038496
         ],
         "gridcolor": "rgba(0, 0, 0, 0.100)",
         "gridwidth": 0.5,
         "linecolor": "rgba(0, 0, 0, 1.000)",
         "mirror": false,
         "range": [
          -4.2929713430628737e-13,
          1.478518195898506e-11
         ],
         "showgrid": true,
         "showline": true,
         "showticklabels": true,
         "tickangle": 0,
         "tickcolor": "rgb(0, 0, 0)",
         "tickfont": {
          "color": "rgba(0, 0, 0, 1.000)",
          "family": "sans-serif",
          "size": 11
         },
         "tickmode": "array",
         "ticks": "inside",
         "ticktext": [
          "0",
          "3.0×10⁻¹²",
          "6.0×10⁻¹²",
          "9.0×10⁻¹²",
          "1.2×10⁻¹¹"
         ],
         "tickvals": [
          0,
          3e-12,
          6e-12,
          9.000000000000001e-12,
          1.2e-11
         ],
         "title": "Błąd wyniku",
         "titlefont": {
          "color": "rgba(0, 0, 0, 1.000)",
          "family": "sans-serif",
          "size": 15
         },
         "type": "-",
         "visible": true,
         "zeroline": false,
         "zerolinecolor": "rgba(0, 0, 0, 1.000)"
        }
       }
      },
      "text/html": [
       "    <div id=\"e2db812a-af88-44ea-b7df-ee27d3960298\" style=\"width:800px;height:400px;\"></div>\n",
       "    <script>\n",
       "    PLOT = document.getElementById('e2db812a-af88-44ea-b7df-ee27d3960298');\n",
       "    Plotly.plot(PLOT, [{\"xaxis\":\"x1\",\"colorbar\":{\"title\":\"\"},\"yaxis\":\"y1\",\"text\":[null,null,null,null,null,null,null,null,null,null,null,null,null,null,null,null,null,null,null,null,null,null,null,null,null,null,null,null,null,null,null,null,null,null,null,null,null,null,null,null,null,null,null,null,null,null,null,null,null,null,null,null,null,null,null,null,null,null,null,null,null,null,null,null,null,null,null,null,null,null,null,null,null,null,null,null,null,null,null,null,null,null,null,null,null,null,null,null,null,null,null,null,null,null,null,null,null,null,null,null],\"x\":[1,2,3,4,5,6,7,8,9,10,11,12,13,14,15,16,17,18,19,20,21,22,23,24,25,26,27,28,29,30,31,32,33,34,35,36,37,38,39,40,41,42,43,44,45,46,47,48,49,50,51,52,53,54,55,56,57,58,59,60,61,62,63,64,65,66,67,68,69,70,71,72,73,74,75,76,77,78,79,80,81,82,83,84,85,86,87,88,89,90,91,92,93,94,95,96,97,98,99,100],\"showlegend\":true,\"mode\":\"markers\",\"name\":\"y1\",\"zmin\":-0.1,\"legendgroup\":\"y1\",\"marker\":{\"symbol\":\"circle\",\"color\":\"rgba(0, 154, 250, 1.000)\",\"line\":{\"color\":\"rgba(0, 0, 0, 1.000)\",\"width\":1},\"size\":8},\"zmax\":0.1,\"y\":[2.6490094839903833e-14,1.667481257239256e-14,5.094271142078166e-12,3.753215186558245e-14,8.365703962898152e-15,8.568720819696063e-15,1.7682036390631595e-13,1.3013305981846718e-15,1.499428185780527e-12,1.0031281361122524e-11,1.1237512656525617e-12,4.647503085500326e-13,8.446477024748322e-15,1.7273613095447615e-12,1.2231426808895218e-14,1.1320919245452754e-13,2.1775376640720268e-13,1.9426056900237465e-14,3.676659671159044e-14,1.864199495726221e-12,6.69117539153774e-14,9.384161132083672e-14,1.2775371038831196e-14,1.849323645608525e-15,2.746717783774777e-14,4.402294501160142e-15,1.0345196921335287e-13,6.492431307738959e-15,7.483380234929449e-15,6.105630324243494e-15,8.690010516732016e-14,4.961193944812842e-14,3.404091244996188e-14,1.1464787452730718e-14,1.3123183095764546e-14,7.982302969652966e-15,3.4592554515322504e-15,4.801272227017428e-13,3.8249134762247117e-14,1.720075904626528e-14,2.031032677110578e-13,2.384845793068635e-13,1.4387254408665395e-14,3.3894870417328082e-15,7.012999122396613e-14,1.5025036336629993e-14,4.753771161436493e-14,2.8129408524701915e-14,1.2230708524955947e-14,2.801387594120186e-13,2.6166785752068655e-13,6.651187304911044e-15,5.400330383613719e-13,7.983828875790522e-12,2.3423233838637536e-13,1.458701865894585e-14,1.2994813558542262e-14,9.942285709996224e-14,1.1170925295900247e-12,3.501043313765273e-14,1.927131414516947e-14,1.6505416824963426e-13,7.807768103926249e-14,4.924901632341605e-14,5.97768362586848e-14,1.241975272625595e-14,4.831448826084217e-14,1.2496297399633427e-13,3.3654928345040747e-13,1.0951471934167456e-14,1.0596016251918083e-14,1.473471020354113e-13,3.034429126155466e-14,4.2169132768998807e-13,1.7309287683731078e-14,8.380435559916799e-15,1.4354583494080586e-11,3.376496131302087e-13,3.9426469901349126e-14,1.1772470476754948e-13,1.5828077780735694e-14,9.093745721722168e-15,8.272072263282304e-14,6.163106591912382e-15,3.0205428002555434e-12,1.3015370031732587e-13,2.92008442166064e-14,7.351541250755211e-14,3.840582366021472e-13,4.9137343499650044e-14,3.536719528351995e-13,2.1373874892205436e-13,5.352435075017814e-14,3.828317871046316e-15,8.68901305073333e-15,9.624571105371071e-15,8.841251298782882e-14,1.1109250455318409e-14,4.063913309061522e-15,3.8824520855185174e-14],\"type\":\"scatter\",\"hoverinfo\":\"text\"}], {\"showlegend\":true,\"xaxis\":{\"showticklabels\":true,\"gridwidth\":0.5,\"tickvals\":[0.0,25.0,50.0,75.0,100.0],\"visible\":true,\"ticks\":\"inside\",\"range\":[-1.9699999999999998,102.97],\"domain\":[0.12401848206474192,0.9950787401574803],\"tickmode\":\"array\",\"linecolor\":\"rgba(0, 0, 0, 1.000)\",\"showgrid\":true,\"title\":\"n\",\"mirror\":false,\"tickangle\":0,\"showline\":true,\"gridcolor\":\"rgba(0, 0, 0, 0.100)\",\"titlefont\":{\"color\":\"rgba(0, 0, 0, 1.000)\",\"family\":\"sans-serif\",\"size\":15},\"tickcolor\":\"rgb(0, 0, 0)\",\"ticktext\":[\"0\",\"25\",\"50\",\"75\",\"100\"],\"zeroline\":false,\"type\":\"-\",\"tickfont\":{\"color\":\"rgba(0, 0, 0, 1.000)\",\"family\":\"sans-serif\",\"size\":11},\"zerolinecolor\":\"rgba(0, 0, 0, 1.000)\",\"anchor\":\"y1\"},\"paper_bgcolor\":\"rgba(255, 255, 255, 1.000)\",\"annotations\":[{\"yanchor\":\"top\",\"xanchor\":\"center\",\"rotation\":-0.0,\"y\":1.0,\"font\":{\"color\":\"rgba(0, 0, 0, 1.000)\",\"family\":\"sans-serif\",\"size\":20},\"yref\":\"paper\",\"showarrow\":false,\"text\":\"Poprawność numeryczna metody LU\",\"xref\":\"paper\",\"x\":0.5595486111111111}],\"height\":400,\"margin\":{\"l\":0,\"b\":20,\"r\":0,\"t\":20},\"plot_bgcolor\":\"rgba(255, 255, 255, 1.000)\",\"yaxis\":{\"showticklabels\":true,\"gridwidth\":0.5,\"tickvals\":[0.0,3.0e-12,6.0e-12,9.000000000000001e-12,1.2e-11],\"visible\":true,\"ticks\":\"inside\",\"range\":[-4.2929713430628737e-13,1.478518195898506e-11],\"domain\":[0.07581474190726165,0.9415463692038496],\"tickmode\":\"array\",\"linecolor\":\"rgba(0, 0, 0, 1.000)\",\"showgrid\":true,\"title\":\"Błąd wyniku\",\"mirror\":false,\"tickangle\":0,\"showline\":true,\"gridcolor\":\"rgba(0, 0, 0, 0.100)\",\"titlefont\":{\"color\":\"rgba(0, 0, 0, 1.000)\",\"family\":\"sans-serif\",\"size\":15},\"tickcolor\":\"rgb(0, 0, 0)\",\"ticktext\":[\"0\",\"3.0×10⁻¹²\",\"6.0×10⁻¹²\",\"9.0×10⁻¹²\",\"1.2×10⁻¹¹\"],\"zeroline\":false,\"type\":\"-\",\"tickfont\":{\"color\":\"rgba(0, 0, 0, 1.000)\",\"family\":\"sans-serif\",\"size\":11},\"zerolinecolor\":\"rgba(0, 0, 0, 1.000)\",\"anchor\":\"x1\"},\"legend\":{\"tracegroupgap\":0,\"bordercolor\":\"rgba(0, 0, 0, 1.000)\",\"bgcolor\":\"rgba(255, 255, 255, 1.000)\",\"font\":{\"color\":\"rgba(0, 0, 0, 1.000)\",\"family\":\"sans-serif\",\"size\":11},\"y\":1.0,\"x\":1.0},\"width\":800});\n",
       "    </script>\n"
      ]
     },
     "execution_count": 61,
     "metadata": {},
     "output_type": "execute_result"
    }
   ],
   "source": [
    "plot(1:100,err_3,seriestype=:scatter, title = \"Poprawność numeryczna metody LU\",size = (800, 400),xlabel = \"n\",ylabel = \"Błąd wyniku\")"
   ]
  }
 ],
 "metadata": {
  "@webio": {
   "lastCommId": "499fc776e28e414388fb13e78693703f",
   "lastKernelId": "e543ea55-4fb0-4486-9da8-3adf12cae46e"
  },
  "kernelspec": {
   "display_name": "Julia 1.0.1",
   "language": "julia",
   "name": "julia-1.0"
  },
  "language_info": {
   "file_extension": ".jl",
   "mimetype": "application/julia",
   "name": "julia",
   "version": "1.0.1"
  }
 },
 "nbformat": 4,
 "nbformat_minor": 2
}
