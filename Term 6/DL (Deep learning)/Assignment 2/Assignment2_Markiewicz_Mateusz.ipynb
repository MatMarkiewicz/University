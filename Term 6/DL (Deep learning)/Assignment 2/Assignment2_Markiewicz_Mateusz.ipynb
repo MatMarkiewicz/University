{
  "nbformat": 4,
  "nbformat_minor": 0,
  "metadata": {
    "colab": {
      "name": "Assignment2_Markiewicz_Mateusz.ipynb",
      "provenance": [],
      "collapsed_sections": [],
      "toc_visible": true
    },
    "kernelspec": {
      "name": "python3",
      "display_name": "Python 3"
    }
  },
  "cells": [
    {
      "cell_type": "markdown",
      "metadata": {
        "id": "CGXgWugfJ0Vl"
      },
      "source": [
        "# Assignment 2\n",
        "\n",
        "**Submission deadline: last lab session before or on Thursday, 26.03.2020**\n",
        "\n",
        "**Points: 6 + 1 bonus points**\n",
        "\n",
        "## Submission instructions\n",
        "The class is held remotely. To sumbmit your solutions please save the notebook to your Google Drive, then:\n",
        "1. Rename it it to: Assignment2_Surname_FirstName\n",
        "2. Rerun the whole notebook `Runtime -> Restar and run all`\n",
        "3. Make a pinned revision `File->Save and pin revision`\n",
        "4. Share the notebook with your instructor using his `cs.uni.wroc.pl` email\n",
        "\n",
        "We will use the commenting system and video conferences to check and discuss the solutions.\n",
        "\n",
        "As always, please submit corrections using GitHub's Pull Requests."
      ]
    },
    {
      "cell_type": "code",
      "metadata": {
        "id": "nfVDe-bMqVT_"
      },
      "source": [
        "%matplotlib inline"
      ],
      "execution_count": null,
      "outputs": []
    },
    {
      "cell_type": "code",
      "metadata": {
        "id": "YiTEWD2oqW0Y"
      },
      "source": [
        "import numpy as np\n",
        "import matplotlib.pyplot as plt"
      ],
      "execution_count": null,
      "outputs": []
    },
    {
      "cell_type": "markdown",
      "metadata": {
        "id": "RZCM_hdELE04"
      },
      "source": [
        "The code below contains a mock-up of a two-layer neural network. Fill in the code and manually set weights to solve the XOR problem.\n",
        "\n",
        "Please note: the shapes are set to be compatible with PyTorch's conventions:\n",
        "* a batch containing $N$ $D$-dimensional examples has shape $N\\times D$ (each example is a row!)\n",
        "* a weight matrix in a linear layer with $I$ inputs and $O$ outputs has shape $O \\times I$\n",
        "* a bias vector is a 1D vector. Please note that [broadcasting rules](https://docs.scipy.org/doc/numpy/user/basics.broadcasting.html) allow us to think about it as a $1 \\times D` matrix."
      ]
    },
    {
      "cell_type": "code",
      "metadata": {
        "id": "lYEbCfbSpv5M",
        "outputId": "4ba45eb6-6f92-4e81-d973-4e0a63828ea2",
        "colab": {
          "base_uri": "https://localhost:8080/",
          "height": 296
        }
      },
      "source": [
        "# Let's define a XOR dataset\n",
        "\n",
        "# X will be matrix of N 2-dimensional inputs\n",
        "X = np.array(\n",
        "    [[0, 0],\n",
        "     [0, 1],\n",
        "     [1, 0],\n",
        "     [1, 1],\n",
        "    ], dtype=np.float32)\n",
        "# Y is a matrix of N numners - answers\n",
        "Y = np.array(\n",
        "    [[0],\n",
        "     [1],\n",
        "     [1],\n",
        "     [0],\n",
        "    ], dtype=np.float32)\n",
        "\n",
        "plt.scatter(X[:,0], X[:,1], c=Y[:,0], )\n",
        "plt.xlabel('X[0]')\n",
        "plt.ylabel('X[1]')"
      ],
      "execution_count": null,
      "outputs": [
        {
          "output_type": "execute_result",
          "data": {
            "text/plain": [
              "Text(0, 0.5, 'X[1]')"
            ]
          },
          "metadata": {
            "tags": []
          },
          "execution_count": 3
        },
        {
          "output_type": "display_data",
          "data": {
            "image/png": "[encoded data removed]",
            "text/plain": [
              "<Figure size 432x288 with 1 Axes>"
            ]
          },
          "metadata": {
            "tags": []
          }
        }
      ]
    },
    {
      "cell_type": "markdown",
      "metadata": {
        "id": "Rb3azMn929_I"
      },
      "source": [
        "# Problem 1 [2p]\n",
        "\n",
        "Fill in the details of a forward pass, then manually set the weights and biases in the network to solve the 2D XOR task defined above."
      ]
    },
    {
      "cell_type": "code",
      "metadata": {
        "id": "2AZeqLf4xRKI"
      },
      "source": [
        "def safe_log(x):\n",
        "    return np.log(x+1e-100)"
      ],
      "execution_count": null,
      "outputs": []
    },
    {
      "cell_type": "code",
      "metadata": {
        "id": "lrrRuk6zLiF0"
      },
      "source": [
        "def sigmoid(x):\n",
        "    return 1/(1+np.e**-x)\n",
        "\n",
        "def relu(x):\n",
        "    return (x > 0) * x \n",
        "\n",
        "class SmallNet:\n",
        "    def __init__(self, in_features, num_hidden, dtype=np.float32, relu = False):\n",
        "        self.W1 = np.zeros((num_hidden, in_features), dtype=dtype)\n",
        "        self.b1 = np.zeros((num_hidden,), dtype=dtype)\n",
        "        self.W2 = np.zeros((1, num_hidden), dtype=dtype)\n",
        "        self.b2 = np.zeros((1,), dtype=dtype)\n",
        "        self.init_params()\n",
        "        self.relu = relu\n",
        "\n",
        "    def init_params(self):\n",
        "        # TODO Problem 2:\n",
        "        # set all parameters to small random values, e.g. from N(0, 0.5)\n",
        "        self.W1 = 0.7*np.random.randn(*self.W1.shape).astype(self.W1.dtype)\n",
        "        self.b1 = 0.7*np.random.randn(*self.b1.shape).astype(self.b1.dtype)\n",
        "        self.W2 = 0.7*np.random.randn(*self.W2.shape).astype(self.W2.dtype)\n",
        "        self.b2 = 0.7*np.random.randn(*self.b2.shape).astype(self.b2.dtype)\n",
        "\n",
        "\n",
        "    def forward(self, X, Y=None, do_backward=False):\n",
        "        # TODO Problem 1: Fill in details of forward propagation\n",
        "\n",
        "        # Input to neurons in 1st layer\n",
        "        A1 = X @ self.W1.T + self.b1\n",
        "        # Outputs after the sigmoid non-linearity\n",
        "        if self.relu:\n",
        "            O1 = relu(A1)\n",
        "        else:\n",
        "            O1 = sigmoid(A1)\n",
        "        # Inputs to neuron in the second layer\n",
        "        A2 = O1 @ self.W2.T + self.b2\n",
        "        # Outputs after the sigmoid non-linearity\n",
        "        O2 = sigmoid(A2)\n",
        "\n",
        "        if Y is not None:\n",
        "            # cross entropy loss\n",
        "            loss = - Y*safe_log(O2) - (1-Y)*safe_log(1-O2)\n",
        "            # normalize loss by batch size\n",
        "            loss = loss.sum() / X.shape[0]\n",
        "        else:\n",
        "            loss = np.nan\n",
        "\n",
        "        if do_backward:\n",
        "            # TODO in Problem 2: fill in the gradient computation\n",
        "            # Please note, thate there is a correspondance between\n",
        "            # the forward and backward pass: with backward computations happening\n",
        "            # in reversed order. \n",
        "\n",
        "            # A2_grad is the gradient of loss with respect to A2\n",
        "            # Hint: there is a concise formula for the gradient \n",
        "            # of logistic sigmoid and cross-entropy loss \n",
        "            batch_size = X.shape[0]\n",
        "            O2_grad = - Y / (O2 + 1e-100) + (1-Y)/(1-O2+1e-100)\n",
        "            A2_grad = O2_grad * sigmoid(A2) * (1- sigmoid(A2)) / batch_size\n",
        "            self.b2_grad = A2_grad.sum(0)\n",
        "            self.W2_grad = A2_grad.T @ O1\n",
        "            O1_grad = A2_grad * self.W2\n",
        "            if self.relu:\n",
        "                A1_grad = O1_grad * ((A1 > 0) * 1.)\n",
        "            else: \n",
        "                A1_grad = O1_grad * sigmoid(A1) * (1- sigmoid(A1))\n",
        "            self.b1_grad = A1_grad.sum(0)\n",
        "            self.W1_grad = A1_grad.T @ X\n",
        "        return O2, loss"
      ],
      "execution_count": null,
      "outputs": []
    },
    {
      "cell_type": "code",
      "metadata": {
        "id": "jJswvBk0oiIY",
        "outputId": "dbe07dee-6353-4cc1-8975-14f240f944a1",
        "colab": {
          "base_uri": "https://localhost:8080/",
          "height": 84
        }
      },
      "source": [
        "# TODO Problem 1:\n",
        "# Set by hand the weight values to solve the XOR problem\n",
        "\n",
        "net = SmallNet(2, 2, dtype=np.float64)\n",
        "net.W1 = np.array([[10.,10.],[10.,10.]])\n",
        "net.b1 = np.array([-5.,-15.])\n",
        "net.W2 = np.array([[10.,-10.]])\n",
        "net.b2 = np.array([-5.])\n",
        "\n",
        "# Hint: since we use the logistic sigmoid activation, the weights may need to \n",
        "# be fairly large \n",
        "\n",
        "\n",
        "net.forward(X, Y, do_backward=False)"
      ],
      "execution_count": null,
      "outputs": [
        {
          "output_type": "execute_result",
          "data": {
            "text/plain": [
              "(array([[0.00715279],\n",
              "        [0.99235586],\n",
              "        [0.99235586],\n",
              "        [0.00715279]]), 0.0074259970019481605)"
            ]
          },
          "metadata": {
            "tags": []
          },
          "execution_count": 6
        }
      ]
    },
    {
      "cell_type": "markdown",
      "metadata": {
        "id": "wmxCi5Vl6_xB"
      },
      "source": [
        "# Problem 2 [2p]\n",
        "\n",
        "1. Fill in the backward pass.\n",
        "2. Implement random initialization of network parameters.\n",
        "3. Using `float64` verify correctness of your backward pass."
      ]
    },
    {
      "cell_type": "code",
      "metadata": {
        "id": "eSM5hgJ1mrhY"
      },
      "source": [
        "def check_grad(net, param_name, X, Y, eps=1e-5):\n",
        "    \"\"\"A gradient checking routine\"\"\"\n",
        "\n",
        "    param = getattr(net, param_name)\n",
        "    param_flat_accessor = param.reshape(-1)\n",
        "\n",
        "    grad = np.empty_like(param)\n",
        "    grad_flat_accessor = grad.reshape(-1)\n",
        "\n",
        "    net.forward(X, Y, do_backward=True)\n",
        "    orig_grad = getattr(net, param_name + '_grad')\n",
        "    assert (param.shape == orig_grad.shape)\n",
        "\n",
        "    for i in range(param_flat_accessor.shape[0]):\n",
        "        orig_val = param_flat_accessor[i]\n",
        "        param_flat_accessor[i] = orig_val + eps\n",
        "        _, loss_positive = net.forward(X, Y)\n",
        "        param_flat_accessor[i] = orig_val - eps\n",
        "        _, loss_negative = net.forward(X, Y)\n",
        "        param_flat_accessor[i] = orig_val\n",
        "        grad_flat_accessor[i] = (\n",
        "            loss_positive - loss_negative) / (2 * eps)\n",
        "    assert np.allclose(grad, orig_grad)\n",
        "    return grad, orig_grad"
      ],
      "execution_count": null,
      "outputs": []
    },
    {
      "cell_type": "code",
      "metadata": {
        "id": "TTZu0jFEvgXF"
      },
      "source": [
        "net = SmallNet(2, 2, dtype=np.float64)\n",
        "\n",
        "for param_name in ['b2', 'W2', 'b1', 'W1']:\n",
        "    check_grad(net, param_name, X, Y)"
      ],
      "execution_count": null,
      "outputs": []
    },
    {
      "cell_type": "markdown",
      "metadata": {
        "id": "8mUOs3cVvjM2"
      },
      "source": [
        "# Problem 3 [2p]\n",
        "\n",
        "Fill in the details of batch gradient descent below, then train a network to solve 2D XOR problem.\n",
        "\n",
        "Then test the reliability of solving the 3D XOR task."
      ]
    },
    {
      "cell_type": "code",
      "metadata": {
        "id": "nn2AAoZo0vjU",
        "outputId": "23668d05-451e-4031-abce-cf75dfc6fd00",
        "colab": {
          "base_uri": "https://localhost:8080/",
          "height": 353
        }
      },
      "source": [
        "net = SmallNet(2, 10, dtype=np.float64)\n",
        "\n",
        "alpha = 1e-1\n",
        "\n",
        "for i in range(100000):\n",
        "    _, loss = net.forward(X, Y, do_backward=True)\n",
        "    if (i % 5000) == 0:\n",
        "        print(i, loss)\n",
        "    for param_name in ['W1', 'b1', 'W2', 'b2']:\n",
        "        param = getattr(net, param_name)\n",
        "        # Hint: use the construct `param[:]` to change the contents of the array!\n",
        "        # Doing instead `param = new_val` simply changes to what the variable\n",
        "        # param points to, without affecting the network!\n",
        "        grad = getattr(net, param_name + '_grad')\n",
        "        param[:] = param - alpha*grad"
      ],
      "execution_count": null,
      "outputs": [
        {
          "output_type": "stream",
          "text": [
            "0 0.8342256490132501\n",
            "5000 0.02250542948111045\n",
            "10000 0.008472332593986704\n",
            "15000 0.00504752827780425\n",
            "20000 0.003544380671431236\n",
            "25000 0.0027096735030427413\n",
            "30000 0.0021821624069879608\n",
            "35000 0.0018201995635821178\n",
            "40000 0.0015572366676195957\n",
            "45000 0.0013580027780514974\n",
            "50000 0.0012021125933069723\n",
            "55000 0.0010769871618859293\n",
            "60000 0.000974455977474877\n",
            "65000 0.0008889880624476422\n",
            "70000 0.0008167096327934218\n",
            "75000 0.0007548290536139583\n",
            "80000 0.0007012851197738451\n",
            "85000 0.000654523795670097\n",
            "90000 0.0006133519128584896\n",
            "95000 0.0005768386138240926\n"
          ],
          "name": "stdout"
        }
      ]
    },
    {
      "cell_type": "code",
      "metadata": {
        "id": "TwpEjpkU1JvK",
        "outputId": "0bd1cfe0-ed6f-4f05-9205-471af78119dd",
        "colab": {
          "base_uri": "https://localhost:8080/",
          "height": 84
        }
      },
      "source": [
        "net.forward(X, Y, do_backward=True)"
      ],
      "execution_count": null,
      "outputs": [
        {
          "output_type": "execute_result",
          "data": {
            "text/plain": [
              "(array([[2.95002322e-04],\n",
              "        [9.99541506e-01],\n",
              "        [9.99344509e-01],\n",
              "        [7.67343731e-04]]), 0.0005442473341863997)"
            ]
          },
          "metadata": {
            "tags": []
          },
          "execution_count": 10
        }
      ]
    },
    {
      "cell_type": "markdown",
      "metadata": {
        "id": "w3NiL0ku2Unr"
      },
      "source": [
        "Generate below data for a 3D XOR task. Try a few values of hidden layer size. Plot the reliability of training, i.e. how many trainings succeed for a given hiden layer size.\n",
        "\n",
        "What is easier to train: a smaller, or large network?"
      ]
    },
    {
      "cell_type": "code",
      "metadata": {
        "id": "IUWs3Dm3dA2K"
      },
      "source": [
        "def train(net, X, Y, iterations, alpha = 1e-1):\n",
        "    for i in range(iterations):\n",
        "        _, loss = net.forward(X, Y, do_backward=True)\n",
        "        for param_name in ['W1', 'b1', 'W2', 'b2']:\n",
        "            param = getattr(net, param_name)\n",
        "            grad = getattr(net, param_name + '_grad')\n",
        "            param[:] = param - alpha*grad\n",
        "    return loss"
      ],
      "execution_count": null,
      "outputs": []
    },
    {
      "cell_type": "code",
      "metadata": {
        "id": "U0ZMyHqz8xrC",
        "outputId": "3dd642b5-1b4b-4c35-a76e-09f9fa43ae2d",
        "colab": {
          "base_uri": "https://localhost:8080/",
          "height": 101
        }
      },
      "source": [
        "# X3 will be matrix of N 3-dimensional inputs\n",
        "X3 = np.array(\n",
        "    [[0, 0, 0],\n",
        "     [0, 0, 1],\n",
        "     [0, 1, 0],\n",
        "     [0, 1, 1],\n",
        "     [1, 0, 0],\n",
        "     [1, 0, 1],\n",
        "     [1, 1, 0],\n",
        "     [1, 1, 1],\n",
        "    ], dtype=np.float32)\n",
        "# Y is a matrix of N numners - answers\n",
        "Y3 = np.array(\n",
        "    [[0],\n",
        "     [1],\n",
        "     [1],\n",
        "     [0],\n",
        "     [1],\n",
        "     [0],\n",
        "     [0],\n",
        "     [1],\n",
        "    ], dtype=np.float32)\n",
        "\n",
        "num_of_trains = 100\n",
        "succss = []\n",
        "mean_loss = []\n",
        "min_loss = []\n",
        "for hidden_dim in [2, 3, 5, 10, 20]:\n",
        "    succ = 0\n",
        "    losss = []\n",
        "    for _ in range(num_of_trains):\n",
        "        net = SmallNet(3, hidden_dim, dtype=np.float32)\n",
        "        loss = train(net,X3,Y3,10000)\n",
        "        succ += loss < 0.05\n",
        "        losss.append(loss)\n",
        "    print(f'Number of hidden dim: {hidden_dim}, Succeeded training rate: {succ/num_of_trains}')\n",
        "    succss.append(succ/num_of_trains)\n",
        "    mean_loss.append(np.mean(np.array(losss)))\n",
        "    min_loss.append(min(losss))"
      ],
      "execution_count": null,
      "outputs": [
        {
          "output_type": "stream",
          "text": [
            "Number of hidden dim: 2, Succeeded training rate: 0.0\n",
            "Number of hidden dim: 3, Succeeded training rate: 0.22\n",
            "Number of hidden dim: 5, Succeeded training rate: 0.54\n",
            "Number of hidden dim: 10, Succeeded training rate: 0.94\n",
            "Number of hidden dim: 20, Succeeded training rate: 1.0\n"
          ],
          "name": "stdout"
        }
      ]
    },
    {
      "cell_type": "code",
      "metadata": {
        "id": "JRvoswPqi_dU",
        "outputId": "038ca6c9-e118-4b71-8efa-5213b565b80f",
        "colab": {
          "base_uri": "https://localhost:8080/",
          "height": 312
        }
      },
      "source": [
        "plt.plot([2, 3, 5, 10, 20],succss,label='Succeeded training rate')\n",
        "plt.plot([2, 3, 5, 10, 20],mean_loss,label='Mean loss')\n",
        "plt.plot([2, 3, 5, 10, 20],min_loss,label='Min loss')\n",
        "plt.legend()\n",
        "plt.xlabel('Number of hidden dim')\n",
        "plt.title('Training difficulty with the different hidden dim size')"
      ],
      "execution_count": null,
      "outputs": [
        {
          "output_type": "execute_result",
          "data": {
            "text/plain": [
              "Text(0.5, 1.0, 'Training difficulty with the different hidden dim size')"
            ]
          },
          "metadata": {
            "tags": []
          },
          "execution_count": 13
        },
        {
          "output_type": "display_data",
          "data": {
            "image/png": "[encoded data removed]",
            "text/plain": [
              "<Figure size 432x288 with 1 Axes>"
            ]
          },
          "metadata": {
            "tags": []
          }
        }
      ]
    },
    {
      "cell_type": "markdown",
      "metadata": {
        "id": "4hAa_l89j4ku"
      },
      "source": [
        "In this example it was easier to train a large network than a small one. "
      ]
    },
    {
      "cell_type": "markdown",
      "metadata": {
        "id": "UuaLEoV-9DLG"
      },
      "source": [
        "# Problem 4 [1bp]\n",
        "\n",
        "Replace the first nonlinearity with the [ReLU](https://en.wikipedia.org/wiki/Rectifier_(neural_networks)) activation function. Verify ho"
      ]
    },
    {
      "cell_type": "code",
      "metadata": {
        "id": "cWS4ylQzsoyb",
        "outputId": "1fe43155-1c6b-4826-8322-4a42d2f6f5b2",
        "colab": {
          "base_uri": "https://localhost:8080/",
          "height": 101
        }
      },
      "source": [
        "succss2 = []\n",
        "mean_loss2 = []\n",
        "min_loss2 = []\n",
        "for hidden_dim in [2, 3, 5, 10, 20]:\n",
        "    succ = 0\n",
        "    losss = []\n",
        "    for _ in range(num_of_trains):\n",
        "        net = SmallNet(3, hidden_dim, dtype=np.float32, relu = True)\n",
        "        loss = train(net,X3,Y3,10000)\n",
        "        succ += loss < 0.05\n",
        "        losss.append(loss)\n",
        "    print(f'Number of hidden dim: {hidden_dim}, Succeeded training rate: {succ/num_of_trains}')\n",
        "    succss2.append(succ/num_of_trains)\n",
        "    mean_loss2.append(np.mean(np.array(losss)))\n",
        "    min_loss2.append(min(losss))"
      ],
      "execution_count": null,
      "outputs": [
        {
          "output_type": "stream",
          "text": [
            "Number of hidden dim: 2, Succeeded training rate: 0.0\n",
            "Number of hidden dim: 3, Succeeded training rate: 0.08\n",
            "Number of hidden dim: 5, Succeeded training rate: 0.48\n",
            "Number of hidden dim: 10, Succeeded training rate: 0.89\n",
            "Number of hidden dim: 20, Succeeded training rate: 1.0\n"
          ],
          "name": "stdout"
        }
      ]
    },
    {
      "cell_type": "code",
      "metadata": {
        "id": "iGZ1uNzws-3X",
        "outputId": "0710c04c-5465-4dbc-f72d-d807fb387f92",
        "colab": {
          "base_uri": "https://localhost:8080/",
          "height": 312
        }
      },
      "source": [
        "plt.plot([2, 3, 5, 10, 20],succss2,label='Succeeded training rate')\n",
        "plt.plot([2, 3, 5, 10, 20],mean_loss2,label='Mean loss')\n",
        "plt.plot([2, 3, 5, 10, 20],min_loss2,label='Min loss')\n",
        "plt.legend()\n",
        "plt.xlabel('Number of hidden dim')\n",
        "plt.title('Training difficulty with the different hidden dim size')"
      ],
      "execution_count": null,
      "outputs": [
        {
          "output_type": "execute_result",
          "data": {
            "text/plain": [
              "Text(0.5, 1.0, 'Training difficulty with the different hidden dim size')"
            ]
          },
          "metadata": {
            "tags": []
          },
          "execution_count": 15
        },
        {
          "output_type": "display_data",
          "data": {
            "image/png": "[encoded data removed]",
            "text/plain": [
              "<Figure size 432x288 with 1 Axes>"
            ]
          },
          "metadata": {
            "tags": []
          }
        }
      ]
    },
    {
      "cell_type": "code",
      "metadata": {
        "id": "rXHaUzUkyOhu",
        "outputId": "8f3a7f35-6d22-4110-f76c-7a08aab205e7",
        "colab": {
          "base_uri": "https://localhost:8080/",
          "height": 312
        }
      },
      "source": [
        "plt.plot([2, 3, 5, 10, 20],mean_loss,label='Sigmoid')\n",
        "plt.plot([2, 3, 5, 10, 20],mean_loss2,label='Relu')\n",
        "plt.legend()\n",
        "plt.xlabel('Number of hidden dim')\n",
        "plt.ylabel('Mean loss')\n",
        "plt.title('Relu vs Sigmoid')"
      ],
      "execution_count": null,
      "outputs": [
        {
          "output_type": "execute_result",
          "data": {
            "text/plain": [
              "Text(0.5, 1.0, 'Relu vs Sigmoid')"
            ]
          },
          "metadata": {
            "tags": []
          },
          "execution_count": 16
        },
        {
          "output_type": "display_data",
          "data": {
            "image/png": "[encoded data removed]",
            "text/plain": [
              "<Figure size 432x288 with 1 Axes>"
            ]
          },
          "metadata": {
            "tags": []
          }
        }
      ]
    },
    {
      "cell_type": "code",
      "metadata": {
        "id": "LDoNjvDv9rED",
        "outputId": "46bab631-92ba-4ead-832a-65f98715a6b7",
        "colab": {
          "base_uri": "https://localhost:8080/",
          "height": 353
        }
      },
      "source": [
        "net = SmallNet(2, 10, dtype=np.float64)\n",
        "netR = SmallNet(2, 10, dtype=np.float64, relu = True)\n",
        "\n",
        "alpha = 1e-1\n",
        "\n",
        "for i in range(100000):\n",
        "    _, loss = net.forward(X, Y, do_backward=True)\n",
        "    _, lossR = netR.forward(X, Y, do_backward=True)\n",
        "    if (i % 5000) == 0:\n",
        "        print(f'Iteration: {i}, sigmoid net loss: {loss}, relu net loss: {lossR}')\n",
        "    for param_name in ['W1', 'b1', 'W2', 'b2']:\n",
        "        param = getattr(net, param_name)\n",
        "        paramR = getattr(netR, param_name)\n",
        "        # Hint: use the construct `param[:]` to change the contents of the array!\n",
        "        # Doing instead `param = new_val` simply changes to what the variable\n",
        "        # param points to, without affecting the network!\n",
        "        grad = getattr(net, param_name + '_grad')\n",
        "        gradR = getattr(netR, param_name + '_grad')\n",
        "        param[:] = param - alpha*grad\n",
        "        paramR[:] = paramR - alpha*gradR"
      ],
      "execution_count": null,
      "outputs": [
        {
          "output_type": "stream",
          "text": [
            "Iteration: 0, sigmoid net loss: 0.7335706733966958, relu net loss: 1.0738448831457759\n",
            "Iteration: 5000, sigmoid net loss: 0.04688074848088769, relu net loss: 0.0012779638698742902\n",
            "Iteration: 10000, sigmoid net loss: 0.01285655035199927, relu net loss: 0.0005513584099417952\n",
            "Iteration: 15000, sigmoid net loss: 0.007078521846666628, relu net loss: 0.0003406127763972655\n",
            "Iteration: 20000, sigmoid net loss: 0.00479631686464316, relu net loss: 0.00024291304427585768\n",
            "Iteration: 25000, sigmoid net loss: 0.0035922018586110665, relu net loss: 0.00018725426122386375\n",
            "Iteration: 30000, sigmoid net loss: 0.002853968215245831, relu net loss: 0.00015155827070478\n",
            "Iteration: 35000, sigmoid net loss: 0.0023575074623438086, relu net loss: 0.0001268354285173268\n",
            "Iteration: 40000, sigmoid net loss: 0.0020019878133962624, relu net loss: 0.00010876285652062714\n",
            "Iteration: 45000, sigmoid net loss: 0.0017355397343008264, relu net loss: 9.500803685224433e-05\n",
            "Iteration: 50000, sigmoid net loss: 0.0015288326870612785, relu net loss: 8.420937491432935e-05\n",
            "Iteration: 55000, sigmoid net loss: 0.0013640675881050755, relu net loss: 7.55196032550291e-05\n",
            "Iteration: 60000, sigmoid net loss: 0.0012298344833535251, relu net loss: 6.83849833163957e-05\n",
            "Iteration: 65000, sigmoid net loss: 0.00111849134191153, relu net loss: 6.242765951388765e-05\n",
            "Iteration: 70000, sigmoid net loss: 0.0010247327875509374, relu net loss: 5.738352718861347e-05\n",
            "Iteration: 75000, sigmoid net loss: 0.0009447637568344047, relu net loss: 5.305988678688806e-05\n",
            "Iteration: 80000, sigmoid net loss: 0.0008757998662193131, relu net loss: 4.931536843976493e-05\n",
            "Iteration: 85000, sigmoid net loss: 0.0008157533375005228, relu net loss: 4.6042453595668605e-05\n",
            "Iteration: 90000, sigmoid net loss: 0.0007630288970157348, relu net loss: 4.3159211456191056e-05\n",
            "Iteration: 95000, sigmoid net loss: 0.0007163872755084147, relu net loss: 4.060057096725337e-05\n"
          ],
          "name": "stdout"
        }
      ]
    },
    {
      "cell_type": "markdown",
      "metadata": {
        "id": "ec5Xh6RX-tif"
      },
      "source": [
        "As we can see for different hidden dim size and 10000 training iterations nets with a relu function and sigmoid function works almost the same, but if we consider more training iterations, then relu functions get much better scores. "
      ]
    }
  ]
}