{
  "nbformat": 4,
  "nbformat_minor": 0,
  "metadata": {
    "colab": {
      "name": "Assignment3_Markiewicz_Mateusz.ipynb",
      "provenance": [],
      "collapsed_sections": [],
      "toc_visible": true
    },
    "kernelspec": {
      "name": "python3",
      "display_name": "Python 3"
    },
    "accelerator": "GPU",
    "widgets": {
      "application/vnd.jupyter.widget-state+json": {
        "8c95dd0fea06476fbf59e1bd1901004f": {
          "model_module": "@jupyter-widgets/controls",
          "model_name": "HBoxModel",
          "state": {
            "_view_name": "HBoxView",
            "_dom_classes": [],
            "_model_name": "HBoxModel",
            "_view_module": "@jupyter-widgets/controls",
            "_model_module_version": "1.5.0",
            "_view_count": null,
            "_view_module_version": "1.5.0",
            "box_style": "",
            "layout": "IPY_MODEL_a1d0bf39c73c4b469ba89de8886496c1",
            "_model_module": "@jupyter-widgets/controls",
            "children": [
              "IPY_MODEL_4fe6ce6be37b457885a4795782f8310b",
              "IPY_MODEL_7f0817eb312b4772a9065d4d47fbb75f"
            ]
          }
        },
        "a1d0bf39c73c4b469ba89de8886496c1": {
          "model_module": "@jupyter-widgets/base",
          "model_name": "LayoutModel",
          "state": {
            "_view_name": "LayoutView",
            "grid_template_rows": null,
            "right": null,
            "justify_content": null,
            "_view_module": "@jupyter-widgets/base",
            "overflow": null,
            "_model_module_version": "1.2.0",
            "_view_count": null,
            "flex_flow": null,
            "width": null,
            "min_width": null,
            "border": null,
            "align_items": null,
            "bottom": null,
            "_model_module": "@jupyter-widgets/base",
            "top": null,
            "grid_column": null,
            "overflow_y": null,
            "overflow_x": null,
            "grid_auto_flow": null,
            "grid_area": null,
            "grid_template_columns": null,
            "flex": null,
            "_model_name": "LayoutModel",
            "justify_items": null,
            "grid_row": null,
            "max_height": null,
            "align_content": null,
            "visibility": null,
            "align_self": null,
            "height": null,
            "min_height": null,
            "padding": null,
            "grid_auto_rows": null,
            "grid_gap": null,
            "max_width": null,
            "order": null,
            "_view_module_version": "1.2.0",
            "grid_template_areas": null,
            "object_position": null,
            "object_fit": null,
            "grid_auto_columns": null,
            "margin": null,
            "display": null,
            "left": null
          }
        },
        "4fe6ce6be37b457885a4795782f8310b": {
          "model_module": "@jupyter-widgets/controls",
          "model_name": "IntProgressModel",
          "state": {
            "_view_name": "ProgressView",
            "style": "IPY_MODEL_416a18e2a4b8462d97ce2f7b3a894532",
            "_dom_classes": [],
            "description": "100%",
            "_model_name": "IntProgressModel",
            "bar_style": "success",
            "max": 50000,
            "_view_module": "@jupyter-widgets/controls",
            "_model_module_version": "1.5.0",
            "value": 50000,
            "_view_count": null,
            "_view_module_version": "1.5.0",
            "orientation": "horizontal",
            "min": 0,
            "description_tooltip": null,
            "_model_module": "@jupyter-widgets/controls",
            "layout": "IPY_MODEL_1bd8bd07ef534c2ab7d872e7cc674fe3"
          }
        },
        "7f0817eb312b4772a9065d4d47fbb75f": {
          "model_module": "@jupyter-widgets/controls",
          "model_name": "HTMLModel",
          "state": {
            "_view_name": "HTMLView",
            "style": "IPY_MODEL_305f46fd0ddc4daebb2878859bfcdf3d",
            "_dom_classes": [],
            "description": "",
            "_model_name": "HTMLModel",
            "placeholder": "​",
            "_view_module": "@jupyter-widgets/controls",
            "_model_module_version": "1.5.0",
            "value": " 50000/50000 [00:06&lt;00:00, 7697.09it/s]",
            "_view_count": null,
            "_view_module_version": "1.5.0",
            "description_tooltip": null,
            "_model_module": "@jupyter-widgets/controls",
            "layout": "IPY_MODEL_f4b86ce47964499b86a306568ad45673"
          }
        },
        "416a18e2a4b8462d97ce2f7b3a894532": {
          "model_module": "@jupyter-widgets/controls",
          "model_name": "ProgressStyleModel",
          "state": {
            "_view_name": "StyleView",
            "_model_name": "ProgressStyleModel",
            "description_width": "initial",
            "_view_module": "@jupyter-widgets/base",
            "_model_module_version": "1.5.0",
            "_view_count": null,
            "_view_module_version": "1.2.0",
            "bar_color": null,
            "_model_module": "@jupyter-widgets/controls"
          }
        },
        "1bd8bd07ef534c2ab7d872e7cc674fe3": {
          "model_module": "@jupyter-widgets/base",
          "model_name": "LayoutModel",
          "state": {
            "_view_name": "LayoutView",
            "grid_template_rows": null,
            "right": null,
            "justify_content": null,
            "_view_module": "@jupyter-widgets/base",
            "overflow": null,
            "_model_module_version": "1.2.0",
            "_view_count": null,
            "flex_flow": null,
            "width": null,
            "min_width": null,
            "border": null,
            "align_items": null,
            "bottom": null,
            "_model_module": "@jupyter-widgets/base",
            "top": null,
            "grid_column": null,
            "overflow_y": null,
            "overflow_x": null,
            "grid_auto_flow": null,
            "grid_area": null,
            "grid_template_columns": null,
            "flex": null,
            "_model_name": "LayoutModel",
            "justify_items": null,
            "grid_row": null,
            "max_height": null,
            "align_content": null,
            "visibility": null,
            "align_self": null,
            "height": null,
            "min_height": null,
            "padding": null,
            "grid_auto_rows": null,
            "grid_gap": null,
            "max_width": null,
            "order": null,
            "_view_module_version": "1.2.0",
            "grid_template_areas": null,
            "object_position": null,
            "object_fit": null,
            "grid_auto_columns": null,
            "margin": null,
            "display": null,
            "left": null
          }
        },
        "305f46fd0ddc4daebb2878859bfcdf3d": {
          "model_module": "@jupyter-widgets/controls",
          "model_name": "DescriptionStyleModel",
          "state": {
            "_view_name": "StyleView",
            "_model_name": "DescriptionStyleModel",
            "description_width": "",
            "_view_module": "@jupyter-widgets/base",
            "_model_module_version": "1.5.0",
            "_view_count": null,
            "_view_module_version": "1.2.0",
            "_model_module": "@jupyter-widgets/controls"
          }
        },
        "f4b86ce47964499b86a306568ad45673": {
          "model_module": "@jupyter-widgets/base",
          "model_name": "LayoutModel",
          "state": {
            "_view_name": "LayoutView",
            "grid_template_rows": null,
            "right": null,
            "justify_content": null,
            "_view_module": "@jupyter-widgets/base",
            "overflow": null,
            "_model_module_version": "1.2.0",
            "_view_count": null,
            "flex_flow": null,
            "width": null,
            "min_width": null,
            "border": null,
            "align_items": null,
            "bottom": null,
            "_model_module": "@jupyter-widgets/base",
            "top": null,
            "grid_column": null,
            "overflow_y": null,
            "overflow_x": null,
            "grid_auto_flow": null,
            "grid_area": null,
            "grid_template_columns": null,
            "flex": null,
            "_model_name": "LayoutModel",
            "justify_items": null,
            "grid_row": null,
            "max_height": null,
            "align_content": null,
            "visibility": null,
            "align_self": null,
            "height": null,
            "min_height": null,
            "padding": null,
            "grid_auto_rows": null,
            "grid_gap": null,
            "max_width": null,
            "order": null,
            "_view_module_version": "1.2.0",
            "grid_template_areas": null,
            "object_position": null,
            "object_fit": null,
            "grid_auto_columns": null,
            "margin": null,
            "display": null,
            "left": null
          }
        },
        "8a0b2c48c28541aea3fcc547541e6857": {
          "model_module": "@jupyter-widgets/controls",
          "model_name": "HBoxModel",
          "state": {
            "_view_name": "HBoxView",
            "_dom_classes": [],
            "_model_name": "HBoxModel",
            "_view_module": "@jupyter-widgets/controls",
            "_model_module_version": "1.5.0",
            "_view_count": null,
            "_view_module_version": "1.5.0",
            "box_style": "",
            "layout": "IPY_MODEL_f3562af859d948309d50a1553ff05f0c",
            "_model_module": "@jupyter-widgets/controls",
            "children": [
              "IPY_MODEL_c6880368ac8f4620bfda909d8b274667",
              "IPY_MODEL_f03a83b9d7114a03bc5a46cabd251bbe"
            ]
          }
        },
        "f3562af859d948309d50a1553ff05f0c": {
          "model_module": "@jupyter-widgets/base",
          "model_name": "LayoutModel",
          "state": {
            "_view_name": "LayoutView",
            "grid_template_rows": null,
            "right": null,
            "justify_content": null,
            "_view_module": "@jupyter-widgets/base",
            "overflow": null,
            "_model_module_version": "1.2.0",
            "_view_count": null,
            "flex_flow": null,
            "width": null,
            "min_width": null,
            "border": null,
            "align_items": null,
            "bottom": null,
            "_model_module": "@jupyter-widgets/base",
            "top": null,
            "grid_column": null,
            "overflow_y": null,
            "overflow_x": null,
            "grid_auto_flow": null,
            "grid_area": null,
            "grid_template_columns": null,
            "flex": null,
            "_model_name": "LayoutModel",
            "justify_items": null,
            "grid_row": null,
            "max_height": null,
            "align_content": null,
            "visibility": null,
            "align_self": null,
            "height": null,
            "min_height": null,
            "padding": null,
            "grid_auto_rows": null,
            "grid_gap": null,
            "max_width": null,
            "order": null,
            "_view_module_version": "1.2.0",
            "grid_template_areas": null,
            "object_position": null,
            "object_fit": null,
            "grid_auto_columns": null,
            "margin": null,
            "display": null,
            "left": null
          }
        },
        "c6880368ac8f4620bfda909d8b274667": {
          "model_module": "@jupyter-widgets/controls",
          "model_name": "IntProgressModel",
          "state": {
            "_view_name": "ProgressView",
            "style": "IPY_MODEL_ad332ac3e2b947e0a797c1e8cf4f4c8a",
            "_dom_classes": [],
            "description": "100%",
            "_model_name": "IntProgressModel",
            "bar_style": "success",
            "max": 10000,
            "_view_module": "@jupyter-widgets/controls",
            "_model_module_version": "1.5.0",
            "value": 10000,
            "_view_count": null,
            "_view_module_version": "1.5.0",
            "orientation": "horizontal",
            "min": 0,
            "description_tooltip": null,
            "_model_module": "@jupyter-widgets/controls",
            "layout": "IPY_MODEL_cbd497535f4640978848c7ab6f416641"
          }
        },
        "f03a83b9d7114a03bc5a46cabd251bbe": {
          "model_module": "@jupyter-widgets/controls",
          "model_name": "HTMLModel",
          "state": {
            "_view_name": "HTMLView",
            "style": "IPY_MODEL_b27b5da91a694a84ad0efafbc60742dc",
            "_dom_classes": [],
            "description": "",
            "_model_name": "HTMLModel",
            "placeholder": "​",
            "_view_module": "@jupyter-widgets/controls",
            "_model_module_version": "1.5.0",
            "value": " 10000/10000 [15:31&lt;00:00, 10.73it/s]",
            "_view_count": null,
            "_view_module_version": "1.5.0",
            "description_tooltip": null,
            "_model_module": "@jupyter-widgets/controls",
            "layout": "IPY_MODEL_13c56ad4c2ba44e6a51c2d2033e6683e"
          }
        },
        "ad332ac3e2b947e0a797c1e8cf4f4c8a": {
          "model_module": "@jupyter-widgets/controls",
          "model_name": "ProgressStyleModel",
          "state": {
            "_view_name": "StyleView",
            "_model_name": "ProgressStyleModel",
            "description_width": "initial",
            "_view_module": "@jupyter-widgets/base",
            "_model_module_version": "1.5.0",
            "_view_count": null,
            "_view_module_version": "1.2.0",
            "bar_color": null,
            "_model_module": "@jupyter-widgets/controls"
          }
        },
        "cbd497535f4640978848c7ab6f416641": {
          "model_module": "@jupyter-widgets/base",
          "model_name": "LayoutModel",
          "state": {
            "_view_name": "LayoutView",
            "grid_template_rows": null,
            "right": null,
            "justify_content": null,
            "_view_module": "@jupyter-widgets/base",
            "overflow": null,
            "_model_module_version": "1.2.0",
            "_view_count": null,
            "flex_flow": null,
            "width": null,
            "min_width": null,
            "border": null,
            "align_items": null,
            "bottom": null,
            "_model_module": "@jupyter-widgets/base",
            "top": null,
            "grid_column": null,
            "overflow_y": null,
            "overflow_x": null,
            "grid_auto_flow": null,
            "grid_area": null,
            "grid_template_columns": null,
            "flex": null,
            "_model_name": "LayoutModel",
            "justify_items": null,
            "grid_row": null,
            "max_height": null,
            "align_content": null,
            "visibility": null,
            "align_self": null,
            "height": null,
            "min_height": null,
            "padding": null,
            "grid_auto_rows": null,
            "grid_gap": null,
            "max_width": null,
            "order": null,
            "_view_module_version": "1.2.0",
            "grid_template_areas": null,
            "object_position": null,
            "object_fit": null,
            "grid_auto_columns": null,
            "margin": null,
            "display": null,
            "left": null
          }
        },
        "b27b5da91a694a84ad0efafbc60742dc": {
          "model_module": "@jupyter-widgets/controls",
          "model_name": "DescriptionStyleModel",
          "state": {
            "_view_name": "StyleView",
            "_model_name": "DescriptionStyleModel",
            "description_width": "",
            "_view_module": "@jupyter-widgets/base",
            "_model_module_version": "1.5.0",
            "_view_count": null,
            "_view_module_version": "1.2.0",
            "_model_module": "@jupyter-widgets/controls"
          }
        },
        "13c56ad4c2ba44e6a51c2d2033e6683e": {
          "model_module": "@jupyter-widgets/base",
          "model_name": "LayoutModel",
          "state": {
            "_view_name": "LayoutView",
            "grid_template_rows": null,
            "right": null,
            "justify_content": null,
            "_view_module": "@jupyter-widgets/base",
            "overflow": null,
            "_model_module_version": "1.2.0",
            "_view_count": null,
            "flex_flow": null,
            "width": null,
            "min_width": null,
            "border": null,
            "align_items": null,
            "bottom": null,
            "_model_module": "@jupyter-widgets/base",
            "top": null,
            "grid_column": null,
            "overflow_y": null,
            "overflow_x": null,
            "grid_auto_flow": null,
            "grid_area": null,
            "grid_template_columns": null,
            "flex": null,
            "_model_name": "LayoutModel",
            "justify_items": null,
            "grid_row": null,
            "max_height": null,
            "align_content": null,
            "visibility": null,
            "align_self": null,
            "height": null,
            "min_height": null,
            "padding": null,
            "grid_auto_rows": null,
            "grid_gap": null,
            "max_width": null,
            "order": null,
            "_view_module_version": "1.2.0",
            "grid_template_areas": null,
            "object_position": null,
            "object_fit": null,
            "grid_auto_columns": null,
            "margin": null,
            "display": null,
            "left": null
          }
        },
        "77ba0874c62c4fc7a1df107b98248dd4": {
          "model_module": "@jupyter-widgets/controls",
          "model_name": "HBoxModel",
          "state": {
            "_view_name": "HBoxView",
            "_dom_classes": [],
            "_model_name": "HBoxModel",
            "_view_module": "@jupyter-widgets/controls",
            "_model_module_version": "1.5.0",
            "_view_count": null,
            "_view_module_version": "1.5.0",
            "box_style": "",
            "layout": "IPY_MODEL_1bb012ed335746c38898085bbef7ed64",
            "_model_module": "@jupyter-widgets/controls",
            "children": [
              "IPY_MODEL_b0ca2f5e434d4563aa6e6dfa745ad850",
              "IPY_MODEL_acaf6ee5fab24ae09b7c055a3047e33c"
            ]
          }
        },
        "1bb012ed335746c38898085bbef7ed64": {
          "model_module": "@jupyter-widgets/base",
          "model_name": "LayoutModel",
          "state": {
            "_view_name": "LayoutView",
            "grid_template_rows": null,
            "right": null,
            "justify_content": null,
            "_view_module": "@jupyter-widgets/base",
            "overflow": null,
            "_model_module_version": "1.2.0",
            "_view_count": null,
            "flex_flow": null,
            "width": null,
            "min_width": null,
            "border": null,
            "align_items": null,
            "bottom": null,
            "_model_module": "@jupyter-widgets/base",
            "top": null,
            "grid_column": null,
            "overflow_y": null,
            "overflow_x": null,
            "grid_auto_flow": null,
            "grid_area": null,
            "grid_template_columns": null,
            "flex": null,
            "_model_name": "LayoutModel",
            "justify_items": null,
            "grid_row": null,
            "max_height": null,
            "align_content": null,
            "visibility": null,
            "align_self": null,
            "height": null,
            "min_height": null,
            "padding": null,
            "grid_auto_rows": null,
            "grid_gap": null,
            "max_width": null,
            "order": null,
            "_view_module_version": "1.2.0",
            "grid_template_areas": null,
            "object_position": null,
            "object_fit": null,
            "grid_auto_columns": null,
            "margin": null,
            "display": null,
            "left": null
          }
        },
        "b0ca2f5e434d4563aa6e6dfa745ad850": {
          "model_module": "@jupyter-widgets/controls",
          "model_name": "IntProgressModel",
          "state": {
            "_view_name": "ProgressView",
            "style": "IPY_MODEL_9b35962e8ee847639b8bb88a05337542",
            "_dom_classes": [],
            "description": "100%",
            "_model_name": "IntProgressModel",
            "bar_style": "success",
            "max": 10000,
            "_view_module": "@jupyter-widgets/controls",
            "_model_module_version": "1.5.0",
            "value": 10000,
            "_view_count": null,
            "_view_module_version": "1.5.0",
            "orientation": "horizontal",
            "min": 0,
            "description_tooltip": null,
            "_model_module": "@jupyter-widgets/controls",
            "layout": "IPY_MODEL_6f9993d725e34504bc89ecf60f76bf13"
          }
        },
        "acaf6ee5fab24ae09b7c055a3047e33c": {
          "model_module": "@jupyter-widgets/controls",
          "model_name": "HTMLModel",
          "state": {
            "_view_name": "HTMLView",
            "style": "IPY_MODEL_090d2502482e4a15812b7abf3586a39c",
            "_dom_classes": [],
            "description": "",
            "_model_name": "HTMLModel",
            "placeholder": "​",
            "_view_module": "@jupyter-widgets/controls",
            "_model_module_version": "1.5.0",
            "value": " 10000/10000 [15:30&lt;00:00, 10.75it/s]",
            "_view_count": null,
            "_view_module_version": "1.5.0",
            "description_tooltip": null,
            "_model_module": "@jupyter-widgets/controls",
            "layout": "IPY_MODEL_1116b3eba5ec4a069aa16b440da34447"
          }
        },
        "9b35962e8ee847639b8bb88a05337542": {
          "model_module": "@jupyter-widgets/controls",
          "model_name": "ProgressStyleModel",
          "state": {
            "_view_name": "StyleView",
            "_model_name": "ProgressStyleModel",
            "description_width": "initial",
            "_view_module": "@jupyter-widgets/base",
            "_model_module_version": "1.5.0",
            "_view_count": null,
            "_view_module_version": "1.2.0",
            "bar_color": null,
            "_model_module": "@jupyter-widgets/controls"
          }
        },
        "6f9993d725e34504bc89ecf60f76bf13": {
          "model_module": "@jupyter-widgets/base",
          "model_name": "LayoutModel",
          "state": {
            "_view_name": "LayoutView",
            "grid_template_rows": null,
            "right": null,
            "justify_content": null,
            "_view_module": "@jupyter-widgets/base",
            "overflow": null,
            "_model_module_version": "1.2.0",
            "_view_count": null,
            "flex_flow": null,
            "width": null,
            "min_width": null,
            "border": null,
            "align_items": null,
            "bottom": null,
            "_model_module": "@jupyter-widgets/base",
            "top": null,
            "grid_column": null,
            "overflow_y": null,
            "overflow_x": null,
            "grid_auto_flow": null,
            "grid_area": null,
            "grid_template_columns": null,
            "flex": null,
            "_model_name": "LayoutModel",
            "justify_items": null,
            "grid_row": null,
            "max_height": null,
            "align_content": null,
            "visibility": null,
            "align_self": null,
            "height": null,
            "min_height": null,
            "padding": null,
            "grid_auto_rows": null,
            "grid_gap": null,
            "max_width": null,
            "order": null,
            "_view_module_version": "1.2.0",
            "grid_template_areas": null,
            "object_position": null,
            "object_fit": null,
            "grid_auto_columns": null,
            "margin": null,
            "display": null,
            "left": null
          }
        },
        "090d2502482e4a15812b7abf3586a39c": {
          "model_module": "@jupyter-widgets/controls",
          "model_name": "DescriptionStyleModel",
          "state": {
            "_view_name": "StyleView",
            "_model_name": "DescriptionStyleModel",
            "description_width": "",
            "_view_module": "@jupyter-widgets/base",
            "_model_module_version": "1.5.0",
            "_view_count": null,
            "_view_module_version": "1.2.0",
            "_model_module": "@jupyter-widgets/controls"
          }
        },
        "1116b3eba5ec4a069aa16b440da34447": {
          "model_module": "@jupyter-widgets/base",
          "model_name": "LayoutModel",
          "state": {
            "_view_name": "LayoutView",
            "grid_template_rows": null,
            "right": null,
            "justify_content": null,
            "_view_module": "@jupyter-widgets/base",
            "overflow": null,
            "_model_module_version": "1.2.0",
            "_view_count": null,
            "flex_flow": null,
            "width": null,
            "min_width": null,
            "border": null,
            "align_items": null,
            "bottom": null,
            "_model_module": "@jupyter-widgets/base",
            "top": null,
            "grid_column": null,
            "overflow_y": null,
            "overflow_x": null,
            "grid_auto_flow": null,
            "grid_area": null,
            "grid_template_columns": null,
            "flex": null,
            "_model_name": "LayoutModel",
            "justify_items": null,
            "grid_row": null,
            "max_height": null,
            "align_content": null,
            "visibility": null,
            "align_self": null,
            "height": null,
            "min_height": null,
            "padding": null,
            "grid_auto_rows": null,
            "grid_gap": null,
            "max_width": null,
            "order": null,
            "_view_module_version": "1.2.0",
            "grid_template_areas": null,
            "object_position": null,
            "object_fit": null,
            "grid_auto_columns": null,
            "margin": null,
            "display": null,
            "left": null
          }
        }
      }
    }
  },
  "cells": [
    {
      "cell_type": "markdown",
      "metadata": {
        "id": "CzR6cZvYkyl6"
      },
      "source": [
        "# Assignment 3\n",
        "\n",
        "**Submission deadline: last lab session before or on Thursday, 02.04.2020**\n",
        "\n",
        "**Points: 12 + 4 bonus points**\n",
        "\n",
        "## Submission instructions\n",
        "**To ease grading, please do not remove the TODO lines, put your code below them!**\n",
        "\n",
        "The class is held remotely. To sumbmit your solutions please save the notebook to your Google Drive, then:\n",
        "1. Rename it it to: Assignment3_Surname_FirstName\n",
        "2. Rerun the whole notebook `Runtime -> Restart and run all`\n",
        "3. Make a pinned revision `File->Save and pin revision`\n",
        "4. Share the notebook and paste the link into an appropriate SKOS assignment\n",
        "\n",
        "We will use the commenting system and video conferences to check and discuss the solutions.\n",
        "\n",
        "As always, please submit corrections using GitHub's Pull Requests."
      ]
    },
    {
      "cell_type": "code",
      "metadata": {
        "id": "iEUPZksWm9YU"
      },
      "source": [
        "%matplotlib inline"
      ],
      "execution_count": null,
      "outputs": []
    },
    {
      "cell_type": "code",
      "metadata": {
        "id": "039umgT_lsH2"
      },
      "source": [
        "import os\n",
        "import time\n",
        "\n",
        "import numpy as np\n",
        "import matplotlib.pyplot as plt\n",
        "\n",
        "from tqdm.auto import tqdm\n",
        "\n",
        "import torch\n",
        "from torch import nn\n",
        "import torch.nn.functional as F\n",
        "import torchvision.datasets\n",
        "\n",
        "from IPython.display import clear_output"
      ],
      "execution_count": null,
      "outputs": []
    },
    {
      "cell_type": "markdown",
      "metadata": {
        "id": "NNfw6pY9sRJe"
      },
      "source": [
        "# Helper code\n",
        "\n",
        "The code in this section handles data loading, result validation and plotting. "
      ]
    },
    {
      "cell_type": "code",
      "metadata": {
        "id": "tPOMFqLZsfuj"
      },
      "source": [
        "def compute_error_rate(model, data_loader, device='cpu'):\n",
        "    \"\"\"Evaluate model on all samples from the data loader.\n",
        "    \"\"\"\n",
        "    # Put the model in eval mode, and move to the evaluation device.\n",
        "    model.eval()\n",
        "    model.to(device)\n",
        "    if isinstance(data_loader, InMemDataLoader):\n",
        "        data_loader.to(device)\n",
        "    \n",
        "    num_errs = 0.0\n",
        "    num_examples = 0\n",
        "    # we don't need gradient during eval!\n",
        "    with torch.no_grad():\n",
        "        for x, y in data_loader:\n",
        "            x = x.to(device)\n",
        "            y = y.to(device)\n",
        "            outputs = model.forward(x)\n",
        "            _, predictions = outputs.data.max(dim=1)\n",
        "            num_errs += (predictions != y.data).sum().item()\n",
        "            num_examples += x.size(0)\n",
        "    return num_errs / num_examples\n",
        "\n",
        "def plot_history(history):\n",
        "    \"\"\"Helper to plot the trainig progress over time.\"\"\"\n",
        "    plt.figure(figsize=(16, 4))\n",
        "    plt.subplot(1,2,1)\n",
        "    train_loss = np.array(history['train_losses'])\n",
        "    plt.semilogy(np.arange(train_loss.shape[0]), train_loss, label='batch train loss')\n",
        "    plt.legend()\n",
        "        \n",
        "    plt.subplot(1,2,2)\n",
        "    train_errs = np.array(history['train_errs'])\n",
        "    alpha = np.array(history['alpha'])\n",
        "    plt.plot(np.arange(train_errs.shape[0]), train_errs, label='batch train error rate')\n",
        "    val_errs = np.array(history['val_errs'])\n",
        "    plt.plot(val_errs[:,0], val_errs[:,1], label='validation error rate', color='r')\n",
        "    plt.plot(alpha[:,0], alpha[:,1], label = 'alpha')\n",
        "    plt.ylim(0, 0.20)\n",
        "    plt.legend()"
      ],
      "execution_count": null,
      "outputs": []
    },
    {
      "cell_type": "markdown",
      "metadata": {
        "id": "OT6R09JnnYs9"
      },
      "source": [
        "## Data preparation\n",
        "\n",
        "We will download the MNIST data using `torchvision`, then use a fast in-memory loader."
      ]
    },
    {
      "cell_type": "code",
      "metadata": {
        "id": "OPh9uR8ZorL7"
      },
      "source": [
        "class InMemDataLoader(object):\n",
        "    \"\"\"\n",
        "    A data loader that keeps all data in CPU or GPU memory.\n",
        "    \"\"\"\n",
        "    __initialized = False\n",
        "    def __init__(self, dataset, batch_size=1, shuffle=False, sampler=None,\n",
        "                 batch_sampler=None, drop_last=False):\n",
        "        \"\"\"A torch dataloader that fetches data from memory.\"\"\"\n",
        "        batches = []\n",
        "        for i in tqdm(range(len(dataset))):\n",
        "            batch = [torch.tensor(t) for t in dataset[i]]\n",
        "            batches.append(batch)\n",
        "        tensors = [\n",
        "            torch.stack(ts) for ts in zip(*batches)\n",
        "        ]\n",
        "        dataset = torch.utils.data.TensorDataset(*tensors)\n",
        "        self.dataset = dataset\n",
        "        self.batch_size = batch_size\n",
        "        self.drop_last = drop_last\n",
        "        \n",
        "        if batch_sampler is not None:\n",
        "            if batch_size > 1 or shuffle or sampler is not None or drop_last:\n",
        "                raise ValueError('batch_sampler option is mutually exclusive '\n",
        "                                 'with batch_size, shuffle, sampler, and '\n",
        "                                 'drop_last')\n",
        "            self.batch_size = None\n",
        "            self.drop_last = None\n",
        "\n",
        "        if sampler is not None and shuffle:\n",
        "            raise ValueError('sampler option is mutually exclusive with '\n",
        "                             'shuffle')\n",
        "            \n",
        "        if batch_sampler is None:\n",
        "            if sampler is None:\n",
        "                if shuffle:\n",
        "                    sampler = torch.utils.data.RandomSampler(dataset)\n",
        "                else:\n",
        "                    sampler = torch.utils.data.SequentialSampler(dataset)\n",
        "            batch_sampler = torch.utils.data.BatchSampler(sampler, batch_size, drop_last)\n",
        "\n",
        "        self.sampler = sampler\n",
        "        self.batch_sampler = batch_sampler\n",
        "        self.__initialized = True\n",
        "    \n",
        "    def __setattr__(self, attr, val):\n",
        "        if self.__initialized and attr in ('batch_size', 'sampler', 'drop_last'):\n",
        "            raise ValueError('{} attribute should not be set after {} is '\n",
        "                             'initialized'.format(attr, self.__class__.__name__))\n",
        "\n",
        "        super(InMemDataLoader, self).__setattr__(attr, val)\n",
        "\n",
        "    def __iter__(self):\n",
        "        for batch_indices in self.batch_sampler:\n",
        "            yield self.dataset[batch_indices]\n",
        "\n",
        "    def __len__(self):\n",
        "        return len(self.batch_sampler)\n",
        "    \n",
        "    def to(self, device):\n",
        "        self.dataset.tensors = tuple(t.to(device) for t in self.dataset.tensors)\n",
        "        return self"
      ],
      "execution_count": null,
      "outputs": []
    },
    {
      "cell_type": "code",
      "metadata": {
        "id": "wDM2KTPQm8V3",
        "outputId": "355851ac-3245-49dc-dc21-60c02fa47a1f",
        "colab": {
          "base_uri": "https://localhost:8080/",
          "height": 217,
          "referenced_widgets": [
            "8c95dd0fea06476fbf59e1bd1901004f",
            "a1d0bf39c73c4b469ba89de8886496c1",
            "4fe6ce6be37b457885a4795782f8310b",
            "7f0817eb312b4772a9065d4d47fbb75f",
            "416a18e2a4b8462d97ce2f7b3a894532",
            "1bd8bd07ef534c2ab7d872e7cc674fe3",
            "305f46fd0ddc4daebb2878859bfcdf3d",
            "f4b86ce47964499b86a306568ad45673",
            "8a0b2c48c28541aea3fcc547541e6857",
            "f3562af859d948309d50a1553ff05f0c",
            "c6880368ac8f4620bfda909d8b274667",
            "f03a83b9d7114a03bc5a46cabd251bbe",
            "ad332ac3e2b947e0a797c1e8cf4f4c8a",
            "cbd497535f4640978848c7ab6f416641",
            "b27b5da91a694a84ad0efafbc60742dc",
            "13c56ad4c2ba44e6a51c2d2033e6683e",
            "77ba0874c62c4fc7a1df107b98248dd4",
            "1bb012ed335746c38898085bbef7ed64",
            "b0ca2f5e434d4563aa6e6dfa745ad850",
            "acaf6ee5fab24ae09b7c055a3047e33c",
            "9b35962e8ee847639b8bb88a05337542",
            "6f9993d725e34504bc89ecf60f76bf13",
            "090d2502482e4a15812b7abf3586a39c",
            "1116b3eba5ec4a069aa16b440da34447"
          ]
        }
      },
      "source": [
        "# Load the data\n",
        "\n",
        "batch_size = 128\n",
        "data_path = './data'\n",
        "\n",
        "transform = torchvision.transforms.Compose(\n",
        "    [torchvision.transforms.ToTensor(),\n",
        "     torchvision.transforms.Normalize((0.1307,), (0.3081,)),\n",
        "    ])\n",
        "\n",
        "_test = torchvision.datasets.MNIST(\n",
        "    data_path, train=False, download=True, transform=transform)\n",
        "\n",
        "# Load training data, split into train and valid sets\n",
        "_train = torchvision.datasets.MNIST(\n",
        "    data_path, train=True, download=True, transform=transform)\n",
        "_train.data = _train.data[:50000]\n",
        "_train.targets = _train.targets[:50000]\n",
        "\n",
        "_valid = torchvision.datasets.MNIST(\n",
        "    data_path, train=True, download=True, transform=transform)\n",
        "_valid.data = _valid.data[50000:]\n",
        "_valid.targets = _valid.targets[50000:]\n",
        "\n",
        "mnist_loaders = {\n",
        "    'train': InMemDataLoader(\n",
        "        _train, batch_size=batch_size, shuffle=True),\n",
        "    'valid': InMemDataLoader(\n",
        "        _valid, batch_size=batch_size, shuffle=False),\n",
        "    'test': InMemDataLoader(\n",
        "        _test, batch_size=batch_size, shuffle=False)}"
      ],
      "execution_count": null,
      "outputs": [
        {
          "output_type": "display_data",
          "data": {
            "application/vnd.jupyter.widget-view+json": {
              "model_id": "8c95dd0fea06476fbf59e1bd1901004f",
              "version_minor": 0,
              "version_major": 2
            },
            "text/plain": [
              "HBox(children=(IntProgress(value=0, max=50000), HTML(value='')))"
            ]
          },
          "metadata": {
            "tags": []
          }
        },
        {
          "output_type": "stream",
          "text": [
            "/usr/local/lib/python3.6/dist-packages/ipykernel_launcher.py:11: UserWarning: To copy construct from a tensor, it is recommended to use sourceTensor.clone().detach() or sourceTensor.clone().detach().requires_grad_(True), rather than torch.tensor(sourceTensor).\n",
            "  # This is added back by InteractiveShellApp.init_path()\n"
          ],
          "name": "stderr"
        },
        {
          "output_type": "stream",
          "text": [
            "\n"
          ],
          "name": "stdout"
        },
        {
          "output_type": "display_data",
          "data": {
            "application/vnd.jupyter.widget-view+json": {
              "model_id": "8a0b2c48c28541aea3fcc547541e6857",
              "version_minor": 0,
              "version_major": 2
            },
            "text/plain": [
              "HBox(children=(IntProgress(value=0, max=10000), HTML(value='')))"
            ]
          },
          "metadata": {
            "tags": []
          }
        },
        {
          "output_type": "stream",
          "text": [
            "\n"
          ],
          "name": "stdout"
        },
        {
          "output_type": "display_data",
          "data": {
            "application/vnd.jupyter.widget-view+json": {
              "model_id": "77ba0874c62c4fc7a1df107b98248dd4",
              "version_minor": 0,
              "version_major": 2
            },
            "text/plain": [
              "HBox(children=(IntProgress(value=0, max=10000), HTML(value='')))"
            ]
          },
          "metadata": {
            "tags": []
          }
        },
        {
          "output_type": "stream",
          "text": [
            "\n"
          ],
          "name": "stdout"
        }
      ]
    },
    {
      "cell_type": "markdown",
      "metadata": {
        "id": "rRYr7XmnnGO_"
      },
      "source": [
        "# SGD implementation\n",
        "\n",
        "We provide below a scaffolding for SGD. You will need to fill the TODOs whilel solving the assignments."
      ]
    },
    {
      "cell_type": "code",
      "metadata": {
        "id": "WY1xG-cqnRoE"
      },
      "source": [
        "def SGD(model, data_loaders, \n",
        "        alpha=1e-4, epsilon=0.0, decay=0.0, \n",
        "        nesterov_momentum = False, alpha_schedule = 0, epsilon_schedule = 0,\n",
        "        alpha_schedule_value = 0.95, epsilon_schedule_value = 0.95,\n",
        "        num_epochs=1, max_num_epochs=np.nan, patience_expansion=1.5,\n",
        "        log_every=100, device='cpu'):\n",
        "    \n",
        "    # Put the model in train mode, and move to the evaluation device.\n",
        "    model.train()\n",
        "    model.to(device)\n",
        "    for data_loader in data_loaders.values():\n",
        "        if isinstance(data_loader, InMemDataLoader):\n",
        "            data_loader.to(device)\n",
        "    \n",
        "    #\n",
        "    # TODO: Initialize momentum variables\n",
        "    # Hint: You need one velocity matrix for each parameter\n",
        "    #\n",
        "\n",
        "    # Different types of velocities initialization (zeros works better for me)\n",
        "\n",
        "    velocities = [torch.zeros(p.size(),device=device) for p in model.parameters()]\n",
        "    # velocities = [0.1 * torch.randn(p.size(),device=device) if 'weight' in name\\\n",
        "    #              else torch.zeros(p.size(),device=device) for (name, p) in model.named_parameters()]\n",
        "\n",
        "    \n",
        "    iter_ = 0\n",
        "    epoch = 0\n",
        "    best_params = None\n",
        "    best_val_err = np.inf\n",
        "    history = {'train_losses': [], 'train_errs': [], 'val_errs': [], 'alpha': []}\n",
        "    print('Training the model!')\n",
        "    print('Interrupt at any time to evaluate the best validation model so far.')\n",
        "\n",
        "    try:\n",
        "        tstart = time.time()\n",
        "        siter = iter_\n",
        "        while epoch < num_epochs:\n",
        "            model.train()\n",
        "            epoch += 1\n",
        "            if epoch > max_num_epochs:\n",
        "                break\n",
        "            #\n",
        "            # TODO: You can implement learning rate control here (it is updated\n",
        "            # once per epoch), or below in the loop over minibatches.\n",
        "\n",
        "            # different combinations of lerning rate control\n",
        "\n",
        "            if alpha_schedule == 1:\n",
        "                alpha *= alpha_schedule_value\n",
        "            elif alpha_schedule == 2:\n",
        "                if not epoch%5 and epoch:\n",
        "                    alpha /= 2\n",
        "            elif alpha_schedule == 3:\n",
        "                alpha *= alpha_schedule_value\n",
        "                if not epoch%10 and epoch:\n",
        "                    alpha *= (0.9 / (alpha_schedule_value**10))\n",
        "                \n",
        "            if epsilon_schedule == 1:\n",
        "                epsilon *= epsilon_schedule_value\n",
        "\n",
        "            for x, y in data_loaders['train']:\n",
        "                x = x.to(device)\n",
        "                y = y.to(device)\n",
        "                iter_ += 1\n",
        "                # This calls the `forward` function: https://pytorch.org/tutorials/beginner/examples_nn/two_layer_net_module.html\n",
        "                out = model(x)\n",
        "                loss = model.loss(out, y)\n",
        "                loss.backward()\n",
        "                _, predictions = out.max(dim=1)\n",
        "                batch_err_rate = (predictions != y).sum().item() / out.size(0)\n",
        "\n",
        "                history['train_losses'].append(loss.item())\n",
        "                history['train_errs'].append(batch_err_rate)\n",
        "                history['alpha'].append((iter_,alpha))\n",
        "                \n",
        "                # disable gradient computations - we do not want torch to\n",
        "                # backpropagate through the gradient application!\n",
        "                with torch.no_grad():\n",
        "                    for (name, p), v in zip(model.named_parameters(),\n",
        "                                            velocities):\n",
        "                        if 'weight' in name:\n",
        "                            #\n",
        "                            # TODO: Implement weight decay (L2 regularization\n",
        "                            # on weights by changing the gradients\n",
        "\n",
        "                            # adding derivative of decay * sum(Theta_i**2)\n",
        "                            p.grad += 2 * decay * p\n",
        "                            \n",
        "                        \n",
        "\n",
        "                        #\n",
        "                        # TODO: Implement a learning rate schedule\n",
        "                        # Hint: You can use the iteration or epoch counters\n",
        "                        # alpha *= 0.999999\n",
        "                        \n",
        "\n",
        "                        #\n",
        "                        # TODO: If needed, implement here a momentum schedule\n",
        "                        # epsilon *= 0.999\n",
        "\n",
        "                        # schedule for each epoch works better for me\n",
        "                        \n",
        "\n",
        "                        #\n",
        "                        # TODO: Implement velocity updates for momentum\n",
        "                        # lease make sure to modify the contents of v, not the v pointer!!!\n",
        "                        #\n",
        "\n",
        "                        # two methods of momentum, standard (from lecture) and Nesterov momentum\n",
        "\n",
        "                        if nesterov_momentum:\n",
        "                            # Nesterov momentum: \n",
        "                            v_prev = v[...]\n",
        "                            v[...] = epsilon * v - alpha * p.grad\n",
        "                            p += - epsilon * v_prev + (1 + epsilon) * v\n",
        "                        else:\n",
        "                            # Momentum\n",
        "                            v[...] = epsilon*v -  alpha*p.grad\n",
        "                            p += v\n",
        "\n",
        "                        #\n",
        "                        # TODO: Set a more sensible learning rule here,\n",
        "                        #       using your learning rate schedule and momentum\n",
        "                        # \n",
        "                        \n",
        "                        \n",
        "                        # Zero gradients for the next iteration\n",
        "                        p.grad.zero_()\n",
        "\n",
        "                if iter_ % log_every == 0:\n",
        "                    num_iter = iter_ - siter + 1\n",
        "                    print(\"Minibatch {0: >6}  | loss {1: >5.2f} | err rate {2: >5.2f}%, steps/s {3: >5.2f}\" \\\n",
        "                          .format(iter_, loss.item(), batch_err_rate * 100.0, num_iter / (time.time() - tstart)))\n",
        "                    tstart = time.time()\n",
        "                           \n",
        "            \n",
        "            val_err_rate = compute_error_rate(model, data_loaders['valid'], device)\n",
        "            history['val_errs'].append((iter_, val_err_rate))\n",
        "            \n",
        "            if val_err_rate < best_val_err:\n",
        "                # Adjust num of epochs\n",
        "                num_epochs = int(np.maximum(num_epochs, epoch * patience_expansion + 1))\n",
        "                best_epoch = epoch\n",
        "                best_val_err = val_err_rate\n",
        "                best_params = [p.detach().cpu() for p in model.parameters()]\n",
        "            clear_output(True)\n",
        "            m = \"After epoch {0: >2} | valid err rate: {1: >5.2f}% | doing {2: >3} epochs\" \\\n",
        "                .format(epoch, val_err_rate * 100.0, num_epochs)\n",
        "            print('{0}\\n{1}\\n{0}'.format('-' * len(m), m))\n",
        "\n",
        "    except KeyboardInterrupt:\n",
        "        pass\n",
        "\n",
        "    if best_params is not None:\n",
        "        print(\"\\nLoading best params on validation set (epoch %d)\\n\" %(best_epoch))\n",
        "        with torch.no_grad():\n",
        "            for param, best_param in zip(model.parameters(), best_params):\n",
        "                param[...] = best_param\n",
        "    plot_history(history)"
      ],
      "execution_count": null,
      "outputs": []
    },
    {
      "cell_type": "code",
      "metadata": {
        "id": "2gmDmR2K6CVQ",
        "outputId": "8cf3f55a-48e1-4596-f0fe-277da1fbf9f7",
        "colab": {
          "base_uri": "https://localhost:8080/",
          "height": 420
        }
      },
      "source": [
        "class Model(nn.Module):\n",
        "    def __init__(self, *args, **kwargs):\n",
        "        super(Model, self).__init__()\n",
        "        self.layers = nn.Sequential(*args, **kwargs)\n",
        "\n",
        "    def forward(self, X):\n",
        "        X = X.view(X.size(0), -1)\n",
        "        return self.layers.forward(X)\n",
        "    \n",
        "    def loss(self, Out, Targets):\n",
        "        return F.cross_entropy(Out, Targets)\n",
        "\n",
        "model = Model(\n",
        "    nn.Linear(28*28,1000),\n",
        "    nn.ReLU(),\n",
        "    nn.Linear(1000, 10)\n",
        "    )\n",
        "\n",
        "with torch.no_grad():\n",
        "    # Initialize parameters\n",
        "    for name, p in model.named_parameters():\n",
        "        if 'weight' in name:\n",
        "            p.normal_(0, 0.01)\n",
        "        elif 'bias' in name:\n",
        "            p.zero_()\n",
        "        else:\n",
        "            raise ValueError('Unknown parameter name \"%s\"' % name)\n",
        "\n",
        "# On GPU enabled devices set device='cuda' else set device='cpu'\n",
        "\n",
        "t_start = time.time()\n",
        "SGD(model, mnist_loaders, alpha=0.01, epsilon=0.99, decay=0.00025, \\\n",
        "    nesterov_momentum = False, alpha_schedule = 1,epsilon_schedule = 0, \\\n",
        "    alpha_schedule_value = 0.95, epsilon_schedule_value = 0.95,\\\n",
        "    patience_expansion=1.9, max_num_epochs=30, device='cuda')\n",
        "\n",
        "\n",
        "test_err_rate = compute_error_rate(model, mnist_loaders['test'])\n",
        "m = (f\"Test error rate: {test_err_rate * 100.0:.3f}%, \"\n",
        "     f\"training took {time.time() - t_start:.0f}s.\")\n",
        "print('{0}\\n{1}\\n{0}'.format('-' * len(m), m))"
      ],
      "execution_count": null,
      "outputs": [
        {
          "output_type": "stream",
          "text": [
            "----------------------------------------------------------\n",
            "After epoch 30 | valid err rate:  1.62% | doing  52 epochs\n",
            "----------------------------------------------------------\n",
            "\n",
            "Loading best params on validation set (epoch 27)\n",
            "\n",
            "-------------------------------------------\n",
            "Test error rate: 1.570%, training took 19s.\n",
            "-------------------------------------------\n"
          ],
          "name": "stdout"
        },
        {
          "output_type": "display_data",
          "data": {
            "image/png": "[encoded data removed]",
            "text/plain": [
              "<Figure size 1152x288 with 2 Axes>"
            ]
          },
          "metadata": {
            "tags": []
          }
        }
      ]
    },
    {
      "cell_type": "markdown",
      "metadata": {
        "id": "eQa69LGTaiym"
      },
      "source": [
        "# Problem 1: Stochastic Gradient Descent [3p]\n",
        "Implement the following additions to the SGD code provided above:\n",
        "  1. **[1p]** momentum\n",
        "  2. **[1p]** learning rate schedule\n",
        "  3. **[1p]** weight decay, in which we additionally minimize for each weight matrix (but typically not the bias) the sum of its elements squared. One way to implement it is to use function `model.named_parameters` and select all parameters whose names contain \"`weight`\" rather than \"`bias`\"."
      ]
    },
    {
      "cell_type": "markdown",
      "metadata": {
        "id": "YsLt4dGsaosv"
      },
      "source": [
        "# Problem 2: Tuning the Network for MNIST [4p]\n",
        "\n",
        "Tune the following network to reach **validation error rate below 1.9%**.\n",
        "This should result in a **test error rate below 2%**. To\n",
        "tune the network you will need to:\n",
        "1. Choose the number of layers (more than 1, less than 5);\n",
        "2. Choose the number of neurons in each layer (more than 100,\n",
        "    less than 5000);\n",
        "3. Pick proper weight initialization;\n",
        "4. Pick proper learning rate schedule (need to decay over time,\n",
        "    good range to check on MNIST is about 1e-2 ... 1e-1 at the beginning and\n",
        "    half of that after 10000 batches);\n",
        "5. Pick a momentum constant (probably a constant one will be OK).\n",
        "\n",
        "\n",
        "Please note: there are many hyperparameter settings that give the desired answer, some may require tuning all hyperparameters, some only a few."
      ]
    },
    {
      "cell_type": "markdown",
      "metadata": {
        "id": "YrUQloaln1UA"
      },
      "source": [
        "# Problem 3: Convolutional Network [2p]\n",
        "\n",
        "Use convolutional and max-pooling layers (`Conv2d`, `Max_pool2d` or their functional variants) and (without dropout) get a test error rate below 1.5%."
      ]
    },
    {
      "cell_type": "code",
      "metadata": {
        "id": "HaxlRjiXzC4R",
        "outputId": "37adc15d-ccbe-44ac-fc11-c31204b1994d",
        "colab": {
          "base_uri": "https://localhost:8080/",
          "height": 420
        }
      },
      "source": [
        "class ConvModel(nn.Module):\n",
        "    def __init__(self):\n",
        "        super(ConvModel, self).__init__()\n",
        "        self.conv = nn.Sequential(\n",
        "            nn.Conv2d(1, 16, 5, 1, 1),\n",
        "            nn.ReLU(),\n",
        "            nn.MaxPool2d(2),\n",
        "            nn.Conv2d(16, 32, 5, 1, 1),\n",
        "            nn.ReLU(),\n",
        "            nn.MaxPool2d(2)\n",
        "            )\n",
        "        self.linear = nn.Sequential(\n",
        "            nn.Linear(32*5*5, 500),\n",
        "            nn.ReLU(),\n",
        "            nn.Linear(500, 10)\n",
        "            )\n",
        "\n",
        "    def forward(self, X):\n",
        "        out = self.conv(X)\n",
        "        out = out.reshape(out.size(0), -1)\n",
        "        out = self.linear(out)\n",
        "        return out\n",
        "    \n",
        "    def loss(self, Out, Targets):\n",
        "        return F.cross_entropy(Out, Targets)\n",
        "\n",
        "model = ConvModel()\n",
        "\n",
        "\n",
        "\n",
        "with torch.no_grad():\n",
        "    # Initialize parameters\n",
        "    for name, p in model.named_parameters():\n",
        "        if 'weight' in name:\n",
        "            p.normal_(0, 0.01)\n",
        "        elif 'bias' in name:\n",
        "            p.zero_()\n",
        "        else:\n",
        "            raise ValueError('Unknown parameter name \"%s\"' % name)\n",
        "\n",
        "# On GPU enabled devices set device='cuda' else set device='cpu'\n",
        "\n",
        "t_start = time.time()\n",
        "SGD(model, mnist_loaders, alpha=0.01, epsilon=0.99, decay=0.0005, \\\n",
        "    nesterov_momentum = False, alpha_schedule = 1, epsilon_schedule = 0, \\\n",
        "    alpha_schedule_value = 0.95, epsilon_schedule_value = 0.95,\\\n",
        "    patience_expansion=2.0, max_num_epochs=30, device='cuda')\n",
        "\n",
        "\n",
        "test_err_rate = compute_error_rate(model, mnist_loaders['test'])\n",
        "m = (f\"Test error rate: {test_err_rate * 100.0:.3f}%, \"\n",
        "     f\"training took {time.time() - t_start:.0f}s.\")\n",
        "print('{0}\\n{1}\\n{0}'.format('-' * len(m), m))"
      ],
      "execution_count": null,
      "outputs": [
        {
          "output_type": "stream",
          "text": [
            "----------------------------------------------------------\n",
            "After epoch 30 | valid err rate:  0.90% | doing  33 epochs\n",
            "----------------------------------------------------------\n",
            "\n",
            "Loading best params on validation set (epoch 16)\n",
            "\n",
            "-------------------------------------------\n",
            "Test error rate: 0.850%, training took 39s.\n",
            "-------------------------------------------\n"
          ],
          "name": "stdout"
        },
        {
          "output_type": "display_data",
          "data": {
            "image/png": "[encoded data removed]",
            "text/plain": [
              "<Figure size 1152x288 with 2 Axes>"
            ]
          },
          "metadata": {
            "tags": []
          }
        }
      ]
    },
    {
      "cell_type": "markdown",
      "metadata": {
        "id": "_9DaWUy_atrn"
      },
      "source": [
        "# Problem 4: Dropout [2p]\n",
        "\n",
        "Learn about dropout:\n",
        "\n",
        "- implement a **dropout** layer \n",
        "- or use `nn.Dropout` (then the exercise is worth 1.5 points)\n",
        "\n",
        "and try to train a\n",
        "network getting below 1.5% test error rates with dropout, but no convolutions, or below 1% when dropout is used jointly with convolutions!\n",
        "\n",
        "Remember to turn off dropout during testing, using `model.train()` and `model.eval()`!\n",
        "\n",
        "Hint: Use [torch.nn.functional.dropout](http://pytorch.org/docs/master/nn.html#torch.nn.functional.dropout).\n",
        "\n",
        "Details: http://arxiv.org/pdf/1207.0580.pdf."
      ]
    },
    {
      "cell_type": "code",
      "metadata": {
        "id": "0hQ8ItKtfFAB",
        "outputId": "77cdcff5-771a-4cee-cf90-46a8432a458a",
        "colab": {
          "base_uri": "https://localhost:8080/",
          "height": 420
        }
      },
      "source": [
        "model = Model(\n",
        "    nn.Dropout(),\n",
        "    nn.Linear(28*28,5000),\n",
        "    nn.ReLU(),\n",
        "    nn.Dropout(),\n",
        "    nn.Linear(5000, 10)\n",
        "    )\n",
        "\n",
        "with torch.no_grad():\n",
        "    # Initialize parameters\n",
        "    for name, p in model.named_parameters():\n",
        "        if 'weight' in name:\n",
        "            p.normal_(0, 0.01)\n",
        "        elif 'bias' in name:\n",
        "            p.zero_()\n",
        "        else:\n",
        "            raise ValueError('Unknown parameter name \"%s\"' % name)\n",
        "\n",
        "# On GPU enabled devices set device='cuda' else set device='cpu'\n",
        "\n",
        "t_start = time.time()\n",
        "\n",
        "SGD(model, mnist_loaders, alpha=0.005, epsilon=0.99, decay=0.00025, \\\n",
        "    nesterov_momentum = False, alpha_schedule = 1, epsilon_schedule = 0, \\\n",
        "    alpha_schedule_value = 0.95, epsilon_schedule_value = 0.95,\\\n",
        "    patience_expansion=2.0, max_num_epochs=100, device='cuda')\n",
        "\n",
        "test_err_rate = compute_error_rate(model, mnist_loaders['test'])\n",
        "m = (f\"Test error rate: {test_err_rate * 100.0:.3f}%, \"\n",
        "     f\"training took {time.time() - t_start:.0f}s.\")\n",
        "print('{0}\\n{1}\\n{0}'.format('-' * len(m), m))"
      ],
      "execution_count": null,
      "outputs": [
        {
          "output_type": "stream",
          "text": [
            "-----------------------------------------------------------\n",
            "After epoch 100 | valid err rate:  1.42% | doing 175 epochs\n",
            "-----------------------------------------------------------\n",
            "\n",
            "Loading best params on validation set (epoch 87)\n",
            "\n",
            "-------------------------------------------\n",
            "Test error rate: 1.390%, training took 73s.\n",
            "-------------------------------------------\n"
          ],
          "name": "stdout"
        },
        {
          "output_type": "display_data",
          "data": {
            "image/png": "[encoded data removed]",
            "text/plain": [
              "<Figure size 1152x288 with 2 Axes>"
            ]
          },
          "metadata": {
            "tags": []
          }
        }
      ]
    },
    {
      "cell_type": "code",
      "metadata": {
        "id": "GKdbCOraf2az"
      },
      "source": [
        "class ConvModel(nn.Module):\n",
        "    def __init__(self):\n",
        "        super(ConvModel, self).__init__()\n",
        "        self.conv = nn.Sequential(\n",
        "            nn.Conv2d(1, 16, 5, 1, 1),\n",
        "            nn.ReLU(),\n",
        "            nn.MaxPool2d(2),\n",
        "            nn.Conv2d(16, 32, 5, 1, 1),\n",
        "            nn.ReLU(),\n",
        "            nn.MaxPool2d(2)\n",
        "            )\n",
        "        self.linear = nn.Sequential(\n",
        "            nn.Dropout(),\n",
        "            nn.Linear(32*5*5, 500),\n",
        "            nn.ReLU(),\n",
        "            nn.Dropout(),\n",
        "            nn.Linear(500, 10)\n",
        "            )\n",
        "\n",
        "    def forward(self, X):\n",
        "        out = self.conv(X)\n",
        "        out = out.reshape(out.size(0), -1)\n",
        "        out = self.linear(out)\n",
        "        return out\n",
        "    \n",
        "    def loss(self, Out, Targets):\n",
        "        return F.cross_entropy(Out, Targets)"
      ],
      "execution_count": null,
      "outputs": []
    },
    {
      "cell_type": "code",
      "metadata": {
        "id": "qNxx1GOIAL32",
        "outputId": "9997758e-c6c6-4c5d-c9dd-f1d6b5d9e458",
        "colab": {
          "base_uri": "https://localhost:8080/",
          "height": 420
        }
      },
      "source": [
        "model = ConvModel()\n",
        "\n",
        "with torch.no_grad():\n",
        "    # Initialize parameters\n",
        "    for name, p in model.named_parameters():\n",
        "        if 'weight' in name:\n",
        "            p.normal_(0, 0.01)\n",
        "        elif 'bias' in name:\n",
        "            p.zero_()\n",
        "        else:\n",
        "            raise ValueError('Unknown parameter name \"%s\"' % name)\n",
        "\n",
        "# On GPU enabled devices set device='cuda' else set device='cpu'\n",
        "\n",
        "t_start = time.time()\n",
        "SGD(model, mnist_loaders, alpha=0.01, epsilon=0.99, decay=0.0005, \\\n",
        "    nesterov_momentum = False, alpha_schedule = 1, epsilon_schedule = 0, \\\n",
        "    alpha_schedule_value = 0.95, epsilon_schedule_value = 0.95,\\\n",
        "    patience_expansion=2.0, max_num_epochs=75, device='cuda')\n",
        "\n",
        "\n",
        "test_err_rate = compute_error_rate(model, mnist_loaders['test'])\n",
        "m = (f\"Test error rate: {test_err_rate * 100.0:.3f}%, \"\n",
        "     f\"training took {time.time() - t_start:.0f}s.\")\n",
        "print('{0}\\n{1}\\n{0}'.format('-' * len(m), m))"
      ],
      "execution_count": null,
      "outputs": [
        {
          "output_type": "stream",
          "text": [
            "----------------------------------------------------------\n",
            "After epoch 75 | valid err rate:  0.69% | doing 119 epochs\n",
            "----------------------------------------------------------\n",
            "\n",
            "Loading best params on validation set (epoch 59)\n",
            "\n",
            "-------------------------------------------\n",
            "Test error rate: 0.570%, training took 99s.\n",
            "-------------------------------------------\n"
          ],
          "name": "stdout"
        },
        {
          "output_type": "display_data",
          "data": {
            "image/png": "[encoded data removed]",
            "text/plain": [
              "<Figure size 1152x288 with 2 Axes>"
            ]
          },
          "metadata": {
            "tags": []
          }
        }
      ]
    },
    {
      "cell_type": "markdown",
      "metadata": {
        "id": "mB3T_HuYawyQ"
      },
      "source": [
        "# Problem 5: Data Augmentation [1p]\n",
        "\n",
        "Apply data augmentation methods (e.g. rotations, noise, crops) when training networks on MNIST, to significantly reduce test error rate for your network. You can use functions from the [torchvision.transforms](http://pytorch.org/docs/master/torchvision/transforms.html) module.\n",
        "\n",
        "Please note: when using random transfromations during training, use a data loader that re-computes them for each training minibatch. The `InMemoryDataloader` assumes that the transformations are deterministic and applies them only once."
      ]
    },
    {
      "cell_type": "code",
      "metadata": {
        "id": "j7LcKJt6JQJL"
      },
      "source": [
        "batch_size = 128\n",
        "data_path = './data'\n",
        "\n",
        "transform_train = torchvision.transforms.Compose(\n",
        "    [\n",
        "     torchvision.transforms.RandomAffine(degrees=20, translate=(0.1,0.1)),\n",
        "     torchvision.transforms.ColorJitter(brightness=0.2, contrast=0.2),\n",
        "     torchvision.transforms.ToTensor(),\n",
        "     torchvision.transforms.Normalize((0.1307,), (0.3081,)),\n",
        "    ])\n",
        "\n",
        "transform = torchvision.transforms.Compose(\n",
        "    [torchvision.transforms.ToTensor(),\n",
        "     torchvision.transforms.Normalize((0.1307,), (0.3081,)),\n",
        "    ])\n",
        "\n",
        "_test = torchvision.datasets.MNIST(\n",
        "    data_path, train=False, download=True, transform=transform)\n",
        "\n",
        "# Load training data, split into train and valid sets\n",
        "_train = torchvision.datasets.MNIST(\n",
        "    data_path, train=True, download=True, transform=transform_train)\n",
        "_train.data = _train.data[:50000]\n",
        "_train.targets = _train.targets[:50000]\n",
        "\n",
        "_valid = torchvision.datasets.MNIST(\n",
        "    data_path, train=True, download=True, transform=transform)\n",
        "_valid.data = _valid.data[50000:]\n",
        "_valid.targets = _valid.targets[50000:]\n",
        "\n",
        "transform_mnist_loaders = {\n",
        "    'train': torch.utils.data.DataLoader(\n",
        "        _train, batch_size=batch_size, shuffle=True),\n",
        "    'valid': torch.utils.data.DataLoader(\n",
        "        _valid, batch_size=batch_size, shuffle=False),\n",
        "    'test': torch.utils.data.DataLoader(\n",
        "        _test, batch_size=batch_size, shuffle=False)}"
      ],
      "execution_count": null,
      "outputs": []
    },
    {
      "cell_type": "code",
      "metadata": {
        "id": "mxwGLVndLbrc",
        "outputId": "5d0e6e46-6d6f-4701-ebfb-30a913995900",
        "colab": {
          "base_uri": "https://localhost:8080/",
          "height": 420
        }
      },
      "source": [
        "model = ConvModel()\n",
        "\n",
        "with torch.no_grad():\n",
        "    # Initialize parameters\n",
        "    for name, p in model.named_parameters():\n",
        "        if 'weight' in name:\n",
        "            p.normal_(0, 0.01)\n",
        "        elif 'bias' in name:\n",
        "            p.zero_()\n",
        "        else:\n",
        "            raise ValueError('Unknown parameter name \"%s\"' % name)\n",
        "\n",
        "# On GPU enabled devices set device='cuda' else set device='cpu'\n",
        "\n",
        "t_start = time.time()\n",
        "SGD(model, transform_mnist_loaders, alpha=0.01, epsilon=0.99, decay=0.0005, \\\n",
        "    nesterov_momentum = False, alpha_schedule = 1, epsilon_schedule = 0, \\\n",
        "    alpha_schedule_value = 0.95, epsilon_schedule_value = 0.95,\\\n",
        "    patience_expansion=2.0, max_num_epochs=75, device='cuda')\n",
        "\n",
        "\n",
        "test_err_rate = compute_error_rate(model, mnist_loaders['test'])\n",
        "m = (f\"Test error rate: {test_err_rate * 100.0:.3f}%, \"\n",
        "     f\"training took {time.time() - t_start:.0f}s.\")\n",
        "print('{0}\\n{1}\\n{0}'.format('-' * len(m), m))"
      ],
      "execution_count": null,
      "outputs": [
        {
          "output_type": "stream",
          "text": [
            "----------------------------------------------------------\n",
            "After epoch 75 | valid err rate:  0.65% | doing  81 epochs\n",
            "----------------------------------------------------------\n",
            "\n",
            "Loading best params on validation set (epoch 40)\n",
            "\n",
            "---------------------------------------------\n",
            "Test error rate: 0.590%, training took 1447s.\n",
            "---------------------------------------------\n"
          ],
          "name": "stdout"
        },
        {
          "output_type": "display_data",
          "data": {
            "image/png": "[encoded data removed]",
            "text/plain": [
              "<Figure size 1152x288 with 2 Axes>"
            ]
          },
          "metadata": {
            "tags": []
          }
        }
      ]
    },
    {
      "cell_type": "markdown",
      "metadata": {
        "id": "7gpjUhpjqPTS"
      },
      "source": [
        "As we can see above, data augmentation doesn\\`t improve the accuracy of this net, but it\\`s hard to improve 0.57% of error. I tried different transformations and doesn`t found any that improve my conv-dropout net. \n",
        "From my observation, data augmentation decreases overfitting, so I hoped to see better results with longer training (like 75 epoch above), but my standard version (without augmentation) also improved error rate from 0.67 to 0.57 with longer training despite that it seems to overfitting training data. Version with data augmentation still seems to be more stable with longer training."
      ]
    },
    {
      "cell_type": "markdown",
      "metadata": {
        "id": "Af7itFE7a0eY"
      },
      "source": [
        "# Problem 6: Batch Normalization [1p bonus]\n",
        "\n",
        "[Batch Normalization](https://arxiv.org/abs/1502.03167) helps training neural networks because it [normalizes layer activation magnitudes](https://papers.nips.cc/paper/7515-how-does-batch-normalization-help-optimization.pdf). It typically allows to train networks faster and/or with higher learning rates, lessens the importance\n",
        "of initialization and might eliminate the need for Dropout.\n",
        "\n",
        "Implement Batch Normalization and compare with regular training of MNIST models.\n",
        "\n",
        "Remember to use the batch statistics during model training and to use an average of training batch statistics during model evaluation. For details please consult the paper."
      ]
    },
    {
      "cell_type": "markdown",
      "metadata": {
        "id": "CD1Ke8R4a1-Q"
      },
      "source": [
        "# Problem 7: Norm Constraints [1p bonus]\n",
        "\n",
        "Implement norm constraints, i.e. instead of weight decay, that tries to set \n",
        "all weights to small values, apply a limit on the total\n",
        "norm of connections incoming to a neuron. In our case, this\n",
        "corresponds to clipping the norm of *rows* of weight\n",
        "matrices. An easy way of implementing it is to make a gradient\n",
        "step, then look at the norm of rows and scale down those that are\n",
        "over the threshold (this technique is called \"projected gradient descent\").\n",
        "\n",
        "Please consult the Dropout paper (http://arxiv.org/pdf/1207.0580.pdf) for details."
      ]
    },
    {
      "cell_type": "markdown",
      "metadata": {
        "id": "CL3_e1xCa4YG"
      },
      "source": [
        "# Problem 8: Polyak Averaging [1p bonus]\n",
        "\n",
        "Implement Polyak averaging. For each parameter $\\theta$\n",
        "keep a separate, exponentially decayed average of the past values\n",
        "$$\n",
        "\\bar{\\theta}_n = \\alpha_p\\bar{\\theta}_{n-1} + (1-\\alpha_p)\\theta_n.\n",
        "$$\n",
        "Use that average when evaluating the model on the test set.\n",
        "Validate the approach by training a model on the MNIST dataset."
      ]
    },
    {
      "cell_type": "markdown",
      "metadata": {
        "id": "w7LoH9DIa88J"
      },
      "source": [
        "# Problem 9: Hyperparameter tuner [1p bonus]\n",
        "\n",
        "Implement a hyper-parameter tuner able to optimize the learing rate schedule, number of neurons and similar hyperparameters. For start, use random search (please see http://jmlr.csail.mit.edu/papers/volume13/bergstra12a/bergstra12a.pdf and especially Fig 1. for intuitions on why random search is better than grid search). It may be a good idea to use a fixed maximum number of epochs (or training time) for each optimization trial to prevent selecting hyperparameters that yield slowly converging solutions. A good result will be a set of hyperparameters that reach on MNIST solutions with test errors less than $1.3\\%$ in no more than 50 epochs."
      ]
    },
    {
      "cell_type": "markdown",
      "metadata": {
        "id": "7jyEkvsqo2bx"
      },
      "source": [
        "# Problem 10: Other tricks [1-many bonus pounts]\n",
        "\n",
        "The neural network literature is ful of trickss for training neural networks. Find some and implement them. Please note: the number of points depends on the hardness of the extension you want to implement. If in doubt, consult the TA beforehand"
      ]
    },
    {
      "cell_type": "code",
      "metadata": {
        "id": "OB1BwNdrpLSS"
      },
      "source": [
        ""
      ],
      "execution_count": null,
      "outputs": []
    }
  ]
}